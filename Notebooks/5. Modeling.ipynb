{
 "cells": [
  {
   "cell_type": "markdown",
   "id": "21d66be9",
   "metadata": {},
   "source": [
    "# Capstone Two - 5 Extended Modeling<a id='5'></a>"
   ]
  },
  {
   "cell_type": "markdown",
   "id": "a3e1ef15",
   "metadata": {},
   "source": [
    "## 5.1 Contents<a id='5.1'></a>\n",
    "* [5 Extended Modeling](#5)\n",
    "  * [5.1 Contents](#5.1)\n",
    "  * [5.2 Imports](#5.2)\n",
    "  * [5.3 Load The Data](#5.3)\n",
    "  * [5.4 Data Processing](#5.4)\n",
    "  * [5.5 Modeling](#5.5)\n",
    "    * [5.5.1 Apply auto_arima() for single timeseries](#5.5.1)\n",
    "  "
   ]
  },
  {
   "cell_type": "markdown",
   "id": "b2f6e178",
   "metadata": {},
   "source": [
    "## 5.2 Imports<a id='5.2'></a>"
   ]
  },
  {
   "cell_type": "code",
   "execution_count": 7,
   "id": "4317111b",
   "metadata": {},
   "outputs": [],
   "source": [
    "import pandas as pd\n",
    "import numpy as np\n",
    "import os\n",
    "import matplotlib.pyplot as plt\n",
    "import seaborn as sns\n",
    "import datetime"
   ]
  },
  {
   "cell_type": "code",
   "execution_count": 5,
   "id": "fcdfe7f3",
   "metadata": {},
   "outputs": [],
   "source": [
    "import pmdarima as pm\n",
    "from pmdarima.model_selection import train_test_split\n",
    "\n",
    "from prophet import Prophet"
   ]
  },
  {
   "cell_type": "markdown",
   "id": "2d3e4829",
   "metadata": {},
   "source": [
    "## 5.3 Load The Data<a id='5.3'></a>"
   ]
  },
  {
   "cell_type": "code",
   "execution_count": 13,
   "id": "ad4e9276",
   "metadata": {
    "scrolled": true
   },
   "outputs": [
    {
     "data": {
      "text/html": [
       "<div>\n",
       "<style scoped>\n",
       "    .dataframe tbody tr th:only-of-type {\n",
       "        vertical-align: middle;\n",
       "    }\n",
       "\n",
       "    .dataframe tbody tr th {\n",
       "        vertical-align: top;\n",
       "    }\n",
       "\n",
       "    .dataframe thead th {\n",
       "        text-align: right;\n",
       "    }\n",
       "</style>\n",
       "<table border=\"1\" class=\"dataframe\">\n",
       "  <thead>\n",
       "    <tr style=\"text-align: right;\">\n",
       "      <th></th>\n",
       "      <th>date</th>\n",
       "      <th>store_nbr</th>\n",
       "      <th>family</th>\n",
       "      <th>sales</th>\n",
       "      <th>onpromotion</th>\n",
       "      <th>city</th>\n",
       "      <th>state</th>\n",
       "      <th>store_type</th>\n",
       "      <th>cluster</th>\n",
       "      <th>dcoilwtico</th>\n",
       "      <th>transactions</th>\n",
       "      <th>holiday_type</th>\n",
       "      <th>transferred</th>\n",
       "      <th>year</th>\n",
       "      <th>month</th>\n",
       "    </tr>\n",
       "  </thead>\n",
       "  <tbody>\n",
       "    <tr>\n",
       "      <th>0</th>\n",
       "      <td>2013-01-01</td>\n",
       "      <td>1</td>\n",
       "      <td>AUTOMOTIVE</td>\n",
       "      <td>0.0</td>\n",
       "      <td>0</td>\n",
       "      <td>Quito</td>\n",
       "      <td>Pichincha</td>\n",
       "      <td>D</td>\n",
       "      <td>13</td>\n",
       "      <td>93.14</td>\n",
       "      <td>0.0</td>\n",
       "      <td>Holiday</td>\n",
       "      <td>False</td>\n",
       "      <td>2013</td>\n",
       "      <td>1</td>\n",
       "    </tr>\n",
       "    <tr>\n",
       "      <th>1</th>\n",
       "      <td>2013-01-01</td>\n",
       "      <td>1</td>\n",
       "      <td>BABY CARE</td>\n",
       "      <td>0.0</td>\n",
       "      <td>0</td>\n",
       "      <td>Quito</td>\n",
       "      <td>Pichincha</td>\n",
       "      <td>D</td>\n",
       "      <td>13</td>\n",
       "      <td>93.14</td>\n",
       "      <td>0.0</td>\n",
       "      <td>Holiday</td>\n",
       "      <td>False</td>\n",
       "      <td>2013</td>\n",
       "      <td>1</td>\n",
       "    </tr>\n",
       "    <tr>\n",
       "      <th>2</th>\n",
       "      <td>2013-01-01</td>\n",
       "      <td>1</td>\n",
       "      <td>BEAUTY</td>\n",
       "      <td>0.0</td>\n",
       "      <td>0</td>\n",
       "      <td>Quito</td>\n",
       "      <td>Pichincha</td>\n",
       "      <td>D</td>\n",
       "      <td>13</td>\n",
       "      <td>93.14</td>\n",
       "      <td>0.0</td>\n",
       "      <td>Holiday</td>\n",
       "      <td>False</td>\n",
       "      <td>2013</td>\n",
       "      <td>1</td>\n",
       "    </tr>\n",
       "  </tbody>\n",
       "</table>\n",
       "</div>"
      ],
      "text/plain": [
       "         date  store_nbr      family  sales  onpromotion   city      state  \\\n",
       "0  2013-01-01          1  AUTOMOTIVE    0.0            0  Quito  Pichincha   \n",
       "1  2013-01-01          1   BABY CARE    0.0            0  Quito  Pichincha   \n",
       "2  2013-01-01          1      BEAUTY    0.0            0  Quito  Pichincha   \n",
       "\n",
       "  store_type  cluster  dcoilwtico  transactions holiday_type  transferred  \\\n",
       "0          D       13       93.14           0.0      Holiday        False   \n",
       "1          D       13       93.14           0.0      Holiday        False   \n",
       "2          D       13       93.14           0.0      Holiday        False   \n",
       "\n",
       "   year  month  \n",
       "0  2013      1  \n",
       "1  2013      1  \n",
       "2  2013      1  "
      ]
     },
     "execution_count": 13,
     "metadata": {},
     "output_type": "execute_result"
    }
   ],
   "source": [
    "data_dir = '../data/'\n",
    "\n",
    "data_ori = pd.read_csv(data_dir+'train_all_groups.csv')\n",
    "data_ori.head(3)"
   ]
  },
  {
   "cell_type": "code",
   "execution_count": 27,
   "id": "cb6319d2",
   "metadata": {
    "scrolled": true
   },
   "outputs": [
    {
     "data": {
      "text/html": [
       "<div>\n",
       "<style scoped>\n",
       "    .dataframe tbody tr th:only-of-type {\n",
       "        vertical-align: middle;\n",
       "    }\n",
       "\n",
       "    .dataframe tbody tr th {\n",
       "        vertical-align: top;\n",
       "    }\n",
       "\n",
       "    .dataframe thead th {\n",
       "        text-align: right;\n",
       "    }\n",
       "</style>\n",
       "<table border=\"1\" class=\"dataframe\">\n",
       "  <thead>\n",
       "    <tr style=\"text-align: right;\">\n",
       "      <th></th>\n",
       "      <th>store_nbr</th>\n",
       "      <th>family</th>\n",
       "      <th>sales</th>\n",
       "    </tr>\n",
       "    <tr>\n",
       "      <th>date</th>\n",
       "      <th></th>\n",
       "      <th></th>\n",
       "      <th></th>\n",
       "    </tr>\n",
       "  </thead>\n",
       "  <tbody>\n",
       "    <tr>\n",
       "      <th>2013-01-01</th>\n",
       "      <td>1</td>\n",
       "      <td>AUTOMOTIVE</td>\n",
       "      <td>0.0</td>\n",
       "    </tr>\n",
       "    <tr>\n",
       "      <th>2013-01-01</th>\n",
       "      <td>1</td>\n",
       "      <td>BABY CARE</td>\n",
       "      <td>0.0</td>\n",
       "    </tr>\n",
       "    <tr>\n",
       "      <th>2013-01-01</th>\n",
       "      <td>1</td>\n",
       "      <td>BEAUTY</td>\n",
       "      <td>0.0</td>\n",
       "    </tr>\n",
       "  </tbody>\n",
       "</table>\n",
       "</div>"
      ],
      "text/plain": [
       "            store_nbr      family  sales\n",
       "date                                    \n",
       "2013-01-01          1  AUTOMOTIVE    0.0\n",
       "2013-01-01          1   BABY CARE    0.0\n",
       "2013-01-01          1      BEAUTY    0.0"
      ]
     },
     "execution_count": 27,
     "metadata": {},
     "output_type": "execute_result"
    }
   ],
   "source": [
    "data = data_ori[['date', 'store_nbr', 'family', 'sales']]\n",
    "data.set_index('date', inplace = True)\n",
    "data.head(3)"
   ]
  },
  {
   "cell_type": "markdown",
   "id": "40c856f8",
   "metadata": {},
   "source": [
    "## 5.4 Data Processing<a id='5.4'></a>"
   ]
  },
  {
   "cell_type": "code",
   "execution_count": 63,
   "id": "f1b3d3bd",
   "metadata": {},
   "outputs": [
    {
     "name": "stdout",
     "output_type": "stream",
     "text": [
      "[ 1 10 11 12 13 14 15 16 17 18 19  2 20 21 22 23 24 25 26 27 28 29  3 30\n",
      " 31 32 33 34 35 36 37 38 39  4 40 41 42 43 44 45 46 47 48 49  5 50 51 52\n",
      " 53 54  6  7  8  9]\n",
      "['AUTOMOTIVE' 'BABY CARE' 'BEAUTY' 'BEVERAGES' 'BOOKS' 'BREAD/BAKERY'\n",
      " 'CELEBRATION' 'CLEANING' 'DAIRY' 'DELI' 'EGGS' 'FROZEN FOODS' 'GROCERY I'\n",
      " 'GROCERY II' 'HARDWARE' 'HOME AND KITCHEN I' 'HOME AND KITCHEN II'\n",
      " 'HOME APPLIANCES' 'HOME CARE' 'LADIESWEAR' 'LAWN AND GARDEN' 'LINGERIE'\n",
      " 'LIQUOR,WINE,BEER' 'MAGAZINES' 'MEATS' 'PERSONAL CARE' 'PET SUPPLIES'\n",
      " 'PLAYERS AND ELECTRONICS' 'POULTRY' 'PREPARED FOODS' 'PRODUCE'\n",
      " 'SCHOOL AND OFFICE SUPPLIES' 'SEAFOOD']\n",
      "54 33\n"
     ]
    }
   ],
   "source": [
    "stores = data['store_nbr'].unique()\n",
    "families = data['family'].unique()\n",
    "\n",
    "print(stores)\n",
    "print(families)\n",
    "print(len(stores), len(families))"
   ]
  },
  {
   "cell_type": "code",
   "execution_count": 75,
   "id": "c2d8290f",
   "metadata": {
    "scrolled": false
   },
   "outputs": [
    {
     "data": {
      "text/html": [
       "<div>\n",
       "<style scoped>\n",
       "    .dataframe tbody tr th:only-of-type {\n",
       "        vertical-align: middle;\n",
       "    }\n",
       "\n",
       "    .dataframe tbody tr th {\n",
       "        vertical-align: top;\n",
       "    }\n",
       "\n",
       "    .dataframe thead th {\n",
       "        text-align: right;\n",
       "    }\n",
       "</style>\n",
       "<table border=\"1\" class=\"dataframe\">\n",
       "  <thead>\n",
       "    <tr style=\"text-align: right;\">\n",
       "      <th></th>\n",
       "      <th>1</th>\n",
       "      <th>2</th>\n",
       "      <th>3</th>\n",
       "      <th>4</th>\n",
       "      <th>5</th>\n",
       "      <th>6</th>\n",
       "      <th>7</th>\n",
       "      <th>8</th>\n",
       "      <th>9</th>\n",
       "      <th>10</th>\n",
       "      <th>...</th>\n",
       "      <th>1773</th>\n",
       "      <th>1774</th>\n",
       "      <th>1775</th>\n",
       "      <th>1776</th>\n",
       "      <th>1777</th>\n",
       "      <th>1778</th>\n",
       "      <th>1779</th>\n",
       "      <th>1780</th>\n",
       "      <th>1781</th>\n",
       "      <th>1782</th>\n",
       "    </tr>\n",
       "    <tr>\n",
       "      <th>date</th>\n",
       "      <th></th>\n",
       "      <th></th>\n",
       "      <th></th>\n",
       "      <th></th>\n",
       "      <th></th>\n",
       "      <th></th>\n",
       "      <th></th>\n",
       "      <th></th>\n",
       "      <th></th>\n",
       "      <th></th>\n",
       "      <th></th>\n",
       "      <th></th>\n",
       "      <th></th>\n",
       "      <th></th>\n",
       "      <th></th>\n",
       "      <th></th>\n",
       "      <th></th>\n",
       "      <th></th>\n",
       "      <th></th>\n",
       "      <th></th>\n",
       "      <th></th>\n",
       "    </tr>\n",
       "  </thead>\n",
       "  <tbody>\n",
       "    <tr>\n",
       "      <th>2013-01-01</th>\n",
       "      <td>0.0</td>\n",
       "      <td>0.0</td>\n",
       "      <td>0.0</td>\n",
       "      <td>0.0</td>\n",
       "      <td>0.0</td>\n",
       "      <td>0.000</td>\n",
       "      <td>0.0</td>\n",
       "      <td>0.0</td>\n",
       "      <td>0.0</td>\n",
       "      <td>0.000</td>\n",
       "      <td>...</td>\n",
       "      <td>0.0</td>\n",
       "      <td>0.000</td>\n",
       "      <td>0.0</td>\n",
       "      <td>0.0</td>\n",
       "      <td>0.0</td>\n",
       "      <td>0.000</td>\n",
       "      <td>0.0</td>\n",
       "      <td>0.0</td>\n",
       "      <td>0.0</td>\n",
       "      <td>0.000</td>\n",
       "    </tr>\n",
       "    <tr>\n",
       "      <th>2013-01-02</th>\n",
       "      <td>2.0</td>\n",
       "      <td>0.0</td>\n",
       "      <td>2.0</td>\n",
       "      <td>1091.0</td>\n",
       "      <td>0.0</td>\n",
       "      <td>470.652</td>\n",
       "      <td>0.0</td>\n",
       "      <td>1060.0</td>\n",
       "      <td>579.0</td>\n",
       "      <td>164.069</td>\n",
       "      <td>...</td>\n",
       "      <td>0.0</td>\n",
       "      <td>374.531</td>\n",
       "      <td>482.0</td>\n",
       "      <td>0.0</td>\n",
       "      <td>0.0</td>\n",
       "      <td>651.292</td>\n",
       "      <td>83.0</td>\n",
       "      <td>0.0</td>\n",
       "      <td>0.0</td>\n",
       "      <td>29.214</td>\n",
       "    </tr>\n",
       "    <tr>\n",
       "      <th>2013-01-03</th>\n",
       "      <td>3.0</td>\n",
       "      <td>0.0</td>\n",
       "      <td>0.0</td>\n",
       "      <td>919.0</td>\n",
       "      <td>0.0</td>\n",
       "      <td>310.655</td>\n",
       "      <td>0.0</td>\n",
       "      <td>836.0</td>\n",
       "      <td>453.0</td>\n",
       "      <td>151.582</td>\n",
       "      <td>...</td>\n",
       "      <td>0.0</td>\n",
       "      <td>400.863</td>\n",
       "      <td>372.0</td>\n",
       "      <td>0.0</td>\n",
       "      <td>0.0</td>\n",
       "      <td>509.496</td>\n",
       "      <td>66.0</td>\n",
       "      <td>0.0</td>\n",
       "      <td>0.0</td>\n",
       "      <td>25.000</td>\n",
       "    </tr>\n",
       "    <tr>\n",
       "      <th>2013-01-04</th>\n",
       "      <td>3.0</td>\n",
       "      <td>0.0</td>\n",
       "      <td>3.0</td>\n",
       "      <td>953.0</td>\n",
       "      <td>0.0</td>\n",
       "      <td>198.366</td>\n",
       "      <td>0.0</td>\n",
       "      <td>827.0</td>\n",
       "      <td>460.0</td>\n",
       "      <td>131.411</td>\n",
       "      <td>...</td>\n",
       "      <td>0.0</td>\n",
       "      <td>310.878</td>\n",
       "      <td>324.0</td>\n",
       "      <td>0.0</td>\n",
       "      <td>0.0</td>\n",
       "      <td>332.672</td>\n",
       "      <td>57.0</td>\n",
       "      <td>0.0</td>\n",
       "      <td>0.0</td>\n",
       "      <td>11.000</td>\n",
       "    </tr>\n",
       "    <tr>\n",
       "      <th>2013-01-05</th>\n",
       "      <td>5.0</td>\n",
       "      <td>0.0</td>\n",
       "      <td>3.0</td>\n",
       "      <td>1160.0</td>\n",
       "      <td>0.0</td>\n",
       "      <td>301.057</td>\n",
       "      <td>0.0</td>\n",
       "      <td>811.0</td>\n",
       "      <td>464.0</td>\n",
       "      <td>118.613</td>\n",
       "      <td>...</td>\n",
       "      <td>0.0</td>\n",
       "      <td>447.685</td>\n",
       "      <td>461.0</td>\n",
       "      <td>0.0</td>\n",
       "      <td>0.0</td>\n",
       "      <td>510.919</td>\n",
       "      <td>84.0</td>\n",
       "      <td>0.0</td>\n",
       "      <td>0.0</td>\n",
       "      <td>28.361</td>\n",
       "    </tr>\n",
       "  </tbody>\n",
       "</table>\n",
       "<p>5 rows × 1782 columns</p>\n",
       "</div>"
      ],
      "text/plain": [
       "            1     2     3       4     5        6     7       8      9     \\\n",
       "date                                                                       \n",
       "2013-01-01   0.0   0.0   0.0     0.0   0.0    0.000   0.0     0.0    0.0   \n",
       "2013-01-02   2.0   0.0   2.0  1091.0   0.0  470.652   0.0  1060.0  579.0   \n",
       "2013-01-03   3.0   0.0   0.0   919.0   0.0  310.655   0.0   836.0  453.0   \n",
       "2013-01-04   3.0   0.0   3.0   953.0   0.0  198.366   0.0   827.0  460.0   \n",
       "2013-01-05   5.0   0.0   3.0  1160.0   0.0  301.057   0.0   811.0  464.0   \n",
       "\n",
       "               10    ...  1773     1774   1775  1776  1777     1778  1779  \\\n",
       "date                 ...                                                    \n",
       "2013-01-01    0.000  ...   0.0    0.000    0.0   0.0   0.0    0.000   0.0   \n",
       "2013-01-02  164.069  ...   0.0  374.531  482.0   0.0   0.0  651.292  83.0   \n",
       "2013-01-03  151.582  ...   0.0  400.863  372.0   0.0   0.0  509.496  66.0   \n",
       "2013-01-04  131.411  ...   0.0  310.878  324.0   0.0   0.0  332.672  57.0   \n",
       "2013-01-05  118.613  ...   0.0  447.685  461.0   0.0   0.0  510.919  84.0   \n",
       "\n",
       "            1780  1781    1782  \n",
       "date                            \n",
       "2013-01-01   0.0   0.0   0.000  \n",
       "2013-01-02   0.0   0.0  29.214  \n",
       "2013-01-03   0.0   0.0  25.000  \n",
       "2013-01-04   0.0   0.0  11.000  \n",
       "2013-01-05   0.0   0.0  28.361  \n",
       "\n",
       "[5 rows x 1782 columns]"
      ]
     },
     "execution_count": 75,
     "metadata": {},
     "output_type": "execute_result"
    }
   ],
   "source": [
    "grp = data.groupby(['store_nbr', 'family'])\n",
    "\n",
    "df = pd.DataFrame()\n",
    "col = 1\n",
    "\n",
    "for s in stores:\n",
    "    for f in families:\n",
    "        grp_sel = grp.get_group((s, f))\n",
    "        df_temp = pd.DataFrame(grp_sel['sales']).rename(columns={'sales': col})\n",
    "        df = pd.concat([df, df_temp], axis=1)\n",
    "        col = col+1\n",
    "\n",
    "df.head()"
   ]
  },
  {
   "cell_type": "code",
   "execution_count": 76,
   "id": "72047208",
   "metadata": {},
   "outputs": [
    {
     "data": {
      "text/html": [
       "<div>\n",
       "<style scoped>\n",
       "    .dataframe tbody tr th:only-of-type {\n",
       "        vertical-align: middle;\n",
       "    }\n",
       "\n",
       "    .dataframe tbody tr th {\n",
       "        vertical-align: top;\n",
       "    }\n",
       "\n",
       "    .dataframe thead th {\n",
       "        text-align: right;\n",
       "    }\n",
       "</style>\n",
       "<table border=\"1\" class=\"dataframe\">\n",
       "  <thead>\n",
       "    <tr style=\"text-align: right;\">\n",
       "      <th></th>\n",
       "      <th>1</th>\n",
       "      <th>2</th>\n",
       "      <th>3</th>\n",
       "      <th>4</th>\n",
       "      <th>5</th>\n",
       "      <th>6</th>\n",
       "      <th>7</th>\n",
       "      <th>8</th>\n",
       "      <th>9</th>\n",
       "      <th>10</th>\n",
       "      <th>...</th>\n",
       "      <th>1773</th>\n",
       "      <th>1774</th>\n",
       "      <th>1775</th>\n",
       "      <th>1776</th>\n",
       "      <th>1777</th>\n",
       "      <th>1778</th>\n",
       "      <th>1779</th>\n",
       "      <th>1780</th>\n",
       "      <th>1781</th>\n",
       "      <th>1782</th>\n",
       "    </tr>\n",
       "    <tr>\n",
       "      <th>date</th>\n",
       "      <th></th>\n",
       "      <th></th>\n",
       "      <th></th>\n",
       "      <th></th>\n",
       "      <th></th>\n",
       "      <th></th>\n",
       "      <th></th>\n",
       "      <th></th>\n",
       "      <th></th>\n",
       "      <th></th>\n",
       "      <th></th>\n",
       "      <th></th>\n",
       "      <th></th>\n",
       "      <th></th>\n",
       "      <th></th>\n",
       "      <th></th>\n",
       "      <th></th>\n",
       "      <th></th>\n",
       "      <th></th>\n",
       "      <th></th>\n",
       "      <th></th>\n",
       "    </tr>\n",
       "  </thead>\n",
       "  <tbody>\n",
       "    <tr>\n",
       "      <th>2017-08-11</th>\n",
       "      <td>1.0</td>\n",
       "      <td>0.0</td>\n",
       "      <td>1.0</td>\n",
       "      <td>1006.0</td>\n",
       "      <td>0.0</td>\n",
       "      <td>145.60700</td>\n",
       "      <td>4.0</td>\n",
       "      <td>341.0</td>\n",
       "      <td>343.0</td>\n",
       "      <td>64.302</td>\n",
       "      <td>...</td>\n",
       "      <td>5.0</td>\n",
       "      <td>309.245</td>\n",
       "      <td>373.0</td>\n",
       "      <td>11.0</td>\n",
       "      <td>2.0</td>\n",
       "      <td>525.224</td>\n",
       "      <td>112.10000</td>\n",
       "      <td>1453.078</td>\n",
       "      <td>140.0</td>\n",
       "      <td>23.831000</td>\n",
       "    </tr>\n",
       "    <tr>\n",
       "      <th>2017-08-12</th>\n",
       "      <td>6.0</td>\n",
       "      <td>0.0</td>\n",
       "      <td>3.0</td>\n",
       "      <td>1659.0</td>\n",
       "      <td>0.0</td>\n",
       "      <td>243.22000</td>\n",
       "      <td>3.0</td>\n",
       "      <td>351.0</td>\n",
       "      <td>526.0</td>\n",
       "      <td>99.488</td>\n",
       "      <td>...</td>\n",
       "      <td>2.0</td>\n",
       "      <td>260.298</td>\n",
       "      <td>400.0</td>\n",
       "      <td>7.0</td>\n",
       "      <td>10.0</td>\n",
       "      <td>383.387</td>\n",
       "      <td>129.90399</td>\n",
       "      <td>1419.264</td>\n",
       "      <td>138.0</td>\n",
       "      <td>16.859001</td>\n",
       "    </tr>\n",
       "    <tr>\n",
       "      <th>2017-08-13</th>\n",
       "      <td>1.0</td>\n",
       "      <td>0.0</td>\n",
       "      <td>1.0</td>\n",
       "      <td>803.0</td>\n",
       "      <td>0.0</td>\n",
       "      <td>136.67900</td>\n",
       "      <td>1.0</td>\n",
       "      <td>169.0</td>\n",
       "      <td>266.0</td>\n",
       "      <td>47.770</td>\n",
       "      <td>...</td>\n",
       "      <td>3.0</td>\n",
       "      <td>327.206</td>\n",
       "      <td>510.0</td>\n",
       "      <td>2.0</td>\n",
       "      <td>9.0</td>\n",
       "      <td>412.458</td>\n",
       "      <td>105.16900</td>\n",
       "      <td>1693.607</td>\n",
       "      <td>200.0</td>\n",
       "      <td>20.000000</td>\n",
       "    </tr>\n",
       "    <tr>\n",
       "      <th>2017-08-14</th>\n",
       "      <td>1.0</td>\n",
       "      <td>0.0</td>\n",
       "      <td>6.0</td>\n",
       "      <td>2201.0</td>\n",
       "      <td>0.0</td>\n",
       "      <td>346.03800</td>\n",
       "      <td>4.0</td>\n",
       "      <td>571.0</td>\n",
       "      <td>699.0</td>\n",
       "      <td>154.578</td>\n",
       "      <td>...</td>\n",
       "      <td>12.0</td>\n",
       "      <td>330.975</td>\n",
       "      <td>445.0</td>\n",
       "      <td>2.0</td>\n",
       "      <td>14.0</td>\n",
       "      <td>283.429</td>\n",
       "      <td>114.12000</td>\n",
       "      <td>1348.425</td>\n",
       "      <td>182.0</td>\n",
       "      <td>17.000000</td>\n",
       "    </tr>\n",
       "    <tr>\n",
       "      <th>2017-08-15</th>\n",
       "      <td>4.0</td>\n",
       "      <td>0.0</td>\n",
       "      <td>4.0</td>\n",
       "      <td>1942.0</td>\n",
       "      <td>0.0</td>\n",
       "      <td>329.54102</td>\n",
       "      <td>21.0</td>\n",
       "      <td>703.0</td>\n",
       "      <td>602.0</td>\n",
       "      <td>116.402</td>\n",
       "      <td>...</td>\n",
       "      <td>11.0</td>\n",
       "      <td>449.228</td>\n",
       "      <td>522.0</td>\n",
       "      <td>6.0</td>\n",
       "      <td>6.0</td>\n",
       "      <td>438.133</td>\n",
       "      <td>154.55300</td>\n",
       "      <td>2419.729</td>\n",
       "      <td>121.0</td>\n",
       "      <td>16.000000</td>\n",
       "    </tr>\n",
       "  </tbody>\n",
       "</table>\n",
       "<p>5 rows × 1782 columns</p>\n",
       "</div>"
      ],
      "text/plain": [
       "            1     2     3       4     5          6     7      8      9     \\\n",
       "date                                                                        \n",
       "2017-08-11   1.0   0.0   1.0  1006.0   0.0  145.60700   4.0  341.0  343.0   \n",
       "2017-08-12   6.0   0.0   3.0  1659.0   0.0  243.22000   3.0  351.0  526.0   \n",
       "2017-08-13   1.0   0.0   1.0   803.0   0.0  136.67900   1.0  169.0  266.0   \n",
       "2017-08-14   1.0   0.0   6.0  2201.0   0.0  346.03800   4.0  571.0  699.0   \n",
       "2017-08-15   4.0   0.0   4.0  1942.0   0.0  329.54102  21.0  703.0  602.0   \n",
       "\n",
       "               10    ...  1773     1774   1775  1776  1777     1778  \\\n",
       "date                 ...                                              \n",
       "2017-08-11   64.302  ...   5.0  309.245  373.0  11.0   2.0  525.224   \n",
       "2017-08-12   99.488  ...   2.0  260.298  400.0   7.0  10.0  383.387   \n",
       "2017-08-13   47.770  ...   3.0  327.206  510.0   2.0   9.0  412.458   \n",
       "2017-08-14  154.578  ...  12.0  330.975  445.0   2.0  14.0  283.429   \n",
       "2017-08-15  116.402  ...  11.0  449.228  522.0   6.0   6.0  438.133   \n",
       "\n",
       "                 1779      1780   1781       1782  \n",
       "date                                               \n",
       "2017-08-11  112.10000  1453.078  140.0  23.831000  \n",
       "2017-08-12  129.90399  1419.264  138.0  16.859001  \n",
       "2017-08-13  105.16900  1693.607  200.0  20.000000  \n",
       "2017-08-14  114.12000  1348.425  182.0  17.000000  \n",
       "2017-08-15  154.55300  2419.729  121.0  16.000000  \n",
       "\n",
       "[5 rows x 1782 columns]"
      ]
     },
     "execution_count": 76,
     "metadata": {},
     "output_type": "execute_result"
    }
   ],
   "source": [
    "df.tail()"
   ]
  },
  {
   "cell_type": "code",
   "execution_count": 83,
   "id": "480b5206",
   "metadata": {},
   "outputs": [],
   "source": [
    "# train-test split\n",
    "n_train = len(df)-16\n",
    "df_train = df[0:n_train]\n",
    "df_test = df[n_train:]"
   ]
  },
  {
   "cell_type": "markdown",
   "id": "868236bd",
   "metadata": {},
   "source": [
    "## 5.5 Modeling<a id='5.5'></a>"
   ]
  },
  {
   "cell_type": "markdown",
   "id": "431cfef0",
   "metadata": {},
   "source": [
    "### 5.5.1 Apply auto_arima() for single timeseries<a id='5.5.1'></a>"
   ]
  },
  {
   "cell_type": "code",
   "execution_count": 94,
   "id": "4e354225",
   "metadata": {},
   "outputs": [],
   "source": [
    "y1_train = df_train[1] # first column\n",
    "y1_test = df_test[1]"
   ]
  },
  {
   "cell_type": "code",
   "execution_count": 95,
   "id": "883e7c2a",
   "metadata": {
    "scrolled": false
   },
   "outputs": [
    {
     "name": "stdout",
     "output_type": "stream",
     "text": [
      "Performing stepwise search to minimize aic\n",
      " ARIMA(0,1,0)(0,0,0)[0] intercept   : AIC=9096.121, Time=0.05 sec\n",
      " ARIMA(1,1,0)(0,0,0)[0] intercept   : AIC=8682.001, Time=0.10 sec\n"
     ]
    },
    {
     "name": "stderr",
     "output_type": "stream",
     "text": [
      "/opt/anaconda3/lib/python3.9/site-packages/statsmodels/tsa/statespace/sarimax.py:1899: RuntimeWarning: invalid value encountered in reciprocal\n",
      "  return np.roots(self.polynomial_reduced_ar)**-1\n",
      "/opt/anaconda3/lib/python3.9/site-packages/statsmodels/tsa/statespace/sarimax.py:1906: RuntimeWarning: invalid value encountered in reciprocal\n",
      "  return np.roots(self.polynomial_reduced_ma)**-1\n"
     ]
    },
    {
     "name": "stdout",
     "output_type": "stream",
     "text": [
      " ARIMA(0,1,1)(0,0,0)[0] intercept   : AIC=7978.643, Time=0.24 sec\n",
      " ARIMA(0,1,0)(0,0,0)[0]             : AIC=9094.121, Time=0.04 sec\n"
     ]
    },
    {
     "name": "stderr",
     "output_type": "stream",
     "text": [
      "/opt/anaconda3/lib/python3.9/site-packages/statsmodels/tsa/statespace/sarimax.py:1899: RuntimeWarning: invalid value encountered in reciprocal\n",
      "  return np.roots(self.polynomial_reduced_ar)**-1\n",
      "/opt/anaconda3/lib/python3.9/site-packages/statsmodels/tsa/statespace/sarimax.py:1906: RuntimeWarning: invalid value encountered in reciprocal\n",
      "  return np.roots(self.polynomial_reduced_ma)**-1\n"
     ]
    },
    {
     "name": "stdout",
     "output_type": "stream",
     "text": [
      " ARIMA(1,1,1)(0,0,0)[0] intercept   : AIC=7980.616, Time=0.47 sec\n",
      " ARIMA(0,1,2)(0,0,0)[0] intercept   : AIC=7980.612, Time=0.47 sec\n"
     ]
    },
    {
     "name": "stderr",
     "output_type": "stream",
     "text": [
      "/opt/anaconda3/lib/python3.9/site-packages/statsmodels/tsa/statespace/sarimax.py:1899: RuntimeWarning: invalid value encountered in reciprocal\n",
      "  return np.roots(self.polynomial_reduced_ar)**-1\n"
     ]
    },
    {
     "name": "stdout",
     "output_type": "stream",
     "text": [
      " ARIMA(1,1,2)(0,0,0)[0] intercept   : AIC=7977.724, Time=0.80 sec\n",
      " ARIMA(2,1,2)(0,0,0)[0] intercept   : AIC=7978.946, Time=1.00 sec\n"
     ]
    },
    {
     "name": "stderr",
     "output_type": "stream",
     "text": [
      "/opt/anaconda3/lib/python3.9/site-packages/statsmodels/tsa/statespace/sarimax.py:1899: RuntimeWarning: invalid value encountered in reciprocal\n",
      "  return np.roots(self.polynomial_reduced_ar)**-1\n",
      "/opt/anaconda3/lib/python3.9/site-packages/statsmodels/tsa/statespace/sarimax.py:1906: RuntimeWarning: invalid value encountered in reciprocal\n",
      "  return np.roots(self.polynomial_reduced_ma)**-1\n"
     ]
    },
    {
     "name": "stdout",
     "output_type": "stream",
     "text": [
      " ARIMA(1,1,3)(0,0,0)[0] intercept   : AIC=7978.866, Time=0.98 sec\n"
     ]
    },
    {
     "name": "stderr",
     "output_type": "stream",
     "text": [
      "/opt/anaconda3/lib/python3.9/site-packages/statsmodels/tsa/statespace/sarimax.py:1906: RuntimeWarning: invalid value encountered in reciprocal\n",
      "  return np.roots(self.polynomial_reduced_ma)**-1\n"
     ]
    },
    {
     "name": "stdout",
     "output_type": "stream",
     "text": [
      " ARIMA(0,1,3)(0,0,0)[0] intercept   : AIC=7977.120, Time=0.75 sec\n",
      " ARIMA(0,1,4)(0,0,0)[0] intercept   : AIC=inf, Time=1.39 sec\n"
     ]
    },
    {
     "name": "stderr",
     "output_type": "stream",
     "text": [
      "/opt/anaconda3/lib/python3.9/site-packages/statsmodels/tsa/statespace/sarimax.py:1899: RuntimeWarning: invalid value encountered in reciprocal\n",
      "  return np.roots(self.polynomial_reduced_ar)**-1\n"
     ]
    },
    {
     "name": "stdout",
     "output_type": "stream",
     "text": [
      " ARIMA(1,1,4)(0,0,0)[0] intercept   : AIC=7978.735, Time=1.40 sec\n"
     ]
    },
    {
     "name": "stderr",
     "output_type": "stream",
     "text": [
      "/opt/anaconda3/lib/python3.9/site-packages/statsmodels/tsa/statespace/sarimax.py:1906: RuntimeWarning: invalid value encountered in reciprocal\n",
      "  return np.roots(self.polynomial_reduced_ma)**-1\n"
     ]
    },
    {
     "name": "stdout",
     "output_type": "stream",
     "text": [
      " ARIMA(0,1,3)(0,0,0)[0]             : AIC=7976.788, Time=0.24 sec\n",
      " ARIMA(0,1,2)(0,0,0)[0]             : AIC=7980.462, Time=0.16 sec\n"
     ]
    },
    {
     "name": "stderr",
     "output_type": "stream",
     "text": [
      "/opt/anaconda3/lib/python3.9/site-packages/statsmodels/tsa/statespace/sarimax.py:1899: RuntimeWarning: invalid value encountered in reciprocal\n",
      "  return np.roots(self.polynomial_reduced_ar)**-1\n",
      "/opt/anaconda3/lib/python3.9/site-packages/statsmodels/tsa/statespace/sarimax.py:1906: RuntimeWarning: invalid value encountered in reciprocal\n",
      "  return np.roots(self.polynomial_reduced_ma)**-1\n"
     ]
    },
    {
     "name": "stdout",
     "output_type": "stream",
     "text": [
      " ARIMA(1,1,3)(0,0,0)[0]             : AIC=7978.665, Time=0.35 sec\n",
      " ARIMA(0,1,4)(0,0,0)[0]             : AIC=inf, Time=0.23 sec\n"
     ]
    },
    {
     "name": "stderr",
     "output_type": "stream",
     "text": [
      "/opt/anaconda3/lib/python3.9/site-packages/statsmodels/tsa/statespace/sarimax.py:1899: RuntimeWarning: invalid value encountered in reciprocal\n",
      "  return np.roots(self.polynomial_reduced_ar)**-1\n"
     ]
    },
    {
     "name": "stdout",
     "output_type": "stream",
     "text": [
      " ARIMA(1,1,2)(0,0,0)[0]             : AIC=7977.594, Time=0.36 sec\n",
      " ARIMA(1,1,4)(0,0,0)[0]             : AIC=7978.424, Time=0.63 sec\n",
      "\n",
      "Best model:  ARIMA(0,1,3)(0,0,0)[0]          \n",
      "Total fit time: 9.665 seconds\n",
      "                               SARIMAX Results                                \n",
      "==============================================================================\n",
      "Dep. Variable:                      y   No. Observations:                 1668\n",
      "Model:               SARIMAX(0, 1, 3)   Log Likelihood               -3984.394\n",
      "Date:                Thu, 10 Aug 2023   AIC                           7976.788\n",
      "Time:                        09:12:51   BIC                           7998.463\n",
      "Sample:                             0   HQIC                          7984.820\n",
      "                               - 1668                                         \n",
      "Covariance Type:                  opg                                         \n",
      "==============================================================================\n",
      "                 coef    std err          z      P>|z|      [0.025      0.975]\n",
      "------------------------------------------------------------------------------\n",
      "ma.L1         -0.9813      0.026    -37.850      0.000      -1.032      -0.930\n",
      "ma.L2         -0.0602      0.037     -1.644      0.100      -0.132       0.012\n",
      "ma.L3          0.0600      0.026      2.283      0.022       0.008       0.112\n",
      "sigma2         6.9616      0.150     46.261      0.000       6.667       7.257\n",
      "===================================================================================\n",
      "Ljung-Box (L1) (Q):                   0.00   Jarque-Bera (JB):              1282.29\n",
      "Prob(Q):                              1.00   Prob(JB):                         0.00\n",
      "Heteroskedasticity (H):               1.79   Skew:                             1.36\n",
      "Prob(H) (two-sided):                  0.00   Kurtosis:                         6.32\n",
      "===================================================================================\n",
      "\n",
      "Warnings:\n",
      "[1] Covariance matrix calculated using the outer product of gradients (complex-step).\n"
     ]
    },
    {
     "name": "stderr",
     "output_type": "stream",
     "text": [
      "/opt/anaconda3/lib/python3.9/site-packages/statsmodels/tsa/statespace/sarimax.py:1899: RuntimeWarning: invalid value encountered in reciprocal\n",
      "  return np.roots(self.polynomial_reduced_ar)**-1\n"
     ]
    }
   ],
   "source": [
    "# use pmdarima to automatically select best ARIMA model\n",
    "model = pm.auto_arima(y1_train, \n",
    "                      d=None,               # let model determine 'd' (order of first-differencing)\n",
    "                      start_p=0, start_q=0, # minimum p and q\n",
    "                      max_p=15, max_q=15,   # maximum p and q\n",
    "                      D=None,               # let model determine 'D' (order of the seasonal differencing)\n",
    "                      trace=True)           # print status on the fits\n",
    "\n",
    "# print model summary\n",
    "print(model.summary())"
   ]
  },
  {
   "cell_type": "code",
   "execution_count": 100,
   "id": "81616e17",
   "metadata": {
    "scrolled": true
   },
   "outputs": [
    {
     "name": "stderr",
     "output_type": "stream",
     "text": [
      "/opt/anaconda3/lib/python3.9/site-packages/statsmodels/tsa/base/tsa_model.py:834: ValueWarning: No supported index is available. Prediction results will be given with an integer index beginning at `start`.\n",
      "  return get_prediction_index(\n"
     ]
    }
   ],
   "source": [
    "# make forecasts\n",
    "y1_pred = model.predict(y1_test.shape[0])  # predict N steps into the future"
   ]
  },
  {
   "cell_type": "code",
   "execution_count": 119,
   "id": "64087ce2",
   "metadata": {},
   "outputs": [
    {
     "data": {
      "text/plain": [
       "date\n",
       "2017-07-31    8.0\n",
       "2017-08-01    5.0\n",
       "2017-08-02    4.0\n",
       "2017-08-03    3.0\n",
       "2017-08-04    8.0\n",
       "2017-08-05    5.0\n",
       "2017-08-06    6.0\n",
       "2017-08-07    7.0\n",
       "2017-08-08    4.0\n",
       "2017-08-09    7.0\n",
       "2017-08-10    9.0\n",
       "2017-08-11    1.0\n",
       "2017-08-12    6.0\n",
       "2017-08-13    1.0\n",
       "2017-08-14    1.0\n",
       "2017-08-15    4.0\n",
       "Name: 1, dtype: float64"
      ]
     },
     "execution_count": 119,
     "metadata": {},
     "output_type": "execute_result"
    }
   ],
   "source": [
    "y1_test"
   ]
  },
  {
   "cell_type": "code",
   "execution_count": 120,
   "id": "106fb54a",
   "metadata": {},
   "outputs": [
    {
     "data": {
      "text/plain": [
       "1668    4.379064\n",
       "1669    4.553845\n",
       "1670    4.357606\n",
       "1671    4.357606\n",
       "1672    4.357606\n",
       "1673    4.357606\n",
       "1674    4.357606\n",
       "1675    4.357606\n",
       "1676    4.357606\n",
       "1677    4.357606\n",
       "1678    4.357606\n",
       "1679    4.357606\n",
       "1680    4.357606\n",
       "1681    4.357606\n",
       "1682    4.357606\n",
       "1683    4.357606\n",
       "dtype: float64"
      ]
     },
     "execution_count": 120,
     "metadata": {},
     "output_type": "execute_result"
    }
   ],
   "source": [
    "y1_pred"
   ]
  },
  {
   "cell_type": "code",
   "execution_count": 118,
   "id": "54d6fcae",
   "metadata": {},
   "outputs": [
    {
     "name": "stdout",
     "output_type": "stream",
     "text": [
      "MAPE:\n"
     ]
    },
    {
     "data": {
      "text/plain": [
       "0.8585899440079136"
      ]
     },
     "execution_count": 118,
     "metadata": {},
     "output_type": "execute_result"
    }
   ],
   "source": [
    "# APE = ABS((actual - predicted) / actual)\n",
    "APE_y1 = abs( (y1_test.values - y1_pred.values) / y1_test.values) # ma: moving average model\n",
    "\n",
    "# MEAN(APE)\n",
    "mAPE_y1 = np.mean(APE_y1)\n",
    "print('MAPE:')\n",
    "mAPE_y1"
   ]
  },
  {
   "cell_type": "code",
   "execution_count": 123,
   "id": "74ec96ca",
   "metadata": {},
   "outputs": [
    {
     "data": {
      "image/png": "[encoded data removed]",
      "text/plain": [
       "<Figure size 640x480 with 1 Axes>"
      ]
     },
     "metadata": {},
     "output_type": "display_data"
    }
   ],
   "source": [
    "# predicted-vs-actual scatterplot\n",
    "fig, ax = plt.subplots()\n",
    "ax.scatter(y1_test.values, y1_pred.values)\n",
    "plt.xlabel(\"predicted values\")\n",
    "plt.ylabel(\"original values\")\n",
    "# ax.axline((1,1), slope=1, color = 'red')\n",
    "plt.show()"
   ]
  }
 ],
 "metadata": {
  "kernelspec": {
   "display_name": "Python 3 (ipykernel)",
   "language": "python",
   "name": "python3"
  },
  "language_info": {
   "codemirror_mode": {
    "name": "ipython",
    "version": 3
   },
   "file_extension": ".py",
   "mimetype": "text/x-python",
   "name": "python",
   "nbconvert_exporter": "python",
   "pygments_lexer": "ipython3",
   "version": "3.9.13"
  }
 },
 "nbformat": 4,
 "nbformat_minor": 5
}
