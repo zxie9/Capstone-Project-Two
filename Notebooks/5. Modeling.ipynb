{
 "cells": [
  {
   "cell_type": "markdown",
   "id": "21d66be9",
   "metadata": {},
   "source": [
    "# Capstone Two - 5 Extended Modeling<a id='5'></a>"
   ]
  },
  {
   "cell_type": "markdown",
   "id": "a3e1ef15",
   "metadata": {},
   "source": [
    "## 5.1 Contents<a id='5.1'></a>\n",
    "* [5 Extended Modeling](#5)\n",
    "  * [5.1 Contents](#5.1)\n",
    "  * [5.2 Imports](#5.2)\n",
    "  * [5.3 Load The Data](#5.3)\n",
    "  * [5.4 Data Processing](#5.4)\n",
    "  * [5.5 Modeling](#5.5)\n",
    "    * [5.5.1 Apply auto_arima() for single timeseries](#5.5.1)\n",
    "    * [5.5.2 Apply auto_arima() for multiple timeseries](#5.5.2)\n",
    "    * [5.5.3 Apply Prophet() for single timeseries](#5.5.3)\n",
    "    "
   ]
  },
  {
   "cell_type": "markdown",
   "id": "b2f6e178",
   "metadata": {},
   "source": [
    "## 5.2 Imports<a id='5.2'></a>"
   ]
  },
  {
   "cell_type": "code",
   "execution_count": 1,
   "id": "4317111b",
   "metadata": {},
   "outputs": [],
   "source": [
    "import pandas as pd\n",
    "import numpy as np\n",
    "import os\n",
    "import matplotlib.pyplot as plt\n",
    "import seaborn as sns\n",
    "import datetime"
   ]
  },
  {
   "cell_type": "code",
   "execution_count": 2,
   "id": "fcdfe7f3",
   "metadata": {},
   "outputs": [],
   "source": [
    "import pmdarima as pm\n",
    "from pmdarima.model_selection import train_test_split\n",
    "\n",
    "from prophet import Prophet"
   ]
  },
  {
   "cell_type": "markdown",
   "id": "2d3e4829",
   "metadata": {},
   "source": [
    "## 5.3 Load The Data<a id='5.3'></a>"
   ]
  },
  {
   "cell_type": "code",
   "execution_count": 3,
   "id": "4f76b59c",
   "metadata": {
    "scrolled": true
   },
   "outputs": [
    {
     "data": {
      "text/html": [
       "<div>\n",
       "<style scoped>\n",
       "    .dataframe tbody tr th:only-of-type {\n",
       "        vertical-align: middle;\n",
       "    }\n",
       "\n",
       "    .dataframe tbody tr th {\n",
       "        vertical-align: top;\n",
       "    }\n",
       "\n",
       "    .dataframe thead th {\n",
       "        text-align: right;\n",
       "    }\n",
       "</style>\n",
       "<table border=\"1\" class=\"dataframe\">\n",
       "  <thead>\n",
       "    <tr style=\"text-align: right;\">\n",
       "      <th></th>\n",
       "      <th>date</th>\n",
       "      <th>store_nbr</th>\n",
       "      <th>family</th>\n",
       "      <th>sales</th>\n",
       "      <th>onpromotion</th>\n",
       "      <th>city</th>\n",
       "      <th>state</th>\n",
       "      <th>store_type</th>\n",
       "      <th>cluster</th>\n",
       "      <th>dcoilwtico</th>\n",
       "      <th>transactions</th>\n",
       "      <th>holiday_type</th>\n",
       "      <th>transferred</th>\n",
       "      <th>year</th>\n",
       "      <th>month</th>\n",
       "    </tr>\n",
       "  </thead>\n",
       "  <tbody>\n",
       "    <tr>\n",
       "      <th>0</th>\n",
       "      <td>2013-01-01</td>\n",
       "      <td>1</td>\n",
       "      <td>AUTOMOTIVE</td>\n",
       "      <td>0.0</td>\n",
       "      <td>0</td>\n",
       "      <td>Quito</td>\n",
       "      <td>Pichincha</td>\n",
       "      <td>D</td>\n",
       "      <td>13</td>\n",
       "      <td>93.14</td>\n",
       "      <td>0.0</td>\n",
       "      <td>Holiday</td>\n",
       "      <td>False</td>\n",
       "      <td>2013</td>\n",
       "      <td>1</td>\n",
       "    </tr>\n",
       "    <tr>\n",
       "      <th>1</th>\n",
       "      <td>2013-01-01</td>\n",
       "      <td>1</td>\n",
       "      <td>BABY CARE</td>\n",
       "      <td>0.0</td>\n",
       "      <td>0</td>\n",
       "      <td>Quito</td>\n",
       "      <td>Pichincha</td>\n",
       "      <td>D</td>\n",
       "      <td>13</td>\n",
       "      <td>93.14</td>\n",
       "      <td>0.0</td>\n",
       "      <td>Holiday</td>\n",
       "      <td>False</td>\n",
       "      <td>2013</td>\n",
       "      <td>1</td>\n",
       "    </tr>\n",
       "    <tr>\n",
       "      <th>2</th>\n",
       "      <td>2013-01-01</td>\n",
       "      <td>1</td>\n",
       "      <td>BEAUTY</td>\n",
       "      <td>0.0</td>\n",
       "      <td>0</td>\n",
       "      <td>Quito</td>\n",
       "      <td>Pichincha</td>\n",
       "      <td>D</td>\n",
       "      <td>13</td>\n",
       "      <td>93.14</td>\n",
       "      <td>0.0</td>\n",
       "      <td>Holiday</td>\n",
       "      <td>False</td>\n",
       "      <td>2013</td>\n",
       "      <td>1</td>\n",
       "    </tr>\n",
       "  </tbody>\n",
       "</table>\n",
       "</div>"
      ],
      "text/plain": [
       "         date  store_nbr      family  sales  onpromotion   city      state  \\\n",
       "0  2013-01-01          1  AUTOMOTIVE    0.0            0  Quito  Pichincha   \n",
       "1  2013-01-01          1   BABY CARE    0.0            0  Quito  Pichincha   \n",
       "2  2013-01-01          1      BEAUTY    0.0            0  Quito  Pichincha   \n",
       "\n",
       "  store_type  cluster  dcoilwtico  transactions holiday_type  transferred  \\\n",
       "0          D       13       93.14           0.0      Holiday        False   \n",
       "1          D       13       93.14           0.0      Holiday        False   \n",
       "2          D       13       93.14           0.0      Holiday        False   \n",
       "\n",
       "   year  month  \n",
       "0  2013      1  \n",
       "1  2013      1  \n",
       "2  2013      1  "
      ]
     },
     "execution_count": 3,
     "metadata": {},
     "output_type": "execute_result"
    }
   ],
   "source": [
    "data_dir = '../data/'\n",
    "\n",
    "data_ori = pd.read_csv(data_dir+'train_all_groups.csv')\n",
    "data_ori.head(3)"
   ]
  },
  {
   "cell_type": "code",
   "execution_count": 4,
   "id": "0e00f764",
   "metadata": {
    "scrolled": true
   },
   "outputs": [
    {
     "data": {
      "text/html": [
       "<div>\n",
       "<style scoped>\n",
       "    .dataframe tbody tr th:only-of-type {\n",
       "        vertical-align: middle;\n",
       "    }\n",
       "\n",
       "    .dataframe tbody tr th {\n",
       "        vertical-align: top;\n",
       "    }\n",
       "\n",
       "    .dataframe thead th {\n",
       "        text-align: right;\n",
       "    }\n",
       "</style>\n",
       "<table border=\"1\" class=\"dataframe\">\n",
       "  <thead>\n",
       "    <tr style=\"text-align: right;\">\n",
       "      <th></th>\n",
       "      <th>store_nbr</th>\n",
       "      <th>family</th>\n",
       "      <th>sales</th>\n",
       "    </tr>\n",
       "    <tr>\n",
       "      <th>date</th>\n",
       "      <th></th>\n",
       "      <th></th>\n",
       "      <th></th>\n",
       "    </tr>\n",
       "  </thead>\n",
       "  <tbody>\n",
       "    <tr>\n",
       "      <th>2013-01-01</th>\n",
       "      <td>1</td>\n",
       "      <td>AUTOMOTIVE</td>\n",
       "      <td>0.0</td>\n",
       "    </tr>\n",
       "    <tr>\n",
       "      <th>2013-01-01</th>\n",
       "      <td>1</td>\n",
       "      <td>BABY CARE</td>\n",
       "      <td>0.0</td>\n",
       "    </tr>\n",
       "    <tr>\n",
       "      <th>2013-01-01</th>\n",
       "      <td>1</td>\n",
       "      <td>BEAUTY</td>\n",
       "      <td>0.0</td>\n",
       "    </tr>\n",
       "  </tbody>\n",
       "</table>\n",
       "</div>"
      ],
      "text/plain": [
       "            store_nbr      family  sales\n",
       "date                                    \n",
       "2013-01-01          1  AUTOMOTIVE    0.0\n",
       "2013-01-01          1   BABY CARE    0.0\n",
       "2013-01-01          1      BEAUTY    0.0"
      ]
     },
     "execution_count": 4,
     "metadata": {},
     "output_type": "execute_result"
    }
   ],
   "source": [
    "data = data_ori[['date', 'store_nbr', 'family', 'sales']]\n",
    "data.set_index('date', inplace = True)\n",
    "data.head(3)"
   ]
  },
  {
   "cell_type": "markdown",
   "id": "7bf61894",
   "metadata": {},
   "source": [
    "## 5.4 Data Processing<a id='5.4'></a>"
   ]
  },
  {
   "cell_type": "code",
   "execution_count": 5,
   "id": "dddd1007",
   "metadata": {},
   "outputs": [
    {
     "name": "stdout",
     "output_type": "stream",
     "text": [
      "[ 1 10 11 12 13 14 15 16 17 18 19  2 20 21 22 23 24 25 26 27 28 29  3 30\n",
      " 31 32 33 34 35 36 37 38 39  4 40 41 42 43 44 45 46 47 48 49  5 50 51 52\n",
      " 53 54  6  7  8  9]\n",
      "['AUTOMOTIVE' 'BABY CARE' 'BEAUTY' 'BEVERAGES' 'BOOKS' 'BREAD/BAKERY'\n",
      " 'CELEBRATION' 'CLEANING' 'DAIRY' 'DELI' 'EGGS' 'FROZEN FOODS' 'GROCERY I'\n",
      " 'GROCERY II' 'HARDWARE' 'HOME AND KITCHEN I' 'HOME AND KITCHEN II'\n",
      " 'HOME APPLIANCES' 'HOME CARE' 'LADIESWEAR' 'LAWN AND GARDEN' 'LINGERIE'\n",
      " 'LIQUOR,WINE,BEER' 'MAGAZINES' 'MEATS' 'PERSONAL CARE' 'PET SUPPLIES'\n",
      " 'PLAYERS AND ELECTRONICS' 'POULTRY' 'PREPARED FOODS' 'PRODUCE'\n",
      " 'SCHOOL AND OFFICE SUPPLIES' 'SEAFOOD']\n",
      "54 33\n"
     ]
    }
   ],
   "source": [
    "stores = data['store_nbr'].unique()\n",
    "families = data['family'].unique()\n",
    "\n",
    "print(stores)\n",
    "print(families)\n",
    "print(len(stores), len(families))"
   ]
  },
  {
   "cell_type": "code",
   "execution_count": 6,
   "id": "2297ed6c",
   "metadata": {
    "scrolled": false
   },
   "outputs": [
    {
     "data": {
      "text/html": [
       "<div>\n",
       "<style scoped>\n",
       "    .dataframe tbody tr th:only-of-type {\n",
       "        vertical-align: middle;\n",
       "    }\n",
       "\n",
       "    .dataframe tbody tr th {\n",
       "        vertical-align: top;\n",
       "    }\n",
       "\n",
       "    .dataframe thead th {\n",
       "        text-align: right;\n",
       "    }\n",
       "</style>\n",
       "<table border=\"1\" class=\"dataframe\">\n",
       "  <thead>\n",
       "    <tr style=\"text-align: right;\">\n",
       "      <th></th>\n",
       "      <th>1,AUTOMOTIVE</th>\n",
       "      <th>1,BABY CARE</th>\n",
       "      <th>1,BEAUTY</th>\n",
       "      <th>1,BEVERAGES</th>\n",
       "      <th>1,BOOKS</th>\n",
       "      <th>1,BREAD/BAKERY</th>\n",
       "      <th>1,CELEBRATION</th>\n",
       "      <th>1,CLEANING</th>\n",
       "      <th>1,DAIRY</th>\n",
       "      <th>1,DELI</th>\n",
       "      <th>...</th>\n",
       "      <th>9,MAGAZINES</th>\n",
       "      <th>9,MEATS</th>\n",
       "      <th>9,PERSONAL CARE</th>\n",
       "      <th>9,PET SUPPLIES</th>\n",
       "      <th>9,PLAYERS AND ELECTRONICS</th>\n",
       "      <th>9,POULTRY</th>\n",
       "      <th>9,PREPARED FOODS</th>\n",
       "      <th>9,PRODUCE</th>\n",
       "      <th>9,SCHOOL AND OFFICE SUPPLIES</th>\n",
       "      <th>9,SEAFOOD</th>\n",
       "    </tr>\n",
       "    <tr>\n",
       "      <th>date</th>\n",
       "      <th></th>\n",
       "      <th></th>\n",
       "      <th></th>\n",
       "      <th></th>\n",
       "      <th></th>\n",
       "      <th></th>\n",
       "      <th></th>\n",
       "      <th></th>\n",
       "      <th></th>\n",
       "      <th></th>\n",
       "      <th></th>\n",
       "      <th></th>\n",
       "      <th></th>\n",
       "      <th></th>\n",
       "      <th></th>\n",
       "      <th></th>\n",
       "      <th></th>\n",
       "      <th></th>\n",
       "      <th></th>\n",
       "      <th></th>\n",
       "      <th></th>\n",
       "    </tr>\n",
       "  </thead>\n",
       "  <tbody>\n",
       "    <tr>\n",
       "      <th>2013-01-01</th>\n",
       "      <td>0.0</td>\n",
       "      <td>0.0</td>\n",
       "      <td>0.0</td>\n",
       "      <td>0.0</td>\n",
       "      <td>0.0</td>\n",
       "      <td>0.000</td>\n",
       "      <td>0.0</td>\n",
       "      <td>0.0</td>\n",
       "      <td>0.0</td>\n",
       "      <td>0.000</td>\n",
       "      <td>...</td>\n",
       "      <td>0.0</td>\n",
       "      <td>0.000</td>\n",
       "      <td>0.0</td>\n",
       "      <td>0.0</td>\n",
       "      <td>0.0</td>\n",
       "      <td>0.000</td>\n",
       "      <td>0.0</td>\n",
       "      <td>0.0</td>\n",
       "      <td>0.0</td>\n",
       "      <td>0.000</td>\n",
       "    </tr>\n",
       "    <tr>\n",
       "      <th>2013-01-02</th>\n",
       "      <td>2.0</td>\n",
       "      <td>0.0</td>\n",
       "      <td>2.0</td>\n",
       "      <td>1091.0</td>\n",
       "      <td>0.0</td>\n",
       "      <td>470.652</td>\n",
       "      <td>0.0</td>\n",
       "      <td>1060.0</td>\n",
       "      <td>579.0</td>\n",
       "      <td>164.069</td>\n",
       "      <td>...</td>\n",
       "      <td>0.0</td>\n",
       "      <td>374.531</td>\n",
       "      <td>482.0</td>\n",
       "      <td>0.0</td>\n",
       "      <td>0.0</td>\n",
       "      <td>651.292</td>\n",
       "      <td>83.0</td>\n",
       "      <td>0.0</td>\n",
       "      <td>0.0</td>\n",
       "      <td>29.214</td>\n",
       "    </tr>\n",
       "    <tr>\n",
       "      <th>2013-01-03</th>\n",
       "      <td>3.0</td>\n",
       "      <td>0.0</td>\n",
       "      <td>0.0</td>\n",
       "      <td>919.0</td>\n",
       "      <td>0.0</td>\n",
       "      <td>310.655</td>\n",
       "      <td>0.0</td>\n",
       "      <td>836.0</td>\n",
       "      <td>453.0</td>\n",
       "      <td>151.582</td>\n",
       "      <td>...</td>\n",
       "      <td>0.0</td>\n",
       "      <td>400.863</td>\n",
       "      <td>372.0</td>\n",
       "      <td>0.0</td>\n",
       "      <td>0.0</td>\n",
       "      <td>509.496</td>\n",
       "      <td>66.0</td>\n",
       "      <td>0.0</td>\n",
       "      <td>0.0</td>\n",
       "      <td>25.000</td>\n",
       "    </tr>\n",
       "    <tr>\n",
       "      <th>2013-01-04</th>\n",
       "      <td>3.0</td>\n",
       "      <td>0.0</td>\n",
       "      <td>3.0</td>\n",
       "      <td>953.0</td>\n",
       "      <td>0.0</td>\n",
       "      <td>198.366</td>\n",
       "      <td>0.0</td>\n",
       "      <td>827.0</td>\n",
       "      <td>460.0</td>\n",
       "      <td>131.411</td>\n",
       "      <td>...</td>\n",
       "      <td>0.0</td>\n",
       "      <td>310.878</td>\n",
       "      <td>324.0</td>\n",
       "      <td>0.0</td>\n",
       "      <td>0.0</td>\n",
       "      <td>332.672</td>\n",
       "      <td>57.0</td>\n",
       "      <td>0.0</td>\n",
       "      <td>0.0</td>\n",
       "      <td>11.000</td>\n",
       "    </tr>\n",
       "    <tr>\n",
       "      <th>2013-01-05</th>\n",
       "      <td>5.0</td>\n",
       "      <td>0.0</td>\n",
       "      <td>3.0</td>\n",
       "      <td>1160.0</td>\n",
       "      <td>0.0</td>\n",
       "      <td>301.057</td>\n",
       "      <td>0.0</td>\n",
       "      <td>811.0</td>\n",
       "      <td>464.0</td>\n",
       "      <td>118.613</td>\n",
       "      <td>...</td>\n",
       "      <td>0.0</td>\n",
       "      <td>447.685</td>\n",
       "      <td>461.0</td>\n",
       "      <td>0.0</td>\n",
       "      <td>0.0</td>\n",
       "      <td>510.919</td>\n",
       "      <td>84.0</td>\n",
       "      <td>0.0</td>\n",
       "      <td>0.0</td>\n",
       "      <td>28.361</td>\n",
       "    </tr>\n",
       "  </tbody>\n",
       "</table>\n",
       "<p>5 rows × 1782 columns</p>\n",
       "</div>"
      ],
      "text/plain": [
       "            1,AUTOMOTIVE  1,BABY CARE  1,BEAUTY  1,BEVERAGES  1,BOOKS  \\\n",
       "date                                                                    \n",
       "2013-01-01           0.0          0.0       0.0          0.0      0.0   \n",
       "2013-01-02           2.0          0.0       2.0       1091.0      0.0   \n",
       "2013-01-03           3.0          0.0       0.0        919.0      0.0   \n",
       "2013-01-04           3.0          0.0       3.0        953.0      0.0   \n",
       "2013-01-05           5.0          0.0       3.0       1160.0      0.0   \n",
       "\n",
       "            1,BREAD/BAKERY  1,CELEBRATION  1,CLEANING  1,DAIRY   1,DELI  ...  \\\n",
       "date                                                                     ...   \n",
       "2013-01-01           0.000            0.0         0.0      0.0    0.000  ...   \n",
       "2013-01-02         470.652            0.0      1060.0    579.0  164.069  ...   \n",
       "2013-01-03         310.655            0.0       836.0    453.0  151.582  ...   \n",
       "2013-01-04         198.366            0.0       827.0    460.0  131.411  ...   \n",
       "2013-01-05         301.057            0.0       811.0    464.0  118.613  ...   \n",
       "\n",
       "            9,MAGAZINES  9,MEATS  9,PERSONAL CARE  9,PET SUPPLIES  \\\n",
       "date                                                                \n",
       "2013-01-01          0.0    0.000              0.0             0.0   \n",
       "2013-01-02          0.0  374.531            482.0             0.0   \n",
       "2013-01-03          0.0  400.863            372.0             0.0   \n",
       "2013-01-04          0.0  310.878            324.0             0.0   \n",
       "2013-01-05          0.0  447.685            461.0             0.0   \n",
       "\n",
       "            9,PLAYERS AND ELECTRONICS  9,POULTRY  9,PREPARED FOODS  9,PRODUCE  \\\n",
       "date                                                                            \n",
       "2013-01-01                        0.0      0.000               0.0        0.0   \n",
       "2013-01-02                        0.0    651.292              83.0        0.0   \n",
       "2013-01-03                        0.0    509.496              66.0        0.0   \n",
       "2013-01-04                        0.0    332.672              57.0        0.0   \n",
       "2013-01-05                        0.0    510.919              84.0        0.0   \n",
       "\n",
       "            9,SCHOOL AND OFFICE SUPPLIES  9,SEAFOOD  \n",
       "date                                                 \n",
       "2013-01-01                           0.0      0.000  \n",
       "2013-01-02                           0.0     29.214  \n",
       "2013-01-03                           0.0     25.000  \n",
       "2013-01-04                           0.0     11.000  \n",
       "2013-01-05                           0.0     28.361  \n",
       "\n",
       "[5 rows x 1782 columns]"
      ]
     },
     "execution_count": 6,
     "metadata": {},
     "output_type": "execute_result"
    }
   ],
   "source": [
    "grp = data.groupby(['store_nbr', 'family'])\n",
    "\n",
    "df = pd.DataFrame()\n",
    "\n",
    "for s in stores:\n",
    "    for f in families:\n",
    "        grp_sel = grp.get_group((s, f))\n",
    "        col_name = str(s)+\",\"+f\n",
    "        df_temp = pd.DataFrame(grp_sel['sales']).rename(columns={'sales': col_name})\n",
    "        df = pd.concat([df, df_temp], axis=1)\n",
    "\n",
    "df.head()"
   ]
  },
  {
   "cell_type": "code",
   "execution_count": 7,
   "id": "6afed8ac",
   "metadata": {},
   "outputs": [],
   "source": [
    "# train-test split: the last 16 days as testing set\n",
    "n_train = len(df)-16\n",
    "df_train = df[7:n_train] #starting from day 8\n",
    "df_test = df[n_train:]"
   ]
  },
  {
   "cell_type": "markdown",
   "id": "afdfbfa3",
   "metadata": {},
   "source": [
    "## 5.5 Modeling<a id='5.5'></a>"
   ]
  },
  {
   "cell_type": "markdown",
   "id": "d466d3bc",
   "metadata": {},
   "source": [
    "### 5.5.1 Apply auto_arima() for single timeseries<a id='5.5.1'></a>"
   ]
  },
  {
   "cell_type": "code",
   "execution_count": 8,
   "id": "38663b7d",
   "metadata": {},
   "outputs": [],
   "source": [
    "y1_train = df_train[\"1,AUTOMOTIVE\"] # first column\n",
    "y1_test = df_test[\"1,AUTOMOTIVE\"]"
   ]
  },
  {
   "cell_type": "code",
   "execution_count": 9,
   "id": "58e89e51",
   "metadata": {
    "scrolled": false
   },
   "outputs": [
    {
     "name": "stdout",
     "output_type": "stream",
     "text": [
      "Performing stepwise search to minimize aic\n",
      " ARIMA(0,0,0)(1,0,1)[7] intercept   : AIC=7891.125, Time=1.37 sec\n",
      " ARIMA(0,0,0)(0,0,0)[7] intercept   : AIC=8089.233, Time=0.03 sec\n",
      " ARIMA(1,0,0)(1,0,0)[7] intercept   : AIC=8038.275, Time=0.53 sec\n",
      " ARIMA(0,0,1)(0,0,1)[7] intercept   : AIC=8048.556, Time=0.36 sec\n",
      " ARIMA(0,0,0)(0,0,0)[7]             : AIC=9526.536, Time=0.02 sec\n",
      " ARIMA(0,0,0)(0,0,1)[7] intercept   : AIC=8059.133, Time=0.17 sec\n",
      " ARIMA(0,0,0)(1,0,0)[7] intercept   : AIC=8047.737, Time=0.30 sec\n",
      " ARIMA(0,0,0)(2,0,1)[7] intercept   : AIC=7898.131, Time=2.99 sec\n",
      " ARIMA(0,0,0)(1,0,2)[7] intercept   : AIC=7891.691, Time=3.22 sec\n",
      " ARIMA(0,0,0)(0,0,2)[7] intercept   : AIC=8018.471, Time=0.45 sec\n",
      " ARIMA(0,0,0)(2,0,0)[7] intercept   : AIC=7992.324, Time=0.64 sec\n",
      " ARIMA(0,0,0)(2,0,2)[7] intercept   : AIC=7895.121, Time=2.92 sec\n",
      " ARIMA(1,0,0)(1,0,1)[7] intercept   : AIC=7892.120, Time=1.82 sec\n",
      " ARIMA(0,0,1)(1,0,1)[7] intercept   : AIC=7892.113, Time=1.90 sec\n",
      " ARIMA(1,0,1)(1,0,1)[7] intercept   : AIC=7892.662, Time=2.39 sec\n",
      " ARIMA(0,0,0)(1,0,1)[7]             : AIC=7913.798, Time=0.70 sec\n",
      "\n",
      "Best model:  ARIMA(0,0,0)(1,0,1)[7] intercept\n",
      "Total fit time: 19.855 seconds\n",
      "                                 SARIMAX Results                                 \n",
      "=================================================================================\n",
      "Dep. Variable:                         y   No. Observations:                 1661\n",
      "Model:             SARIMAX(1, 0, [1], 7)   Log Likelihood               -3941.562\n",
      "Date:                   Thu, 14 Sep 2023   AIC                           7891.125\n",
      "Time:                           08:18:00   BIC                           7912.785\n",
      "Sample:                                0   HQIC                          7899.153\n",
      "                                  - 1661                                         \n",
      "Covariance Type:                     opg                                         \n",
      "==============================================================================\n",
      "                 coef    std err          z      P>|z|      [0.025      0.975]\n",
      "------------------------------------------------------------------------------\n",
      "intercept      0.0693      0.027      2.574      0.010       0.017       0.122\n",
      "ar.S.L7        0.9784      0.008    121.930      0.000       0.963       0.994\n",
      "ma.S.L7       -0.8997      0.015    -58.495      0.000      -0.930      -0.870\n",
      "sigma2         6.7244      0.172     39.209      0.000       6.388       7.061\n",
      "===================================================================================\n",
      "Ljung-Box (L1) (Q):                   0.95   Jarque-Bera (JB):              1431.77\n",
      "Prob(Q):                              0.33   Prob(JB):                         0.00\n",
      "Heteroskedasticity (H):               1.75   Skew:                             1.42\n",
      "Prob(H) (two-sided):                  0.00   Kurtosis:                         6.55\n",
      "===================================================================================\n",
      "\n",
      "Warnings:\n",
      "[1] Covariance matrix calculated using the outer product of gradients (complex-step).\n"
     ]
    }
   ],
   "source": [
    "# use pmdarima to automatically select best ARIMA model\n",
    "model = pm.auto_arima(y1_train,                    \n",
    "                      start_p=0, start_q=0, # minimum p and q\n",
    "                      max_p=7, max_q=7,     # maximum p and q\n",
    "                      max_order=None,\n",
    "                      test='adf',           # use adftest to find optimal 'd'\n",
    "                      seasonal=True,\n",
    "                      m=7,                   # seasonality: weekly\n",
    "                      d=None,               # let model determine 'd' (order of first-differencing)\n",
    "                      D=None,               # let model determine 'D' (order of the seasonal differencing)\n",
    "                      trace=True,           # print status on the fits\n",
    "                      error_action='ignore',\n",
    "                      suppress_warnings=True,\n",
    "                      stepwise=True)\n",
    "\n",
    "# print model summary\n",
    "print(model.summary())"
   ]
  },
  {
   "cell_type": "code",
   "execution_count": 19,
   "id": "3cd05348",
   "metadata": {},
   "outputs": [
    {
     "data": {
      "text/plain": [
       "ARIMA(order=(0, 0, 0), scoring_args={}, seasonal_order=(1, 0, 1, 7),\n",
       "      suppress_warnings=True)"
      ]
     },
     "execution_count": 19,
     "metadata": {},
     "output_type": "execute_result"
    }
   ],
   "source": [
    "model"
   ]
  },
  {
   "cell_type": "code",
   "execution_count": 20,
   "id": "ce8844c0",
   "metadata": {
    "scrolled": true
   },
   "outputs": [
    {
     "name": "stderr",
     "output_type": "stream",
     "text": [
      "/opt/anaconda3/lib/python3.9/site-packages/statsmodels/tsa/base/tsa_model.py:834: ValueWarning: No supported index is available. Prediction results will be given with an integer index beginning at `start`.\n",
      "  return get_prediction_index(\n"
     ]
    }
   ],
   "source": [
    "# make forecasts\n",
    "y1_pred = model.predict(y1_test.shape[0])  # predict N steps into the future"
   ]
  },
  {
   "cell_type": "code",
   "execution_count": 29,
   "id": "82dc742d",
   "metadata": {},
   "outputs": [
    {
     "name": "stdout",
     "output_type": "stream",
     "text": [
      "MAPE: 0.768867594013641\n"
     ]
    }
   ],
   "source": [
    "# APE = ABS((actual - predicted) / actual)\n",
    "APE_y1 = abs( (y1_test.values - y1_pred.values) / y1_test.values) # ma: moving average model\n",
    "\n",
    "# MEAN(APE)\n",
    "mAPE_y1 = np.mean(APE_y1)\n",
    "print('MAPE: '+str(mAPE_y1))"
   ]
  },
  {
   "cell_type": "code",
   "execution_count": 22,
   "id": "4403197e",
   "metadata": {
    "scrolled": false
   },
   "outputs": [
    {
     "data": {
      "image/png": "[encoded data removed]",
      "text/plain": [
       "<Figure size 640x480 with 1 Axes>"
      ]
     },
     "metadata": {},
     "output_type": "display_data"
    }
   ],
   "source": [
    "# predicted-vs-actual scatterplot\n",
    "fig, ax = plt.subplots()\n",
    "ax.scatter(y1_test.values, y1_pred.values)\n",
    "plt.xlabel(\"predicted values\")\n",
    "plt.ylabel(\"original values\")\n",
    "ax.axline((1,1), slope=1, color = 'red')\n",
    "plt.show()"
   ]
  },
  {
   "cell_type": "markdown",
   "id": "c1ea23c9",
   "metadata": {},
   "source": [
    "### 5.5.2 Apply auto_arima() for multiple timeseries<a id='5.5.2'></a>"
   ]
  },
  {
   "cell_type": "code",
   "execution_count": 33,
   "id": "e9c7841a",
   "metadata": {
    "scrolled": true
   },
   "outputs": [
    {
     "name": "stdout",
     "output_type": "stream",
     "text": [
      "Performing stepwise search to minimize aic\n",
      " ARIMA(0,0,0)(1,0,1)[7] intercept   : AIC=7891.125, Time=1.35 sec\n",
      " ARIMA(0,0,0)(0,0,0)[7] intercept   : AIC=8089.233, Time=0.03 sec\n",
      " ARIMA(1,0,0)(1,0,0)[7] intercept   : AIC=8038.275, Time=0.52 sec\n",
      " ARIMA(0,0,1)(0,0,1)[7] intercept   : AIC=8048.556, Time=0.36 sec\n",
      " ARIMA(0,0,0)(0,0,0)[7]             : AIC=9526.536, Time=0.02 sec\n",
      " ARIMA(0,0,0)(0,0,1)[7] intercept   : AIC=8059.133, Time=0.17 sec\n",
      " ARIMA(0,0,0)(1,0,0)[7] intercept   : AIC=8047.737, Time=0.29 sec\n",
      " ARIMA(0,0,0)(2,0,1)[7] intercept   : AIC=7898.131, Time=2.91 sec\n",
      " ARIMA(0,0,0)(1,0,2)[7] intercept   : AIC=7891.691, Time=3.17 sec\n",
      " ARIMA(0,0,0)(0,0,2)[7] intercept   : AIC=8018.471, Time=0.45 sec\n",
      " ARIMA(0,0,0)(2,0,0)[7] intercept   : AIC=7992.324, Time=0.63 sec\n",
      " ARIMA(0,0,0)(2,0,2)[7] intercept   : AIC=7895.121, Time=2.93 sec\n",
      " ARIMA(1,0,0)(1,0,1)[7] intercept   : AIC=7892.120, Time=1.78 sec\n",
      " ARIMA(0,0,1)(1,0,1)[7] intercept   : AIC=7892.113, Time=1.86 sec\n",
      " ARIMA(1,0,1)(1,0,1)[7] intercept   : AIC=7892.662, Time=2.38 sec\n",
      " ARIMA(0,0,0)(1,0,1)[7]             : AIC=7913.798, Time=0.76 sec\n",
      "\n",
      "Best model:  ARIMA(0,0,0)(1,0,1)[7] intercept\n",
      "Total fit time: 19.658 seconds\n",
      "1,AUTOMOTIVE MAPE: 0.768867594013641\n",
      " ARIMA(0,0,0)(0,0,0)[0]             : AIC=-35191.225, Time=0.12 sec\n",
      "Total fit time: 0.117 seconds\n",
      "1,BABY CARE MAPE: nan\n",
      "Performing stepwise search to minimize aic\n"
     ]
    },
    {
     "name": "stderr",
     "output_type": "stream",
     "text": [
      "/opt/anaconda3/lib/python3.9/site-packages/statsmodels/tsa/base/tsa_model.py:834: ValueWarning: No supported index is available. Prediction results will be given with an integer index beginning at `start`.\n",
      "  return get_prediction_index(\n",
      "/opt/anaconda3/lib/python3.9/site-packages/pmdarima/arima/auto.py:444: UserWarning: Input time-series is completely constant; returning a (0, 0, 0) ARMA.\n",
      "  warnings.warn('Input time-series is completely constant; '\n",
      "/opt/anaconda3/lib/python3.9/site-packages/statsmodels/tsa/base/tsa_model.py:834: ValueWarning: No supported index is available. Prediction results will be given with an integer index beginning at `start`.\n",
      "  return get_prediction_index(\n",
      "/var/folders/b_/sb7704715rsddlq6wbr7j61r0000gn/T/ipykernel_73616/2599661758.py:23: RuntimeWarning: invalid value encountered in true_divide\n",
      "  APE_y = abs( (y_test.values - y_pred.values) / y_test.values)\n"
     ]
    },
    {
     "name": "stdout",
     "output_type": "stream",
     "text": [
      " ARIMA(0,0,0)(1,0,1)[7] intercept   : AIC=6693.970, Time=1.41 sec\n",
      " ARIMA(0,0,0)(0,0,0)[7] intercept   : AIC=6831.610, Time=0.03 sec\n",
      " ARIMA(1,0,0)(1,0,0)[7] intercept   : AIC=6757.444, Time=0.42 sec\n",
      " ARIMA(0,0,1)(0,0,1)[7] intercept   : AIC=6769.921, Time=0.31 sec\n",
      " ARIMA(0,0,0)(0,0,0)[7]             : AIC=8424.460, Time=0.02 sec\n",
      " ARIMA(0,0,0)(0,0,1)[7] intercept   : AIC=6789.905, Time=0.19 sec\n",
      " ARIMA(0,0,0)(1,0,0)[7] intercept   : AIC=6779.213, Time=0.32 sec\n",
      " ARIMA(0,0,0)(2,0,1)[7] intercept   : AIC=6692.685, Time=2.56 sec\n",
      " ARIMA(0,0,0)(2,0,0)[7] intercept   : AIC=6755.073, Time=0.63 sec\n",
      " ARIMA(0,0,0)(2,0,2)[7] intercept   : AIC=6694.778, Time=4.02 sec\n",
      " ARIMA(0,0,0)(1,0,2)[7] intercept   : AIC=6692.892, Time=1.65 sec\n",
      " ARIMA(1,0,0)(2,0,1)[7] intercept   : AIC=6679.573, Time=3.74 sec\n",
      " ARIMA(1,0,0)(1,0,1)[7] intercept   : AIC=6680.009, Time=1.84 sec\n",
      " ARIMA(1,0,0)(2,0,0)[7] intercept   : AIC=6736.547, Time=1.09 sec\n",
      " ARIMA(1,0,0)(2,0,2)[7] intercept   : AIC=6681.414, Time=4.10 sec\n",
      " ARIMA(1,0,0)(1,0,2)[7] intercept   : AIC=6679.676, Time=3.48 sec\n",
      " ARIMA(2,0,0)(2,0,1)[7] intercept   : AIC=6674.991, Time=3.68 sec\n",
      " ARIMA(2,0,0)(1,0,1)[7] intercept   : AIC=6675.329, Time=2.11 sec\n",
      " ARIMA(2,0,0)(2,0,0)[7] intercept   : AIC=6728.996, Time=1.13 sec\n",
      " ARIMA(2,0,0)(2,0,2)[7] intercept   : AIC=6676.949, Time=4.42 sec\n",
      " ARIMA(2,0,0)(1,0,0)[7] intercept   : AIC=6746.168, Time=0.66 sec\n",
      " ARIMA(2,0,0)(1,0,2)[7] intercept   : AIC=6675.076, Time=4.70 sec\n",
      " ARIMA(3,0,0)(2,0,1)[7] intercept   : AIC=6671.452, Time=5.52 sec\n",
      " ARIMA(3,0,0)(1,0,1)[7] intercept   : AIC=6671.616, Time=2.41 sec\n",
      " ARIMA(3,0,0)(2,0,0)[7] intercept   : AIC=6721.839, Time=1.75 sec\n",
      " ARIMA(3,0,0)(2,0,2)[7] intercept   : AIC=6673.380, Time=6.46 sec\n",
      " ARIMA(3,0,0)(1,0,0)[7] intercept   : AIC=6737.125, Time=0.77 sec\n",
      " ARIMA(3,0,0)(1,0,2)[7] intercept   : AIC=6671.525, Time=4.79 sec\n",
      " ARIMA(4,0,0)(2,0,1)[7] intercept   : AIC=6667.202, Time=6.25 sec\n",
      " ARIMA(4,0,0)(1,0,1)[7] intercept   : AIC=6667.053, Time=3.81 sec\n",
      " ARIMA(4,0,0)(0,0,1)[7] intercept   : AIC=6733.335, Time=0.60 sec\n",
      " ARIMA(4,0,0)(1,0,0)[7] intercept   : AIC=6728.365, Time=0.97 sec\n",
      " ARIMA(4,0,0)(1,0,2)[7] intercept   : AIC=6667.266, Time=4.26 sec\n",
      " ARIMA(4,0,0)(0,0,0)[7] intercept   : AIC=6756.203, Time=0.23 sec\n",
      " ARIMA(4,0,0)(0,0,2)[7] intercept   : AIC=6720.855, Time=1.31 sec\n",
      " ARIMA(4,0,0)(2,0,0)[7] intercept   : AIC=6713.940, Time=2.01 sec\n",
      " ARIMA(4,0,0)(2,0,2)[7] intercept   : AIC=6669.061, Time=7.31 sec\n",
      " ARIMA(5,0,0)(1,0,1)[7] intercept   : AIC=6668.958, Time=3.57 sec\n",
      " ARIMA(4,0,1)(1,0,1)[7] intercept   : AIC=6664.973, Time=3.93 sec\n",
      " ARIMA(4,0,1)(0,0,1)[7] intercept   : AIC=6695.687, Time=3.35 sec\n"
     ]
    },
    {
     "name": "stderr",
     "output_type": "stream",
     "text": [
      "/opt/anaconda3/lib/python3.9/site-packages/statsmodels/tsa/statespace/sarimax.py:1906: RuntimeWarning: invalid value encountered in reciprocal\n",
      "  return np.roots(self.polynomial_reduced_ma)**-1\n"
     ]
    },
    {
     "name": "stdout",
     "output_type": "stream",
     "text": [
      " ARIMA(4,0,1)(1,0,0)[7] intercept   : AIC=6699.896, Time=3.48 sec\n",
      " ARIMA(4,0,1)(2,0,1)[7] intercept   : AIC=6666.602, Time=7.23 sec\n",
      " ARIMA(4,0,1)(1,0,2)[7] intercept   : AIC=6668.013, Time=5.65 sec\n"
     ]
    },
    {
     "name": "stderr",
     "output_type": "stream",
     "text": [
      "/opt/anaconda3/lib/python3.9/site-packages/statsmodels/tsa/statespace/sarimax.py:1906: RuntimeWarning: invalid value encountered in reciprocal\n",
      "  return np.roots(self.polynomial_reduced_ma)**-1\n"
     ]
    },
    {
     "name": "stdout",
     "output_type": "stream",
     "text": [
      " ARIMA(4,0,1)(0,0,0)[7] intercept   : AIC=6704.146, Time=2.03 sec\n",
      " ARIMA(4,0,1)(0,0,2)[7] intercept   : AIC=6693.701, Time=5.73 sec\n"
     ]
    },
    {
     "name": "stderr",
     "output_type": "stream",
     "text": [
      "/opt/anaconda3/lib/python3.9/site-packages/statsmodels/tsa/statespace/sarimax.py:1906: RuntimeWarning: invalid value encountered in reciprocal\n",
      "  return np.roots(self.polynomial_reduced_ma)**-1\n"
     ]
    },
    {
     "name": "stdout",
     "output_type": "stream",
     "text": [
      " ARIMA(4,0,1)(2,0,0)[7] intercept   : AIC=6698.925, Time=7.01 sec\n",
      " ARIMA(4,0,1)(2,0,2)[7] intercept   : AIC=6671.129, Time=8.02 sec\n",
      " ARIMA(3,0,1)(1,0,1)[7] intercept   : AIC=6679.201, Time=2.82 sec\n",
      " ARIMA(5,0,1)(1,0,1)[7] intercept   : AIC=6670.978, Time=3.77 sec\n",
      " ARIMA(4,0,2)(1,0,1)[7] intercept   : AIC=6672.819, Time=4.21 sec\n",
      " ARIMA(3,0,2)(1,0,1)[7] intercept   : AIC=inf, Time=3.55 sec\n",
      " ARIMA(5,0,2)(1,0,1)[7] intercept   : AIC=6669.335, Time=4.56 sec\n",
      " ARIMA(4,0,1)(1,0,1)[7]             : AIC=inf, Time=4.40 sec\n",
      "\n",
      "Best model:  ARIMA(4,0,1)(1,0,1)[7] intercept\n",
      "Total fit time: 164.332 seconds\n",
      "1,BEAUTY MAPE: 0.4708783062666685\n",
      "Performing stepwise search to minimize aic\n"
     ]
    },
    {
     "name": "stderr",
     "output_type": "stream",
     "text": [
      "/opt/anaconda3/lib/python3.9/site-packages/statsmodels/tsa/base/tsa_model.py:834: ValueWarning: No supported index is available. Prediction results will be given with an integer index beginning at `start`.\n",
      "  return get_prediction_index(\n"
     ]
    },
    {
     "name": "stdout",
     "output_type": "stream",
     "text": [
      " ARIMA(0,0,0)(1,0,1)[7] intercept   : AIC=inf, Time=1.50 sec\n",
      " ARIMA(0,0,0)(0,0,0)[7] intercept   : AIC=26602.090, Time=0.03 sec\n",
      " ARIMA(1,0,0)(1,0,0)[7] intercept   : AIC=24676.514, Time=1.56 sec\n",
      " ARIMA(0,0,1)(0,0,1)[7] intercept   : AIC=25500.103, Time=0.71 sec\n",
      " ARIMA(0,0,0)(0,0,0)[7]             : AIC=29513.255, Time=0.02 sec\n",
      " ARIMA(1,0,0)(0,0,0)[7] intercept   : AIC=25945.898, Time=0.08 sec\n"
     ]
    },
    {
     "name": "stderr",
     "output_type": "stream",
     "text": [
      "/opt/anaconda3/lib/python3.9/site-packages/statsmodels/tsa/statespace/sarimax.py:1899: RuntimeWarning: invalid value encountered in reciprocal\n",
      "  return np.roots(self.polynomial_reduced_ar)**-1\n"
     ]
    },
    {
     "name": "stdout",
     "output_type": "stream",
     "text": [
      " ARIMA(1,0,0)(2,0,0)[7] intercept   : AIC=24465.995, Time=3.11 sec\n",
      " ARIMA(1,0,0)(2,0,1)[7] intercept   : AIC=24684.621, Time=3.73 sec\n",
      " ARIMA(1,0,0)(1,0,1)[7] intercept   : AIC=24705.027, Time=1.85 sec\n",
      " ARIMA(0,0,0)(2,0,0)[7] intercept   : AIC=24818.273, Time=2.93 sec\n",
      " ARIMA(2,0,0)(2,0,0)[7] intercept   : AIC=24435.842, Time=3.87 sec\n",
      " ARIMA(2,0,0)(1,0,0)[7] intercept   : AIC=24645.745, Time=2.18 sec\n",
      " ARIMA(2,0,0)(2,0,1)[7] intercept   : AIC=24556.708, Time=4.38 sec\n",
      " ARIMA(2,0,0)(1,0,1)[7] intercept   : AIC=24554.235, Time=2.39 sec\n",
      " ARIMA(3,0,0)(2,0,0)[7] intercept   : AIC=24429.624, Time=5.34 sec\n",
      " ARIMA(3,0,0)(1,0,0)[7] intercept   : AIC=24645.016, Time=2.43 sec\n",
      " ARIMA(3,0,0)(2,0,1)[7] intercept   : AIC=24505.014, Time=5.97 sec\n",
      " ARIMA(3,0,0)(1,0,1)[7] intercept   : AIC=24511.207, Time=2.83 sec\n",
      " ARIMA(4,0,0)(2,0,0)[7] intercept   : AIC=24431.336, Time=6.38 sec\n"
     ]
    },
    {
     "name": "stderr",
     "output_type": "stream",
     "text": [
      "/opt/anaconda3/lib/python3.9/site-packages/statsmodels/tsa/statespace/sarimax.py:1906: RuntimeWarning: invalid value encountered in reciprocal\n",
      "  return np.roots(self.polynomial_reduced_ma)**-1\n"
     ]
    },
    {
     "name": "stdout",
     "output_type": "stream",
     "text": [
      " ARIMA(3,0,1)(2,0,0)[7] intercept   : AIC=24440.819, Time=6.69 sec\n"
     ]
    },
    {
     "name": "stderr",
     "output_type": "stream",
     "text": [
      "/opt/anaconda3/lib/python3.9/site-packages/statsmodels/tsa/statespace/sarimax.py:1906: RuntimeWarning: invalid value encountered in reciprocal\n",
      "  return np.roots(self.polynomial_reduced_ma)**-1\n"
     ]
    },
    {
     "name": "stdout",
     "output_type": "stream",
     "text": [
      " ARIMA(2,0,1)(2,0,0)[7] intercept   : AIC=24456.086, Time=4.30 sec\n"
     ]
    },
    {
     "name": "stderr",
     "output_type": "stream",
     "text": [
      "/opt/anaconda3/lib/python3.9/site-packages/statsmodels/tsa/statespace/sarimax.py:1906: RuntimeWarning: invalid value encountered in reciprocal\n",
      "  return np.roots(self.polynomial_reduced_ma)**-1\n"
     ]
    },
    {
     "name": "stdout",
     "output_type": "stream",
     "text": [
      " ARIMA(4,0,1)(2,0,0)[7] intercept   : AIC=24474.997, Time=7.47 sec\n",
      " ARIMA(3,0,0)(2,0,0)[7]             : AIC=inf, Time=2.86 sec\n",
      "\n",
      "Best model:  ARIMA(3,0,0)(2,0,0)[7] intercept\n",
      "Total fit time: 72.670 seconds\n",
      "1,BEVERAGES MAPE: 0.2110637529346851\n",
      "Performing stepwise search to minimize aic\n"
     ]
    },
    {
     "name": "stderr",
     "output_type": "stream",
     "text": [
      "/opt/anaconda3/lib/python3.9/site-packages/statsmodels/tsa/base/tsa_model.py:834: ValueWarning: No supported index is available. Prediction results will be given with an integer index beginning at `start`.\n",
      "  return get_prediction_index(\n"
     ]
    },
    {
     "name": "stdout",
     "output_type": "stream",
     "text": [
      " ARIMA(0,0,0)(1,0,1)[7] intercept   : AIC=2248.954, Time=0.80 sec\n",
      " ARIMA(0,0,0)(0,0,0)[7] intercept   : AIC=2667.661, Time=0.13 sec\n",
      " ARIMA(1,0,0)(1,0,0)[7] intercept   : AIC=2327.159, Time=0.33 sec\n",
      " ARIMA(0,0,1)(0,0,1)[7] intercept   : AIC=2378.913, Time=0.40 sec\n",
      " ARIMA(0,0,0)(0,0,0)[7]             : AIC=2754.464, Time=0.11 sec\n",
      " ARIMA(0,0,0)(0,0,1)[7] intercept   : AIC=2551.332, Time=0.47 sec\n",
      " ARIMA(0,0,0)(1,0,0)[7] intercept   : AIC=2506.036, Time=0.22 sec\n",
      " ARIMA(0,0,0)(2,0,1)[7] intercept   : AIC=2243.278, Time=1.37 sec\n",
      " ARIMA(0,0,0)(2,0,0)[7] intercept   : AIC=2430.391, Time=0.63 sec\n",
      " ARIMA(0,0,0)(2,0,2)[7] intercept   : AIC=2215.018, Time=3.95 sec\n",
      " ARIMA(0,0,0)(1,0,2)[7] intercept   : AIC=2240.137, Time=1.73 sec\n",
      " ARIMA(1,0,0)(2,0,2)[7] intercept   : AIC=2168.902, Time=2.25 sec\n",
      " ARIMA(1,0,0)(1,0,2)[7] intercept   : AIC=2159.719, Time=2.54 sec\n"
     ]
    },
    {
     "name": "stderr",
     "output_type": "stream",
     "text": [
      "/opt/anaconda3/lib/python3.9/site-packages/statsmodels/tsa/statespace/sarimax.py:1899: RuntimeWarning: invalid value encountered in reciprocal\n",
      "  return np.roots(self.polynomial_reduced_ar)**-1\n"
     ]
    },
    {
     "name": "stdout",
     "output_type": "stream",
     "text": [
      " ARIMA(1,0,0)(0,0,2)[7] intercept   : AIC=2328.178, Time=0.82 sec\n",
      " ARIMA(1,0,0)(1,0,1)[7] intercept   : AIC=2164.903, Time=1.17 sec\n"
     ]
    },
    {
     "name": "stderr",
     "output_type": "stream",
     "text": [
      "/opt/anaconda3/lib/python3.9/site-packages/statsmodels/tsa/statespace/sarimax.py:1899: RuntimeWarning: invalid value encountered in reciprocal\n",
      "  return np.roots(self.polynomial_reduced_ar)**-1\n"
     ]
    },
    {
     "name": "stdout",
     "output_type": "stream",
     "text": [
      " ARIMA(1,0,0)(0,0,1)[7] intercept   : AIC=2334.755, Time=0.65 sec\n",
      " ARIMA(1,0,0)(2,0,1)[7] intercept   : AIC=2161.582, Time=2.37 sec\n",
      " ARIMA(2,0,0)(1,0,2)[7] intercept   : AIC=2161.174, Time=2.90 sec\n",
      " ARIMA(1,0,1)(1,0,2)[7] intercept   : AIC=inf, Time=3.78 sec\n",
      " ARIMA(0,0,1)(1,0,2)[7] intercept   : AIC=2159.761, Time=2.18 sec\n",
      " ARIMA(2,0,1)(1,0,2)[7] intercept   : AIC=2148.474, Time=4.48 sec\n",
      " ARIMA(2,0,1)(0,0,2)[7] intercept   : AIC=2079.141, Time=4.02 sec\n",
      " ARIMA(2,0,1)(0,0,1)[7] intercept   : AIC=2078.243, Time=2.48 sec\n"
     ]
    },
    {
     "name": "stderr",
     "output_type": "stream",
     "text": [
      "/opt/anaconda3/lib/python3.9/site-packages/statsmodels/tsa/statespace/sarimax.py:1906: RuntimeWarning: invalid value encountered in reciprocal\n",
      "  return np.roots(self.polynomial_reduced_ma)**-1\n"
     ]
    },
    {
     "name": "stdout",
     "output_type": "stream",
     "text": [
      " ARIMA(2,0,1)(0,0,0)[7] intercept   : AIC=2076.607, Time=1.17 sec\n"
     ]
    },
    {
     "name": "stderr",
     "output_type": "stream",
     "text": [
      "/opt/anaconda3/lib/python3.9/site-packages/statsmodels/tsa/statespace/sarimax.py:1906: RuntimeWarning: invalid value encountered in reciprocal\n",
      "  return np.roots(self.polynomial_reduced_ma)**-1\n"
     ]
    },
    {
     "name": "stdout",
     "output_type": "stream",
     "text": [
      " ARIMA(2,0,1)(1,0,0)[7] intercept   : AIC=2078.265, Time=2.97 sec\n",
      " ARIMA(2,0,1)(1,0,1)[7] intercept   : AIC=2113.360, Time=5.25 sec\n"
     ]
    },
    {
     "name": "stderr",
     "output_type": "stream",
     "text": [
      "/opt/anaconda3/lib/python3.9/site-packages/statsmodels/tsa/statespace/sarimax.py:1899: RuntimeWarning: invalid value encountered in reciprocal\n",
      "  return np.roots(self.polynomial_reduced_ar)**-1\n",
      "/opt/anaconda3/lib/python3.9/site-packages/statsmodels/tsa/statespace/sarimax.py:1906: RuntimeWarning: invalid value encountered in reciprocal\n",
      "  return np.roots(self.polynomial_reduced_ma)**-1\n"
     ]
    },
    {
     "name": "stdout",
     "output_type": "stream",
     "text": [
      " ARIMA(1,0,1)(0,0,0)[7] intercept   : AIC=2092.533, Time=0.90 sec\n",
      " ARIMA(2,0,0)(0,0,0)[7] intercept   : AIC=2321.085, Time=0.19 sec\n"
     ]
    },
    {
     "name": "stderr",
     "output_type": "stream",
     "text": [
      "/opt/anaconda3/lib/python3.9/site-packages/statsmodels/tsa/statespace/sarimax.py:1906: RuntimeWarning: invalid value encountered in reciprocal\n",
      "  return np.roots(self.polynomial_reduced_ma)**-1\n"
     ]
    },
    {
     "name": "stdout",
     "output_type": "stream",
     "text": [
      " ARIMA(3,0,1)(0,0,0)[7] intercept   : AIC=2073.598, Time=6.20 sec\n"
     ]
    },
    {
     "name": "stderr",
     "output_type": "stream",
     "text": [
      "/opt/anaconda3/lib/python3.9/site-packages/statsmodels/tsa/statespace/sarimax.py:1906: RuntimeWarning: invalid value encountered in reciprocal\n",
      "  return np.roots(self.polynomial_reduced_ma)**-1\n"
     ]
    },
    {
     "name": "stdout",
     "output_type": "stream",
     "text": [
      " ARIMA(3,0,1)(1,0,0)[7] intercept   : AIC=2074.785, Time=10.39 sec\n",
      " ARIMA(3,0,1)(0,0,1)[7] intercept   : AIC=2074.718, Time=6.68 sec\n",
      " ARIMA(3,0,1)(1,0,1)[7] intercept   : AIC=inf, Time=3.41 sec\n",
      " ARIMA(3,0,0)(0,0,0)[7] intercept   : AIC=2184.636, Time=0.29 sec\n"
     ]
    },
    {
     "name": "stderr",
     "output_type": "stream",
     "text": [
      "/opt/anaconda3/lib/python3.9/site-packages/statsmodels/tsa/statespace/sarimax.py:1906: RuntimeWarning: invalid value encountered in reciprocal\n",
      "  return np.roots(self.polynomial_reduced_ma)**-1\n"
     ]
    },
    {
     "name": "stdout",
     "output_type": "stream",
     "text": [
      " ARIMA(4,0,1)(0,0,0)[7] intercept   : AIC=2051.795, Time=2.22 sec\n"
     ]
    },
    {
     "name": "stderr",
     "output_type": "stream",
     "text": [
      "/opt/anaconda3/lib/python3.9/site-packages/statsmodels/tsa/statespace/sarimax.py:1906: RuntimeWarning: invalid value encountered in reciprocal\n",
      "  return np.roots(self.polynomial_reduced_ma)**-1\n"
     ]
    },
    {
     "name": "stdout",
     "output_type": "stream",
     "text": [
      " ARIMA(4,0,1)(1,0,0)[7] intercept   : AIC=2072.012, Time=4.00 sec\n",
      " ARIMA(4,0,1)(0,0,1)[7] intercept   : AIC=2060.735, Time=9.53 sec\n",
      " ARIMA(4,0,1)(1,0,1)[7] intercept   : AIC=2078.208, Time=5.92 sec\n",
      " ARIMA(4,0,0)(0,0,0)[7] intercept   : AIC=2139.881, Time=0.34 sec\n"
     ]
    },
    {
     "name": "stderr",
     "output_type": "stream",
     "text": [
      "/opt/anaconda3/lib/python3.9/site-packages/statsmodels/tsa/statespace/sarimax.py:1906: RuntimeWarning: invalid value encountered in reciprocal\n",
      "  return np.roots(self.polynomial_reduced_ma)**-1\n"
     ]
    },
    {
     "name": "stdout",
     "output_type": "stream",
     "text": [
      " ARIMA(5,0,1)(0,0,0)[7] intercept   : AIC=2136.696, Time=1.99 sec\n",
      " ARIMA(4,0,2)(0,0,0)[7] intercept   : AIC=2070.464, Time=2.21 sec\n"
     ]
    },
    {
     "name": "stderr",
     "output_type": "stream",
     "text": [
      "/opt/anaconda3/lib/python3.9/site-packages/statsmodels/tsa/statespace/sarimax.py:1899: RuntimeWarning: invalid value encountered in reciprocal\n",
      "  return np.roots(self.polynomial_reduced_ar)**-1\n"
     ]
    },
    {
     "name": "stdout",
     "output_type": "stream",
     "text": [
      " ARIMA(3,0,2)(0,0,0)[7] intercept   : AIC=2069.363, Time=1.63 sec\n",
      " ARIMA(5,0,0)(0,0,0)[7] intercept   : AIC=2141.376, Time=0.45 sec\n",
      " ARIMA(5,0,2)(0,0,0)[7] intercept   : AIC=2055.641, Time=2.58 sec\n"
     ]
    },
    {
     "name": "stderr",
     "output_type": "stream",
     "text": [
      "/opt/anaconda3/lib/python3.9/site-packages/statsmodels/tsa/statespace/sarimax.py:1906: RuntimeWarning: invalid value encountered in reciprocal\n",
      "  return np.roots(self.polynomial_reduced_ma)**-1\n"
     ]
    },
    {
     "name": "stdout",
     "output_type": "stream",
     "text": [
      " ARIMA(4,0,1)(0,0,0)[7]             : AIC=2050.581, Time=0.89 sec\n"
     ]
    },
    {
     "name": "stderr",
     "output_type": "stream",
     "text": [
      "/opt/anaconda3/lib/python3.9/site-packages/statsmodels/tsa/statespace/sarimax.py:1906: RuntimeWarning: invalid value encountered in reciprocal\n",
      "  return np.roots(self.polynomial_reduced_ma)**-1\n"
     ]
    },
    {
     "name": "stdout",
     "output_type": "stream",
     "text": [
      " ARIMA(4,0,1)(1,0,0)[7]             : AIC=2051.906, Time=1.74 sec\n",
      " ARIMA(4,0,1)(0,0,1)[7]             : AIC=2051.868, Time=1.58 sec\n",
      " ARIMA(4,0,1)(1,0,1)[7]             : AIC=2080.855, Time=2.38 sec\n"
     ]
    },
    {
     "name": "stderr",
     "output_type": "stream",
     "text": [
      "/opt/anaconda3/lib/python3.9/site-packages/statsmodels/tsa/statespace/sarimax.py:1906: RuntimeWarning: invalid value encountered in reciprocal\n",
      "  return np.roots(self.polynomial_reduced_ma)**-1\n"
     ]
    },
    {
     "name": "stdout",
     "output_type": "stream",
     "text": [
      " ARIMA(3,0,1)(0,0,0)[7]             : AIC=2072.419, Time=0.52 sec\n",
      " ARIMA(4,0,0)(0,0,0)[7]             : AIC=2147.710, Time=0.25 sec\n"
     ]
    },
    {
     "name": "stderr",
     "output_type": "stream",
     "text": [
      "/opt/anaconda3/lib/python3.9/site-packages/statsmodels/tsa/statespace/sarimax.py:1906: RuntimeWarning: invalid value encountered in reciprocal\n",
      "  return np.roots(self.polynomial_reduced_ma)**-1\n"
     ]
    },
    {
     "name": "stdout",
     "output_type": "stream",
     "text": [
      " ARIMA(5,0,1)(0,0,0)[7]             : AIC=2144.265, Time=1.33 sec\n",
      " ARIMA(4,0,2)(0,0,0)[7]             : AIC=2069.173, Time=1.05 sec\n",
      " ARIMA(3,0,0)(0,0,0)[7]             : AIC=2196.502, Time=0.17 sec\n"
     ]
    },
    {
     "name": "stderr",
     "output_type": "stream",
     "text": [
      "/opt/anaconda3/lib/python3.9/site-packages/statsmodels/tsa/statespace/sarimax.py:1899: RuntimeWarning: invalid value encountered in reciprocal\n",
      "  return np.roots(self.polynomial_reduced_ar)**-1\n"
     ]
    },
    {
     "name": "stdout",
     "output_type": "stream",
     "text": [
      " ARIMA(3,0,2)(0,0,0)[7]             : AIC=2068.164, Time=0.67 sec\n",
      " ARIMA(5,0,0)(0,0,0)[7]             : AIC=2148.812, Time=0.26 sec\n",
      " ARIMA(5,0,2)(0,0,0)[7]             : AIC=2053.480, Time=1.60 sec\n",
      "\n",
      "Best model:  ARIMA(4,0,1)(0,0,0)[7]          \n",
      "Total fit time: 120.609 seconds\n",
      "1,BOOKS MAPE: inf\n",
      "Performing stepwise search to minimize aic\n"
     ]
    },
    {
     "name": "stderr",
     "output_type": "stream",
     "text": [
      "/opt/anaconda3/lib/python3.9/site-packages/statsmodels/tsa/base/tsa_model.py:834: ValueWarning: No supported index is available. Prediction results will be given with an integer index beginning at `start`.\n",
      "  return get_prediction_index(\n",
      "/var/folders/b_/sb7704715rsddlq6wbr7j61r0000gn/T/ipykernel_73616/2599661758.py:23: RuntimeWarning: divide by zero encountered in true_divide\n",
      "  APE_y = abs( (y_test.values - y_pred.values) / y_test.values)\n"
     ]
    },
    {
     "name": "stdout",
     "output_type": "stream",
     "text": [
      " ARIMA(0,0,0)(1,0,1)[7] intercept   : AIC=inf, Time=1.43 sec\n",
      " ARIMA(0,0,0)(0,0,0)[7] intercept   : AIC=20365.258, Time=0.03 sec\n",
      " ARIMA(1,0,0)(1,0,0)[7] intercept   : AIC=19096.008, Time=1.70 sec\n",
      " ARIMA(0,0,1)(0,0,1)[7] intercept   : AIC=19707.464, Time=0.55 sec\n",
      " ARIMA(0,0,0)(0,0,0)[7]             : AIC=24240.221, Time=0.02 sec\n",
      " ARIMA(1,0,0)(0,0,0)[7] intercept   : AIC=20324.706, Time=0.06 sec\n"
     ]
    },
    {
     "name": "stderr",
     "output_type": "stream",
     "text": [
      "/opt/anaconda3/lib/python3.9/site-packages/statsmodels/tsa/statespace/sarimax.py:1899: RuntimeWarning: invalid value encountered in reciprocal\n",
      "  return np.roots(self.polynomial_reduced_ar)**-1\n"
     ]
    },
    {
     "name": "stdout",
     "output_type": "stream",
     "text": [
      " ARIMA(1,0,0)(2,0,0)[7] intercept   : AIC=19723.221, Time=3.78 sec\n",
      " ARIMA(1,0,0)(1,0,1)[7] intercept   : AIC=inf, Time=2.01 sec\n"
     ]
    },
    {
     "name": "stderr",
     "output_type": "stream",
     "text": [
      "/opt/anaconda3/lib/python3.9/site-packages/statsmodels/tsa/statespace/sarimax.py:1899: RuntimeWarning: invalid value encountered in reciprocal\n",
      "  return np.roots(self.polynomial_reduced_ar)**-1\n"
     ]
    },
    {
     "name": "stdout",
     "output_type": "stream",
     "text": [
      " ARIMA(1,0,0)(0,0,1)[7] intercept   : AIC=19696.514, Time=0.60 sec\n",
      " ARIMA(1,0,0)(2,0,1)[7] intercept   : AIC=19256.245, Time=4.90 sec\n",
      " ARIMA(0,0,0)(1,0,0)[7] intercept   : AIC=19165.197, Time=0.85 sec\n",
      " ARIMA(2,0,0)(1,0,0)[7] intercept   : AIC=19084.393, Time=2.52 sec\n",
      " ARIMA(2,0,0)(0,0,0)[7] intercept   : AIC=20277.709, Time=0.14 sec\n",
      " ARIMA(2,0,0)(2,0,0)[7] intercept   : AIC=18914.002, Time=3.96 sec\n",
      " ARIMA(2,0,0)(2,0,1)[7] intercept   : AIC=inf, Time=5.23 sec\n",
      " ARIMA(2,0,0)(1,0,1)[7] intercept   : AIC=19478.093, Time=2.44 sec\n",
      " ARIMA(3,0,0)(2,0,0)[7] intercept   : AIC=19470.119, Time=5.46 sec\n"
     ]
    },
    {
     "name": "stderr",
     "output_type": "stream",
     "text": [
      "/opt/anaconda3/lib/python3.9/site-packages/statsmodels/tsa/statespace/sarimax.py:1906: RuntimeWarning: invalid value encountered in reciprocal\n",
      "  return np.roots(self.polynomial_reduced_ma)**-1\n"
     ]
    },
    {
     "name": "stdout",
     "output_type": "stream",
     "text": [
      " ARIMA(2,0,1)(2,0,0)[7] intercept   : AIC=18943.675, Time=4.77 sec\n"
     ]
    },
    {
     "name": "stderr",
     "output_type": "stream",
     "text": [
      "/opt/anaconda3/lib/python3.9/site-packages/statsmodels/tsa/statespace/sarimax.py:1906: RuntimeWarning: invalid value encountered in reciprocal\n",
      "  return np.roots(self.polynomial_reduced_ma)**-1\n"
     ]
    },
    {
     "name": "stdout",
     "output_type": "stream",
     "text": [
      " ARIMA(1,0,1)(2,0,0)[7] intercept   : AIC=inf, Time=4.95 sec\n"
     ]
    },
    {
     "name": "stderr",
     "output_type": "stream",
     "text": [
      "/opt/anaconda3/lib/python3.9/site-packages/statsmodels/tsa/statespace/sarimax.py:1906: RuntimeWarning: invalid value encountered in reciprocal\n",
      "  return np.roots(self.polynomial_reduced_ma)**-1\n"
     ]
    },
    {
     "name": "stdout",
     "output_type": "stream",
     "text": [
      " ARIMA(3,0,1)(2,0,0)[7] intercept   : AIC=inf, Time=6.39 sec\n",
      " ARIMA(2,0,0)(2,0,0)[7]             : AIC=inf, Time=1.40 sec\n",
      "\n",
      "Best model:  ARIMA(2,0,0)(2,0,0)[7] intercept\n",
      "Total fit time: 53.238 seconds\n",
      "1,BREAD/BAKERY MAPE: 0.25569478383376376\n",
      "Performing stepwise search to minimize aic\n"
     ]
    },
    {
     "name": "stderr",
     "output_type": "stream",
     "text": [
      "/opt/anaconda3/lib/python3.9/site-packages/statsmodels/tsa/base/tsa_model.py:834: ValueWarning: No supported index is available. Prediction results will be given with an integer index beginning at `start`.\n",
      "  return get_prediction_index(\n"
     ]
    },
    {
     "name": "stdout",
     "output_type": "stream",
     "text": [
      " ARIMA(0,0,0)(1,0,1)[7] intercept   : AIC=16346.845, Time=1.59 sec\n",
      " ARIMA(0,0,0)(0,0,0)[7] intercept   : AIC=16377.277, Time=0.03 sec\n",
      " ARIMA(1,0,0)(1,0,0)[7] intercept   : AIC=16369.756, Time=0.67 sec\n",
      " ARIMA(0,0,1)(0,0,1)[7] intercept   : AIC=16370.685, Time=0.80 sec\n",
      " ARIMA(0,0,0)(0,0,0)[7]             : AIC=16517.794, Time=0.02 sec\n",
      " ARIMA(0,0,0)(0,0,1)[7] intercept   : AIC=16372.736, Time=0.28 sec\n",
      " ARIMA(0,0,0)(1,0,0)[7] intercept   : AIC=16372.036, Time=0.38 sec\n",
      " ARIMA(0,0,0)(2,0,1)[7] intercept   : AIC=16349.974, Time=3.90 sec\n",
      " ARIMA(0,0,0)(1,0,2)[7] intercept   : AIC=16348.781, Time=3.60 sec\n",
      " ARIMA(0,0,0)(0,0,2)[7] intercept   : AIC=16370.518, Time=0.75 sec\n",
      " ARIMA(0,0,0)(2,0,0)[7] intercept   : AIC=16369.042, Time=1.05 sec\n",
      " ARIMA(0,0,0)(2,0,2)[7] intercept   : AIC=inf, Time=4.02 sec\n",
      " ARIMA(1,0,0)(1,0,1)[7] intercept   : AIC=16347.047, Time=2.16 sec\n",
      " ARIMA(0,0,1)(1,0,1)[7] intercept   : AIC=16347.083, Time=2.30 sec\n",
      " ARIMA(1,0,1)(1,0,1)[7] intercept   : AIC=16350.683, Time=2.28 sec\n",
      " ARIMA(0,0,0)(1,0,1)[7]             : AIC=inf, Time=1.04 sec\n",
      "\n",
      "Best model:  ARIMA(0,0,0)(1,0,1)[7] intercept\n",
      "Total fit time: 24.913 seconds\n",
      "1,CELEBRATION MAPE: 1.465057879831523\n",
      "Performing stepwise search to minimize aic\n"
     ]
    },
    {
     "name": "stderr",
     "output_type": "stream",
     "text": [
      "/opt/anaconda3/lib/python3.9/site-packages/statsmodels/tsa/base/tsa_model.py:834: ValueWarning: No supported index is available. Prediction results will be given with an integer index beginning at `start`.\n",
      "  return get_prediction_index(\n"
     ]
    },
    {
     "name": "stdout",
     "output_type": "stream",
     "text": [
      " ARIMA(0,0,0)(1,0,1)[7] intercept   : AIC=inf, Time=3.17 sec\n",
      " ARIMA(0,0,0)(0,0,0)[7] intercept   : AIC=22593.392, Time=0.04 sec\n",
      " ARIMA(1,0,0)(1,0,0)[7] intercept   : AIC=21609.960, Time=1.64 sec\n",
      " ARIMA(0,0,1)(0,0,1)[7] intercept   : AIC=22075.709, Time=1.06 sec\n",
      " ARIMA(0,0,0)(0,0,0)[7]             : AIC=26365.656, Time=0.02 sec\n",
      " ARIMA(1,0,0)(0,0,0)[7] intercept   : AIC=22533.980, Time=0.08 sec\n"
     ]
    },
    {
     "name": "stderr",
     "output_type": "stream",
     "text": [
      "/opt/anaconda3/lib/python3.9/site-packages/statsmodels/tsa/statespace/sarimax.py:1899: RuntimeWarning: invalid value encountered in reciprocal\n",
      "  return np.roots(self.polynomial_reduced_ar)**-1\n"
     ]
    },
    {
     "name": "stdout",
     "output_type": "stream",
     "text": [
      " ARIMA(1,0,0)(2,0,0)[7] intercept   : AIC=21316.739, Time=4.04 sec\n",
      " ARIMA(1,0,0)(2,0,1)[7] intercept   : AIC=21686.205, Time=4.26 sec\n",
      " ARIMA(1,0,0)(1,0,1)[7] intercept   : AIC=21875.715, Time=1.88 sec\n",
      " ARIMA(0,0,0)(2,0,0)[7] intercept   : AIC=21485.821, Time=2.66 sec\n",
      " ARIMA(2,0,0)(2,0,0)[7] intercept   : AIC=21726.686, Time=3.76 sec\n"
     ]
    },
    {
     "name": "stderr",
     "output_type": "stream",
     "text": [
      "/opt/anaconda3/lib/python3.9/site-packages/statsmodels/tsa/statespace/sarimax.py:1906: RuntimeWarning: invalid value encountered in reciprocal\n",
      "  return np.roots(self.polynomial_reduced_ma)**-1\n"
     ]
    },
    {
     "name": "stdout",
     "output_type": "stream",
     "text": [
      " ARIMA(1,0,1)(2,0,0)[7] intercept   : AIC=inf, Time=3.99 sec\n"
     ]
    },
    {
     "name": "stderr",
     "output_type": "stream",
     "text": [
      "/opt/anaconda3/lib/python3.9/site-packages/statsmodels/tsa/statespace/sarimax.py:1906: RuntimeWarning: invalid value encountered in reciprocal\n",
      "  return np.roots(self.polynomial_reduced_ma)**-1\n"
     ]
    },
    {
     "name": "stdout",
     "output_type": "stream",
     "text": [
      " ARIMA(0,0,1)(2,0,0)[7] intercept   : AIC=21333.265, Time=2.77 sec\n"
     ]
    },
    {
     "name": "stderr",
     "output_type": "stream",
     "text": [
      "/opt/anaconda3/lib/python3.9/site-packages/statsmodels/tsa/statespace/sarimax.py:1906: RuntimeWarning: invalid value encountered in reciprocal\n",
      "  return np.roots(self.polynomial_reduced_ma)**-1\n"
     ]
    },
    {
     "name": "stdout",
     "output_type": "stream",
     "text": [
      " ARIMA(2,0,1)(2,0,0)[7] intercept   : AIC=inf, Time=4.35 sec\n",
      " ARIMA(1,0,0)(2,0,0)[7]             : AIC=inf, Time=1.39 sec\n",
      "\n",
      "Best model:  ARIMA(1,0,0)(2,0,0)[7] intercept\n",
      "Total fit time: 35.144 seconds\n",
      "1,CLEANING MAPE: 0.3470321117161983\n",
      "Performing stepwise search to minimize aic\n"
     ]
    },
    {
     "name": "stderr",
     "output_type": "stream",
     "text": [
      "/opt/anaconda3/lib/python3.9/site-packages/statsmodels/tsa/base/tsa_model.py:834: ValueWarning: No supported index is available. Prediction results will be given with an integer index beginning at `start`.\n",
      "  return get_prediction_index(\n"
     ]
    },
    {
     "name": "stdout",
     "output_type": "stream",
     "text": [
      " ARIMA(0,0,0)(1,0,1)[7] intercept   : AIC=21029.150, Time=1.98 sec\n",
      " ARIMA(0,0,0)(0,0,0)[7] intercept   : AIC=22493.726, Time=0.03 sec\n",
      " ARIMA(1,0,0)(1,0,0)[7] intercept   : AIC=21010.237, Time=1.67 sec\n",
      " ARIMA(0,0,1)(0,0,1)[7] intercept   : AIC=21749.318, Time=0.60 sec\n",
      " ARIMA(0,0,0)(0,0,0)[7]             : AIC=26291.944, Time=0.02 sec\n",
      " ARIMA(1,0,0)(0,0,0)[7] intercept   : AIC=22349.101, Time=0.08 sec\n"
     ]
    },
    {
     "name": "stderr",
     "output_type": "stream",
     "text": [
      "/opt/anaconda3/lib/python3.9/site-packages/statsmodels/tsa/statespace/sarimax.py:1899: RuntimeWarning: invalid value encountered in reciprocal\n",
      "  return np.roots(self.polynomial_reduced_ar)**-1\n"
     ]
    },
    {
     "name": "stdout",
     "output_type": "stream",
     "text": [
      " ARIMA(1,0,0)(2,0,0)[7] intercept   : AIC=21187.973, Time=3.59 sec\n",
      " ARIMA(1,0,0)(1,0,1)[7] intercept   : AIC=21559.398, Time=2.06 sec\n"
     ]
    },
    {
     "name": "stderr",
     "output_type": "stream",
     "text": [
      "/opt/anaconda3/lib/python3.9/site-packages/statsmodels/tsa/statespace/sarimax.py:1899: RuntimeWarning: invalid value encountered in reciprocal\n",
      "  return np.roots(self.polynomial_reduced_ar)**-1\n"
     ]
    },
    {
     "name": "stdout",
     "output_type": "stream",
     "text": [
      " ARIMA(1,0,0)(0,0,1)[7] intercept   : AIC=21702.773, Time=0.57 sec\n",
      " ARIMA(1,0,0)(2,0,1)[7] intercept   : AIC=inf, Time=4.59 sec\n",
      " ARIMA(0,0,0)(1,0,0)[7] intercept   : AIC=21181.364, Time=1.01 sec\n",
      " ARIMA(2,0,0)(1,0,0)[7] intercept   : AIC=21002.429, Time=2.19 sec\n",
      " ARIMA(2,0,0)(0,0,0)[7] intercept   : AIC=22227.020, Time=0.14 sec\n",
      " ARIMA(2,0,0)(2,0,0)[7] intercept   : AIC=20694.391, Time=3.82 sec\n",
      " ARIMA(2,0,0)(2,0,1)[7] intercept   : AIC=inf, Time=4.18 sec\n",
      " ARIMA(2,0,0)(1,0,1)[7] intercept   : AIC=21342.566, Time=2.48 sec\n",
      " ARIMA(3,0,0)(2,0,0)[7] intercept   : AIC=21118.694, Time=6.84 sec\n"
     ]
    },
    {
     "name": "stderr",
     "output_type": "stream",
     "text": [
      "/opt/anaconda3/lib/python3.9/site-packages/statsmodels/tsa/statespace/sarimax.py:1906: RuntimeWarning: invalid value encountered in reciprocal\n",
      "  return np.roots(self.polynomial_reduced_ma)**-1\n"
     ]
    },
    {
     "name": "stdout",
     "output_type": "stream",
     "text": [
      " ARIMA(2,0,1)(2,0,0)[7] intercept   : AIC=inf, Time=4.29 sec\n"
     ]
    },
    {
     "name": "stderr",
     "output_type": "stream",
     "text": [
      "/opt/anaconda3/lib/python3.9/site-packages/statsmodels/tsa/statespace/sarimax.py:1906: RuntimeWarning: invalid value encountered in reciprocal\n",
      "  return np.roots(self.polynomial_reduced_ma)**-1\n"
     ]
    },
    {
     "name": "stdout",
     "output_type": "stream",
     "text": [
      " ARIMA(1,0,1)(2,0,0)[7] intercept   : AIC=20851.586, Time=3.73 sec\n"
     ]
    },
    {
     "name": "stderr",
     "output_type": "stream",
     "text": [
      "/opt/anaconda3/lib/python3.9/site-packages/statsmodels/tsa/statespace/sarimax.py:1906: RuntimeWarning: invalid value encountered in reciprocal\n",
      "  return np.roots(self.polynomial_reduced_ma)**-1\n"
     ]
    },
    {
     "name": "stdout",
     "output_type": "stream",
     "text": [
      " ARIMA(3,0,1)(2,0,0)[7] intercept   : AIC=inf, Time=7.46 sec\n",
      " ARIMA(2,0,0)(2,0,0)[7]             : AIC=inf, Time=1.37 sec\n",
      "\n",
      "Best model:  ARIMA(2,0,0)(2,0,0)[7] intercept\n",
      "Total fit time: 52.734 seconds\n",
      "1,DAIRY MAPE: 0.20883056662890093\n",
      "Performing stepwise search to minimize aic\n"
     ]
    },
    {
     "name": "stderr",
     "output_type": "stream",
     "text": [
      "/opt/anaconda3/lib/python3.9/site-packages/statsmodels/tsa/base/tsa_model.py:834: ValueWarning: No supported index is available. Prediction results will be given with an integer index beginning at `start`.\n",
      "  return get_prediction_index(\n"
     ]
    },
    {
     "name": "stdout",
     "output_type": "stream",
     "text": [
      " ARIMA(0,0,0)(1,0,1)[7] intercept   : AIC=15996.354, Time=1.80 sec\n",
      " ARIMA(0,0,0)(0,0,0)[7] intercept   : AIC=17063.295, Time=0.03 sec\n",
      " ARIMA(1,0,0)(1,0,0)[7] intercept   : AIC=16250.243, Time=1.41 sec\n",
      " ARIMA(0,0,1)(0,0,1)[7] intercept   : AIC=16618.139, Time=0.48 sec\n",
      " ARIMA(0,0,0)(0,0,0)[7]             : AIC=20878.651, Time=0.02 sec\n",
      " ARIMA(0,0,0)(0,0,1)[7] intercept   : AIC=16638.414, Time=0.34 sec\n",
      " ARIMA(0,0,0)(1,0,0)[7] intercept   : AIC=16295.639, Time=0.76 sec\n",
      " ARIMA(0,0,0)(2,0,1)[7] intercept   : AIC=inf, Time=4.06 sec\n",
      " ARIMA(0,0,0)(1,0,2)[7] intercept   : AIC=16125.911, Time=3.26 sec\n",
      " ARIMA(0,0,0)(0,0,2)[7] intercept   : AIC=16436.551, Time=0.70 sec\n",
      " ARIMA(0,0,0)(2,0,0)[7] intercept   : AIC=16071.385, Time=2.76 sec\n",
      " ARIMA(0,0,0)(2,0,2)[7] intercept   : AIC=inf, Time=5.28 sec\n",
      " ARIMA(1,0,0)(1,0,1)[7] intercept   : AIC=16074.717, Time=2.03 sec\n",
      " ARIMA(0,0,1)(1,0,1)[7] intercept   : AIC=16018.478, Time=2.08 sec\n",
      " ARIMA(1,0,1)(1,0,1)[7] intercept   : AIC=inf, Time=2.63 sec\n",
      " ARIMA(0,0,0)(1,0,1)[7]             : AIC=15902.961, Time=0.57 sec\n",
      " ARIMA(0,0,0)(0,0,1)[7]             : AIC=19373.361, Time=0.34 sec\n",
      " ARIMA(0,0,0)(1,0,0)[7]             : AIC=inf, Time=0.06 sec\n",
      " ARIMA(0,0,0)(2,0,1)[7]             : AIC=15904.900, Time=1.09 sec\n",
      " ARIMA(0,0,0)(1,0,2)[7]             : AIC=15904.901, Time=0.89 sec\n",
      " ARIMA(0,0,0)(0,0,2)[7]             : AIC=18555.543, Time=0.71 sec\n",
      " ARIMA(0,0,0)(2,0,0)[7]             : AIC=inf, Time=0.26 sec\n",
      " ARIMA(0,0,0)(2,0,2)[7]             : AIC=15906.916, Time=1.36 sec\n",
      " ARIMA(1,0,0)(1,0,1)[7]             : AIC=15859.545, Time=0.79 sec\n"
     ]
    },
    {
     "name": "stderr",
     "output_type": "stream",
     "text": [
      "/opt/anaconda3/lib/python3.9/site-packages/statsmodels/tsa/statespace/sarimax.py:1899: RuntimeWarning: invalid value encountered in reciprocal\n",
      "  return np.roots(self.polynomial_reduced_ar)**-1\n"
     ]
    },
    {
     "name": "stdout",
     "output_type": "stream",
     "text": [
      " ARIMA(1,0,0)(0,0,1)[7]             : AIC=17465.906, Time=0.33 sec\n",
      " ARIMA(1,0,0)(1,0,0)[7]             : AIC=inf, Time=0.65 sec\n",
      " ARIMA(1,0,0)(2,0,1)[7]             : AIC=15861.544, Time=1.90 sec\n",
      " ARIMA(1,0,0)(1,0,2)[7]             : AIC=15861.613, Time=1.51 sec\n",
      " ARIMA(1,0,0)(0,0,0)[7]             : AIC=17994.186, Time=0.03 sec\n"
     ]
    },
    {
     "name": "stderr",
     "output_type": "stream",
     "text": [
      "/opt/anaconda3/lib/python3.9/site-packages/statsmodels/tsa/statespace/sarimax.py:1899: RuntimeWarning: invalid value encountered in reciprocal\n",
      "  return np.roots(self.polynomial_reduced_ar)**-1\n",
      "/opt/anaconda3/lib/python3.9/site-packages/statsmodels/tsa/statespace/sarimax.py:1899: RuntimeWarning: invalid value encountered in reciprocal\n",
      "  return np.roots(self.polynomial_reduced_ar)**-1\n"
     ]
    },
    {
     "name": "stdout",
     "output_type": "stream",
     "text": [
      " ARIMA(1,0,0)(0,0,2)[7]             : AIC=17169.591, Time=0.80 sec\n",
      " ARIMA(1,0,0)(2,0,0)[7]             : AIC=inf, Time=0.87 sec\n",
      " ARIMA(1,0,0)(2,0,2)[7]             : AIC=15863.540, Time=1.87 sec\n",
      " ARIMA(2,0,0)(1,0,1)[7]             : AIC=15856.628, Time=1.34 sec\n",
      " ARIMA(2,0,0)(0,0,1)[7]             : AIC=17151.688, Time=0.42 sec\n",
      " ARIMA(2,0,0)(1,0,0)[7]             : AIC=16551.155, Time=0.56 sec\n",
      " ARIMA(2,0,0)(2,0,1)[7]             : AIC=15858.622, Time=2.31 sec\n",
      " ARIMA(2,0,0)(1,0,2)[7]             : AIC=15858.622, Time=2.23 sec\n",
      " ARIMA(2,0,0)(0,0,0)[7]             : AIC=17630.334, Time=0.07 sec\n",
      " ARIMA(2,0,0)(0,0,2)[7]             : AIC=16896.033, Time=0.88 sec\n",
      " ARIMA(2,0,0)(2,0,0)[7]             : AIC=inf, Time=1.09 sec\n",
      " ARIMA(2,0,0)(2,0,2)[7]             : AIC=15860.615, Time=2.09 sec\n",
      " ARIMA(3,0,0)(1,0,1)[7]             : AIC=15857.909, Time=1.75 sec\n",
      " ARIMA(2,0,1)(1,0,1)[7]             : AIC=15856.507, Time=1.86 sec\n",
      " ARIMA(2,0,1)(0,0,1)[7]             : AIC=16539.613, Time=1.66 sec\n"
     ]
    },
    {
     "name": "stderr",
     "output_type": "stream",
     "text": [
      "/opt/anaconda3/lib/python3.9/site-packages/statsmodels/tsa/statespace/sarimax.py:1906: RuntimeWarning: invalid value encountered in reciprocal\n",
      "  return np.roots(self.polynomial_reduced_ma)**-1\n"
     ]
    },
    {
     "name": "stdout",
     "output_type": "stream",
     "text": [
      " ARIMA(2,0,1)(1,0,0)[7]             : AIC=inf, Time=2.37 sec\n",
      " ARIMA(2,0,1)(2,0,1)[7]             : AIC=15858.509, Time=2.95 sec\n",
      " ARIMA(2,0,1)(1,0,2)[7]             : AIC=15858.504, Time=2.96 sec\n"
     ]
    },
    {
     "name": "stderr",
     "output_type": "stream",
     "text": [
      "/opt/anaconda3/lib/python3.9/site-packages/statsmodels/tsa/statespace/sarimax.py:1906: RuntimeWarning: invalid value encountered in reciprocal\n",
      "  return np.roots(self.polynomial_reduced_ma)**-1\n"
     ]
    },
    {
     "name": "stdout",
     "output_type": "stream",
     "text": [
      " ARIMA(2,0,1)(0,0,0)[7]             : AIC=16892.312, Time=0.70 sec\n",
      " ARIMA(2,0,1)(0,0,2)[7]             : AIC=16358.782, Time=3.38 sec\n"
     ]
    },
    {
     "name": "stderr",
     "output_type": "stream",
     "text": [
      "/opt/anaconda3/lib/python3.9/site-packages/statsmodels/tsa/statespace/sarimax.py:1906: RuntimeWarning: invalid value encountered in reciprocal\n",
      "  return np.roots(self.polynomial_reduced_ma)**-1\n"
     ]
    },
    {
     "name": "stdout",
     "output_type": "stream",
     "text": [
      " ARIMA(2,0,1)(2,0,0)[7]             : AIC=16149.512, Time=1.70 sec\n",
      " ARIMA(2,0,1)(2,0,2)[7]             : AIC=15860.507, Time=3.18 sec\n",
      " ARIMA(1,0,1)(1,0,1)[7]             : AIC=15854.874, Time=1.14 sec\n"
     ]
    },
    {
     "name": "stderr",
     "output_type": "stream",
     "text": [
      "/opt/anaconda3/lib/python3.9/site-packages/statsmodels/tsa/statespace/sarimax.py:1899: RuntimeWarning: invalid value encountered in reciprocal\n",
      "  return np.roots(self.polynomial_reduced_ar)**-1\n"
     ]
    },
    {
     "name": "stdout",
     "output_type": "stream",
     "text": [
      " ARIMA(1,0,1)(0,0,1)[7]             : AIC=16540.258, Time=1.18 sec\n"
     ]
    },
    {
     "name": "stderr",
     "output_type": "stream",
     "text": [
      "/opt/anaconda3/lib/python3.9/site-packages/statsmodels/tsa/statespace/sarimax.py:1906: RuntimeWarning: invalid value encountered in reciprocal\n",
      "  return np.roots(self.polynomial_reduced_ma)**-1\n"
     ]
    },
    {
     "name": "stdout",
     "output_type": "stream",
     "text": [
      " ARIMA(1,0,1)(1,0,0)[7]             : AIC=16546.943, Time=0.44 sec\n",
      " ARIMA(1,0,1)(2,0,1)[7]             : AIC=15856.873, Time=2.48 sec\n",
      " ARIMA(1,0,1)(1,0,2)[7]             : AIC=15857.146, Time=1.44 sec\n"
     ]
    },
    {
     "name": "stderr",
     "output_type": "stream",
     "text": [
      "/opt/anaconda3/lib/python3.9/site-packages/statsmodels/tsa/statespace/sarimax.py:1899: RuntimeWarning: invalid value encountered in reciprocal\n",
      "  return np.roots(self.polynomial_reduced_ar)**-1\n",
      "/opt/anaconda3/lib/python3.9/site-packages/statsmodels/tsa/statespace/sarimax.py:1906: RuntimeWarning: invalid value encountered in reciprocal\n",
      "  return np.roots(self.polynomial_reduced_ma)**-1\n"
     ]
    },
    {
     "name": "stdout",
     "output_type": "stream",
     "text": [
      " ARIMA(1,0,1)(0,0,0)[7]             : AIC=16893.679, Time=0.37 sec\n"
     ]
    },
    {
     "name": "stderr",
     "output_type": "stream",
     "text": [
      "/opt/anaconda3/lib/python3.9/site-packages/statsmodels/tsa/statespace/sarimax.py:1899: RuntimeWarning: invalid value encountered in reciprocal\n",
      "  return np.roots(self.polynomial_reduced_ar)**-1\n"
     ]
    },
    {
     "name": "stdout",
     "output_type": "stream",
     "text": [
      " ARIMA(1,0,1)(0,0,2)[7]             : AIC=16368.473, Time=2.41 sec\n"
     ]
    },
    {
     "name": "stderr",
     "output_type": "stream",
     "text": [
      "/opt/anaconda3/lib/python3.9/site-packages/statsmodels/tsa/statespace/sarimax.py:1906: RuntimeWarning: invalid value encountered in reciprocal\n",
      "  return np.roots(self.polynomial_reduced_ma)**-1\n"
     ]
    },
    {
     "name": "stdout",
     "output_type": "stream",
     "text": [
      " ARIMA(1,0,1)(2,0,0)[7]             : AIC=16148.297, Time=0.99 sec\n",
      " ARIMA(1,0,1)(2,0,2)[7]             : AIC=15858.868, Time=2.16 sec\n",
      " ARIMA(0,0,1)(1,0,1)[7]             : AIC=15864.838, Time=1.24 sec\n",
      " ARIMA(1,0,2)(1,0,1)[7]             : AIC=inf, Time=4.08 sec\n",
      " ARIMA(0,0,2)(1,0,1)[7]             : AIC=15858.658, Time=1.80 sec\n",
      " ARIMA(2,0,2)(1,0,1)[7]             : AIC=15845.265, Time=4.30 sec\n",
      " ARIMA(2,0,2)(0,0,1)[7]             : AIC=16535.020, Time=2.65 sec\n",
      " ARIMA(2,0,2)(1,0,0)[7]             : AIC=inf, Time=3.50 sec\n",
      " ARIMA(2,0,2)(2,0,1)[7]             : AIC=15847.649, Time=6.70 sec\n",
      " ARIMA(2,0,2)(1,0,2)[7]             : AIC=inf, Time=7.52 sec\n",
      " ARIMA(2,0,2)(0,0,0)[7]             : AIC=16857.243, Time=0.65 sec\n",
      " ARIMA(2,0,2)(0,0,2)[7]             : AIC=16360.107, Time=3.37 sec\n",
      " ARIMA(2,0,2)(2,0,0)[7]             : AIC=inf, Time=6.63 sec\n",
      " ARIMA(2,0,2)(2,0,2)[7]             : AIC=inf, Time=18.33 sec\n",
      " ARIMA(3,0,2)(1,0,1)[7]             : AIC=inf, Time=3.83 sec\n",
      " ARIMA(2,0,3)(1,0,1)[7]             : AIC=15860.280, Time=2.60 sec\n",
      " ARIMA(1,0,3)(1,0,1)[7]             : AIC=15858.503, Time=2.29 sec\n",
      " ARIMA(3,0,1)(1,0,1)[7]             : AIC=inf, Time=3.90 sec\n",
      " ARIMA(3,0,3)(1,0,1)[7]             : AIC=15862.974, Time=3.38 sec\n",
      " ARIMA(2,0,2)(1,0,1)[7] intercept   : AIC=inf, Time=3.22 sec\n",
      "\n",
      "Best model:  ARIMA(2,0,2)(1,0,1)[7]          \n",
      "Total fit time: 167.809 seconds\n",
      "1,DELI MAPE: 0.23433954559684322\n"
     ]
    },
    {
     "name": "stderr",
     "output_type": "stream",
     "text": [
      "/opt/anaconda3/lib/python3.9/site-packages/statsmodels/tsa/base/tsa_model.py:834: ValueWarning: No supported index is available. Prediction results will be given with an integer index beginning at `start`.\n",
      "  return get_prediction_index(\n"
     ]
    }
   ],
   "source": [
    "N = 10\n",
    "mAPE = []\n",
    "for group in df.columns[0:N]:\n",
    "    y_train = df_train[group]\n",
    "    y_test = df_test[group]\n",
    "    \n",
    "    model = pm.auto_arima(y_train,                    \n",
    "                      start_p=0, start_q=0, # minimum p and q\n",
    "                      max_p=7, max_q=7,     # maximum p and q\n",
    "                      max_order=None,\n",
    "                      test='adf',           # use adftest to find optimal 'd'\n",
    "                      seasonal=True,\n",
    "                      m=7,                   # seasonality: weekly\n",
    "                      d=None,               # let model determine 'd' (order of first-differencing)\n",
    "                      D=None,               # let model determine 'D' (order of the seasonal differencing)\n",
    "                      trace=True,           # print status on the fits\n",
    "                      error_action='ignore',\n",
    "                      suppress_warnings=True,\n",
    "                      stepwise=True)\n",
    "    \n",
    "    y_pred = model.predict(y_test.shape[0])\n",
    "    \n",
    "    APE_y = abs( (y_test.values - y_pred.values) / y_test.values)\n",
    "    mAPE_y = np.mean(APE_y)\n",
    "    print(group+' MAPE: '+str(mAPE_y))\n",
    "    \n",
    "    mAPE.append(mAPE_y)\n"
   ]
  },
  {
   "cell_type": "code",
   "execution_count": 38,
   "id": "cb22b5a3",
   "metadata": {},
   "outputs": [
    {
     "name": "stdout",
     "output_type": "stream",
     "text": [
      "('1,AUTOMOTIVE', 0.768867594013641)\n",
      "('1,BABY CARE', nan)\n",
      "('1,BEAUTY', 0.4708783062666685)\n",
      "('1,BEVERAGES', 0.2110637529346851)\n",
      "('1,BOOKS', inf)\n",
      "('1,BREAD/BAKERY', 0.25569478383376376)\n",
      "('1,CELEBRATION', 1.465057879831523)\n",
      "('1,CLEANING', 0.3470321117161983)\n",
      "('1,DAIRY', 0.20883056662890093)\n",
      "('1,DELI', 0.23433954559684322)\n"
     ]
    }
   ],
   "source": [
    "N=10\n",
    "for m in zip(df.columns[0:N], mAPE):\n",
    "    print(m)"
   ]
  },
  {
   "cell_type": "code",
   "execution_count": 42,
   "id": "14c973c2",
   "metadata": {},
   "outputs": [
    {
     "name": "stdout",
     "output_type": "stream",
     "text": [
      "Minimum mean APE is 0.20883056662890093\n"
     ]
    }
   ],
   "source": [
    "print(\"Minimum mean APE is \" + str(min(mAPE)))"
   ]
  },
  {
   "cell_type": "code",
   "execution_count": 43,
   "id": "9d08a2d9",
   "metadata": {},
   "outputs": [
    {
     "data": {
      "text/plain": [
       "date\n",
       "2013-01-01    0.0\n",
       "2013-01-02    0.0\n",
       "2013-01-03    0.0\n",
       "2013-01-04    0.0\n",
       "2013-01-05    0.0\n",
       "             ... \n",
       "2017-08-11    0.0\n",
       "2017-08-12    0.0\n",
       "2017-08-13    0.0\n",
       "2017-08-14    0.0\n",
       "2017-08-15    0.0\n",
       "Name: 1,BABY CARE, Length: 1684, dtype: float64"
      ]
     },
     "execution_count": 43,
     "metadata": {},
     "output_type": "execute_result"
    }
   ],
   "source": [
    "df['1,BABY CARE']"
   ]
  },
  {
   "cell_type": "code",
   "execution_count": 44,
   "id": "cf2b62c5",
   "metadata": {
    "scrolled": true
   },
   "outputs": [
    {
     "data": {
      "text/plain": [
       "date\n",
       "2017-07-31    1.0\n",
       "2017-08-01    0.0\n",
       "2017-08-02    0.0\n",
       "2017-08-03    0.0\n",
       "2017-08-04    0.0\n",
       "2017-08-05    0.0\n",
       "2017-08-06    0.0\n",
       "2017-08-07    0.0\n",
       "2017-08-08    0.0\n",
       "2017-08-09    0.0\n",
       "2017-08-10    0.0\n",
       "2017-08-11    0.0\n",
       "2017-08-12    0.0\n",
       "2017-08-13    0.0\n",
       "2017-08-14    0.0\n",
       "2017-08-15    0.0\n",
       "Name: 1,BOOKS, dtype: float64"
      ]
     },
     "execution_count": 44,
     "metadata": {},
     "output_type": "execute_result"
    }
   ],
   "source": [
    "df_test['1,BOOKS']"
   ]
  },
  {
   "cell_type": "markdown",
   "id": "116e2a3a",
   "metadata": {},
   "source": [
    "### 5.5.3 Apply Prophet() for single timeseries<a id='5.5.3'></a>"
   ]
  },
  {
   "cell_type": "code",
   "execution_count": 54,
   "id": "e2656929",
   "metadata": {},
   "outputs": [],
   "source": [
    "df_fb = df.reset_index()\n",
    "\n",
    "n_train = len(df_fb)-16\n",
    "df_fb_train = df_fb[7:n_train] #starting from day 8\n",
    "df_fb_test = df_fb[n_train:]"
   ]
  },
  {
   "cell_type": "code",
   "execution_count": 68,
   "id": "6d782ebe",
   "metadata": {},
   "outputs": [],
   "source": [
    "y1_train_fb = df_fb_train[[\"date\", \"1,AUTOMOTIVE\"]] # first column\n",
    "y1_test_fb = df_fb_test[[\"date\", \"1,AUTOMOTIVE\"]]"
   ]
  },
  {
   "cell_type": "code",
   "execution_count": 69,
   "id": "00046073",
   "metadata": {},
   "outputs": [
    {
     "data": {
      "text/html": [
       "<div>\n",
       "<style scoped>\n",
       "    .dataframe tbody tr th:only-of-type {\n",
       "        vertical-align: middle;\n",
       "    }\n",
       "\n",
       "    .dataframe tbody tr th {\n",
       "        vertical-align: top;\n",
       "    }\n",
       "\n",
       "    .dataframe thead th {\n",
       "        text-align: right;\n",
       "    }\n",
       "</style>\n",
       "<table border=\"1\" class=\"dataframe\">\n",
       "  <thead>\n",
       "    <tr style=\"text-align: right;\">\n",
       "      <th></th>\n",
       "      <th>ds</th>\n",
       "      <th>y</th>\n",
       "    </tr>\n",
       "  </thead>\n",
       "  <tbody>\n",
       "    <tr>\n",
       "      <th>7</th>\n",
       "      <td>2013-01-08</td>\n",
       "      <td>2.0</td>\n",
       "    </tr>\n",
       "    <tr>\n",
       "      <th>8</th>\n",
       "      <td>2013-01-09</td>\n",
       "      <td>2.0</td>\n",
       "    </tr>\n",
       "    <tr>\n",
       "      <th>9</th>\n",
       "      <td>2013-01-10</td>\n",
       "      <td>2.0</td>\n",
       "    </tr>\n",
       "    <tr>\n",
       "      <th>10</th>\n",
       "      <td>2013-01-11</td>\n",
       "      <td>3.0</td>\n",
       "    </tr>\n",
       "    <tr>\n",
       "      <th>11</th>\n",
       "      <td>2013-01-12</td>\n",
       "      <td>2.0</td>\n",
       "    </tr>\n",
       "  </tbody>\n",
       "</table>\n",
       "</div>"
      ],
      "text/plain": [
       "            ds    y\n",
       "7   2013-01-08  2.0\n",
       "8   2013-01-09  2.0\n",
       "9   2013-01-10  2.0\n",
       "10  2013-01-11  3.0\n",
       "11  2013-01-12  2.0"
      ]
     },
     "execution_count": 69,
     "metadata": {},
     "output_type": "execute_result"
    }
   ],
   "source": [
    "y1_train_fb.columns = ['ds','y']\n",
    "y1_test_fb.columns = ['ds','y']\n",
    "y1_train_fb.head()"
   ]
  },
  {
   "cell_type": "code",
   "execution_count": 61,
   "id": "7f69b2e5",
   "metadata": {},
   "outputs": [
    {
     "name": "stderr",
     "output_type": "stream",
     "text": [
      "09:17:01 - cmdstanpy - INFO - Chain [1] start processing\n",
      "09:17:02 - cmdstanpy - INFO - Chain [1] done processing\n"
     ]
    },
    {
     "data": {
      "text/plain": [
       "<prophet.forecaster.Prophet at 0x7fa89ce27640>"
      ]
     },
     "execution_count": 61,
     "metadata": {},
     "output_type": "execute_result"
    }
   ],
   "source": [
    "model_prophet = Prophet()\n",
    "model_prophet.fit(y1_train_fb)"
   ]
  },
  {
   "cell_type": "code",
   "execution_count": null,
   "id": "fa4c0de1",
   "metadata": {},
   "outputs": [],
   "source": [
    "# define the period for which we want a prediction\n",
    "future = list()\n",
    "for i in range(1, 13):\n",
    " date = '2017-07%08d' % i\n",
    " future.append([date])\n",
    " print(date)\n",
    "# future = DataFrame(future)\n",
    "# future.columns = ['ds']\n",
    "# future['ds']= to_datetime(future['ds'])\n",
    "# # use the model to make a forecast\n",
    "# forecast = model.predict(future)\n",
    "# # summarize the forecast\n",
    "# print(forecast[['ds', 'yhat', 'yhat_lower', 'yhat_upper']].head())\n",
    "# # plot forecast\n",
    "# model.plot(forecast)\n",
    "# pyplot.show()"
   ]
  },
  {
   "cell_type": "code",
   "execution_count": 70,
   "id": "1cdb8401",
   "metadata": {
    "scrolled": true
   },
   "outputs": [
    {
     "data": {
      "text/html": [
       "<div>\n",
       "<style scoped>\n",
       "    .dataframe tbody tr th:only-of-type {\n",
       "        vertical-align: middle;\n",
       "    }\n",
       "\n",
       "    .dataframe tbody tr th {\n",
       "        vertical-align: top;\n",
       "    }\n",
       "\n",
       "    .dataframe thead th {\n",
       "        text-align: right;\n",
       "    }\n",
       "</style>\n",
       "<table border=\"1\" class=\"dataframe\">\n",
       "  <thead>\n",
       "    <tr style=\"text-align: right;\">\n",
       "      <th></th>\n",
       "      <th>ds</th>\n",
       "      <th>yhat</th>\n",
       "      <th>yhat_lower</th>\n",
       "      <th>yhat_upper</th>\n",
       "    </tr>\n",
       "  </thead>\n",
       "  <tbody>\n",
       "    <tr>\n",
       "      <th>0</th>\n",
       "      <td>2017-07-31</td>\n",
       "      <td>4.698622</td>\n",
       "      <td>1.566787</td>\n",
       "      <td>7.959342</td>\n",
       "    </tr>\n",
       "    <tr>\n",
       "      <th>1</th>\n",
       "      <td>2017-08-01</td>\n",
       "      <td>5.270555</td>\n",
       "      <td>2.021267</td>\n",
       "      <td>8.631896</td>\n",
       "    </tr>\n",
       "    <tr>\n",
       "      <th>2</th>\n",
       "      <td>2017-08-02</td>\n",
       "      <td>4.885589</td>\n",
       "      <td>1.541412</td>\n",
       "      <td>8.132814</td>\n",
       "    </tr>\n",
       "    <tr>\n",
       "      <th>3</th>\n",
       "      <td>2017-08-03</td>\n",
       "      <td>4.367451</td>\n",
       "      <td>1.367442</td>\n",
       "      <td>7.547102</td>\n",
       "    </tr>\n",
       "    <tr>\n",
       "      <th>4</th>\n",
       "      <td>2017-08-04</td>\n",
       "      <td>5.090726</td>\n",
       "      <td>1.851442</td>\n",
       "      <td>8.180908</td>\n",
       "    </tr>\n",
       "  </tbody>\n",
       "</table>\n",
       "</div>"
      ],
      "text/plain": [
       "          ds      yhat  yhat_lower  yhat_upper\n",
       "0 2017-07-31  4.698622    1.566787    7.959342\n",
       "1 2017-08-01  5.270555    2.021267    8.631896\n",
       "2 2017-08-02  4.885589    1.541412    8.132814\n",
       "3 2017-08-03  4.367451    1.367442    7.547102\n",
       "4 2017-08-04  5.090726    1.851442    8.180908"
      ]
     },
     "execution_count": 70,
     "metadata": {},
     "output_type": "execute_result"
    }
   ],
   "source": [
    "y1_pred_fb = model_prophet.predict(y1_test_fb)  # predict N steps into the future\n",
    "y1_pred_fb[['ds', 'yhat', 'yhat_lower', 'yhat_upper']].head()"
   ]
  },
  {
   "cell_type": "code",
   "execution_count": 73,
   "id": "c87a7ec3",
   "metadata": {},
   "outputs": [
    {
     "data": {
      "image/png": "[encoded data removed]",
      "text/plain": [
       "<Figure size 1000x600 with 1 Axes>"
      ]
     },
     "metadata": {},
     "output_type": "display_data"
    }
   ],
   "source": [
    "model_prophet.plot(y1_pred_fb)\n",
    "plt.show()"
   ]
  },
  {
   "cell_type": "code",
   "execution_count": 74,
   "id": "6c431b87",
   "metadata": {},
   "outputs": [
    {
     "name": "stdout",
     "output_type": "stream",
     "text": [
      "MAPE: 0.7533845415421063\n"
     ]
    }
   ],
   "source": [
    "# APE = ABS((actual - predicted) / actual)\n",
    "APE_y1 = abs( (y1_test.values - y1_pred_fb['yhat'].values) / y1_test.values)\n",
    "\n",
    "# MEAN(APE)\n",
    "mAPE_y1 = np.mean(APE_y1)\n",
    "print('MAPE: '+str(mAPE_y1))"
   ]
  }
 ],
 "metadata": {
  "kernelspec": {
   "display_name": "Python 3 (ipykernel)",
   "language": "python",
   "name": "python3"
  },
  "language_info": {
   "codemirror_mode": {
    "name": "ipython",
    "version": 3
   },
   "file_extension": ".py",
   "mimetype": "text/x-python",
   "name": "python",
   "nbconvert_exporter": "python",
   "pygments_lexer": "ipython3",
   "version": "3.9.13"
  }
 },
 "nbformat": 4,
 "nbformat_minor": 5
}
