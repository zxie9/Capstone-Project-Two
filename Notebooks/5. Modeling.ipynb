{
 "cells": [
  {
   "cell_type": "markdown",
   "id": "21d66be9",
   "metadata": {},
   "source": [
    "# Capstone Two - 5 Extended Modeling<a id='5'></a>"
   ]
  },
  {
   "cell_type": "markdown",
   "id": "a3e1ef15",
   "metadata": {},
   "source": [
    "## 5.1 Contents<a id='5.1'></a>\n",
    "* [5 Extended Modeling](#5)\n",
    "  * [5.1 Contents](#5.1)\n",
    "  * [5.2 Imports](#5.2)\n",
    "  * [5.3 Load The Data](#5.3)\n",
    "  * [5.4 Data Processing](#5.4)\n",
    "  * [5.5 Modeling](#5.5)\n",
    "    * [5.5.1 Apply auto_arima() for single timeseries](#5.5.1)\n",
    "    * [5.5.2 Apply auto_arima() for multiple timeseries](#5.5.2)\n",
    "    * [5.5.3 Apply Prophet() for single timeseries](#5.5.3)\n",
    "    "
   ]
  },
  {
   "cell_type": "markdown",
   "id": "b2f6e178",
   "metadata": {},
   "source": [
    "## 5.2 Imports<a id='5.2'></a>"
   ]
  },
  {
   "cell_type": "code",
   "execution_count": 1,
   "id": "4317111b",
   "metadata": {},
   "outputs": [],
   "source": [
    "import pandas as pd\n",
    "import numpy as np\n",
    "import os\n",
    "import matplotlib.pyplot as plt\n",
    "import seaborn as sns\n",
    "import datetime"
   ]
  },
  {
   "cell_type": "code",
   "execution_count": 2,
   "id": "fcdfe7f3",
   "metadata": {},
   "outputs": [],
   "source": [
    "import pmdarima as pm\n",
    "from pmdarima.model_selection import train_test_split\n",
    "\n",
    "from prophet import Prophet"
   ]
  },
  {
   "cell_type": "markdown",
   "id": "2d3e4829",
   "metadata": {},
   "source": [
    "## 5.3 Load The Data<a id='5.3'></a>"
   ]
  },
  {
   "cell_type": "code",
   "execution_count": 3,
   "id": "4f76b59c",
   "metadata": {
    "scrolled": true
   },
   "outputs": [
    {
     "data": {
      "text/html": [
       "<div>\n",
       "<style scoped>\n",
       "    .dataframe tbody tr th:only-of-type {\n",
       "        vertical-align: middle;\n",
       "    }\n",
       "\n",
       "    .dataframe tbody tr th {\n",
       "        vertical-align: top;\n",
       "    }\n",
       "\n",
       "    .dataframe thead th {\n",
       "        text-align: right;\n",
       "    }\n",
       "</style>\n",
       "<table border=\"1\" class=\"dataframe\">\n",
       "  <thead>\n",
       "    <tr style=\"text-align: right;\">\n",
       "      <th></th>\n",
       "      <th>date</th>\n",
       "      <th>store_nbr</th>\n",
       "      <th>family</th>\n",
       "      <th>sales</th>\n",
       "      <th>onpromotion</th>\n",
       "      <th>city</th>\n",
       "      <th>state</th>\n",
       "      <th>store_type</th>\n",
       "      <th>cluster</th>\n",
       "      <th>dcoilwtico</th>\n",
       "      <th>transactions</th>\n",
       "      <th>holiday_type</th>\n",
       "      <th>transferred</th>\n",
       "      <th>year</th>\n",
       "      <th>month</th>\n",
       "    </tr>\n",
       "  </thead>\n",
       "  <tbody>\n",
       "    <tr>\n",
       "      <th>0</th>\n",
       "      <td>2013-01-01</td>\n",
       "      <td>1</td>\n",
       "      <td>AUTOMOTIVE</td>\n",
       "      <td>0.0</td>\n",
       "      <td>0</td>\n",
       "      <td>Quito</td>\n",
       "      <td>Pichincha</td>\n",
       "      <td>D</td>\n",
       "      <td>13</td>\n",
       "      <td>93.14</td>\n",
       "      <td>0.0</td>\n",
       "      <td>Holiday</td>\n",
       "      <td>False</td>\n",
       "      <td>2013</td>\n",
       "      <td>1</td>\n",
       "    </tr>\n",
       "    <tr>\n",
       "      <th>1</th>\n",
       "      <td>2013-01-01</td>\n",
       "      <td>1</td>\n",
       "      <td>BABY CARE</td>\n",
       "      <td>0.0</td>\n",
       "      <td>0</td>\n",
       "      <td>Quito</td>\n",
       "      <td>Pichincha</td>\n",
       "      <td>D</td>\n",
       "      <td>13</td>\n",
       "      <td>93.14</td>\n",
       "      <td>0.0</td>\n",
       "      <td>Holiday</td>\n",
       "      <td>False</td>\n",
       "      <td>2013</td>\n",
       "      <td>1</td>\n",
       "    </tr>\n",
       "    <tr>\n",
       "      <th>2</th>\n",
       "      <td>2013-01-01</td>\n",
       "      <td>1</td>\n",
       "      <td>BEAUTY</td>\n",
       "      <td>0.0</td>\n",
       "      <td>0</td>\n",
       "      <td>Quito</td>\n",
       "      <td>Pichincha</td>\n",
       "      <td>D</td>\n",
       "      <td>13</td>\n",
       "      <td>93.14</td>\n",
       "      <td>0.0</td>\n",
       "      <td>Holiday</td>\n",
       "      <td>False</td>\n",
       "      <td>2013</td>\n",
       "      <td>1</td>\n",
       "    </tr>\n",
       "  </tbody>\n",
       "</table>\n",
       "</div>"
      ],
      "text/plain": [
       "         date  store_nbr      family  sales  onpromotion   city      state  \\\n",
       "0  2013-01-01          1  AUTOMOTIVE    0.0            0  Quito  Pichincha   \n",
       "1  2013-01-01          1   BABY CARE    0.0            0  Quito  Pichincha   \n",
       "2  2013-01-01          1      BEAUTY    0.0            0  Quito  Pichincha   \n",
       "\n",
       "  store_type  cluster  dcoilwtico  transactions holiday_type  transferred  \\\n",
       "0          D       13       93.14           0.0      Holiday        False   \n",
       "1          D       13       93.14           0.0      Holiday        False   \n",
       "2          D       13       93.14           0.0      Holiday        False   \n",
       "\n",
       "   year  month  \n",
       "0  2013      1  \n",
       "1  2013      1  \n",
       "2  2013      1  "
      ]
     },
     "execution_count": 3,
     "metadata": {},
     "output_type": "execute_result"
    }
   ],
   "source": [
    "data_dir = '../data/'\n",
    "\n",
    "data_ori = pd.read_csv(data_dir+'train_all_groups.csv')\n",
    "data_ori.head(3)"
   ]
  },
  {
   "cell_type": "code",
   "execution_count": 4,
   "id": "0e00f764",
   "metadata": {
    "scrolled": true
   },
   "outputs": [
    {
     "data": {
      "text/html": [
       "<div>\n",
       "<style scoped>\n",
       "    .dataframe tbody tr th:only-of-type {\n",
       "        vertical-align: middle;\n",
       "    }\n",
       "\n",
       "    .dataframe tbody tr th {\n",
       "        vertical-align: top;\n",
       "    }\n",
       "\n",
       "    .dataframe thead th {\n",
       "        text-align: right;\n",
       "    }\n",
       "</style>\n",
       "<table border=\"1\" class=\"dataframe\">\n",
       "  <thead>\n",
       "    <tr style=\"text-align: right;\">\n",
       "      <th></th>\n",
       "      <th>store_nbr</th>\n",
       "      <th>family</th>\n",
       "      <th>sales</th>\n",
       "    </tr>\n",
       "    <tr>\n",
       "      <th>date</th>\n",
       "      <th></th>\n",
       "      <th></th>\n",
       "      <th></th>\n",
       "    </tr>\n",
       "  </thead>\n",
       "  <tbody>\n",
       "    <tr>\n",
       "      <th>2013-01-01</th>\n",
       "      <td>1</td>\n",
       "      <td>AUTOMOTIVE</td>\n",
       "      <td>0.0</td>\n",
       "    </tr>\n",
       "    <tr>\n",
       "      <th>2013-01-01</th>\n",
       "      <td>1</td>\n",
       "      <td>BABY CARE</td>\n",
       "      <td>0.0</td>\n",
       "    </tr>\n",
       "    <tr>\n",
       "      <th>2013-01-01</th>\n",
       "      <td>1</td>\n",
       "      <td>BEAUTY</td>\n",
       "      <td>0.0</td>\n",
       "    </tr>\n",
       "  </tbody>\n",
       "</table>\n",
       "</div>"
      ],
      "text/plain": [
       "            store_nbr      family  sales\n",
       "date                                    \n",
       "2013-01-01          1  AUTOMOTIVE    0.0\n",
       "2013-01-01          1   BABY CARE    0.0\n",
       "2013-01-01          1      BEAUTY    0.0"
      ]
     },
     "execution_count": 4,
     "metadata": {},
     "output_type": "execute_result"
    }
   ],
   "source": [
    "data = data_ori[['date', 'store_nbr', 'family', 'sales']]\n",
    "data.set_index('date', inplace = True)\n",
    "data.head(3)"
   ]
  },
  {
   "cell_type": "markdown",
   "id": "7bf61894",
   "metadata": {},
   "source": [
    "## 5.4 Data Processing<a id='5.4'></a>"
   ]
  },
  {
   "cell_type": "code",
   "execution_count": 5,
   "id": "dddd1007",
   "metadata": {},
   "outputs": [
    {
     "name": "stdout",
     "output_type": "stream",
     "text": [
      "[ 1 10 11 12 13 14 15 16 17 18 19  2 20 21 22 23 24 25 26 27 28 29  3 30\n",
      " 31 32 33 34 35 36 37 38 39  4 40 41 42 43 44 45 46 47 48 49  5 50 51 52\n",
      " 53 54  6  7  8  9]\n",
      "['AUTOMOTIVE' 'BABY CARE' 'BEAUTY' 'BEVERAGES' 'BOOKS' 'BREAD/BAKERY'\n",
      " 'CELEBRATION' 'CLEANING' 'DAIRY' 'DELI' 'EGGS' 'FROZEN FOODS' 'GROCERY I'\n",
      " 'GROCERY II' 'HARDWARE' 'HOME AND KITCHEN I' 'HOME AND KITCHEN II'\n",
      " 'HOME APPLIANCES' 'HOME CARE' 'LADIESWEAR' 'LAWN AND GARDEN' 'LINGERIE'\n",
      " 'LIQUOR,WINE,BEER' 'MAGAZINES' 'MEATS' 'PERSONAL CARE' 'PET SUPPLIES'\n",
      " 'PLAYERS AND ELECTRONICS' 'POULTRY' 'PREPARED FOODS' 'PRODUCE'\n",
      " 'SCHOOL AND OFFICE SUPPLIES' 'SEAFOOD']\n",
      "54 33\n"
     ]
    }
   ],
   "source": [
    "stores = data['store_nbr'].unique()\n",
    "families = data['family'].unique()\n",
    "\n",
    "print(stores)\n",
    "print(families)\n",
    "print(len(stores), len(families))"
   ]
  },
  {
   "cell_type": "code",
   "execution_count": 6,
   "id": "2297ed6c",
   "metadata": {
    "scrolled": false
   },
   "outputs": [
    {
     "data": {
      "text/html": [
       "<div>\n",
       "<style scoped>\n",
       "    .dataframe tbody tr th:only-of-type {\n",
       "        vertical-align: middle;\n",
       "    }\n",
       "\n",
       "    .dataframe tbody tr th {\n",
       "        vertical-align: top;\n",
       "    }\n",
       "\n",
       "    .dataframe thead th {\n",
       "        text-align: right;\n",
       "    }\n",
       "</style>\n",
       "<table border=\"1\" class=\"dataframe\">\n",
       "  <thead>\n",
       "    <tr style=\"text-align: right;\">\n",
       "      <th></th>\n",
       "      <th>1,AUTOMOTIVE</th>\n",
       "      <th>1,BABY CARE</th>\n",
       "      <th>1,BEAUTY</th>\n",
       "      <th>1,BEVERAGES</th>\n",
       "      <th>1,BOOKS</th>\n",
       "      <th>1,BREAD/BAKERY</th>\n",
       "      <th>1,CELEBRATION</th>\n",
       "      <th>1,CLEANING</th>\n",
       "      <th>1,DAIRY</th>\n",
       "      <th>1,DELI</th>\n",
       "      <th>...</th>\n",
       "      <th>9,MAGAZINES</th>\n",
       "      <th>9,MEATS</th>\n",
       "      <th>9,PERSONAL CARE</th>\n",
       "      <th>9,PET SUPPLIES</th>\n",
       "      <th>9,PLAYERS AND ELECTRONICS</th>\n",
       "      <th>9,POULTRY</th>\n",
       "      <th>9,PREPARED FOODS</th>\n",
       "      <th>9,PRODUCE</th>\n",
       "      <th>9,SCHOOL AND OFFICE SUPPLIES</th>\n",
       "      <th>9,SEAFOOD</th>\n",
       "    </tr>\n",
       "    <tr>\n",
       "      <th>date</th>\n",
       "      <th></th>\n",
       "      <th></th>\n",
       "      <th></th>\n",
       "      <th></th>\n",
       "      <th></th>\n",
       "      <th></th>\n",
       "      <th></th>\n",
       "      <th></th>\n",
       "      <th></th>\n",
       "      <th></th>\n",
       "      <th></th>\n",
       "      <th></th>\n",
       "      <th></th>\n",
       "      <th></th>\n",
       "      <th></th>\n",
       "      <th></th>\n",
       "      <th></th>\n",
       "      <th></th>\n",
       "      <th></th>\n",
       "      <th></th>\n",
       "      <th></th>\n",
       "    </tr>\n",
       "  </thead>\n",
       "  <tbody>\n",
       "    <tr>\n",
       "      <th>2013-01-01</th>\n",
       "      <td>0.0</td>\n",
       "      <td>0.0</td>\n",
       "      <td>0.0</td>\n",
       "      <td>0.0</td>\n",
       "      <td>0.0</td>\n",
       "      <td>0.000</td>\n",
       "      <td>0.0</td>\n",
       "      <td>0.0</td>\n",
       "      <td>0.0</td>\n",
       "      <td>0.000</td>\n",
       "      <td>...</td>\n",
       "      <td>0.0</td>\n",
       "      <td>0.000</td>\n",
       "      <td>0.0</td>\n",
       "      <td>0.0</td>\n",
       "      <td>0.0</td>\n",
       "      <td>0.000</td>\n",
       "      <td>0.0</td>\n",
       "      <td>0.0</td>\n",
       "      <td>0.0</td>\n",
       "      <td>0.000</td>\n",
       "    </tr>\n",
       "    <tr>\n",
       "      <th>2013-01-02</th>\n",
       "      <td>2.0</td>\n",
       "      <td>0.0</td>\n",
       "      <td>2.0</td>\n",
       "      <td>1091.0</td>\n",
       "      <td>0.0</td>\n",
       "      <td>470.652</td>\n",
       "      <td>0.0</td>\n",
       "      <td>1060.0</td>\n",
       "      <td>579.0</td>\n",
       "      <td>164.069</td>\n",
       "      <td>...</td>\n",
       "      <td>0.0</td>\n",
       "      <td>374.531</td>\n",
       "      <td>482.0</td>\n",
       "      <td>0.0</td>\n",
       "      <td>0.0</td>\n",
       "      <td>651.292</td>\n",
       "      <td>83.0</td>\n",
       "      <td>0.0</td>\n",
       "      <td>0.0</td>\n",
       "      <td>29.214</td>\n",
       "    </tr>\n",
       "    <tr>\n",
       "      <th>2013-01-03</th>\n",
       "      <td>3.0</td>\n",
       "      <td>0.0</td>\n",
       "      <td>0.0</td>\n",
       "      <td>919.0</td>\n",
       "      <td>0.0</td>\n",
       "      <td>310.655</td>\n",
       "      <td>0.0</td>\n",
       "      <td>836.0</td>\n",
       "      <td>453.0</td>\n",
       "      <td>151.582</td>\n",
       "      <td>...</td>\n",
       "      <td>0.0</td>\n",
       "      <td>400.863</td>\n",
       "      <td>372.0</td>\n",
       "      <td>0.0</td>\n",
       "      <td>0.0</td>\n",
       "      <td>509.496</td>\n",
       "      <td>66.0</td>\n",
       "      <td>0.0</td>\n",
       "      <td>0.0</td>\n",
       "      <td>25.000</td>\n",
       "    </tr>\n",
       "    <tr>\n",
       "      <th>2013-01-04</th>\n",
       "      <td>3.0</td>\n",
       "      <td>0.0</td>\n",
       "      <td>3.0</td>\n",
       "      <td>953.0</td>\n",
       "      <td>0.0</td>\n",
       "      <td>198.366</td>\n",
       "      <td>0.0</td>\n",
       "      <td>827.0</td>\n",
       "      <td>460.0</td>\n",
       "      <td>131.411</td>\n",
       "      <td>...</td>\n",
       "      <td>0.0</td>\n",
       "      <td>310.878</td>\n",
       "      <td>324.0</td>\n",
       "      <td>0.0</td>\n",
       "      <td>0.0</td>\n",
       "      <td>332.672</td>\n",
       "      <td>57.0</td>\n",
       "      <td>0.0</td>\n",
       "      <td>0.0</td>\n",
       "      <td>11.000</td>\n",
       "    </tr>\n",
       "    <tr>\n",
       "      <th>2013-01-05</th>\n",
       "      <td>5.0</td>\n",
       "      <td>0.0</td>\n",
       "      <td>3.0</td>\n",
       "      <td>1160.0</td>\n",
       "      <td>0.0</td>\n",
       "      <td>301.057</td>\n",
       "      <td>0.0</td>\n",
       "      <td>811.0</td>\n",
       "      <td>464.0</td>\n",
       "      <td>118.613</td>\n",
       "      <td>...</td>\n",
       "      <td>0.0</td>\n",
       "      <td>447.685</td>\n",
       "      <td>461.0</td>\n",
       "      <td>0.0</td>\n",
       "      <td>0.0</td>\n",
       "      <td>510.919</td>\n",
       "      <td>84.0</td>\n",
       "      <td>0.0</td>\n",
       "      <td>0.0</td>\n",
       "      <td>28.361</td>\n",
       "    </tr>\n",
       "  </tbody>\n",
       "</table>\n",
       "<p>5 rows × 1782 columns</p>\n",
       "</div>"
      ],
      "text/plain": [
       "            1,AUTOMOTIVE  1,BABY CARE  1,BEAUTY  1,BEVERAGES  1,BOOKS  \\\n",
       "date                                                                    \n",
       "2013-01-01           0.0          0.0       0.0          0.0      0.0   \n",
       "2013-01-02           2.0          0.0       2.0       1091.0      0.0   \n",
       "2013-01-03           3.0          0.0       0.0        919.0      0.0   \n",
       "2013-01-04           3.0          0.0       3.0        953.0      0.0   \n",
       "2013-01-05           5.0          0.0       3.0       1160.0      0.0   \n",
       "\n",
       "            1,BREAD/BAKERY  1,CELEBRATION  1,CLEANING  1,DAIRY   1,DELI  ...  \\\n",
       "date                                                                     ...   \n",
       "2013-01-01           0.000            0.0         0.0      0.0    0.000  ...   \n",
       "2013-01-02         470.652            0.0      1060.0    579.0  164.069  ...   \n",
       "2013-01-03         310.655            0.0       836.0    453.0  151.582  ...   \n",
       "2013-01-04         198.366            0.0       827.0    460.0  131.411  ...   \n",
       "2013-01-05         301.057            0.0       811.0    464.0  118.613  ...   \n",
       "\n",
       "            9,MAGAZINES  9,MEATS  9,PERSONAL CARE  9,PET SUPPLIES  \\\n",
       "date                                                                \n",
       "2013-01-01          0.0    0.000              0.0             0.0   \n",
       "2013-01-02          0.0  374.531            482.0             0.0   \n",
       "2013-01-03          0.0  400.863            372.0             0.0   \n",
       "2013-01-04          0.0  310.878            324.0             0.0   \n",
       "2013-01-05          0.0  447.685            461.0             0.0   \n",
       "\n",
       "            9,PLAYERS AND ELECTRONICS  9,POULTRY  9,PREPARED FOODS  9,PRODUCE  \\\n",
       "date                                                                            \n",
       "2013-01-01                        0.0      0.000               0.0        0.0   \n",
       "2013-01-02                        0.0    651.292              83.0        0.0   \n",
       "2013-01-03                        0.0    509.496              66.0        0.0   \n",
       "2013-01-04                        0.0    332.672              57.0        0.0   \n",
       "2013-01-05                        0.0    510.919              84.0        0.0   \n",
       "\n",
       "            9,SCHOOL AND OFFICE SUPPLIES  9,SEAFOOD  \n",
       "date                                                 \n",
       "2013-01-01                           0.0      0.000  \n",
       "2013-01-02                           0.0     29.214  \n",
       "2013-01-03                           0.0     25.000  \n",
       "2013-01-04                           0.0     11.000  \n",
       "2013-01-05                           0.0     28.361  \n",
       "\n",
       "[5 rows x 1782 columns]"
      ]
     },
     "execution_count": 6,
     "metadata": {},
     "output_type": "execute_result"
    }
   ],
   "source": [
    "grp = data.groupby(['store_nbr', 'family'])\n",
    "\n",
    "df = pd.DataFrame()\n",
    "\n",
    "for s in stores:\n",
    "    for f in families:\n",
    "        grp_sel = grp.get_group((s, f))\n",
    "        col_name = str(s)+\",\"+f\n",
    "        df_temp = pd.DataFrame(grp_sel['sales']).rename(columns={'sales': col_name})\n",
    "        df = pd.concat([df, df_temp], axis=1)\n",
    "\n",
    "df.head()"
   ]
  },
  {
   "cell_type": "code",
   "execution_count": 7,
   "id": "6afed8ac",
   "metadata": {},
   "outputs": [],
   "source": [
    "# train-test split: the last 16 days as testing set\n",
    "n_train = len(df)-16\n",
    "df_train = df[7:n_train] #starting from day 8\n",
    "df_test = df[n_train:]"
   ]
  },
  {
   "cell_type": "markdown",
   "id": "afdfbfa3",
   "metadata": {},
   "source": [
    "## 5.5 Modeling<a id='5.5'></a>"
   ]
  },
  {
   "cell_type": "markdown",
   "id": "d466d3bc",
   "metadata": {},
   "source": [
    "### 5.5.1 Apply auto_arima() for single timeseries<a id='5.5.1'></a>"
   ]
  },
  {
   "cell_type": "code",
   "execution_count": 8,
   "id": "38663b7d",
   "metadata": {},
   "outputs": [],
   "source": [
    "y1_train = df_train[\"1,AUTOMOTIVE\"] # first column\n",
    "y1_test = df_test[\"1,AUTOMOTIVE\"]"
   ]
  },
  {
   "cell_type": "code",
   "execution_count": 9,
   "id": "58e89e51",
   "metadata": {
    "scrolled": false
   },
   "outputs": [
    {
     "name": "stdout",
     "output_type": "stream",
     "text": [
      "Performing stepwise search to minimize aic\n",
      " ARIMA(0,0,0)(1,0,1)[7] intercept   : AIC=7891.125, Time=0.96 sec\n",
      " ARIMA(0,0,0)(0,0,0)[7] intercept   : AIC=8089.233, Time=0.02 sec\n",
      " ARIMA(1,0,0)(1,0,0)[7] intercept   : AIC=8038.275, Time=0.38 sec\n",
      " ARIMA(0,0,1)(0,0,1)[7] intercept   : AIC=8048.556, Time=0.27 sec\n",
      " ARIMA(0,0,0)(0,0,0)[7]             : AIC=9526.536, Time=0.02 sec\n",
      " ARIMA(0,0,0)(0,0,1)[7] intercept   : AIC=8059.133, Time=0.12 sec\n",
      " ARIMA(0,0,0)(1,0,0)[7] intercept   : AIC=8047.737, Time=0.21 sec\n",
      " ARIMA(0,0,0)(2,0,1)[7] intercept   : AIC=7898.131, Time=2.12 sec\n",
      " ARIMA(0,0,0)(1,0,2)[7] intercept   : AIC=7891.691, Time=2.33 sec\n",
      " ARIMA(0,0,0)(0,0,2)[7] intercept   : AIC=8018.471, Time=0.34 sec\n",
      " ARIMA(0,0,0)(2,0,0)[7] intercept   : AIC=7992.324, Time=0.50 sec\n",
      " ARIMA(0,0,0)(2,0,2)[7] intercept   : AIC=7895.121, Time=2.19 sec\n",
      " ARIMA(1,0,0)(1,0,1)[7] intercept   : AIC=7892.120, Time=1.27 sec\n",
      " ARIMA(0,0,1)(1,0,1)[7] intercept   : AIC=7892.113, Time=1.35 sec\n",
      " ARIMA(1,0,1)(1,0,1)[7] intercept   : AIC=7892.662, Time=1.71 sec\n",
      " ARIMA(0,0,0)(1,0,1)[7]             : AIC=7913.798, Time=0.85 sec\n",
      "\n",
      "Best model:  ARIMA(0,0,0)(1,0,1)[7] intercept\n",
      "Total fit time: 14.689 seconds\n",
      "                                 SARIMAX Results                                 \n",
      "=================================================================================\n",
      "Dep. Variable:                         y   No. Observations:                 1661\n",
      "Model:             SARIMAX(1, 0, [1], 7)   Log Likelihood               -3941.562\n",
      "Date:                   Thu, 21 Sep 2023   AIC                           7891.125\n",
      "Time:                           08:53:05   BIC                           7912.785\n",
      "Sample:                                0   HQIC                          7899.153\n",
      "                                  - 1661                                         \n",
      "Covariance Type:                     opg                                         \n",
      "==============================================================================\n",
      "                 coef    std err          z      P>|z|      [0.025      0.975]\n",
      "------------------------------------------------------------------------------\n",
      "intercept      0.0693      0.027      2.574      0.010       0.017       0.122\n",
      "ar.S.L7        0.9784      0.008    121.930      0.000       0.963       0.994\n",
      "ma.S.L7       -0.8997      0.015    -58.495      0.000      -0.930      -0.870\n",
      "sigma2         6.7244      0.172     39.209      0.000       6.388       7.061\n",
      "===================================================================================\n",
      "Ljung-Box (L1) (Q):                   0.95   Jarque-Bera (JB):              1431.77\n",
      "Prob(Q):                              0.33   Prob(JB):                         0.00\n",
      "Heteroskedasticity (H):               1.75   Skew:                             1.42\n",
      "Prob(H) (two-sided):                  0.00   Kurtosis:                         6.55\n",
      "===================================================================================\n",
      "\n",
      "Warnings:\n",
      "[1] Covariance matrix calculated using the outer product of gradients (complex-step).\n"
     ]
    }
   ],
   "source": [
    "# use pmdarima to automatically select best ARIMA model\n",
    "model = pm.auto_arima(y1_train,                    \n",
    "                      start_p=0, start_q=0, # minimum p and q\n",
    "                      max_p=7, max_q=7,     # maximum p and q\n",
    "                      max_order=None,\n",
    "                      test='adf',           # use adftest to find optimal 'd'\n",
    "                      seasonal=True,\n",
    "                      m=7,                   # seasonality: weekly\n",
    "                      d=None,               # let model determine 'd' (order of first-differencing)\n",
    "                      D=None,               # let model determine 'D' (order of the seasonal differencing)\n",
    "                      trace=True,           # print status on the fits\n",
    "                      error_action='ignore',\n",
    "                      suppress_warnings=True,\n",
    "                      stepwise=True)\n",
    "\n",
    "# print model summary\n",
    "print(model.summary())"
   ]
  },
  {
   "cell_type": "code",
   "execution_count": 10,
   "id": "3cd05348",
   "metadata": {},
   "outputs": [
    {
     "data": {
      "text/plain": [
       "ARIMA(order=(0, 0, 0), scoring_args={}, seasonal_order=(1, 0, 1, 7),\n",
       "      suppress_warnings=True)"
      ]
     },
     "execution_count": 10,
     "metadata": {},
     "output_type": "execute_result"
    }
   ],
   "source": [
    "model"
   ]
  },
  {
   "cell_type": "code",
   "execution_count": 11,
   "id": "ce8844c0",
   "metadata": {
    "scrolled": true
   },
   "outputs": [
    {
     "name": "stderr",
     "output_type": "stream",
     "text": [
      "/opt/anaconda3/lib/python3.9/site-packages/statsmodels/tsa/base/tsa_model.py:834: ValueWarning: No supported index is available. Prediction results will be given with an integer index beginning at `start`.\n",
      "  return get_prediction_index(\n"
     ]
    }
   ],
   "source": [
    "# make forecasts\n",
    "y1_pred = model.predict(y1_test.shape[0])  # predict N steps into the future"
   ]
  },
  {
   "cell_type": "code",
   "execution_count": 12,
   "id": "82dc742d",
   "metadata": {},
   "outputs": [
    {
     "name": "stdout",
     "output_type": "stream",
     "text": [
      "MAPE: 0.768867594013641\n"
     ]
    }
   ],
   "source": [
    "# APE = ABS((actual - predicted) / actual)\n",
    "APE_y1 = abs( (y1_test.values - y1_pred.values) / y1_test.values) # ma: moving average model\n",
    "\n",
    "# MEAN(APE)\n",
    "mAPE_y1 = np.mean(APE_y1)\n",
    "print('MAPE: '+str(mAPE_y1))"
   ]
  },
  {
   "cell_type": "code",
   "execution_count": 13,
   "id": "4403197e",
   "metadata": {
    "scrolled": false
   },
   "outputs": [
    {
     "data": {
      "image/png": "[encoded data removed]",
      "text/plain": [
       "<Figure size 640x480 with 1 Axes>"
      ]
     },
     "metadata": {},
     "output_type": "display_data"
    }
   ],
   "source": [
    "# predicted-vs-actual scatterplot\n",
    "fig, ax = plt.subplots()\n",
    "ax.scatter(y1_test.values, y1_pred.values)\n",
    "plt.xlabel(\"predicted values\")\n",
    "plt.ylabel(\"original values\")\n",
    "ax.axline((1,1), slope=1, color = 'red')\n",
    "plt.show()"
   ]
  },
  {
   "cell_type": "markdown",
   "id": "c1ea23c9",
   "metadata": {},
   "source": [
    "### 5.5.2 Apply auto_arima() for multiple timeseries<a id='5.5.2'></a>"
   ]
  },
  {
   "cell_type": "code",
   "execution_count": 118,
   "id": "8eda7fdb",
   "metadata": {
    "scrolled": true
   },
   "outputs": [
    {
     "data": {
      "text/html": [
       "<div>\n",
       "<style scoped>\n",
       "    .dataframe tbody tr th:only-of-type {\n",
       "        vertical-align: middle;\n",
       "    }\n",
       "\n",
       "    .dataframe tbody tr th {\n",
       "        vertical-align: top;\n",
       "    }\n",
       "\n",
       "    .dataframe thead th {\n",
       "        text-align: right;\n",
       "    }\n",
       "</style>\n",
       "<table border=\"1\" class=\"dataframe\">\n",
       "  <thead>\n",
       "    <tr style=\"text-align: right;\">\n",
       "      <th></th>\n",
       "      <th>1,BREAD/BAKERY</th>\n",
       "      <th>1,DAIRY</th>\n",
       "      <th>1,GROCERY I</th>\n",
       "      <th>2,BREAD/BAKERY</th>\n",
       "      <th>2,DAIRY</th>\n",
       "      <th>2,GROCERY I</th>\n",
       "      <th>3,BREAD/BAKERY</th>\n",
       "      <th>3,DAIRY</th>\n",
       "      <th>3,GROCERY I</th>\n",
       "      <th>4,BREAD/BAKERY</th>\n",
       "      <th>4,DAIRY</th>\n",
       "      <th>4,GROCERY I</th>\n",
       "      <th>5,BREAD/BAKERY</th>\n",
       "      <th>5,DAIRY</th>\n",
       "      <th>5,GROCERY I</th>\n",
       "      <th>6,BREAD/BAKERY</th>\n",
       "      <th>6,DAIRY</th>\n",
       "      <th>6,GROCERY I</th>\n",
       "    </tr>\n",
       "    <tr>\n",
       "      <th>date</th>\n",
       "      <th></th>\n",
       "      <th></th>\n",
       "      <th></th>\n",
       "      <th></th>\n",
       "      <th></th>\n",
       "      <th></th>\n",
       "      <th></th>\n",
       "      <th></th>\n",
       "      <th></th>\n",
       "      <th></th>\n",
       "      <th></th>\n",
       "      <th></th>\n",
       "      <th></th>\n",
       "      <th></th>\n",
       "      <th></th>\n",
       "      <th></th>\n",
       "      <th></th>\n",
       "      <th></th>\n",
       "    </tr>\n",
       "  </thead>\n",
       "  <tbody>\n",
       "    <tr>\n",
       "      <th>2013-01-01</th>\n",
       "      <td>0.000</td>\n",
       "      <td>0.0</td>\n",
       "      <td>0.0</td>\n",
       "      <td>0.000</td>\n",
       "      <td>0.0</td>\n",
       "      <td>0.0</td>\n",
       "      <td>0.000</td>\n",
       "      <td>0.0</td>\n",
       "      <td>0.0</td>\n",
       "      <td>0.000</td>\n",
       "      <td>0.0</td>\n",
       "      <td>0.0</td>\n",
       "      <td>0.000</td>\n",
       "      <td>0.0</td>\n",
       "      <td>0.0</td>\n",
       "      <td>0.000</td>\n",
       "      <td>0.0</td>\n",
       "      <td>0.0</td>\n",
       "    </tr>\n",
       "    <tr>\n",
       "      <th>2013-01-02</th>\n",
       "      <td>470.652</td>\n",
       "      <td>579.0</td>\n",
       "      <td>2652.0</td>\n",
       "      <td>523.882</td>\n",
       "      <td>651.0</td>\n",
       "      <td>3870.0</td>\n",
       "      <td>1361.636</td>\n",
       "      <td>1606.0</td>\n",
       "      <td>8463.0</td>\n",
       "      <td>422.537</td>\n",
       "      <td>589.0</td>\n",
       "      <td>4087.0</td>\n",
       "      <td>566.917</td>\n",
       "      <td>414.0</td>\n",
       "      <td>4558.0</td>\n",
       "      <td>689.217</td>\n",
       "      <td>683.0</td>\n",
       "      <td>5535.0</td>\n",
       "    </tr>\n",
       "    <tr>\n",
       "      <th>2013-01-03</th>\n",
       "      <td>310.655</td>\n",
       "      <td>453.0</td>\n",
       "      <td>2121.0</td>\n",
       "      <td>321.693</td>\n",
       "      <td>461.0</td>\n",
       "      <td>2640.0</td>\n",
       "      <td>886.184</td>\n",
       "      <td>1377.0</td>\n",
       "      <td>6712.0</td>\n",
       "      <td>273.752</td>\n",
       "      <td>431.0</td>\n",
       "      <td>2824.0</td>\n",
       "      <td>377.887</td>\n",
       "      <td>366.0</td>\n",
       "      <td>3260.0</td>\n",
       "      <td>412.324</td>\n",
       "      <td>542.0</td>\n",
       "      <td>4040.0</td>\n",
       "    </tr>\n",
       "    <tr>\n",
       "      <th>2013-01-04</th>\n",
       "      <td>198.366</td>\n",
       "      <td>460.0</td>\n",
       "      <td>2056.0</td>\n",
       "      <td>299.012</td>\n",
       "      <td>480.0</td>\n",
       "      <td>2697.0</td>\n",
       "      <td>784.331</td>\n",
       "      <td>1244.0</td>\n",
       "      <td>5731.0</td>\n",
       "      <td>278.560</td>\n",
       "      <td>411.0</td>\n",
       "      <td>2688.0</td>\n",
       "      <td>335.761</td>\n",
       "      <td>309.0</td>\n",
       "      <td>3085.0</td>\n",
       "      <td>306.411</td>\n",
       "      <td>481.0</td>\n",
       "      <td>3314.0</td>\n",
       "    </tr>\n",
       "    <tr>\n",
       "      <th>2013-01-05</th>\n",
       "      <td>301.057</td>\n",
       "      <td>464.0</td>\n",
       "      <td>2216.0</td>\n",
       "      <td>385.333</td>\n",
       "      <td>620.0</td>\n",
       "      <td>3545.0</td>\n",
       "      <td>1066.981</td>\n",
       "      <td>1458.0</td>\n",
       "      <td>7823.0</td>\n",
       "      <td>371.690</td>\n",
       "      <td>660.0</td>\n",
       "      <td>3731.0</td>\n",
       "      <td>402.286</td>\n",
       "      <td>356.0</td>\n",
       "      <td>3398.0</td>\n",
       "      <td>502.045</td>\n",
       "      <td>654.0</td>\n",
       "      <td>4857.0</td>\n",
       "    </tr>\n",
       "  </tbody>\n",
       "</table>\n",
       "</div>"
      ],
      "text/plain": [
       "            1,BREAD/BAKERY  1,DAIRY  1,GROCERY I  2,BREAD/BAKERY  2,DAIRY  \\\n",
       "date                                                                        \n",
       "2013-01-01           0.000      0.0          0.0           0.000      0.0   \n",
       "2013-01-02         470.652    579.0       2652.0         523.882    651.0   \n",
       "2013-01-03         310.655    453.0       2121.0         321.693    461.0   \n",
       "2013-01-04         198.366    460.0       2056.0         299.012    480.0   \n",
       "2013-01-05         301.057    464.0       2216.0         385.333    620.0   \n",
       "\n",
       "            2,GROCERY I  3,BREAD/BAKERY  3,DAIRY  3,GROCERY I  4,BREAD/BAKERY  \\\n",
       "date                                                                            \n",
       "2013-01-01          0.0           0.000      0.0          0.0           0.000   \n",
       "2013-01-02       3870.0        1361.636   1606.0       8463.0         422.537   \n",
       "2013-01-03       2640.0         886.184   1377.0       6712.0         273.752   \n",
       "2013-01-04       2697.0         784.331   1244.0       5731.0         278.560   \n",
       "2013-01-05       3545.0        1066.981   1458.0       7823.0         371.690   \n",
       "\n",
       "            4,DAIRY  4,GROCERY I  5,BREAD/BAKERY  5,DAIRY  5,GROCERY I  \\\n",
       "date                                                                     \n",
       "2013-01-01      0.0          0.0           0.000      0.0          0.0   \n",
       "2013-01-02    589.0       4087.0         566.917    414.0       4558.0   \n",
       "2013-01-03    431.0       2824.0         377.887    366.0       3260.0   \n",
       "2013-01-04    411.0       2688.0         335.761    309.0       3085.0   \n",
       "2013-01-05    660.0       3731.0         402.286    356.0       3398.0   \n",
       "\n",
       "            6,BREAD/BAKERY  6,DAIRY  6,GROCERY I  \n",
       "date                                              \n",
       "2013-01-01           0.000      0.0          0.0  \n",
       "2013-01-02         689.217    683.0       5535.0  \n",
       "2013-01-03         412.324    542.0       4040.0  \n",
       "2013-01-04         306.411    481.0       3314.0  \n",
       "2013-01-05         502.045    654.0       4857.0  "
      ]
     },
     "execution_count": 118,
     "metadata": {},
     "output_type": "execute_result"
    }
   ],
   "source": [
    "stores1 = [*range(1, 7, 1)] # No.1-6 stores\n",
    "families1 = ['BREAD/BAKERY', 'DAIRY', 'GROCERY I']\n",
    "\n",
    "grp = data.groupby(['store_nbr', 'family'])\n",
    "\n",
    "df0 = pd.DataFrame()\n",
    "\n",
    "for s in stores1:\n",
    "    for f in families1:\n",
    "        grp_sel = grp.get_group((s, f))\n",
    "        col_name = str(s)+\",\"+f\n",
    "        df_temp = pd.DataFrame(grp_sel['sales']).rename(columns={'sales': col_name})\n",
    "        df0 = pd.concat([df0, df_temp], axis=1)\n",
    "\n",
    "df0.head()"
   ]
  },
  {
   "cell_type": "code",
   "execution_count": 119,
   "id": "145f68d3",
   "metadata": {},
   "outputs": [
    {
     "data": {
      "text/plain": [
       "(1684, 18)"
      ]
     },
     "execution_count": 119,
     "metadata": {},
     "output_type": "execute_result"
    }
   ],
   "source": [
    "df0.shape"
   ]
  },
  {
   "cell_type": "code",
   "execution_count": 120,
   "id": "f527c5c3",
   "metadata": {},
   "outputs": [
    {
     "data": {
      "text/plain": [
       "(1684, 18)"
      ]
     },
     "execution_count": 120,
     "metadata": {},
     "output_type": "execute_result"
    }
   ],
   "source": [
    "# Drop columns with more than 50% zeros\n",
    "df1 = df0.loc[:, (df0==0).mean() < 0.5]\n",
    "\n",
    "df1_train = df1[7:n_train] #starting from day 8\n",
    "df1_test = df1[n_train:]\n",
    "\n",
    "df1.shape"
   ]
  },
  {
   "cell_type": "code",
   "execution_count": 115,
   "id": "e9c7841a",
   "metadata": {
    "scrolled": false
   },
   "outputs": [
    {
     "name": "stdout",
     "output_type": "stream",
     "text": [
      "Performing stepwise search to minimize aic\n",
      " ARIMA(0,0,0)(1,0,1)[7] intercept   : AIC=20443.337, Time=1.42 sec\n",
      " ARIMA(0,0,0)(0,0,0)[7] intercept   : AIC=21656.182, Time=0.03 sec\n",
      " ARIMA(1,0,0)(1,0,0)[7] intercept   : AIC=20011.965, Time=1.40 sec\n",
      " ARIMA(0,0,1)(0,0,1)[7] intercept   : AIC=20595.747, Time=0.57 sec\n",
      " ARIMA(0,0,0)(0,0,0)[7]             : AIC=26304.557, Time=0.02 sec\n",
      " ARIMA(1,0,0)(0,0,0)[7] intercept   : AIC=20519.116, Time=0.07 sec\n"
     ]
    },
    {
     "name": "stderr",
     "output_type": "stream",
     "text": [
      "/opt/anaconda3/lib/python3.9/site-packages/statsmodels/tsa/statespace/sarimax.py:1899: RuntimeWarning: invalid value encountered in reciprocal\n",
      "  return np.roots(self.polynomial_reduced_ar)**-1\n"
     ]
    },
    {
     "name": "stdout",
     "output_type": "stream",
     "text": [
      " ARIMA(1,0,0)(2,0,0)[7] intercept   : AIC=19841.982, Time=2.96 sec\n",
      " ARIMA(1,0,0)(2,0,1)[7] intercept   : AIC=20191.987, Time=4.54 sec\n",
      " ARIMA(1,0,0)(1,0,1)[7] intercept   : AIC=19990.183, Time=1.81 sec\n",
      " ARIMA(0,0,0)(2,0,0)[7] intercept   : AIC=inf, Time=2.89 sec\n",
      " ARIMA(2,0,0)(2,0,0)[7] intercept   : AIC=19771.695, Time=3.23 sec\n",
      " ARIMA(2,0,0)(1,0,0)[7] intercept   : AIC=19873.088, Time=2.07 sec\n",
      " ARIMA(2,0,0)(2,0,1)[7] intercept   : AIC=19754.616, Time=4.70 sec\n",
      " ARIMA(2,0,0)(1,0,1)[7] intercept   : AIC=19790.916, Time=2.04 sec\n",
      " ARIMA(2,0,0)(2,0,2)[7] intercept   : AIC=inf, Time=5.16 sec\n",
      " ARIMA(2,0,0)(1,0,2)[7] intercept   : AIC=19778.018, Time=4.21 sec\n",
      " ARIMA(3,0,0)(2,0,1)[7] intercept   : AIC=96.267, Time=21.99 sec\n",
      " ARIMA(3,0,0)(1,0,1)[7] intercept   : AIC=20526.583, Time=1.33 sec\n",
      " ARIMA(3,0,0)(2,0,0)[7] intercept   : AIC=inf, Time=12.21 sec\n",
      " ARIMA(3,0,0)(2,0,2)[7] intercept   : AIC=inf, Time=6.90 sec\n",
      " ARIMA(3,0,0)(1,0,0)[7] intercept   : AIC=19862.546, Time=1.68 sec\n",
      " ARIMA(3,0,0)(1,0,2)[7] intercept   : AIC=19760.087, Time=4.62 sec\n",
      " ARIMA(4,0,0)(2,0,1)[7] intercept   : AIC=19714.728, Time=6.53 sec\n",
      " ARIMA(3,0,1)(2,0,1)[7] intercept   : AIC=inf, Time=9.60 sec\n",
      " ARIMA(2,0,1)(2,0,1)[7] intercept   : AIC=21575.869, Time=1.69 sec\n",
      " ARIMA(4,0,1)(2,0,1)[7] intercept   : AIC=inf, Time=10.95 sec\n",
      " ARIMA(3,0,0)(2,0,1)[7]             : AIC=19613.875, Time=4.57 sec\n",
      "\n",
      "Best model:  ARIMA(3,0,0)(2,0,1)[7] intercept\n",
      "Total fit time: 119.229 seconds\n"
     ]
    },
    {
     "name": "stderr",
     "output_type": "stream",
     "text": [
      "/opt/anaconda3/lib/python3.9/site-packages/statsmodels/tsa/base/tsa_model.py:834: ValueWarning: No supported index is available. Prediction results will be given with an integer index beginning at `start`.\n",
      "  return get_prediction_index(\n"
     ]
    },
    {
     "ename": "ValueError",
     "evalue": "Input contains NaN, infinity or a value too large for dtype('float64').",
     "output_type": "error",
     "traceback": [
      "\u001b[0;31m---------------------------------------------------------------------------\u001b[0m",
      "\u001b[0;31mValueError\u001b[0m                                Traceback (most recent call last)",
      "\u001b[0;32m/var/folders/b_/sb7704715rsddlq6wbr7j61r0000gn/T/ipykernel_90879/2732216235.py\u001b[0m in \u001b[0;36m<module>\u001b[0;34m\u001b[0m\n\u001b[1;32m     19\u001b[0m                       stepwise=True)\n\u001b[1;32m     20\u001b[0m \u001b[0;34m\u001b[0m\u001b[0m\n\u001b[0;32m---> 21\u001b[0;31m     \u001b[0my_pred\u001b[0m \u001b[0;34m=\u001b[0m \u001b[0mmodel\u001b[0m\u001b[0;34m.\u001b[0m\u001b[0mpredict\u001b[0m\u001b[0;34m(\u001b[0m\u001b[0my_test\u001b[0m\u001b[0;34m.\u001b[0m\u001b[0mshape\u001b[0m\u001b[0;34m[\u001b[0m\u001b[0;36m0\u001b[0m\u001b[0;34m]\u001b[0m\u001b[0;34m)\u001b[0m\u001b[0;34m.\u001b[0m\u001b[0mtolist\u001b[0m\u001b[0;34m(\u001b[0m\u001b[0;34m)\u001b[0m\u001b[0;34m\u001b[0m\u001b[0;34m\u001b[0m\u001b[0m\n\u001b[0m\u001b[1;32m     22\u001b[0m \u001b[0;34m\u001b[0m\u001b[0m\n\u001b[1;32m     23\u001b[0m     \u001b[0mAPE_y\u001b[0m \u001b[0;34m=\u001b[0m \u001b[0mabs\u001b[0m\u001b[0;34m(\u001b[0m \u001b[0;34m(\u001b[0m\u001b[0my_test\u001b[0m\u001b[0;34m.\u001b[0m\u001b[0mvalues\u001b[0m \u001b[0;34m-\u001b[0m \u001b[0my_pred\u001b[0m\u001b[0;34m.\u001b[0m\u001b[0mvalues\u001b[0m\u001b[0;34m)\u001b[0m \u001b[0;34m/\u001b[0m \u001b[0my_test\u001b[0m\u001b[0;34m.\u001b[0m\u001b[0mvalues\u001b[0m\u001b[0;34m)\u001b[0m\u001b[0;34m\u001b[0m\u001b[0;34m\u001b[0m\u001b[0m\n",
      "\u001b[0;32m/opt/anaconda3/lib/python3.9/site-packages/pmdarima/arima/arima.py\u001b[0m in \u001b[0;36mpredict\u001b[0;34m(self, n_periods, X, return_conf_int, alpha, **kwargs)\u001b[0m\n\u001b[1;32m    794\u001b[0m         \u001b[0mend\u001b[0m \u001b[0;34m=\u001b[0m \u001b[0marima\u001b[0m\u001b[0;34m.\u001b[0m\u001b[0mnobs\u001b[0m \u001b[0;34m+\u001b[0m \u001b[0mn_periods\u001b[0m \u001b[0;34m-\u001b[0m \u001b[0;36m1\u001b[0m\u001b[0;34m\u001b[0m\u001b[0;34m\u001b[0m\u001b[0m\n\u001b[1;32m    795\u001b[0m \u001b[0;34m\u001b[0m\u001b[0m\n\u001b[0;32m--> 796\u001b[0;31m         f, conf_int = _seasonal_prediction_with_confidence(\n\u001b[0m\u001b[1;32m    797\u001b[0m             \u001b[0marima_res\u001b[0m\u001b[0;34m=\u001b[0m\u001b[0marima\u001b[0m\u001b[0;34m,\u001b[0m\u001b[0;34m\u001b[0m\u001b[0;34m\u001b[0m\u001b[0m\n\u001b[1;32m    798\u001b[0m             \u001b[0mstart\u001b[0m\u001b[0;34m=\u001b[0m\u001b[0marima\u001b[0m\u001b[0;34m.\u001b[0m\u001b[0mnobs\u001b[0m\u001b[0;34m,\u001b[0m\u001b[0;34m\u001b[0m\u001b[0;34m\u001b[0m\u001b[0m\n",
      "\u001b[0;32m/opt/anaconda3/lib/python3.9/site-packages/pmdarima/arima/arima.py\u001b[0m in \u001b[0;36m_seasonal_prediction_with_confidence\u001b[0;34m(arima_res, start, end, X, alpha, **kwargs)\u001b[0m\n\u001b[1;32m    203\u001b[0m \u001b[0;34m\u001b[0m\u001b[0m\n\u001b[1;32m    204\u001b[0m     \u001b[0my_pred\u001b[0m \u001b[0;34m=\u001b[0m \u001b[0mcheck_endog\u001b[0m\u001b[0;34m(\u001b[0m\u001b[0mf\u001b[0m\u001b[0;34m,\u001b[0m \u001b[0mdtype\u001b[0m\u001b[0;34m=\u001b[0m\u001b[0;32mNone\u001b[0m\u001b[0;34m,\u001b[0m \u001b[0mcopy\u001b[0m\u001b[0;34m=\u001b[0m\u001b[0;32mFalse\u001b[0m\u001b[0;34m,\u001b[0m \u001b[0mpreserve_series\u001b[0m\u001b[0;34m=\u001b[0m\u001b[0;32mTrue\u001b[0m\u001b[0;34m)\u001b[0m\u001b[0;34m\u001b[0m\u001b[0;34m\u001b[0m\u001b[0m\n\u001b[0;32m--> 205\u001b[0;31m     \u001b[0mconf_int\u001b[0m \u001b[0;34m=\u001b[0m \u001b[0mcheck_array\u001b[0m\u001b[0;34m(\u001b[0m\u001b[0mconf_int\u001b[0m\u001b[0;34m,\u001b[0m \u001b[0mcopy\u001b[0m\u001b[0;34m=\u001b[0m\u001b[0;32mFalse\u001b[0m\u001b[0;34m,\u001b[0m \u001b[0mdtype\u001b[0m\u001b[0;34m=\u001b[0m\u001b[0;32mNone\u001b[0m\u001b[0;34m)\u001b[0m\u001b[0;34m\u001b[0m\u001b[0;34m\u001b[0m\u001b[0m\n\u001b[0m\u001b[1;32m    206\u001b[0m \u001b[0;34m\u001b[0m\u001b[0m\n\u001b[1;32m    207\u001b[0m     \u001b[0;32mreturn\u001b[0m \u001b[0my_pred\u001b[0m\u001b[0;34m,\u001b[0m \u001b[0mconf_int\u001b[0m\u001b[0;34m\u001b[0m\u001b[0;34m\u001b[0m\u001b[0m\n",
      "\u001b[0;32m/opt/anaconda3/lib/python3.9/site-packages/sklearn/utils/validation.py\u001b[0m in \u001b[0;36mcheck_array\u001b[0;34m(array, accept_sparse, accept_large_sparse, dtype, order, copy, force_all_finite, ensure_2d, allow_nd, ensure_min_samples, ensure_min_features, estimator)\u001b[0m\n\u001b[1;32m    798\u001b[0m \u001b[0;34m\u001b[0m\u001b[0m\n\u001b[1;32m    799\u001b[0m         \u001b[0;32mif\u001b[0m \u001b[0mforce_all_finite\u001b[0m\u001b[0;34m:\u001b[0m\u001b[0;34m\u001b[0m\u001b[0;34m\u001b[0m\u001b[0m\n\u001b[0;32m--> 800\u001b[0;31m             \u001b[0m_assert_all_finite\u001b[0m\u001b[0;34m(\u001b[0m\u001b[0marray\u001b[0m\u001b[0;34m,\u001b[0m \u001b[0mallow_nan\u001b[0m\u001b[0;34m=\u001b[0m\u001b[0mforce_all_finite\u001b[0m \u001b[0;34m==\u001b[0m \u001b[0;34m\"allow-nan\"\u001b[0m\u001b[0;34m)\u001b[0m\u001b[0;34m\u001b[0m\u001b[0;34m\u001b[0m\u001b[0m\n\u001b[0m\u001b[1;32m    801\u001b[0m \u001b[0;34m\u001b[0m\u001b[0m\n\u001b[1;32m    802\u001b[0m     \u001b[0;32mif\u001b[0m \u001b[0mensure_min_samples\u001b[0m \u001b[0;34m>\u001b[0m \u001b[0;36m0\u001b[0m\u001b[0;34m:\u001b[0m\u001b[0;34m\u001b[0m\u001b[0;34m\u001b[0m\u001b[0m\n",
      "\u001b[0;32m/opt/anaconda3/lib/python3.9/site-packages/sklearn/utils/validation.py\u001b[0m in \u001b[0;36m_assert_all_finite\u001b[0;34m(X, allow_nan, msg_dtype)\u001b[0m\n\u001b[1;32m    112\u001b[0m         ):\n\u001b[1;32m    113\u001b[0m             \u001b[0mtype_err\u001b[0m \u001b[0;34m=\u001b[0m \u001b[0;34m\"infinity\"\u001b[0m \u001b[0;32mif\u001b[0m \u001b[0mallow_nan\u001b[0m \u001b[0;32melse\u001b[0m \u001b[0;34m\"NaN, infinity\"\u001b[0m\u001b[0;34m\u001b[0m\u001b[0;34m\u001b[0m\u001b[0m\n\u001b[0;32m--> 114\u001b[0;31m             raise ValueError(\n\u001b[0m\u001b[1;32m    115\u001b[0m                 msg_err.format(\n\u001b[1;32m    116\u001b[0m                     \u001b[0mtype_err\u001b[0m\u001b[0;34m,\u001b[0m \u001b[0mmsg_dtype\u001b[0m \u001b[0;32mif\u001b[0m \u001b[0mmsg_dtype\u001b[0m \u001b[0;32mis\u001b[0m \u001b[0;32mnot\u001b[0m \u001b[0;32mNone\u001b[0m \u001b[0;32melse\u001b[0m \u001b[0mX\u001b[0m\u001b[0;34m.\u001b[0m\u001b[0mdtype\u001b[0m\u001b[0;34m\u001b[0m\u001b[0;34m\u001b[0m\u001b[0m\n",
      "\u001b[0;31mValueError\u001b[0m: Input contains NaN, infinity or a value too large for dtype('float64')."
     ]
    }
   ],
   "source": [
    "# N = len(df1.columns)\n",
    "mAPE = []\n",
    "for group in df1.columns:\n",
    "    y_train = df1_train[group]\n",
    "    y_test = df1_test[group]\n",
    "    \n",
    "    model = pm.auto_arima(y_train,                    \n",
    "                      start_p=0, start_q=0, # minimum p and q\n",
    "                      max_p=7, max_q=7,     # maximum p and q\n",
    "                      max_order=10,#None,\n",
    "                      test='adf',           # use adftest to find optimal 'd'\n",
    "                      seasonal=True,\n",
    "                      m=7,                   # seasonality: weekly\n",
    "                      d=None,               # let model determine 'd' (order of first-differencing)\n",
    "                      D=None,               # let model determine 'D' (order of the seasonal differencing)\n",
    "                      trace=True,#False,           # print status on the fits\n",
    "                      error_action='ignore',\n",
    "                      suppress_warnings=True,\n",
    "                      stepwise=True)\n",
    "    \n",
    "    y_pred = model.predict(y_test.shape[0])\n",
    "    \n",
    "    APE_y = abs( (y_test.values - y_pred.values) / y_test.values)\n",
    "    mAPE_y = np.mean(APE_y)\n",
    "    print(group+' MAPE: '+str(mAPE_y))\n",
    "    \n",
    "    mAPE.append(mAPE_y)\n"
   ]
  },
  {
   "cell_type": "code",
   "execution_count": 44,
   "id": "1b564083",
   "metadata": {
    "scrolled": false
   },
   "outputs": [
    {
     "data": {
      "text/html": [
       "<div>\n",
       "<style scoped>\n",
       "    .dataframe tbody tr th:only-of-type {\n",
       "        vertical-align: middle;\n",
       "    }\n",
       "\n",
       "    .dataframe tbody tr th {\n",
       "        vertical-align: top;\n",
       "    }\n",
       "\n",
       "    .dataframe thead th {\n",
       "        text-align: right;\n",
       "    }\n",
       "</style>\n",
       "<table border=\"1\" class=\"dataframe\">\n",
       "  <thead>\n",
       "    <tr style=\"text-align: right;\">\n",
       "      <th></th>\n",
       "      <th>Group</th>\n",
       "      <th>MAPE</th>\n",
       "    </tr>\n",
       "  </thead>\n",
       "  <tbody>\n",
       "    <tr>\n",
       "      <th>0</th>\n",
       "      <td>1,BREAD/BAKERY</td>\n",
       "      <td>0.255695</td>\n",
       "    </tr>\n",
       "    <tr>\n",
       "      <th>1</th>\n",
       "      <td>1,DAIRY</td>\n",
       "      <td>0.208831</td>\n",
       "    </tr>\n",
       "    <tr>\n",
       "      <th>2</th>\n",
       "      <td>1,GROCERY I</td>\n",
       "      <td>0.279326</td>\n",
       "    </tr>\n",
       "    <tr>\n",
       "      <th>3</th>\n",
       "      <td>2,BREAD/BAKERY</td>\n",
       "      <td>0.077630</td>\n",
       "    </tr>\n",
       "    <tr>\n",
       "      <th>4</th>\n",
       "      <td>2,DAIRY</td>\n",
       "      <td>0.112331</td>\n",
       "    </tr>\n",
       "    <tr>\n",
       "      <th>5</th>\n",
       "      <td>2,GROCERY I</td>\n",
       "      <td>0.145034</td>\n",
       "    </tr>\n",
       "    <tr>\n",
       "      <th>6</th>\n",
       "      <td>3,BREAD/BAKERY</td>\n",
       "      <td>0.062670</td>\n",
       "    </tr>\n",
       "    <tr>\n",
       "      <th>7</th>\n",
       "      <td>3,DAIRY</td>\n",
       "      <td>0.060861</td>\n",
       "    </tr>\n",
       "    <tr>\n",
       "      <th>8</th>\n",
       "      <td>3,GROCERY I</td>\n",
       "      <td>0.114266</td>\n",
       "    </tr>\n",
       "    <tr>\n",
       "      <th>9</th>\n",
       "      <td>4,BREAD/BAKERY</td>\n",
       "      <td>0.149449</td>\n",
       "    </tr>\n",
       "    <tr>\n",
       "      <th>10</th>\n",
       "      <td>4,DAIRY</td>\n",
       "      <td>0.123936</td>\n",
       "    </tr>\n",
       "    <tr>\n",
       "      <th>11</th>\n",
       "      <td>4,GROCERY I</td>\n",
       "      <td>0.173353</td>\n",
       "    </tr>\n",
       "    <tr>\n",
       "      <th>12</th>\n",
       "      <td>5,BREAD/BAKERY</td>\n",
       "      <td>0.090252</td>\n",
       "    </tr>\n",
       "    <tr>\n",
       "      <th>13</th>\n",
       "      <td>5,DAIRY</td>\n",
       "      <td>0.067990</td>\n",
       "    </tr>\n",
       "    <tr>\n",
       "      <th>14</th>\n",
       "      <td>5,GROCERY I</td>\n",
       "      <td>0.094892</td>\n",
       "    </tr>\n",
       "    <tr>\n",
       "      <th>15</th>\n",
       "      <td>6,BREAD/BAKERY</td>\n",
       "      <td>0.102310</td>\n",
       "    </tr>\n",
       "    <tr>\n",
       "      <th>16</th>\n",
       "      <td>6,DAIRY</td>\n",
       "      <td>0.078738</td>\n",
       "    </tr>\n",
       "    <tr>\n",
       "      <th>17</th>\n",
       "      <td>6,GROCERY I</td>\n",
       "      <td>0.095283</td>\n",
       "    </tr>\n",
       "  </tbody>\n",
       "</table>\n",
       "</div>"
      ],
      "text/plain": [
       "             Group      MAPE\n",
       "0   1,BREAD/BAKERY  0.255695\n",
       "1          1,DAIRY  0.208831\n",
       "2      1,GROCERY I  0.279326\n",
       "3   2,BREAD/BAKERY  0.077630\n",
       "4          2,DAIRY  0.112331\n",
       "5      2,GROCERY I  0.145034\n",
       "6   3,BREAD/BAKERY  0.062670\n",
       "7          3,DAIRY  0.060861\n",
       "8      3,GROCERY I  0.114266\n",
       "9   4,BREAD/BAKERY  0.149449\n",
       "10         4,DAIRY  0.123936\n",
       "11     4,GROCERY I  0.173353\n",
       "12  5,BREAD/BAKERY  0.090252\n",
       "13         5,DAIRY  0.067990\n",
       "14     5,GROCERY I  0.094892\n",
       "15  6,BREAD/BAKERY  0.102310\n",
       "16         6,DAIRY  0.078738\n",
       "17     6,GROCERY I  0.095283"
      ]
     },
     "execution_count": 44,
     "metadata": {},
     "output_type": "execute_result"
    }
   ],
   "source": [
    "df_mape = pd.DataFrame()\n",
    "df_mape['Group'] = df1.columns[0:18]\n",
    "df_mape['MAPE'] = mAPE\n",
    "df_mape"
   ]
  },
  {
   "cell_type": "code",
   "execution_count": 50,
   "id": "490e923e",
   "metadata": {},
   "outputs": [
    {
     "data": {
      "text/html": [
       "<div>\n",
       "<style scoped>\n",
       "    .dataframe tbody tr th:only-of-type {\n",
       "        vertical-align: middle;\n",
       "    }\n",
       "\n",
       "    .dataframe tbody tr th {\n",
       "        vertical-align: top;\n",
       "    }\n",
       "\n",
       "    .dataframe thead th {\n",
       "        text-align: right;\n",
       "    }\n",
       "</style>\n",
       "<table border=\"1\" class=\"dataframe\">\n",
       "  <thead>\n",
       "    <tr style=\"text-align: right;\">\n",
       "      <th></th>\n",
       "      <th>Group</th>\n",
       "      <th>MAPE</th>\n",
       "    </tr>\n",
       "  </thead>\n",
       "  <tbody>\n",
       "    <tr>\n",
       "      <th>7</th>\n",
       "      <td>3,DAIRY</td>\n",
       "      <td>0.060861</td>\n",
       "    </tr>\n",
       "    <tr>\n",
       "      <th>6</th>\n",
       "      <td>3,BREAD/BAKERY</td>\n",
       "      <td>0.062670</td>\n",
       "    </tr>\n",
       "    <tr>\n",
       "      <th>13</th>\n",
       "      <td>5,DAIRY</td>\n",
       "      <td>0.067990</td>\n",
       "    </tr>\n",
       "    <tr>\n",
       "      <th>3</th>\n",
       "      <td>2,BREAD/BAKERY</td>\n",
       "      <td>0.077630</td>\n",
       "    </tr>\n",
       "    <tr>\n",
       "      <th>16</th>\n",
       "      <td>6,DAIRY</td>\n",
       "      <td>0.078738</td>\n",
       "    </tr>\n",
       "  </tbody>\n",
       "</table>\n",
       "</div>"
      ],
      "text/plain": [
       "             Group      MAPE\n",
       "7          3,DAIRY  0.060861\n",
       "6   3,BREAD/BAKERY  0.062670\n",
       "13         5,DAIRY  0.067990\n",
       "3   2,BREAD/BAKERY  0.077630\n",
       "16         6,DAIRY  0.078738"
      ]
     },
     "execution_count": 50,
     "metadata": {},
     "output_type": "execute_result"
    }
   ],
   "source": [
    "df_mape.nsmallest(5, 'MAPE')"
   ]
  },
  {
   "cell_type": "code",
   "execution_count": 51,
   "id": "76cf74de",
   "metadata": {},
   "outputs": [
    {
     "data": {
      "text/html": [
       "<div>\n",
       "<style scoped>\n",
       "    .dataframe tbody tr th:only-of-type {\n",
       "        vertical-align: middle;\n",
       "    }\n",
       "\n",
       "    .dataframe tbody tr th {\n",
       "        vertical-align: top;\n",
       "    }\n",
       "\n",
       "    .dataframe thead th {\n",
       "        text-align: right;\n",
       "    }\n",
       "</style>\n",
       "<table border=\"1\" class=\"dataframe\">\n",
       "  <thead>\n",
       "    <tr style=\"text-align: right;\">\n",
       "      <th></th>\n",
       "      <th>Group</th>\n",
       "      <th>MAPE</th>\n",
       "    </tr>\n",
       "  </thead>\n",
       "  <tbody>\n",
       "    <tr>\n",
       "      <th>2</th>\n",
       "      <td>1,GROCERY I</td>\n",
       "      <td>0.279326</td>\n",
       "    </tr>\n",
       "    <tr>\n",
       "      <th>0</th>\n",
       "      <td>1,BREAD/BAKERY</td>\n",
       "      <td>0.255695</td>\n",
       "    </tr>\n",
       "    <tr>\n",
       "      <th>1</th>\n",
       "      <td>1,DAIRY</td>\n",
       "      <td>0.208831</td>\n",
       "    </tr>\n",
       "    <tr>\n",
       "      <th>11</th>\n",
       "      <td>4,GROCERY I</td>\n",
       "      <td>0.173353</td>\n",
       "    </tr>\n",
       "    <tr>\n",
       "      <th>9</th>\n",
       "      <td>4,BREAD/BAKERY</td>\n",
       "      <td>0.149449</td>\n",
       "    </tr>\n",
       "  </tbody>\n",
       "</table>\n",
       "</div>"
      ],
      "text/plain": [
       "             Group      MAPE\n",
       "2      1,GROCERY I  0.279326\n",
       "0   1,BREAD/BAKERY  0.255695\n",
       "1          1,DAIRY  0.208831\n",
       "11     4,GROCERY I  0.173353\n",
       "9   4,BREAD/BAKERY  0.149449"
      ]
     },
     "execution_count": 51,
     "metadata": {},
     "output_type": "execute_result"
    }
   ],
   "source": [
    "df_mape.nlargest(5, 'MAPE')"
   ]
  },
  {
   "cell_type": "markdown",
   "id": "116e2a3a",
   "metadata": {},
   "source": [
    "### 5.5.3 Apply Prophet() for single timeseries<a id='5.5.3'></a>"
   ]
  },
  {
   "cell_type": "code",
   "execution_count": 52,
   "id": "e2656929",
   "metadata": {},
   "outputs": [],
   "source": [
    "df_fb = df.reset_index()\n",
    "\n",
    "n_train = len(df_fb)-16\n",
    "df_fb_train = df_fb[7:n_train] #starting from day 8\n",
    "df_fb_test = df_fb[n_train:]"
   ]
  },
  {
   "cell_type": "code",
   "execution_count": 53,
   "id": "6d782ebe",
   "metadata": {},
   "outputs": [],
   "source": [
    "y1_train_fb = df_fb_train[[\"date\", \"1,AUTOMOTIVE\"]] # first column\n",
    "y1_test_fb = df_fb_test[[\"date\", \"1,AUTOMOTIVE\"]]"
   ]
  },
  {
   "cell_type": "code",
   "execution_count": 54,
   "id": "00046073",
   "metadata": {},
   "outputs": [
    {
     "data": {
      "text/html": [
       "<div>\n",
       "<style scoped>\n",
       "    .dataframe tbody tr th:only-of-type {\n",
       "        vertical-align: middle;\n",
       "    }\n",
       "\n",
       "    .dataframe tbody tr th {\n",
       "        vertical-align: top;\n",
       "    }\n",
       "\n",
       "    .dataframe thead th {\n",
       "        text-align: right;\n",
       "    }\n",
       "</style>\n",
       "<table border=\"1\" class=\"dataframe\">\n",
       "  <thead>\n",
       "    <tr style=\"text-align: right;\">\n",
       "      <th></th>\n",
       "      <th>ds</th>\n",
       "      <th>y</th>\n",
       "    </tr>\n",
       "  </thead>\n",
       "  <tbody>\n",
       "    <tr>\n",
       "      <th>7</th>\n",
       "      <td>2013-01-08</td>\n",
       "      <td>2.0</td>\n",
       "    </tr>\n",
       "    <tr>\n",
       "      <th>8</th>\n",
       "      <td>2013-01-09</td>\n",
       "      <td>2.0</td>\n",
       "    </tr>\n",
       "    <tr>\n",
       "      <th>9</th>\n",
       "      <td>2013-01-10</td>\n",
       "      <td>2.0</td>\n",
       "    </tr>\n",
       "    <tr>\n",
       "      <th>10</th>\n",
       "      <td>2013-01-11</td>\n",
       "      <td>3.0</td>\n",
       "    </tr>\n",
       "    <tr>\n",
       "      <th>11</th>\n",
       "      <td>2013-01-12</td>\n",
       "      <td>2.0</td>\n",
       "    </tr>\n",
       "  </tbody>\n",
       "</table>\n",
       "</div>"
      ],
      "text/plain": [
       "            ds    y\n",
       "7   2013-01-08  2.0\n",
       "8   2013-01-09  2.0\n",
       "9   2013-01-10  2.0\n",
       "10  2013-01-11  3.0\n",
       "11  2013-01-12  2.0"
      ]
     },
     "execution_count": 54,
     "metadata": {},
     "output_type": "execute_result"
    }
   ],
   "source": [
    "y1_train_fb.columns = ['ds','y']\n",
    "y1_test_fb.columns = ['ds','y']\n",
    "y1_train_fb.head()"
   ]
  },
  {
   "cell_type": "code",
   "execution_count": 55,
   "id": "7f69b2e5",
   "metadata": {},
   "outputs": [
    {
     "name": "stderr",
     "output_type": "stream",
     "text": [
      "09:28:54 - cmdstanpy - INFO - Chain [1] start processing\n",
      "09:28:55 - cmdstanpy - INFO - Chain [1] done processing\n"
     ]
    },
    {
     "data": {
      "text/plain": [
       "<prophet.forecaster.Prophet at 0x7f86e00383a0>"
      ]
     },
     "execution_count": 55,
     "metadata": {},
     "output_type": "execute_result"
    }
   ],
   "source": [
    "model_prophet = Prophet()\n",
    "model_prophet.fit(y1_train_fb)"
   ]
  },
  {
   "cell_type": "code",
   "execution_count": 57,
   "id": "fa4c0de1",
   "metadata": {},
   "outputs": [
    {
     "name": "stdout",
     "output_type": "stream",
     "text": [
      "2017-0700000001\n",
      "2017-0700000002\n",
      "2017-0700000003\n",
      "2017-0700000004\n",
      "2017-0700000005\n",
      "2017-0700000006\n",
      "2017-0700000007\n",
      "2017-0700000008\n",
      "2017-0700000009\n",
      "2017-0700000010\n",
      "2017-0700000011\n",
      "2017-0700000012\n"
     ]
    }
   ],
   "source": [
    "# define the period for which we want a prediction\n",
    "future = list()\n",
    "for i in range(1, 13):\n",
    " date = '2017-07%08d' % i\n",
    " future.append([date])\n",
    " print(date)\n",
    "# future = DataFrame(future)\n",
    "# future.columns = ['ds']\n",
    "# future['ds']= to_datetime(future['ds'])\n",
    "# # use the model to make a forecast\n",
    "# forecast = model.predict(future)\n",
    "# # summarize the forecast\n",
    "# print(forecast[['ds', 'yhat', 'yhat_lower', 'yhat_upper']].head())\n",
    "# # plot forecast\n",
    "# model.plot(forecast)\n",
    "# pyplot.show()"
   ]
  },
  {
   "cell_type": "code",
   "execution_count": 58,
   "id": "1cdb8401",
   "metadata": {
    "scrolled": true
   },
   "outputs": [
    {
     "data": {
      "text/html": [
       "<div>\n",
       "<style scoped>\n",
       "    .dataframe tbody tr th:only-of-type {\n",
       "        vertical-align: middle;\n",
       "    }\n",
       "\n",
       "    .dataframe tbody tr th {\n",
       "        vertical-align: top;\n",
       "    }\n",
       "\n",
       "    .dataframe thead th {\n",
       "        text-align: right;\n",
       "    }\n",
       "</style>\n",
       "<table border=\"1\" class=\"dataframe\">\n",
       "  <thead>\n",
       "    <tr style=\"text-align: right;\">\n",
       "      <th></th>\n",
       "      <th>ds</th>\n",
       "      <th>yhat</th>\n",
       "      <th>yhat_lower</th>\n",
       "      <th>yhat_upper</th>\n",
       "    </tr>\n",
       "  </thead>\n",
       "  <tbody>\n",
       "    <tr>\n",
       "      <th>0</th>\n",
       "      <td>2017-07-31</td>\n",
       "      <td>4.698622</td>\n",
       "      <td>1.198949</td>\n",
       "      <td>7.818916</td>\n",
       "    </tr>\n",
       "    <tr>\n",
       "      <th>1</th>\n",
       "      <td>2017-08-01</td>\n",
       "      <td>5.270555</td>\n",
       "      <td>2.028115</td>\n",
       "      <td>8.553184</td>\n",
       "    </tr>\n",
       "    <tr>\n",
       "      <th>2</th>\n",
       "      <td>2017-08-02</td>\n",
       "      <td>4.885589</td>\n",
       "      <td>1.691329</td>\n",
       "      <td>8.219604</td>\n",
       "    </tr>\n",
       "    <tr>\n",
       "      <th>3</th>\n",
       "      <td>2017-08-03</td>\n",
       "      <td>4.367451</td>\n",
       "      <td>1.045556</td>\n",
       "      <td>7.395130</td>\n",
       "    </tr>\n",
       "    <tr>\n",
       "      <th>4</th>\n",
       "      <td>2017-08-04</td>\n",
       "      <td>5.090726</td>\n",
       "      <td>1.673747</td>\n",
       "      <td>8.240536</td>\n",
       "    </tr>\n",
       "  </tbody>\n",
       "</table>\n",
       "</div>"
      ],
      "text/plain": [
       "          ds      yhat  yhat_lower  yhat_upper\n",
       "0 2017-07-31  4.698622    1.198949    7.818916\n",
       "1 2017-08-01  5.270555    2.028115    8.553184\n",
       "2 2017-08-02  4.885589    1.691329    8.219604\n",
       "3 2017-08-03  4.367451    1.045556    7.395130\n",
       "4 2017-08-04  5.090726    1.673747    8.240536"
      ]
     },
     "execution_count": 58,
     "metadata": {},
     "output_type": "execute_result"
    }
   ],
   "source": [
    "y1_pred_fb = model_prophet.predict(y1_test_fb)  # predict N steps into the future\n",
    "y1_pred_fb[['ds', 'yhat', 'yhat_lower', 'yhat_upper']].head()"
   ]
  },
  {
   "cell_type": "code",
   "execution_count": 59,
   "id": "c87a7ec3",
   "metadata": {},
   "outputs": [
    {
     "data": {
      "image/png": "[encoded data removed]",
      "text/plain": [
       "<Figure size 1000x600 with 1 Axes>"
      ]
     },
     "metadata": {},
     "output_type": "display_data"
    }
   ],
   "source": [
    "model_prophet.plot(y1_pred_fb)\n",
    "plt.show()"
   ]
  },
  {
   "cell_type": "code",
   "execution_count": 60,
   "id": "6c431b87",
   "metadata": {},
   "outputs": [
    {
     "name": "stdout",
     "output_type": "stream",
     "text": [
      "MAPE: 0.7533845415421063\n"
     ]
    }
   ],
   "source": [
    "# APE = ABS((actual - predicted) / actual)\n",
    "APE_y1 = abs( (y1_test.values - y1_pred_fb['yhat'].values) / y1_test.values)\n",
    "\n",
    "# MEAN(APE)\n",
    "mAPE_y1 = np.mean(APE_y1)\n",
    "print('MAPE: '+str(mAPE_y1))"
   ]
  }
 ],
 "metadata": {
  "kernelspec": {
   "display_name": "Python 3 (ipykernel)",
   "language": "python",
   "name": "python3"
  },
  "language_info": {
   "codemirror_mode": {
    "name": "ipython",
    "version": 3
   },
   "file_extension": ".py",
   "mimetype": "text/x-python",
   "name": "python",
   "nbconvert_exporter": "python",
   "pygments_lexer": "ipython3",
   "version": "3.9.13"
  }
 },
 "nbformat": 4,
 "nbformat_minor": 5
}
