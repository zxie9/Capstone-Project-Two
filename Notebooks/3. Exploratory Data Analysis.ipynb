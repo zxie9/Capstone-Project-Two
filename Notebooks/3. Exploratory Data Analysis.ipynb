{
 "cells": [
  {
   "cell_type": "markdown",
   "id": "c06a635e",
   "metadata": {},
   "source": [
    "# Capstone Two - 3 Exploratory Data Analysis<a id='3'></a>"
   ]
  },
  {
   "cell_type": "markdown",
   "id": "7cebb819",
   "metadata": {},
   "source": [
    "## 3.1 Contents<a id='3.1'></a>\n",
    "* [3 Exploratory Data Analysis](#3)\n",
    "  * [3.1 Contents](#3.1)\n",
    "  * [3.2 Imports](#3.2)\n",
    "  * [3.3 Load The Data](#3.3)\n",
    "  * [3.4 Explore The Data](#3.4)\n",
    "    * [3.4.1 Missing Values and Time Gaps](#3.4.1)\n",
    "      * [3.4.1.1 Store Sales](#3.4.1.1)\n",
    "      * [3.4.1.2 Daily Oil Price](#3.4.1.2)\n",
    "      * [3.4.1.3 Transactions](#3.4.1.3)\n",
    "      * [3.4.1.4 Holidays](#3.4.1.4)\n",
    "    * [3.4.2 Merged Data](#3.4.2)\n",
    "    * [3.4.3 Data Visualization](#3.4.3) \n",
    "      * [3.4.3.1 Mean Sales by Store and Product Family](#3.4.3.1)\n",
    "      * [3.4.3.2 Mean Sales by Year and Month](#3.4.3.2)\n",
    "  * [3.5 Save data](#3.5)\n",
    "  * [3.6 Summary](#3.6)"
   ]
  },
  {
   "cell_type": "markdown",
   "id": "370ad457",
   "metadata": {},
   "source": [
    "## 3.2 Imports<a id='3.2'></a>"
   ]
  },
  {
   "cell_type": "code",
   "execution_count": 1,
   "id": "8ec33f64",
   "metadata": {},
   "outputs": [],
   "source": [
    "import pandas as pd\n",
    "import numpy as np\n",
    "import os\n",
    "import datetime\n",
    "\n",
    "import matplotlib.pyplot as plt\n",
    "import seaborn as sns\n",
    "from statsmodels.graphics.tsaplots import plot_pacf\n",
    "\n",
    "from library.sb_utils import save_file"
   ]
  },
  {
   "cell_type": "markdown",
   "id": "2a0b4aea",
   "metadata": {},
   "source": [
    "## 3.3 Load The Data<a id='3.3'></a>"
   ]
  },
  {
   "cell_type": "code",
   "execution_count": 2,
   "id": "b3626265",
   "metadata": {},
   "outputs": [],
   "source": [
    "# Directory of data\n",
    "input_dir = '../input_data/store-sales-time-series-forecasting/'\n",
    "data_dir = '../data/'"
   ]
  },
  {
   "cell_type": "code",
   "execution_count": 3,
   "id": "05bbb00d",
   "metadata": {},
   "outputs": [],
   "source": [
    "# Store sales (training set)\n",
    "train = pd.read_csv(input_dir+'train.csv')\n",
    "\n",
    "# Store sales (testing set)\n",
    "test = pd.read_csv(input_dir+'test.csv')\n",
    "\n",
    "# Store metadata\n",
    "stores = pd.read_csv(input_dir+'stores.csv')\n",
    "\n",
    "# Daily oil price\n",
    "oil = pd.read_csv(input_dir+'oil.csv')\n",
    "\n",
    "# Number of daily transactions at a store\n",
    "transactions = pd.read_csv(input_dir+'transactions.csv')\n",
    "\n",
    "# Cleaned Holidays and Events data\n",
    "holidays = pd.read_csv(data_dir+'holidays_events_cleaned.csv')"
   ]
  },
  {
   "cell_type": "markdown",
   "id": "c08ac959",
   "metadata": {},
   "source": [
    "## 3.4 Explore The Data<a id='3.4'></a>"
   ]
  },
  {
   "cell_type": "markdown",
   "id": "2ba89c78",
   "metadata": {},
   "source": [
    "### 3.4.1 Missing Values and Time Gaps<a id='3.4.1'></a>"
   ]
  },
  {
   "cell_type": "markdown",
   "id": "0008bdfc",
   "metadata": {},
   "source": [
    "#### 3.4.1.1 Store Sales<a id='3.4.1.1'></a>"
   ]
  },
  {
   "cell_type": "code",
   "execution_count": 4,
   "id": "1d1f2f23",
   "metadata": {},
   "outputs": [
    {
     "data": {
      "text/plain": [
       "id             0\n",
       "date           0\n",
       "store_nbr      0\n",
       "family         0\n",
       "sales          0\n",
       "onpromotion    0\n",
       "dtype: int64"
      ]
     },
     "execution_count": 4,
     "metadata": {},
     "output_type": "execute_result"
    }
   ],
   "source": [
    "train.isnull().sum()"
   ]
  },
  {
   "cell_type": "code",
   "execution_count": 5,
   "id": "3af72fca",
   "metadata": {},
   "outputs": [
    {
     "data": {
      "text/plain": [
       "id             0\n",
       "date           0\n",
       "store_nbr      0\n",
       "family         0\n",
       "onpromotion    0\n",
       "dtype: int64"
      ]
     },
     "execution_count": 5,
     "metadata": {},
     "output_type": "execute_result"
    }
   ],
   "source": [
    "test.isnull().sum()"
   ]
  },
  {
   "cell_type": "markdown",
   "id": "91c60088",
   "metadata": {},
   "source": [
    "There're **no** missing values in the training and test sets."
   ]
  },
  {
   "cell_type": "code",
   "execution_count": 6,
   "id": "d2f4eeb8",
   "metadata": {
    "scrolled": true
   },
   "outputs": [
    {
     "data": {
      "text/plain": [
       "store_nbr  family                 \n",
       "1          AUTOMOTIVE                 1684\n",
       "36         PREPARED FOODS             1684\n",
       "37         CLEANING                   1684\n",
       "           CELEBRATION                1684\n",
       "           BREAD/BAKERY               1684\n",
       "                                      ... \n",
       "18         PREPARED FOODS             1684\n",
       "           POULTRY                    1684\n",
       "           PLAYERS AND ELECTRONICS    1684\n",
       "           PET SUPPLIES               1684\n",
       "54         SEAFOOD                    1684\n",
       "Length: 1782, dtype: int64"
      ]
     },
     "execution_count": 6,
     "metadata": {},
     "output_type": "execute_result"
    }
   ],
   "source": [
    "train[['store_nbr','family']].value_counts()"
   ]
  },
  {
   "cell_type": "code",
   "execution_count": 7,
   "id": "3d497920",
   "metadata": {
    "scrolled": true
   },
   "outputs": [
    {
     "data": {
      "text/plain": [
       "store_nbr  family                 \n",
       "1          AUTOMOTIVE                 16\n",
       "36         PREPARED FOODS             16\n",
       "37         CLEANING                   16\n",
       "           CELEBRATION                16\n",
       "           BREAD/BAKERY               16\n",
       "                                      ..\n",
       "18         PREPARED FOODS             16\n",
       "           POULTRY                    16\n",
       "           PLAYERS AND ELECTRONICS    16\n",
       "           PET SUPPLIES               16\n",
       "54         SEAFOOD                    16\n",
       "Length: 1782, dtype: int64"
      ]
     },
     "execution_count": 7,
     "metadata": {},
     "output_type": "execute_result"
    }
   ],
   "source": [
    "test[['store_nbr','family']].value_counts()"
   ]
  },
  {
   "cell_type": "markdown",
   "id": "9d6f9717",
   "metadata": {},
   "source": [
    "All time series in the testing set have 16 values (16 days), so there is no time gap in the testing data.\n",
    "\n",
    "All time series in the training set have 1684 values. We need to check whethere there were time gaps."
   ]
  },
  {
   "cell_type": "code",
   "execution_count": 8,
   "id": "f64bcf74",
   "metadata": {},
   "outputs": [
    {
     "name": "stdout",
     "output_type": "stream",
     "text": [
      "(1684, 1)\n"
     ]
    },
    {
     "data": {
      "text/html": [
       "<div>\n",
       "<style scoped>\n",
       "    .dataframe tbody tr th:only-of-type {\n",
       "        vertical-align: middle;\n",
       "    }\n",
       "\n",
       "    .dataframe tbody tr th {\n",
       "        vertical-align: top;\n",
       "    }\n",
       "\n",
       "    .dataframe thead th {\n",
       "        text-align: right;\n",
       "    }\n",
       "</style>\n",
       "<table border=\"1\" class=\"dataframe\">\n",
       "  <thead>\n",
       "    <tr style=\"text-align: right;\">\n",
       "      <th></th>\n",
       "      <th>date</th>\n",
       "    </tr>\n",
       "  </thead>\n",
       "  <tbody>\n",
       "    <tr>\n",
       "      <th>0</th>\n",
       "      <td>2013-01-01</td>\n",
       "    </tr>\n",
       "    <tr>\n",
       "      <th>1</th>\n",
       "      <td>2013-01-02</td>\n",
       "    </tr>\n",
       "    <tr>\n",
       "      <th>2</th>\n",
       "      <td>2013-01-03</td>\n",
       "    </tr>\n",
       "    <tr>\n",
       "      <th>3</th>\n",
       "      <td>2013-01-04</td>\n",
       "    </tr>\n",
       "    <tr>\n",
       "      <th>4</th>\n",
       "      <td>2013-01-05</td>\n",
       "    </tr>\n",
       "  </tbody>\n",
       "</table>\n",
       "</div>"
      ],
      "text/plain": [
       "         date\n",
       "0  2013-01-01\n",
       "1  2013-01-02\n",
       "2  2013-01-03\n",
       "3  2013-01-04\n",
       "4  2013-01-05"
      ]
     },
     "execution_count": 8,
     "metadata": {},
     "output_type": "execute_result"
    }
   ],
   "source": [
    "# Get dates of training set as a train_calendar\n",
    "train_dates = train.date\n",
    "train_dates.drop_duplicates(inplace=True)\n",
    "train_calendar = pd.DataFrame(train_dates).reset_index(drop=True)\n",
    "print(train_calendar.shape)\n",
    "train_calendar.head()"
   ]
  },
  {
   "cell_type": "code",
   "execution_count": 9,
   "id": "45ae22d8",
   "metadata": {},
   "outputs": [
    {
     "data": {
      "text/plain": [
       "datetime.timedelta(days=1688)"
      ]
     },
     "execution_count": 9,
     "metadata": {},
     "output_type": "execute_result"
    }
   ],
   "source": [
    "# Check how many days are actually in the training set.\n",
    "d0 = datetime.date(2013, 1, 1)\n",
    "d1 = datetime.date(2017, 8, 16) # The day after the last day of training set\n",
    "dd = d1 - d0 #day difference\n",
    "dd"
   ]
  },
  {
   "cell_type": "markdown",
   "id": "997da213",
   "metadata": {},
   "source": [
    "We can see there are actually 1688 days during this time period, but the `calendar` only has 1684, so there should have 4 time gaps."
   ]
  },
  {
   "cell_type": "code",
   "execution_count": 10,
   "id": "1db5f11d",
   "metadata": {
    "scrolled": false
   },
   "outputs": [
    {
     "name": "stdout",
     "output_type": "stream",
     "text": [
      "4 time gaps in total:\n",
      "Start: 2013-12-24 | Duration: 2 days, 0:00:00\n",
      "Start: 2014-12-24 | Duration: 2 days, 0:00:00\n",
      "Start: 2015-12-24 | Duration: 2 days, 0:00:00\n",
      "Start: 2016-12-24 | Duration: 2 days, 0:00:00\n"
     ]
    }
   ],
   "source": [
    "dates = pd.to_datetime(train_calendar['date'])\n",
    "df_dates = pd.DataFrame(dates, columns=['date'])\n",
    "\n",
    "# Take the diff of the date column (drop 1st row since it's undefined)\n",
    "deltas = df_dates['date'].diff()[1:]\n",
    "\n",
    "# Filter diffs (here days > 1, but could be seconds, hours, etc)\n",
    "gaps = deltas[deltas > datetime.timedelta(days=1)]\n",
    "\n",
    "# Print results\n",
    "print(f'{len(gaps)} time gaps in total:')\n",
    "for i, g in gaps.iteritems():\n",
    "    gap_start = df_dates['date'][i-1]\n",
    "    print(f'Start: {datetime.datetime.strftime(gap_start, \"%Y-%m-%d\")} | '\n",
    "          f'Duration: {str(g.to_pytimedelta())}')"
   ]
  },
  {
   "cell_type": "markdown",
   "id": "7887db2a",
   "metadata": {},
   "source": [
    "We indeed found 4 time gaps, which means every time series did not have these 4 days' data."
   ]
  },
  {
   "cell_type": "code",
   "execution_count": 11,
   "id": "0d747287",
   "metadata": {
    "scrolled": true
   },
   "outputs": [
    {
     "data": {
      "text/html": [
       "<div>\n",
       "<style scoped>\n",
       "    .dataframe tbody tr th:only-of-type {\n",
       "        vertical-align: middle;\n",
       "    }\n",
       "\n",
       "    .dataframe tbody tr th {\n",
       "        vertical-align: top;\n",
       "    }\n",
       "\n",
       "    .dataframe thead th {\n",
       "        text-align: right;\n",
       "    }\n",
       "</style>\n",
       "<table border=\"1\" class=\"dataframe\">\n",
       "  <thead>\n",
       "    <tr style=\"text-align: right;\">\n",
       "      <th></th>\n",
       "      <th>id</th>\n",
       "      <th>date</th>\n",
       "      <th>store_nbr</th>\n",
       "      <th>family</th>\n",
       "      <th>sales</th>\n",
       "      <th>onpromotion</th>\n",
       "    </tr>\n",
       "  </thead>\n",
       "  <tbody>\n",
       "  </tbody>\n",
       "</table>\n",
       "</div>"
      ],
      "text/plain": [
       "Empty DataFrame\n",
       "Columns: [id, date, store_nbr, family, sales, onpromotion]\n",
       "Index: []"
      ]
     },
     "execution_count": 11,
     "metadata": {},
     "output_type": "execute_result"
    }
   ],
   "source": [
    "train[train['date'].isin(['2013-12-25','2014-12-25','2015-12-25','2016-12-25'])]"
   ]
  },
  {
   "cell_type": "markdown",
   "id": "ba1ae8ab",
   "metadata": {},
   "source": [
    "The normal time step is 1 day. The above \"2 days\" gap after every Christmas Eve (12-24) means that all stores were closed on Christmas Day (No sales data on \"12-25\"). We will fill the time gaps in a later section."
   ]
  },
  {
   "cell_type": "markdown",
   "id": "394c942b",
   "metadata": {},
   "source": [
    "#### 3.4.1.2 Daily Oil Price<a id='3.4.1.2'></a>"
   ]
  },
  {
   "cell_type": "markdown",
   "id": "321dcbcb",
   "metadata": {},
   "source": [
    "From Data Wrangling, we know there are missings value and time gaps in the oil price data."
   ]
  },
  {
   "cell_type": "code",
   "execution_count": 12,
   "id": "37ef2b7d",
   "metadata": {
    "scrolled": true
   },
   "outputs": [
    {
     "data": {
      "text/html": [
       "<div>\n",
       "<style scoped>\n",
       "    .dataframe tbody tr th:only-of-type {\n",
       "        vertical-align: middle;\n",
       "    }\n",
       "\n",
       "    .dataframe tbody tr th {\n",
       "        vertical-align: top;\n",
       "    }\n",
       "\n",
       "    .dataframe thead th {\n",
       "        text-align: right;\n",
       "    }\n",
       "</style>\n",
       "<table border=\"1\" class=\"dataframe\">\n",
       "  <thead>\n",
       "    <tr style=\"text-align: right;\">\n",
       "      <th></th>\n",
       "      <th>date</th>\n",
       "      <th>dcoilwtico</th>\n",
       "    </tr>\n",
       "  </thead>\n",
       "  <tbody>\n",
       "    <tr>\n",
       "      <th>0</th>\n",
       "      <td>2013-01-01</td>\n",
       "      <td>NaN</td>\n",
       "    </tr>\n",
       "    <tr>\n",
       "      <th>1</th>\n",
       "      <td>2013-01-02</td>\n",
       "      <td>93.14</td>\n",
       "    </tr>\n",
       "    <tr>\n",
       "      <th>2</th>\n",
       "      <td>2013-01-03</td>\n",
       "      <td>92.97</td>\n",
       "    </tr>\n",
       "    <tr>\n",
       "      <th>3</th>\n",
       "      <td>2013-01-04</td>\n",
       "      <td>93.12</td>\n",
       "    </tr>\n",
       "    <tr>\n",
       "      <th>4</th>\n",
       "      <td>2013-01-07</td>\n",
       "      <td>93.20</td>\n",
       "    </tr>\n",
       "    <tr>\n",
       "      <th>5</th>\n",
       "      <td>2013-01-08</td>\n",
       "      <td>93.21</td>\n",
       "    </tr>\n",
       "    <tr>\n",
       "      <th>6</th>\n",
       "      <td>2013-01-09</td>\n",
       "      <td>93.08</td>\n",
       "    </tr>\n",
       "    <tr>\n",
       "      <th>7</th>\n",
       "      <td>2013-01-10</td>\n",
       "      <td>93.81</td>\n",
       "    </tr>\n",
       "    <tr>\n",
       "      <th>8</th>\n",
       "      <td>2013-01-11</td>\n",
       "      <td>93.60</td>\n",
       "    </tr>\n",
       "    <tr>\n",
       "      <th>9</th>\n",
       "      <td>2013-01-14</td>\n",
       "      <td>94.27</td>\n",
       "    </tr>\n",
       "  </tbody>\n",
       "</table>\n",
       "</div>"
      ],
      "text/plain": [
       "         date  dcoilwtico\n",
       "0  2013-01-01         NaN\n",
       "1  2013-01-02       93.14\n",
       "2  2013-01-03       92.97\n",
       "3  2013-01-04       93.12\n",
       "4  2013-01-07       93.20\n",
       "5  2013-01-08       93.21\n",
       "6  2013-01-09       93.08\n",
       "7  2013-01-10       93.81\n",
       "8  2013-01-11       93.60\n",
       "9  2013-01-14       94.27"
      ]
     },
     "execution_count": 12,
     "metadata": {},
     "output_type": "execute_result"
    }
   ],
   "source": [
    "oil.head(10)"
   ]
  },
  {
   "cell_type": "markdown",
   "id": "677677b6",
   "metadata": {},
   "source": [
    "The time gaps in tha above 10-row data are \"2013-01-05 to 2013-01-06\" and \"2013-01-12 to 2013-01-13\". It looks like there are no oil price data on the weekend. We need to verify it."
   ]
  },
  {
   "cell_type": "code",
   "execution_count": 13,
   "id": "26c7f126",
   "metadata": {
    "scrolled": false
   },
   "outputs": [
    {
     "data": {
      "text/html": [
       "<div>\n",
       "<style scoped>\n",
       "    .dataframe tbody tr th:only-of-type {\n",
       "        vertical-align: middle;\n",
       "    }\n",
       "\n",
       "    .dataframe tbody tr th {\n",
       "        vertical-align: top;\n",
       "    }\n",
       "\n",
       "    .dataframe thead th {\n",
       "        text-align: right;\n",
       "    }\n",
       "</style>\n",
       "<table border=\"1\" class=\"dataframe\">\n",
       "  <thead>\n",
       "    <tr style=\"text-align: right;\">\n",
       "      <th></th>\n",
       "      <th>date</th>\n",
       "      <th>day_of_week</th>\n",
       "      <th>dcoilwtico</th>\n",
       "    </tr>\n",
       "  </thead>\n",
       "  <tbody>\n",
       "    <tr>\n",
       "      <th>0</th>\n",
       "      <td>2013-01-01</td>\n",
       "      <td>Tuesday</td>\n",
       "      <td>NaN</td>\n",
       "    </tr>\n",
       "    <tr>\n",
       "      <th>1</th>\n",
       "      <td>2013-01-02</td>\n",
       "      <td>Wednesday</td>\n",
       "      <td>93.14</td>\n",
       "    </tr>\n",
       "    <tr>\n",
       "      <th>2</th>\n",
       "      <td>2013-01-03</td>\n",
       "      <td>Thursday</td>\n",
       "      <td>92.97</td>\n",
       "    </tr>\n",
       "    <tr>\n",
       "      <th>3</th>\n",
       "      <td>2013-01-04</td>\n",
       "      <td>Friday</td>\n",
       "      <td>93.12</td>\n",
       "    </tr>\n",
       "    <tr>\n",
       "      <th>4</th>\n",
       "      <td>2013-01-05</td>\n",
       "      <td>Saturday</td>\n",
       "      <td>NaN</td>\n",
       "    </tr>\n",
       "    <tr>\n",
       "      <th>5</th>\n",
       "      <td>2013-01-06</td>\n",
       "      <td>Sunday</td>\n",
       "      <td>NaN</td>\n",
       "    </tr>\n",
       "    <tr>\n",
       "      <th>6</th>\n",
       "      <td>2013-01-07</td>\n",
       "      <td>Monday</td>\n",
       "      <td>93.20</td>\n",
       "    </tr>\n",
       "    <tr>\n",
       "      <th>7</th>\n",
       "      <td>2013-01-08</td>\n",
       "      <td>Tuesday</td>\n",
       "      <td>93.21</td>\n",
       "    </tr>\n",
       "    <tr>\n",
       "      <th>8</th>\n",
       "      <td>2013-01-09</td>\n",
       "      <td>Wednesday</td>\n",
       "      <td>93.08</td>\n",
       "    </tr>\n",
       "    <tr>\n",
       "      <th>9</th>\n",
       "      <td>2013-01-10</td>\n",
       "      <td>Thursday</td>\n",
       "      <td>93.81</td>\n",
       "    </tr>\n",
       "    <tr>\n",
       "      <th>10</th>\n",
       "      <td>2013-01-11</td>\n",
       "      <td>Friday</td>\n",
       "      <td>93.60</td>\n",
       "    </tr>\n",
       "    <tr>\n",
       "      <th>11</th>\n",
       "      <td>2013-01-12</td>\n",
       "      <td>Saturday</td>\n",
       "      <td>NaN</td>\n",
       "    </tr>\n",
       "    <tr>\n",
       "      <th>12</th>\n",
       "      <td>2013-01-13</td>\n",
       "      <td>Sunday</td>\n",
       "      <td>NaN</td>\n",
       "    </tr>\n",
       "    <tr>\n",
       "      <th>13</th>\n",
       "      <td>2013-01-14</td>\n",
       "      <td>Monday</td>\n",
       "      <td>94.27</td>\n",
       "    </tr>\n",
       "    <tr>\n",
       "      <th>14</th>\n",
       "      <td>2013-01-15</td>\n",
       "      <td>Tuesday</td>\n",
       "      <td>93.26</td>\n",
       "    </tr>\n",
       "  </tbody>\n",
       "</table>\n",
       "</div>"
      ],
      "text/plain": [
       "          date day_of_week  dcoilwtico\n",
       "0   2013-01-01     Tuesday         NaN\n",
       "1   2013-01-02   Wednesday       93.14\n",
       "2   2013-01-03    Thursday       92.97\n",
       "3   2013-01-04      Friday       93.12\n",
       "4   2013-01-05    Saturday         NaN\n",
       "5   2013-01-06      Sunday         NaN\n",
       "6   2013-01-07      Monday       93.20\n",
       "7   2013-01-08     Tuesday       93.21\n",
       "8   2013-01-09   Wednesday       93.08\n",
       "9   2013-01-10    Thursday       93.81\n",
       "10  2013-01-11      Friday       93.60\n",
       "11  2013-01-12    Saturday         NaN\n",
       "12  2013-01-13      Sunday         NaN\n",
       "13  2013-01-14      Monday       94.27\n",
       "14  2013-01-15     Tuesday       93.26"
      ]
     },
     "execution_count": 13,
     "metadata": {},
     "output_type": "execute_result"
    }
   ],
   "source": [
    "train_calendar['day_of_week'] = pd.to_datetime(train_calendar['date']).dt.day_name()\n",
    "calendar_oil = train_calendar.merge(oil, how=\"left\", on='date') \n",
    "calendar_oil.head(15)"
   ]
  },
  {
   "cell_type": "markdown",
   "id": "65536abe",
   "metadata": {},
   "source": [
    "We can see there are indeed no oil price data for the weekends."
   ]
  },
  {
   "cell_type": "code",
   "execution_count": 14,
   "id": "071a24fb",
   "metadata": {
    "scrolled": false
   },
   "outputs": [
    {
     "data": {
      "text/plain": [
       "date          0\n",
       "dcoilwtico    0\n",
       "dtype: int64"
      ]
     },
     "execution_count": 14,
     "metadata": {},
     "output_type": "execute_result"
    }
   ],
   "source": [
    "# Using the second value to fill the first missing value, and then using forward fill\n",
    "calendar_oil = calendar_oil.drop('day_of_week', axis=1)\n",
    "calendar_oil.iloc[0,1] = calendar_oil.iloc[1,1]\n",
    "calendar_oil['dcoilwtico'].fillna(method = 'ffill', inplace = True)\n",
    "calendar_oil.isnull().sum()"
   ]
  },
  {
   "cell_type": "code",
   "execution_count": 15,
   "id": "1088e958",
   "metadata": {
    "scrolled": false
   },
   "outputs": [
    {
     "data": {
      "image/png": "[encoded data removed]",
      "text/plain": [
       "<Figure size 640x480 with 1 Axes>"
      ]
     },
     "metadata": {},
     "output_type": "display_data"
    }
   ],
   "source": [
    "# Look at the oil price over the past years\n",
    "oil_plt = calendar_oil\n",
    "oil_plt['date'] = pd.to_datetime(oil_plt['date'])\n",
    "oil_plt.plot(x = \"date\", y = \"dcoilwtico\", kind='line', label='Daily Oil Price')\n",
    "plt.show()"
   ]
  },
  {
   "cell_type": "markdown",
   "id": "ba059957",
   "metadata": {},
   "source": [
    "Since Ecuador is an oil-dependent country and it's economical health is highly vulnerable to shocks in oil prices and the oil price fell sharply in 2014, we can try to **start our training set from \"2015-01-01\"**. Actually the data before this date were quite irrelevant because our target is to predict only 16 days after the training set."
   ]
  },
  {
   "cell_type": "markdown",
   "id": "05715fc7",
   "metadata": {},
   "source": [
    "#### 3.4.1.3 Transactions<a id='3.4.1.3'></a>"
   ]
  },
  {
   "cell_type": "code",
   "execution_count": 16,
   "id": "9db7f918",
   "metadata": {},
   "outputs": [
    {
     "data": {
      "text/html": [
       "<div>\n",
       "<style scoped>\n",
       "    .dataframe tbody tr th:only-of-type {\n",
       "        vertical-align: middle;\n",
       "    }\n",
       "\n",
       "    .dataframe tbody tr th {\n",
       "        vertical-align: top;\n",
       "    }\n",
       "\n",
       "    .dataframe thead th {\n",
       "        text-align: right;\n",
       "    }\n",
       "</style>\n",
       "<table border=\"1\" class=\"dataframe\">\n",
       "  <thead>\n",
       "    <tr style=\"text-align: right;\">\n",
       "      <th></th>\n",
       "      <th>date</th>\n",
       "      <th>store_nbr</th>\n",
       "      <th>transactions</th>\n",
       "    </tr>\n",
       "  </thead>\n",
       "  <tbody>\n",
       "    <tr>\n",
       "      <th>0</th>\n",
       "      <td>2013-01-01</td>\n",
       "      <td>25</td>\n",
       "      <td>770</td>\n",
       "    </tr>\n",
       "    <tr>\n",
       "      <th>1</th>\n",
       "      <td>2013-01-02</td>\n",
       "      <td>1</td>\n",
       "      <td>2111</td>\n",
       "    </tr>\n",
       "    <tr>\n",
       "      <th>2</th>\n",
       "      <td>2013-01-02</td>\n",
       "      <td>2</td>\n",
       "      <td>2358</td>\n",
       "    </tr>\n",
       "    <tr>\n",
       "      <th>3</th>\n",
       "      <td>2013-01-02</td>\n",
       "      <td>3</td>\n",
       "      <td>3487</td>\n",
       "    </tr>\n",
       "    <tr>\n",
       "      <th>4</th>\n",
       "      <td>2013-01-02</td>\n",
       "      <td>4</td>\n",
       "      <td>1922</td>\n",
       "    </tr>\n",
       "  </tbody>\n",
       "</table>\n",
       "</div>"
      ],
      "text/plain": [
       "         date  store_nbr  transactions\n",
       "0  2013-01-01         25           770\n",
       "1  2013-01-02          1          2111\n",
       "2  2013-01-02          2          2358\n",
       "3  2013-01-02          3          3487\n",
       "4  2013-01-02          4          1922"
      ]
     },
     "execution_count": 16,
     "metadata": {},
     "output_type": "execute_result"
    }
   ],
   "source": [
    "transactions.head()"
   ]
  },
  {
   "cell_type": "code",
   "execution_count": 17,
   "id": "87f71735",
   "metadata": {},
   "outputs": [
    {
     "data": {
      "text/plain": [
       "date            0\n",
       "store_nbr       0\n",
       "transactions    0\n",
       "dtype: int64"
      ]
     },
     "execution_count": 17,
     "metadata": {},
     "output_type": "execute_result"
    }
   ],
   "source": [
    "transactions.isnull().sum()"
   ]
  },
  {
   "cell_type": "markdown",
   "id": "285b31ce",
   "metadata": {},
   "source": [
    "There are no missing values in current tranactions data.\n",
    "\n",
    "However, We can see there was only store No. 25 has transactions data on 2013-01-01. It means there're time gap(s) for other stores."
   ]
  },
  {
   "cell_type": "markdown",
   "id": "30411c93",
   "metadata": {},
   "source": [
    "In order to fill the time gaps, we first merge the trian set with the store metadata, processed oil price data, and the transaction data."
   ]
  },
  {
   "cell_type": "code",
   "execution_count": 18,
   "id": "c417687d",
   "metadata": {
    "scrolled": true
   },
   "outputs": [
    {
     "name": "stdout",
     "output_type": "stream",
     "text": [
      "(3000888, 12)\n"
     ]
    },
    {
     "data": {
      "text/html": [
       "<div>\n",
       "<style scoped>\n",
       "    .dataframe tbody tr th:only-of-type {\n",
       "        vertical-align: middle;\n",
       "    }\n",
       "\n",
       "    .dataframe tbody tr th {\n",
       "        vertical-align: top;\n",
       "    }\n",
       "\n",
       "    .dataframe thead th {\n",
       "        text-align: right;\n",
       "    }\n",
       "</style>\n",
       "<table border=\"1\" class=\"dataframe\">\n",
       "  <thead>\n",
       "    <tr style=\"text-align: right;\">\n",
       "      <th></th>\n",
       "      <th>id</th>\n",
       "      <th>date</th>\n",
       "      <th>store_nbr</th>\n",
       "      <th>family</th>\n",
       "      <th>sales</th>\n",
       "      <th>onpromotion</th>\n",
       "      <th>city</th>\n",
       "      <th>state</th>\n",
       "      <th>type</th>\n",
       "      <th>cluster</th>\n",
       "      <th>dcoilwtico</th>\n",
       "      <th>transactions</th>\n",
       "    </tr>\n",
       "  </thead>\n",
       "  <tbody>\n",
       "    <tr>\n",
       "      <th>0</th>\n",
       "      <td>0</td>\n",
       "      <td>2013-01-01</td>\n",
       "      <td>1</td>\n",
       "      <td>AUTOMOTIVE</td>\n",
       "      <td>0.0</td>\n",
       "      <td>0</td>\n",
       "      <td>Quito</td>\n",
       "      <td>Pichincha</td>\n",
       "      <td>D</td>\n",
       "      <td>13</td>\n",
       "      <td>93.14</td>\n",
       "      <td>NaN</td>\n",
       "    </tr>\n",
       "    <tr>\n",
       "      <th>1</th>\n",
       "      <td>1</td>\n",
       "      <td>2013-01-01</td>\n",
       "      <td>1</td>\n",
       "      <td>BABY CARE</td>\n",
       "      <td>0.0</td>\n",
       "      <td>0</td>\n",
       "      <td>Quito</td>\n",
       "      <td>Pichincha</td>\n",
       "      <td>D</td>\n",
       "      <td>13</td>\n",
       "      <td>93.14</td>\n",
       "      <td>NaN</td>\n",
       "    </tr>\n",
       "    <tr>\n",
       "      <th>2</th>\n",
       "      <td>2</td>\n",
       "      <td>2013-01-01</td>\n",
       "      <td>1</td>\n",
       "      <td>BEAUTY</td>\n",
       "      <td>0.0</td>\n",
       "      <td>0</td>\n",
       "      <td>Quito</td>\n",
       "      <td>Pichincha</td>\n",
       "      <td>D</td>\n",
       "      <td>13</td>\n",
       "      <td>93.14</td>\n",
       "      <td>NaN</td>\n",
       "    </tr>\n",
       "    <tr>\n",
       "      <th>3</th>\n",
       "      <td>3</td>\n",
       "      <td>2013-01-01</td>\n",
       "      <td>1</td>\n",
       "      <td>BEVERAGES</td>\n",
       "      <td>0.0</td>\n",
       "      <td>0</td>\n",
       "      <td>Quito</td>\n",
       "      <td>Pichincha</td>\n",
       "      <td>D</td>\n",
       "      <td>13</td>\n",
       "      <td>93.14</td>\n",
       "      <td>NaN</td>\n",
       "    </tr>\n",
       "    <tr>\n",
       "      <th>4</th>\n",
       "      <td>4</td>\n",
       "      <td>2013-01-01</td>\n",
       "      <td>1</td>\n",
       "      <td>BOOKS</td>\n",
       "      <td>0.0</td>\n",
       "      <td>0</td>\n",
       "      <td>Quito</td>\n",
       "      <td>Pichincha</td>\n",
       "      <td>D</td>\n",
       "      <td>13</td>\n",
       "      <td>93.14</td>\n",
       "      <td>NaN</td>\n",
       "    </tr>\n",
       "  </tbody>\n",
       "</table>\n",
       "</div>"
      ],
      "text/plain": [
       "   id        date  store_nbr      family  sales  onpromotion   city  \\\n",
       "0   0  2013-01-01          1  AUTOMOTIVE    0.0            0  Quito   \n",
       "1   1  2013-01-01          1   BABY CARE    0.0            0  Quito   \n",
       "2   2  2013-01-01          1      BEAUTY    0.0            0  Quito   \n",
       "3   3  2013-01-01          1   BEVERAGES    0.0            0  Quito   \n",
       "4   4  2013-01-01          1       BOOKS    0.0            0  Quito   \n",
       "\n",
       "       state type  cluster  dcoilwtico  transactions  \n",
       "0  Pichincha    D       13       93.14           NaN  \n",
       "1  Pichincha    D       13       93.14           NaN  \n",
       "2  Pichincha    D       13       93.14           NaN  \n",
       "3  Pichincha    D       13       93.14           NaN  \n",
       "4  Pichincha    D       13       93.14           NaN  "
      ]
     },
     "execution_count": 18,
     "metadata": {},
     "output_type": "execute_result"
    }
   ],
   "source": [
    "df_train = train.merge(stores, how=\"left\", on='store_nbr')\n",
    "\n",
    "calendar_oil['date']=calendar_oil['date'].astype(str)\n",
    "df_train = df_train.merge(calendar_oil, how=\"left\", on='date')      \n",
    "\n",
    "df_train = df_train.merge(transactions, how=\"left\", on=['date','store_nbr'])  \n",
    "\n",
    "print(df_train.shape)\n",
    "df_train.head()"
   ]
  },
  {
   "cell_type": "code",
   "execution_count": 19,
   "id": "2ffe1a18",
   "metadata": {
    "scrolled": false
   },
   "outputs": [
    {
     "data": {
      "text/plain": [
       "(245784, 0.08190375648807953)"
      ]
     },
     "execution_count": 19,
     "metadata": {},
     "output_type": "execute_result"
    }
   ],
   "source": [
    "# Missing in transactions\n",
    "df_train['transactions'].isnull().sum(), df_train['transactions'].isnull().mean()"
   ]
  },
  {
   "cell_type": "markdown",
   "id": "c28fc128",
   "metadata": {},
   "source": [
    "We can see there're more than 8% of the transaction data are missing after merging data sets.\n",
    "\n",
    "With respect to transactions, we understand that since there is no data recorded for the missing value, this is 0."
   ]
  },
  {
   "cell_type": "code",
   "execution_count": 20,
   "id": "e273153f",
   "metadata": {},
   "outputs": [],
   "source": [
    "df_train['transactions'] = df_train['transactions'].replace(np.nan,0)"
   ]
  },
  {
   "cell_type": "code",
   "execution_count": 21,
   "id": "284c4e76",
   "metadata": {},
   "outputs": [
    {
     "data": {
      "text/plain": [
       "0"
      ]
     },
     "execution_count": 21,
     "metadata": {},
     "output_type": "execute_result"
    }
   ],
   "source": [
    "df_train['transactions'].isnull().sum()"
   ]
  },
  {
   "cell_type": "markdown",
   "id": "58495e2d",
   "metadata": {},
   "source": [
    "#### 3.4.1.4 Holidays<a id='3.4.1.4'></a>"
   ]
  },
  {
   "cell_type": "markdown",
   "id": "03824bd7",
   "metadata": {},
   "source": [
    "We merge df_train with the holiday data."
   ]
  },
  {
   "cell_type": "code",
   "execution_count": 22,
   "id": "dd7f6bf7",
   "metadata": {
    "scrolled": true
   },
   "outputs": [
    {
     "data": {
      "text/html": [
       "<div>\n",
       "<style scoped>\n",
       "    .dataframe tbody tr th:only-of-type {\n",
       "        vertical-align: middle;\n",
       "    }\n",
       "\n",
       "    .dataframe tbody tr th {\n",
       "        vertical-align: top;\n",
       "    }\n",
       "\n",
       "    .dataframe thead th {\n",
       "        text-align: right;\n",
       "    }\n",
       "</style>\n",
       "<table border=\"1\" class=\"dataframe\">\n",
       "  <thead>\n",
       "    <tr style=\"text-align: right;\">\n",
       "      <th></th>\n",
       "      <th>id</th>\n",
       "      <th>date</th>\n",
       "      <th>store_nbr</th>\n",
       "      <th>family</th>\n",
       "      <th>sales</th>\n",
       "      <th>onpromotion</th>\n",
       "      <th>city</th>\n",
       "      <th>state</th>\n",
       "      <th>store_type</th>\n",
       "      <th>cluster</th>\n",
       "      <th>dcoilwtico</th>\n",
       "      <th>transactions</th>\n",
       "      <th>holiday_type</th>\n",
       "      <th>transferred</th>\n",
       "    </tr>\n",
       "  </thead>\n",
       "  <tbody>\n",
       "    <tr>\n",
       "      <th>0</th>\n",
       "      <td>0</td>\n",
       "      <td>2013-01-01</td>\n",
       "      <td>1</td>\n",
       "      <td>AUTOMOTIVE</td>\n",
       "      <td>0.0</td>\n",
       "      <td>0</td>\n",
       "      <td>Quito</td>\n",
       "      <td>Pichincha</td>\n",
       "      <td>D</td>\n",
       "      <td>13</td>\n",
       "      <td>93.14</td>\n",
       "      <td>0.0</td>\n",
       "      <td>Holiday</td>\n",
       "      <td>False</td>\n",
       "    </tr>\n",
       "    <tr>\n",
       "      <th>1</th>\n",
       "      <td>1</td>\n",
       "      <td>2013-01-01</td>\n",
       "      <td>1</td>\n",
       "      <td>BABY CARE</td>\n",
       "      <td>0.0</td>\n",
       "      <td>0</td>\n",
       "      <td>Quito</td>\n",
       "      <td>Pichincha</td>\n",
       "      <td>D</td>\n",
       "      <td>13</td>\n",
       "      <td>93.14</td>\n",
       "      <td>0.0</td>\n",
       "      <td>Holiday</td>\n",
       "      <td>False</td>\n",
       "    </tr>\n",
       "    <tr>\n",
       "      <th>2</th>\n",
       "      <td>2</td>\n",
       "      <td>2013-01-01</td>\n",
       "      <td>1</td>\n",
       "      <td>BEAUTY</td>\n",
       "      <td>0.0</td>\n",
       "      <td>0</td>\n",
       "      <td>Quito</td>\n",
       "      <td>Pichincha</td>\n",
       "      <td>D</td>\n",
       "      <td>13</td>\n",
       "      <td>93.14</td>\n",
       "      <td>0.0</td>\n",
       "      <td>Holiday</td>\n",
       "      <td>False</td>\n",
       "    </tr>\n",
       "    <tr>\n",
       "      <th>3</th>\n",
       "      <td>3</td>\n",
       "      <td>2013-01-01</td>\n",
       "      <td>1</td>\n",
       "      <td>BEVERAGES</td>\n",
       "      <td>0.0</td>\n",
       "      <td>0</td>\n",
       "      <td>Quito</td>\n",
       "      <td>Pichincha</td>\n",
       "      <td>D</td>\n",
       "      <td>13</td>\n",
       "      <td>93.14</td>\n",
       "      <td>0.0</td>\n",
       "      <td>Holiday</td>\n",
       "      <td>False</td>\n",
       "    </tr>\n",
       "    <tr>\n",
       "      <th>4</th>\n",
       "      <td>4</td>\n",
       "      <td>2013-01-01</td>\n",
       "      <td>1</td>\n",
       "      <td>BOOKS</td>\n",
       "      <td>0.0</td>\n",
       "      <td>0</td>\n",
       "      <td>Quito</td>\n",
       "      <td>Pichincha</td>\n",
       "      <td>D</td>\n",
       "      <td>13</td>\n",
       "      <td>93.14</td>\n",
       "      <td>0.0</td>\n",
       "      <td>Holiday</td>\n",
       "      <td>False</td>\n",
       "    </tr>\n",
       "  </tbody>\n",
       "</table>\n",
       "</div>"
      ],
      "text/plain": [
       "   id        date  store_nbr      family  sales  onpromotion   city  \\\n",
       "0   0  2013-01-01          1  AUTOMOTIVE    0.0            0  Quito   \n",
       "1   1  2013-01-01          1   BABY CARE    0.0            0  Quito   \n",
       "2   2  2013-01-01          1      BEAUTY    0.0            0  Quito   \n",
       "3   3  2013-01-01          1   BEVERAGES    0.0            0  Quito   \n",
       "4   4  2013-01-01          1       BOOKS    0.0            0  Quito   \n",
       "\n",
       "       state store_type  cluster  dcoilwtico  transactions holiday_type  \\\n",
       "0  Pichincha          D       13       93.14           0.0      Holiday   \n",
       "1  Pichincha          D       13       93.14           0.0      Holiday   \n",
       "2  Pichincha          D       13       93.14           0.0      Holiday   \n",
       "3  Pichincha          D       13       93.14           0.0      Holiday   \n",
       "4  Pichincha          D       13       93.14           0.0      Holiday   \n",
       "\n",
       "  transferred  \n",
       "0       False  \n",
       "1       False  \n",
       "2       False  \n",
       "3       False  \n",
       "4       False  "
      ]
     },
     "execution_count": 22,
     "metadata": {},
     "output_type": "execute_result"
    }
   ],
   "source": [
    "df_train = df_train.merge(holidays,on='date',how='left')\n",
    "\n",
    "# Rename cloumns with the same name\n",
    "df_train = df_train.rename(columns={'type_x' : 'store_type','type_y':'holiday_type'})\n",
    "\n",
    "df_train.head()"
   ]
  },
  {
   "cell_type": "code",
   "execution_count": 23,
   "id": "b58aa795",
   "metadata": {},
   "outputs": [
    {
     "data": {
      "text/plain": [
       "(2746062, 0.915083135391924)"
      ]
     },
     "execution_count": 23,
     "metadata": {},
     "output_type": "execute_result"
    }
   ],
   "source": [
    "# Missing in merged holiday data\n",
    "df_train['holiday_type'].isnull().sum(), df_train['holiday_type'].isnull().mean()"
   ]
  },
  {
   "cell_type": "markdown",
   "id": "258dd9bb",
   "metadata": {},
   "source": [
    "We can see most of the data are missing, because most dates are not holidays.\\\n",
    "Replace the NaNs in `holiday_type` with \"Normal\", which includes normal weekdays and weekends that do not have special holidays or events.\\\n",
    "Replace the NaNs in `transferred` with \"False\"."
   ]
  },
  {
   "cell_type": "code",
   "execution_count": 24,
   "id": "f5310a71",
   "metadata": {},
   "outputs": [],
   "source": [
    "df_train['holiday_type'] = df_train['holiday_type'].replace(np.nan,'Normal')\n",
    "df_train['transferred'] = df_train['transferred'].replace(np.nan,False)"
   ]
  },
  {
   "cell_type": "markdown",
   "id": "564409a9",
   "metadata": {},
   "source": [
    "### 3.4.2 Merged Data<a id='3.4.2'></a>"
   ]
  },
  {
   "cell_type": "code",
   "execution_count": 25,
   "id": "38ae1f51",
   "metadata": {
    "scrolled": true
   },
   "outputs": [
    {
     "data": {
      "text/html": [
       "<div>\n",
       "<style scoped>\n",
       "    .dataframe tbody tr th:only-of-type {\n",
       "        vertical-align: middle;\n",
       "    }\n",
       "\n",
       "    .dataframe tbody tr th {\n",
       "        vertical-align: top;\n",
       "    }\n",
       "\n",
       "    .dataframe thead th {\n",
       "        text-align: right;\n",
       "    }\n",
       "</style>\n",
       "<table border=\"1\" class=\"dataframe\">\n",
       "  <thead>\n",
       "    <tr style=\"text-align: right;\">\n",
       "      <th></th>\n",
       "      <th>date</th>\n",
       "      <th>store_nbr</th>\n",
       "      <th>family</th>\n",
       "      <th>sales</th>\n",
       "      <th>onpromotion</th>\n",
       "      <th>city</th>\n",
       "      <th>state</th>\n",
       "      <th>store_type</th>\n",
       "      <th>cluster</th>\n",
       "      <th>dcoilwtico</th>\n",
       "      <th>transactions</th>\n",
       "      <th>holiday_type</th>\n",
       "      <th>transferred</th>\n",
       "    </tr>\n",
       "  </thead>\n",
       "  <tbody>\n",
       "    <tr>\n",
       "      <th>0</th>\n",
       "      <td>2013-01-01</td>\n",
       "      <td>1</td>\n",
       "      <td>AUTOMOTIVE</td>\n",
       "      <td>0.0</td>\n",
       "      <td>0</td>\n",
       "      <td>Quito</td>\n",
       "      <td>Pichincha</td>\n",
       "      <td>D</td>\n",
       "      <td>13</td>\n",
       "      <td>93.14</td>\n",
       "      <td>0.0</td>\n",
       "      <td>Holiday</td>\n",
       "      <td>False</td>\n",
       "    </tr>\n",
       "    <tr>\n",
       "      <th>1</th>\n",
       "      <td>2013-01-01</td>\n",
       "      <td>1</td>\n",
       "      <td>BABY CARE</td>\n",
       "      <td>0.0</td>\n",
       "      <td>0</td>\n",
       "      <td>Quito</td>\n",
       "      <td>Pichincha</td>\n",
       "      <td>D</td>\n",
       "      <td>13</td>\n",
       "      <td>93.14</td>\n",
       "      <td>0.0</td>\n",
       "      <td>Holiday</td>\n",
       "      <td>False</td>\n",
       "    </tr>\n",
       "    <tr>\n",
       "      <th>2</th>\n",
       "      <td>2013-01-01</td>\n",
       "      <td>1</td>\n",
       "      <td>BEAUTY</td>\n",
       "      <td>0.0</td>\n",
       "      <td>0</td>\n",
       "      <td>Quito</td>\n",
       "      <td>Pichincha</td>\n",
       "      <td>D</td>\n",
       "      <td>13</td>\n",
       "      <td>93.14</td>\n",
       "      <td>0.0</td>\n",
       "      <td>Holiday</td>\n",
       "      <td>False</td>\n",
       "    </tr>\n",
       "    <tr>\n",
       "      <th>3</th>\n",
       "      <td>2013-01-01</td>\n",
       "      <td>1</td>\n",
       "      <td>BEVERAGES</td>\n",
       "      <td>0.0</td>\n",
       "      <td>0</td>\n",
       "      <td>Quito</td>\n",
       "      <td>Pichincha</td>\n",
       "      <td>D</td>\n",
       "      <td>13</td>\n",
       "      <td>93.14</td>\n",
       "      <td>0.0</td>\n",
       "      <td>Holiday</td>\n",
       "      <td>False</td>\n",
       "    </tr>\n",
       "    <tr>\n",
       "      <th>4</th>\n",
       "      <td>2013-01-01</td>\n",
       "      <td>1</td>\n",
       "      <td>BOOKS</td>\n",
       "      <td>0.0</td>\n",
       "      <td>0</td>\n",
       "      <td>Quito</td>\n",
       "      <td>Pichincha</td>\n",
       "      <td>D</td>\n",
       "      <td>13</td>\n",
       "      <td>93.14</td>\n",
       "      <td>0.0</td>\n",
       "      <td>Holiday</td>\n",
       "      <td>False</td>\n",
       "    </tr>\n",
       "  </tbody>\n",
       "</table>\n",
       "</div>"
      ],
      "text/plain": [
       "         date  store_nbr      family  sales  onpromotion   city      state  \\\n",
       "0  2013-01-01          1  AUTOMOTIVE    0.0            0  Quito  Pichincha   \n",
       "1  2013-01-01          1   BABY CARE    0.0            0  Quito  Pichincha   \n",
       "2  2013-01-01          1      BEAUTY    0.0            0  Quito  Pichincha   \n",
       "3  2013-01-01          1   BEVERAGES    0.0            0  Quito  Pichincha   \n",
       "4  2013-01-01          1       BOOKS    0.0            0  Quito  Pichincha   \n",
       "\n",
       "  store_type  cluster  dcoilwtico  transactions holiday_type  transferred  \n",
       "0          D       13       93.14           0.0      Holiday        False  \n",
       "1          D       13       93.14           0.0      Holiday        False  \n",
       "2          D       13       93.14           0.0      Holiday        False  \n",
       "3          D       13       93.14           0.0      Holiday        False  \n",
       "4          D       13       93.14           0.0      Holiday        False  "
      ]
     },
     "execution_count": 25,
     "metadata": {},
     "output_type": "execute_result"
    }
   ],
   "source": [
    "# Drop the ID column\n",
    "df_train = df_train.drop('id', axis=1)\n",
    "\n",
    "df_train.head()"
   ]
  },
  {
   "cell_type": "markdown",
   "id": "95ea88b7",
   "metadata": {},
   "source": [
    "Group by store number and product family:"
   ]
  },
  {
   "cell_type": "code",
   "execution_count": 26,
   "id": "7d3157a2",
   "metadata": {
    "scrolled": true
   },
   "outputs": [],
   "source": [
    "grp = df_train.groupby(['store_nbr', 'family'])"
   ]
  },
  {
   "cell_type": "markdown",
   "id": "13445b0c",
   "metadata": {},
   "source": [
    "### 3.4.3 Data Visualization<a id='3.4.3'></a>"
   ]
  },
  {
   "cell_type": "markdown",
   "id": "c3f29cb8",
   "metadata": {},
   "source": [
    "#### 3.4.3.1 Mean Sales by Store and Product Family<a id='3.4.3.1'></a>"
   ]
  },
  {
   "cell_type": "code",
   "execution_count": 27,
   "id": "a62b1f81",
   "metadata": {
    "scrolled": true
   },
   "outputs": [],
   "source": [
    "df_st_sa = df_train.groupby('store_type').agg({\"sales\" : \"mean\"}).reset_index().sort_values(by='sales', ascending=False)\n",
    "df_cl_sa = df_train.groupby('cluster').agg({\"sales\" : \"mean\"}).reset_index() \n",
    "df_fa_sa = df_train.groupby('family').agg({\"sales\" : \"mean\"}).reset_index().sort_values(by='sales', ascending=False)[:10]"
   ]
  },
  {
   "cell_type": "code",
   "execution_count": 28,
   "id": "9d2b178d",
   "metadata": {
    "scrolled": false
   },
   "outputs": [
    {
     "data": {
      "image/png": "[encoded data removed]",
      "text/plain": [
       "<Figure size 640x480 with 1 Axes>"
      ]
     },
     "metadata": {},
     "output_type": "display_data"
    }
   ],
   "source": [
    "_ = df_st_sa.set_index('store_type').plot.bar()\n",
    "_ = plt.title('Mean Sales by Store Type')"
   ]
  },
  {
   "cell_type": "code",
   "execution_count": 29,
   "id": "548f9f49",
   "metadata": {},
   "outputs": [
    {
     "data": {
      "image/png": "[encoded data removed]",
      "text/plain": [
       "<Figure size 640x480 with 1 Axes>"
      ]
     },
     "metadata": {},
     "output_type": "display_data"
    }
   ],
   "source": [
    "_ = df_cl_sa.set_index('cluster').plot.bar()\n",
    "_ = plt.title('Mean Sales by Store Cluster')"
   ]
  },
  {
   "cell_type": "code",
   "execution_count": 30,
   "id": "fc46b60f",
   "metadata": {},
   "outputs": [
    {
     "data": {
      "image/png": "[encoded data removed]",
      "text/plain": [
       "<Figure size 640x480 with 1 Axes>"
      ]
     },
     "metadata": {},
     "output_type": "display_data"
    }
   ],
   "source": [
    "_ = df_fa_sa.set_index('family').plot.bar()\n",
    "_ = plt.title('Mean Sales by Product Family')"
   ]
  },
  {
   "cell_type": "markdown",
   "id": "bc9026a2",
   "metadata": {},
   "source": [
    "Type-A and Cluster-5 stores have the highest mean sales.\n",
    "\n",
    "Highest mean sales are made by the products like grocery and beverages. "
   ]
  },
  {
   "cell_type": "code",
   "execution_count": 31,
   "id": "eded85de",
   "metadata": {},
   "outputs": [
    {
     "data": {
      "text/html": [
       "<div>\n",
       "<style scoped>\n",
       "    .dataframe tbody tr th:only-of-type {\n",
       "        vertical-align: middle;\n",
       "    }\n",
       "\n",
       "    .dataframe tbody tr th {\n",
       "        vertical-align: top;\n",
       "    }\n",
       "\n",
       "    .dataframe thead th {\n",
       "        text-align: right;\n",
       "    }\n",
       "</style>\n",
       "<table border=\"1\" class=\"dataframe\">\n",
       "  <thead>\n",
       "    <tr style=\"text-align: right;\">\n",
       "      <th></th>\n",
       "      <th>store_nbr</th>\n",
       "      <th>city</th>\n",
       "      <th>state</th>\n",
       "      <th>type</th>\n",
       "      <th>cluster</th>\n",
       "    </tr>\n",
       "  </thead>\n",
       "  <tbody>\n",
       "    <tr>\n",
       "      <th>43</th>\n",
       "      <td>44</td>\n",
       "      <td>Quito</td>\n",
       "      <td>Pichincha</td>\n",
       "      <td>A</td>\n",
       "      <td>5</td>\n",
       "    </tr>\n",
       "    <tr>\n",
       "      <th>44</th>\n",
       "      <td>45</td>\n",
       "      <td>Quito</td>\n",
       "      <td>Pichincha</td>\n",
       "      <td>A</td>\n",
       "      <td>11</td>\n",
       "    </tr>\n",
       "    <tr>\n",
       "      <th>45</th>\n",
       "      <td>46</td>\n",
       "      <td>Quito</td>\n",
       "      <td>Pichincha</td>\n",
       "      <td>A</td>\n",
       "      <td>14</td>\n",
       "    </tr>\n",
       "    <tr>\n",
       "      <th>46</th>\n",
       "      <td>47</td>\n",
       "      <td>Quito</td>\n",
       "      <td>Pichincha</td>\n",
       "      <td>A</td>\n",
       "      <td>14</td>\n",
       "    </tr>\n",
       "    <tr>\n",
       "      <th>47</th>\n",
       "      <td>48</td>\n",
       "      <td>Quito</td>\n",
       "      <td>Pichincha</td>\n",
       "      <td>A</td>\n",
       "      <td>14</td>\n",
       "    </tr>\n",
       "    <tr>\n",
       "      <th>48</th>\n",
       "      <td>49</td>\n",
       "      <td>Quito</td>\n",
       "      <td>Pichincha</td>\n",
       "      <td>A</td>\n",
       "      <td>11</td>\n",
       "    </tr>\n",
       "    <tr>\n",
       "      <th>49</th>\n",
       "      <td>50</td>\n",
       "      <td>Ambato</td>\n",
       "      <td>Tungurahua</td>\n",
       "      <td>A</td>\n",
       "      <td>14</td>\n",
       "    </tr>\n",
       "    <tr>\n",
       "      <th>50</th>\n",
       "      <td>51</td>\n",
       "      <td>Guayaquil</td>\n",
       "      <td>Guayas</td>\n",
       "      <td>A</td>\n",
       "      <td>17</td>\n",
       "    </tr>\n",
       "    <tr>\n",
       "      <th>51</th>\n",
       "      <td>52</td>\n",
       "      <td>Manta</td>\n",
       "      <td>Manabi</td>\n",
       "      <td>A</td>\n",
       "      <td>11</td>\n",
       "    </tr>\n",
       "  </tbody>\n",
       "</table>\n",
       "</div>"
      ],
      "text/plain": [
       "    store_nbr       city       state type  cluster\n",
       "43         44      Quito   Pichincha    A        5\n",
       "44         45      Quito   Pichincha    A       11\n",
       "45         46      Quito   Pichincha    A       14\n",
       "46         47      Quito   Pichincha    A       14\n",
       "47         48      Quito   Pichincha    A       14\n",
       "48         49      Quito   Pichincha    A       11\n",
       "49         50     Ambato  Tungurahua    A       14\n",
       "50         51  Guayaquil      Guayas    A       17\n",
       "51         52      Manta      Manabi    A       11"
      ]
     },
     "execution_count": 31,
     "metadata": {},
     "output_type": "execute_result"
    }
   ],
   "source": [
    "stores[ (stores['type']=='A') ]"
   ]
  },
  {
   "cell_type": "code",
   "execution_count": 32,
   "id": "9ff04174",
   "metadata": {},
   "outputs": [
    {
     "data": {
      "text/html": [
       "<div>\n",
       "<style scoped>\n",
       "    .dataframe tbody tr th:only-of-type {\n",
       "        vertical-align: middle;\n",
       "    }\n",
       "\n",
       "    .dataframe tbody tr th {\n",
       "        vertical-align: top;\n",
       "    }\n",
       "\n",
       "    .dataframe thead th {\n",
       "        text-align: right;\n",
       "    }\n",
       "</style>\n",
       "<table border=\"1\" class=\"dataframe\">\n",
       "  <thead>\n",
       "    <tr style=\"text-align: right;\">\n",
       "      <th></th>\n",
       "      <th>store_nbr</th>\n",
       "      <th>city</th>\n",
       "      <th>state</th>\n",
       "      <th>type</th>\n",
       "      <th>cluster</th>\n",
       "    </tr>\n",
       "  </thead>\n",
       "  <tbody>\n",
       "    <tr>\n",
       "      <th>43</th>\n",
       "      <td>44</td>\n",
       "      <td>Quito</td>\n",
       "      <td>Pichincha</td>\n",
       "      <td>A</td>\n",
       "      <td>5</td>\n",
       "    </tr>\n",
       "  </tbody>\n",
       "</table>\n",
       "</div>"
      ],
      "text/plain": [
       "    store_nbr   city      state type  cluster\n",
       "43         44  Quito  Pichincha    A        5"
      ]
     },
     "execution_count": 32,
     "metadata": {},
     "output_type": "execute_result"
    }
   ],
   "source": [
    "stores[ (stores['cluster']==5) ]"
   ]
  },
  {
   "cell_type": "markdown",
   "id": "9f35c131",
   "metadata": {},
   "source": [
    "Only store No.44 is in both type \"A\" and cluster \"5\"."
   ]
  },
  {
   "cell_type": "markdown",
   "id": "689c5ec4",
   "metadata": {},
   "source": [
    "**Select one group (one time series):**"
   ]
  },
  {
   "cell_type": "code",
   "execution_count": 33,
   "id": "9a38a56a",
   "metadata": {},
   "outputs": [
    {
     "data": {
      "text/html": [
       "<div>\n",
       "<style scoped>\n",
       "    .dataframe tbody tr th:only-of-type {\n",
       "        vertical-align: middle;\n",
       "    }\n",
       "\n",
       "    .dataframe tbody tr th {\n",
       "        vertical-align: top;\n",
       "    }\n",
       "\n",
       "    .dataframe thead th {\n",
       "        text-align: right;\n",
       "    }\n",
       "</style>\n",
       "<table border=\"1\" class=\"dataframe\">\n",
       "  <thead>\n",
       "    <tr style=\"text-align: right;\">\n",
       "      <th></th>\n",
       "      <th>date</th>\n",
       "      <th>sales</th>\n",
       "      <th>onpromotion</th>\n",
       "      <th>dcoilwtico</th>\n",
       "      <th>transactions</th>\n",
       "      <th>holiday_type</th>\n",
       "      <th>transferred</th>\n",
       "    </tr>\n",
       "  </thead>\n",
       "  <tbody>\n",
       "    <tr>\n",
       "      <th>0</th>\n",
       "      <td>2013-01-01</td>\n",
       "      <td>0.0</td>\n",
       "      <td>0</td>\n",
       "      <td>93.14</td>\n",
       "      <td>0.0</td>\n",
       "      <td>Holiday</td>\n",
       "      <td>False</td>\n",
       "    </tr>\n",
       "    <tr>\n",
       "      <th>1</th>\n",
       "      <td>2013-01-02</td>\n",
       "      <td>10686.0</td>\n",
       "      <td>0</td>\n",
       "      <td>93.14</td>\n",
       "      <td>4821.0</td>\n",
       "      <td>Normal</td>\n",
       "      <td>False</td>\n",
       "    </tr>\n",
       "    <tr>\n",
       "      <th>2</th>\n",
       "      <td>2013-01-03</td>\n",
       "      <td>7342.0</td>\n",
       "      <td>0</td>\n",
       "      <td>92.97</td>\n",
       "      <td>3618.0</td>\n",
       "      <td>Normal</td>\n",
       "      <td>False</td>\n",
       "    </tr>\n",
       "    <tr>\n",
       "      <th>3</th>\n",
       "      <td>2013-01-04</td>\n",
       "      <td>7250.0</td>\n",
       "      <td>0</td>\n",
       "      <td>93.12</td>\n",
       "      <td>4169.0</td>\n",
       "      <td>Normal</td>\n",
       "      <td>False</td>\n",
       "    </tr>\n",
       "    <tr>\n",
       "      <th>4</th>\n",
       "      <td>2013-01-05</td>\n",
       "      <td>10699.0</td>\n",
       "      <td>0</td>\n",
       "      <td>93.12</td>\n",
       "      <td>4921.0</td>\n",
       "      <td>Work Day</td>\n",
       "      <td>False</td>\n",
       "    </tr>\n",
       "  </tbody>\n",
       "</table>\n",
       "</div>"
      ],
      "text/plain": [
       "         date    sales  onpromotion  dcoilwtico  transactions holiday_type  \\\n",
       "0  2013-01-01      0.0            0       93.14           0.0      Holiday   \n",
       "1  2013-01-02  10686.0            0       93.14        4821.0       Normal   \n",
       "2  2013-01-03   7342.0            0       92.97        3618.0       Normal   \n",
       "3  2013-01-04   7250.0            0       93.12        4169.0       Normal   \n",
       "4  2013-01-05  10699.0            0       93.12        4921.0     Work Day   \n",
       "\n",
       "   transferred  \n",
       "0        False  \n",
       "1        False  \n",
       "2        False  \n",
       "3        False  \n",
       "4        False  "
      ]
     },
     "execution_count": 33,
     "metadata": {},
     "output_type": "execute_result"
    }
   ],
   "source": [
    "grp_sel = grp.get_group((44, 'GROCERY I'))\n",
    "\n",
    "grp_sel.reset_index(inplace=True)\n",
    "# grp_sel = grp_sel.set_index('date')\n",
    "\n",
    "# Drop index, store_nbr and family columns\n",
    "grp_sel = grp_sel.drop(['index', 'store_nbr', 'family', 'city', 'state', 'store_type', 'cluster'], axis=1)\n",
    "grp_sel.head()"
   ]
  },
  {
   "cell_type": "code",
   "execution_count": 34,
   "id": "617f38d7",
   "metadata": {
    "scrolled": true
   },
   "outputs": [
    {
     "data": {
      "text/plain": [
       "(1684, 7)"
      ]
     },
     "execution_count": 34,
     "metadata": {},
     "output_type": "execute_result"
    }
   ],
   "source": [
    "grp_sel.shape"
   ]
  },
  {
   "cell_type": "markdown",
   "id": "e6dc103e",
   "metadata": {},
   "source": [
    "Recall that we have four time gaps on Christmas Days, and now we need to fill them up:"
   ]
  },
  {
   "cell_type": "code",
   "execution_count": 35,
   "id": "4589ceca",
   "metadata": {},
   "outputs": [
    {
     "data": {
      "text/plain": [
       "(1688, 1)"
      ]
     },
     "execution_count": 35,
     "metadata": {},
     "output_type": "execute_result"
    }
   ],
   "source": [
    "# Correct date series\n",
    "start='2013-01-01'\n",
    "end='2017-08-15'\n",
    "df_dates = pd.DataFrame({\"date\": pd.date_range(start, end)})\n",
    "df_dates.shape"
   ]
  },
  {
   "cell_type": "code",
   "execution_count": 36,
   "id": "dd8734c9",
   "metadata": {},
   "outputs": [
    {
     "data": {
      "text/plain": [
       "(1688, 7)"
      ]
     },
     "execution_count": 36,
     "metadata": {},
     "output_type": "execute_result"
    }
   ],
   "source": [
    "# Merge sales data with correct dates\n",
    "df_dates['date']=df_dates['date'].astype(str)\n",
    "grp_sel_filled = grp_sel.merge(df_dates, how=\"right\", on='date')\n",
    "grp_sel_filled.shape"
   ]
  },
  {
   "cell_type": "code",
   "execution_count": 37,
   "id": "63a13864",
   "metadata": {},
   "outputs": [
    {
     "data": {
      "text/html": [
       "<div>\n",
       "<style scoped>\n",
       "    .dataframe tbody tr th:only-of-type {\n",
       "        vertical-align: middle;\n",
       "    }\n",
       "\n",
       "    .dataframe tbody tr th {\n",
       "        vertical-align: top;\n",
       "    }\n",
       "\n",
       "    .dataframe thead th {\n",
       "        text-align: right;\n",
       "    }\n",
       "</style>\n",
       "<table border=\"1\" class=\"dataframe\">\n",
       "  <thead>\n",
       "    <tr style=\"text-align: right;\">\n",
       "      <th></th>\n",
       "      <th>date</th>\n",
       "      <th>sales</th>\n",
       "      <th>onpromotion</th>\n",
       "      <th>dcoilwtico</th>\n",
       "      <th>transactions</th>\n",
       "      <th>holiday_type</th>\n",
       "      <th>transferred</th>\n",
       "    </tr>\n",
       "  </thead>\n",
       "  <tbody>\n",
       "    <tr>\n",
       "      <th>358</th>\n",
       "      <td>2013-12-25</td>\n",
       "      <td>NaN</td>\n",
       "      <td>NaN</td>\n",
       "      <td>NaN</td>\n",
       "      <td>NaN</td>\n",
       "      <td>NaN</td>\n",
       "      <td>NaN</td>\n",
       "    </tr>\n",
       "    <tr>\n",
       "      <th>723</th>\n",
       "      <td>2014-12-25</td>\n",
       "      <td>NaN</td>\n",
       "      <td>NaN</td>\n",
       "      <td>NaN</td>\n",
       "      <td>NaN</td>\n",
       "      <td>NaN</td>\n",
       "      <td>NaN</td>\n",
       "    </tr>\n",
       "    <tr>\n",
       "      <th>1088</th>\n",
       "      <td>2015-12-25</td>\n",
       "      <td>NaN</td>\n",
       "      <td>NaN</td>\n",
       "      <td>NaN</td>\n",
       "      <td>NaN</td>\n",
       "      <td>NaN</td>\n",
       "      <td>NaN</td>\n",
       "    </tr>\n",
       "    <tr>\n",
       "      <th>1454</th>\n",
       "      <td>2016-12-25</td>\n",
       "      <td>NaN</td>\n",
       "      <td>NaN</td>\n",
       "      <td>NaN</td>\n",
       "      <td>NaN</td>\n",
       "      <td>NaN</td>\n",
       "      <td>NaN</td>\n",
       "    </tr>\n",
       "  </tbody>\n",
       "</table>\n",
       "</div>"
      ],
      "text/plain": [
       "            date  sales  onpromotion  dcoilwtico  transactions holiday_type  \\\n",
       "358   2013-12-25    NaN          NaN         NaN           NaN          NaN   \n",
       "723   2014-12-25    NaN          NaN         NaN           NaN          NaN   \n",
       "1088  2015-12-25    NaN          NaN         NaN           NaN          NaN   \n",
       "1454  2016-12-25    NaN          NaN         NaN           NaN          NaN   \n",
       "\n",
       "     transferred  \n",
       "358          NaN  \n",
       "723          NaN  \n",
       "1088         NaN  \n",
       "1454         NaN  "
      ]
     },
     "execution_count": 37,
     "metadata": {},
     "output_type": "execute_result"
    }
   ],
   "source": [
    "# Check Christmas Days\n",
    "grp_sel_filled[grp_sel_filled['date'].isin(['2013-12-25', '2014-12-25', '2015-12-25', '2016-12-25'])]"
   ]
  },
  {
   "cell_type": "code",
   "execution_count": 38,
   "id": "1a904e55",
   "metadata": {},
   "outputs": [],
   "source": [
    "# Using forward fill\n",
    "grp_sel_filled.fillna(method = 'ffill', inplace = True)"
   ]
  },
  {
   "cell_type": "code",
   "execution_count": 39,
   "id": "b8493587",
   "metadata": {},
   "outputs": [
    {
     "data": {
      "text/html": [
       "<div>\n",
       "<style scoped>\n",
       "    .dataframe tbody tr th:only-of-type {\n",
       "        vertical-align: middle;\n",
       "    }\n",
       "\n",
       "    .dataframe tbody tr th {\n",
       "        vertical-align: top;\n",
       "    }\n",
       "\n",
       "    .dataframe thead th {\n",
       "        text-align: right;\n",
       "    }\n",
       "</style>\n",
       "<table border=\"1\" class=\"dataframe\">\n",
       "  <thead>\n",
       "    <tr style=\"text-align: right;\">\n",
       "      <th></th>\n",
       "      <th>date</th>\n",
       "      <th>sales</th>\n",
       "      <th>onpromotion</th>\n",
       "      <th>dcoilwtico</th>\n",
       "      <th>transactions</th>\n",
       "      <th>holiday_type</th>\n",
       "      <th>transferred</th>\n",
       "    </tr>\n",
       "  </thead>\n",
       "  <tbody>\n",
       "    <tr>\n",
       "      <th>358</th>\n",
       "      <td>2013-12-25</td>\n",
       "      <td>9081.000</td>\n",
       "      <td>0.0</td>\n",
       "      <td>98.87</td>\n",
       "      <td>7433.0</td>\n",
       "      <td>Additional</td>\n",
       "      <td>False</td>\n",
       "    </tr>\n",
       "    <tr>\n",
       "      <th>723</th>\n",
       "      <td>2014-12-25</td>\n",
       "      <td>10548.000</td>\n",
       "      <td>15.0</td>\n",
       "      <td>55.70</td>\n",
       "      <td>7689.0</td>\n",
       "      <td>Additional</td>\n",
       "      <td>False</td>\n",
       "    </tr>\n",
       "    <tr>\n",
       "      <th>1088</th>\n",
       "      <td>2015-12-25</td>\n",
       "      <td>11907.455</td>\n",
       "      <td>14.0</td>\n",
       "      <td>37.62</td>\n",
       "      <td>7700.0</td>\n",
       "      <td>Additional</td>\n",
       "      <td>False</td>\n",
       "    </tr>\n",
       "    <tr>\n",
       "      <th>1454</th>\n",
       "      <td>2016-12-25</td>\n",
       "      <td>15329.000</td>\n",
       "      <td>135.0</td>\n",
       "      <td>52.01</td>\n",
       "      <td>7430.0</td>\n",
       "      <td>Additional</td>\n",
       "      <td>False</td>\n",
       "    </tr>\n",
       "  </tbody>\n",
       "</table>\n",
       "</div>"
      ],
      "text/plain": [
       "            date      sales  onpromotion  dcoilwtico  transactions  \\\n",
       "358   2013-12-25   9081.000          0.0       98.87        7433.0   \n",
       "723   2014-12-25  10548.000         15.0       55.70        7689.0   \n",
       "1088  2015-12-25  11907.455         14.0       37.62        7700.0   \n",
       "1454  2016-12-25  15329.000        135.0       52.01        7430.0   \n",
       "\n",
       "     holiday_type  transferred  \n",
       "358    Additional        False  \n",
       "723    Additional        False  \n",
       "1088   Additional        False  \n",
       "1454   Additional        False  "
      ]
     },
     "execution_count": 39,
     "metadata": {},
     "output_type": "execute_result"
    }
   ],
   "source": [
    "grp_sel_filled[grp_sel_filled['date'].isin(['2013-12-25', '2014-12-25', '2015-12-25', '2016-12-25'])]"
   ]
  },
  {
   "cell_type": "code",
   "execution_count": 40,
   "id": "9f9c8917",
   "metadata": {},
   "outputs": [
    {
     "data": {
      "text/html": [
       "<div>\n",
       "<style scoped>\n",
       "    .dataframe tbody tr th:only-of-type {\n",
       "        vertical-align: middle;\n",
       "    }\n",
       "\n",
       "    .dataframe tbody tr th {\n",
       "        vertical-align: top;\n",
       "    }\n",
       "\n",
       "    .dataframe thead th {\n",
       "        text-align: right;\n",
       "    }\n",
       "</style>\n",
       "<table border=\"1\" class=\"dataframe\">\n",
       "  <thead>\n",
       "    <tr style=\"text-align: right;\">\n",
       "      <th></th>\n",
       "      <th>date</th>\n",
       "      <th>sales</th>\n",
       "      <th>onpromotion</th>\n",
       "      <th>dcoilwtico</th>\n",
       "      <th>transactions</th>\n",
       "      <th>holiday_type</th>\n",
       "      <th>transferred</th>\n",
       "      <th>day_of_week</th>\n",
       "    </tr>\n",
       "  </thead>\n",
       "  <tbody>\n",
       "    <tr>\n",
       "      <th>0</th>\n",
       "      <td>2013-01-01</td>\n",
       "      <td>0.0</td>\n",
       "      <td>0.0</td>\n",
       "      <td>93.14</td>\n",
       "      <td>0.0</td>\n",
       "      <td>Holiday</td>\n",
       "      <td>False</td>\n",
       "      <td>Tuesday</td>\n",
       "    </tr>\n",
       "    <tr>\n",
       "      <th>1</th>\n",
       "      <td>2013-01-02</td>\n",
       "      <td>10686.0</td>\n",
       "      <td>0.0</td>\n",
       "      <td>93.14</td>\n",
       "      <td>4821.0</td>\n",
       "      <td>Normal</td>\n",
       "      <td>False</td>\n",
       "      <td>Wednesday</td>\n",
       "    </tr>\n",
       "    <tr>\n",
       "      <th>2</th>\n",
       "      <td>2013-01-03</td>\n",
       "      <td>7342.0</td>\n",
       "      <td>0.0</td>\n",
       "      <td>92.97</td>\n",
       "      <td>3618.0</td>\n",
       "      <td>Normal</td>\n",
       "      <td>False</td>\n",
       "      <td>Thursday</td>\n",
       "    </tr>\n",
       "    <tr>\n",
       "      <th>3</th>\n",
       "      <td>2013-01-04</td>\n",
       "      <td>7250.0</td>\n",
       "      <td>0.0</td>\n",
       "      <td>93.12</td>\n",
       "      <td>4169.0</td>\n",
       "      <td>Normal</td>\n",
       "      <td>False</td>\n",
       "      <td>Friday</td>\n",
       "    </tr>\n",
       "    <tr>\n",
       "      <th>4</th>\n",
       "      <td>2013-01-05</td>\n",
       "      <td>10699.0</td>\n",
       "      <td>0.0</td>\n",
       "      <td>93.12</td>\n",
       "      <td>4921.0</td>\n",
       "      <td>Work Day</td>\n",
       "      <td>False</td>\n",
       "      <td>Saturday</td>\n",
       "    </tr>\n",
       "  </tbody>\n",
       "</table>\n",
       "</div>"
      ],
      "text/plain": [
       "        date    sales  onpromotion  dcoilwtico  transactions holiday_type  \\\n",
       "0 2013-01-01      0.0          0.0       93.14           0.0      Holiday   \n",
       "1 2013-01-02  10686.0          0.0       93.14        4821.0       Normal   \n",
       "2 2013-01-03   7342.0          0.0       92.97        3618.0       Normal   \n",
       "3 2013-01-04   7250.0          0.0       93.12        4169.0       Normal   \n",
       "4 2013-01-05  10699.0          0.0       93.12        4921.0     Work Day   \n",
       "\n",
       "   transferred day_of_week  \n",
       "0        False     Tuesday  \n",
       "1        False   Wednesday  \n",
       "2        False    Thursday  \n",
       "3        False      Friday  \n",
       "4        False    Saturday  "
      ]
     },
     "execution_count": 40,
     "metadata": {},
     "output_type": "execute_result"
    }
   ],
   "source": [
    "# Get the day of week column\n",
    "grp_sel_filled.date = pd.to_datetime(grp_sel_filled.date)\n",
    "grp_sel_filled['day_of_week'] = grp_sel_filled['date'].dt.day_name()\n",
    "grp_sel_filled.head()"
   ]
  },
  {
   "cell_type": "markdown",
   "id": "3c6eb158",
   "metadata": {},
   "source": [
    "Add previous days' sales as predictors:"
   ]
  },
  {
   "cell_type": "code",
   "execution_count": 41,
   "id": "efb9fc8c",
   "metadata": {},
   "outputs": [],
   "source": [
    "grp_sel_filled['sales_lag1'] = grp_sel_filled['sales'].shift(1)\n",
    "grp_sel_filled['sales_lag2'] = grp_sel_filled['sales'].shift(2)\n",
    "grp_sel_filled['sales_lag3'] = grp_sel_filled['sales'].shift(3)\n",
    "# previous 3 days' average\n",
    "grp_sel_filled['sales_3_day_avg'] = grp_sel_filled['sales_lag1'].rolling(3).mean().round(1)\n",
    "# previous 7 days's average\n",
    "grp_sel_filled['sales_week_avg'] = grp_sel_filled['sales_lag1'].rolling(7).mean().round(1)"
   ]
  },
  {
   "cell_type": "code",
   "execution_count": 42,
   "id": "5d09f5cd",
   "metadata": {
    "scrolled": false
   },
   "outputs": [
    {
     "data": {
      "text/html": [
       "<div>\n",
       "<style scoped>\n",
       "    .dataframe tbody tr th:only-of-type {\n",
       "        vertical-align: middle;\n",
       "    }\n",
       "\n",
       "    .dataframe tbody tr th {\n",
       "        vertical-align: top;\n",
       "    }\n",
       "\n",
       "    .dataframe thead th {\n",
       "        text-align: right;\n",
       "    }\n",
       "</style>\n",
       "<table border=\"1\" class=\"dataframe\">\n",
       "  <thead>\n",
       "    <tr style=\"text-align: right;\">\n",
       "      <th></th>\n",
       "      <th>date</th>\n",
       "      <th>sales</th>\n",
       "      <th>onpromotion</th>\n",
       "      <th>dcoilwtico</th>\n",
       "      <th>transactions</th>\n",
       "      <th>holiday_type</th>\n",
       "      <th>transferred</th>\n",
       "      <th>day_of_week</th>\n",
       "      <th>sales_lag1</th>\n",
       "      <th>sales_lag2</th>\n",
       "      <th>sales_lag3</th>\n",
       "      <th>sales_3_day_avg</th>\n",
       "      <th>sales_week_avg</th>\n",
       "    </tr>\n",
       "  </thead>\n",
       "  <tbody>\n",
       "    <tr>\n",
       "      <th>0</th>\n",
       "      <td>2013-01-01</td>\n",
       "      <td>0.0</td>\n",
       "      <td>0.0</td>\n",
       "      <td>93.14</td>\n",
       "      <td>0.0</td>\n",
       "      <td>Holiday</td>\n",
       "      <td>False</td>\n",
       "      <td>Tuesday</td>\n",
       "      <td>NaN</td>\n",
       "      <td>NaN</td>\n",
       "      <td>NaN</td>\n",
       "      <td>NaN</td>\n",
       "      <td>NaN</td>\n",
       "    </tr>\n",
       "    <tr>\n",
       "      <th>1</th>\n",
       "      <td>2013-01-02</td>\n",
       "      <td>10686.0</td>\n",
       "      <td>0.0</td>\n",
       "      <td>93.14</td>\n",
       "      <td>4821.0</td>\n",
       "      <td>Normal</td>\n",
       "      <td>False</td>\n",
       "      <td>Wednesday</td>\n",
       "      <td>0.0</td>\n",
       "      <td>NaN</td>\n",
       "      <td>NaN</td>\n",
       "      <td>NaN</td>\n",
       "      <td>NaN</td>\n",
       "    </tr>\n",
       "    <tr>\n",
       "      <th>2</th>\n",
       "      <td>2013-01-03</td>\n",
       "      <td>7342.0</td>\n",
       "      <td>0.0</td>\n",
       "      <td>92.97</td>\n",
       "      <td>3618.0</td>\n",
       "      <td>Normal</td>\n",
       "      <td>False</td>\n",
       "      <td>Thursday</td>\n",
       "      <td>10686.0</td>\n",
       "      <td>0.0</td>\n",
       "      <td>NaN</td>\n",
       "      <td>NaN</td>\n",
       "      <td>NaN</td>\n",
       "    </tr>\n",
       "    <tr>\n",
       "      <th>3</th>\n",
       "      <td>2013-01-04</td>\n",
       "      <td>7250.0</td>\n",
       "      <td>0.0</td>\n",
       "      <td>93.12</td>\n",
       "      <td>4169.0</td>\n",
       "      <td>Normal</td>\n",
       "      <td>False</td>\n",
       "      <td>Friday</td>\n",
       "      <td>7342.0</td>\n",
       "      <td>10686.0</td>\n",
       "      <td>0.0</td>\n",
       "      <td>6009.3</td>\n",
       "      <td>NaN</td>\n",
       "    </tr>\n",
       "    <tr>\n",
       "      <th>4</th>\n",
       "      <td>2013-01-05</td>\n",
       "      <td>10699.0</td>\n",
       "      <td>0.0</td>\n",
       "      <td>93.12</td>\n",
       "      <td>4921.0</td>\n",
       "      <td>Work Day</td>\n",
       "      <td>False</td>\n",
       "      <td>Saturday</td>\n",
       "      <td>7250.0</td>\n",
       "      <td>7342.0</td>\n",
       "      <td>10686.0</td>\n",
       "      <td>8426.0</td>\n",
       "      <td>NaN</td>\n",
       "    </tr>\n",
       "    <tr>\n",
       "      <th>5</th>\n",
       "      <td>2013-01-06</td>\n",
       "      <td>12373.0</td>\n",
       "      <td>0.0</td>\n",
       "      <td>93.12</td>\n",
       "      <td>4925.0</td>\n",
       "      <td>Normal</td>\n",
       "      <td>False</td>\n",
       "      <td>Sunday</td>\n",
       "      <td>10699.0</td>\n",
       "      <td>7250.0</td>\n",
       "      <td>7342.0</td>\n",
       "      <td>8430.3</td>\n",
       "      <td>NaN</td>\n",
       "    </tr>\n",
       "    <tr>\n",
       "      <th>6</th>\n",
       "      <td>2013-01-07</td>\n",
       "      <td>7059.0</td>\n",
       "      <td>0.0</td>\n",
       "      <td>93.20</td>\n",
       "      <td>3871.0</td>\n",
       "      <td>Normal</td>\n",
       "      <td>False</td>\n",
       "      <td>Monday</td>\n",
       "      <td>12373.0</td>\n",
       "      <td>10699.0</td>\n",
       "      <td>7250.0</td>\n",
       "      <td>10107.3</td>\n",
       "      <td>NaN</td>\n",
       "    </tr>\n",
       "    <tr>\n",
       "      <th>7</th>\n",
       "      <td>2013-01-08</td>\n",
       "      <td>19849.0</td>\n",
       "      <td>0.0</td>\n",
       "      <td>93.21</td>\n",
       "      <td>3593.0</td>\n",
       "      <td>Normal</td>\n",
       "      <td>False</td>\n",
       "      <td>Tuesday</td>\n",
       "      <td>7059.0</td>\n",
       "      <td>12373.0</td>\n",
       "      <td>10699.0</td>\n",
       "      <td>10043.7</td>\n",
       "      <td>7915.6</td>\n",
       "    </tr>\n",
       "    <tr>\n",
       "      <th>8</th>\n",
       "      <td>2013-01-09</td>\n",
       "      <td>7546.0</td>\n",
       "      <td>0.0</td>\n",
       "      <td>93.08</td>\n",
       "      <td>4006.0</td>\n",
       "      <td>Normal</td>\n",
       "      <td>False</td>\n",
       "      <td>Wednesday</td>\n",
       "      <td>19849.0</td>\n",
       "      <td>7059.0</td>\n",
       "      <td>12373.0</td>\n",
       "      <td>13093.7</td>\n",
       "      <td>10751.1</td>\n",
       "    </tr>\n",
       "    <tr>\n",
       "      <th>9</th>\n",
       "      <td>2013-01-10</td>\n",
       "      <td>5101.0</td>\n",
       "      <td>0.0</td>\n",
       "      <td>93.81</td>\n",
       "      <td>3323.0</td>\n",
       "      <td>Normal</td>\n",
       "      <td>False</td>\n",
       "      <td>Thursday</td>\n",
       "      <td>7546.0</td>\n",
       "      <td>19849.0</td>\n",
       "      <td>7059.0</td>\n",
       "      <td>11484.7</td>\n",
       "      <td>10302.6</td>\n",
       "    </tr>\n",
       "  </tbody>\n",
       "</table>\n",
       "</div>"
      ],
      "text/plain": [
       "        date    sales  onpromotion  dcoilwtico  transactions holiday_type  \\\n",
       "0 2013-01-01      0.0          0.0       93.14           0.0      Holiday   \n",
       "1 2013-01-02  10686.0          0.0       93.14        4821.0       Normal   \n",
       "2 2013-01-03   7342.0          0.0       92.97        3618.0       Normal   \n",
       "3 2013-01-04   7250.0          0.0       93.12        4169.0       Normal   \n",
       "4 2013-01-05  10699.0          0.0       93.12        4921.0     Work Day   \n",
       "5 2013-01-06  12373.0          0.0       93.12        4925.0       Normal   \n",
       "6 2013-01-07   7059.0          0.0       93.20        3871.0       Normal   \n",
       "7 2013-01-08  19849.0          0.0       93.21        3593.0       Normal   \n",
       "8 2013-01-09   7546.0          0.0       93.08        4006.0       Normal   \n",
       "9 2013-01-10   5101.0          0.0       93.81        3323.0       Normal   \n",
       "\n",
       "   transferred day_of_week  sales_lag1  sales_lag2  sales_lag3  \\\n",
       "0        False     Tuesday         NaN         NaN         NaN   \n",
       "1        False   Wednesday         0.0         NaN         NaN   \n",
       "2        False    Thursday     10686.0         0.0         NaN   \n",
       "3        False      Friday      7342.0     10686.0         0.0   \n",
       "4        False    Saturday      7250.0      7342.0     10686.0   \n",
       "5        False      Sunday     10699.0      7250.0      7342.0   \n",
       "6        False      Monday     12373.0     10699.0      7250.0   \n",
       "7        False     Tuesday      7059.0     12373.0     10699.0   \n",
       "8        False   Wednesday     19849.0      7059.0     12373.0   \n",
       "9        False    Thursday      7546.0     19849.0      7059.0   \n",
       "\n",
       "   sales_3_day_avg  sales_week_avg  \n",
       "0              NaN             NaN  \n",
       "1              NaN             NaN  \n",
       "2              NaN             NaN  \n",
       "3           6009.3             NaN  \n",
       "4           8426.0             NaN  \n",
       "5           8430.3             NaN  \n",
       "6          10107.3             NaN  \n",
       "7          10043.7          7915.6  \n",
       "8          13093.7         10751.1  \n",
       "9          11484.7         10302.6  "
      ]
     },
     "execution_count": 42,
     "metadata": {},
     "output_type": "execute_result"
    }
   ],
   "source": [
    "grp_sel_filled.head(10)"
   ]
  },
  {
   "cell_type": "markdown",
   "id": "8c1a8299",
   "metadata": {},
   "source": [
    "#### 3.4.3.2 Mean Sales by Year and Month<a id='3.4.3.2'></a>"
   ]
  },
  {
   "cell_type": "code",
   "execution_count": 43,
   "id": "c29235b3",
   "metadata": {},
   "outputs": [],
   "source": [
    "# Split the date column\n",
    "df_train.date = pd.to_datetime(df_train.date)\n",
    "df_train['year'] = df_train['date'].dt.year\n",
    "df_train['month'] = df_train['date'].dt.month"
   ]
  },
  {
   "cell_type": "code",
   "execution_count": 44,
   "id": "8ad26eb9",
   "metadata": {},
   "outputs": [
    {
     "name": "stderr",
     "output_type": "stream",
     "text": [
      "/var/folders/b_/sb7704715rsddlq6wbr7j61r0000gn/T/ipykernel_22735/381191867.py:12: FutureWarning: The frame.append method is deprecated and will be removed from pandas in a future version. Use pandas.concat instead.\n",
      "  df_2017 = df_2017.append(df_2017_no).rename(columns={'sales':'s2017'})\n"
     ]
    }
   ],
   "source": [
    "df_2013 = df_train[df_train['year']==2013][['month','sales']]\n",
    "df_2013 = df_2013.groupby('month').agg({\"sales\" : \"mean\"}).reset_index().rename(columns={'sales':'s2013'})\n",
    "df_2014 = df_train[df_train['year']==2014][['month','sales']]\n",
    "df_2014 = df_2014.groupby('month').agg({\"sales\" : \"mean\"}).reset_index().rename(columns={'sales':'s2014'})\n",
    "df_2015 = df_train[df_train['year']==2015][['month','sales']]\n",
    "df_2015 = df_2015.groupby('month').agg({\"sales\" : \"mean\"}).reset_index().rename(columns={'sales':'s2015'})\n",
    "df_2016 = df_train[df_train['year']==2016][['month','sales']]\n",
    "df_2016 = df_2016.groupby('month').agg({\"sales\" : \"mean\"}).reset_index().rename(columns={'sales':'s2016'})\n",
    "df_2017 = df_train[df_train['year']==2017][['month','sales']]\n",
    "df_2017 = df_2017.groupby('month').agg({\"sales\" : \"mean\"}).reset_index()\n",
    "df_2017_no = pd.DataFrame({'month': [9,10,11,12], 'sales':[0,0,0,0]})\n",
    "df_2017 = df_2017.append(df_2017_no).rename(columns={'sales':'s2017'})\n",
    "df_year = df_2013.merge(df_2014,on='month').merge(df_2015,on='month').merge(df_2016,on='month').merge(df_2017,on='month')"
   ]
  },
  {
   "cell_type": "code",
   "execution_count": 45,
   "id": "27409994",
   "metadata": {},
   "outputs": [
    {
     "data": {
      "text/html": [
       "<div>\n",
       "<style scoped>\n",
       "    .dataframe tbody tr th:only-of-type {\n",
       "        vertical-align: middle;\n",
       "    }\n",
       "\n",
       "    .dataframe tbody tr th {\n",
       "        vertical-align: top;\n",
       "    }\n",
       "\n",
       "    .dataframe thead th {\n",
       "        text-align: right;\n",
       "    }\n",
       "</style>\n",
       "<table border=\"1\" class=\"dataframe\">\n",
       "  <thead>\n",
       "    <tr style=\"text-align: right;\">\n",
       "      <th></th>\n",
       "      <th>month</th>\n",
       "      <th>s2013</th>\n",
       "      <th>s2014</th>\n",
       "      <th>s2015</th>\n",
       "      <th>s2016</th>\n",
       "      <th>s2017</th>\n",
       "    </tr>\n",
       "  </thead>\n",
       "  <tbody>\n",
       "    <tr>\n",
       "      <th>0</th>\n",
       "      <td>1</td>\n",
       "      <td>186.952405</td>\n",
       "      <td>342.341709</td>\n",
       "      <td>269.666595</td>\n",
       "      <td>434.050268</td>\n",
       "      <td>476.596791</td>\n",
       "    </tr>\n",
       "    <tr>\n",
       "      <th>1</th>\n",
       "      <td>2</td>\n",
       "      <td>193.581846</td>\n",
       "      <td>241.268892</td>\n",
       "      <td>275.420792</td>\n",
       "      <td>424.695398</td>\n",
       "      <td>465.971468</td>\n",
       "    </tr>\n",
       "    <tr>\n",
       "      <th>2</th>\n",
       "      <td>3</td>\n",
       "      <td>206.880581</td>\n",
       "      <td>368.661236</td>\n",
       "      <td>282.368624</td>\n",
       "      <td>418.735398</td>\n",
       "      <td>483.400632</td>\n",
       "    </tr>\n",
       "    <tr>\n",
       "      <th>3</th>\n",
       "      <td>4</td>\n",
       "      <td>205.639071</td>\n",
       "      <td>240.577087</td>\n",
       "      <td>279.743138</td>\n",
       "      <td>485.653294</td>\n",
       "      <td>484.386616</td>\n",
       "    </tr>\n",
       "    <tr>\n",
       "      <th>4</th>\n",
       "      <td>5</td>\n",
       "      <td>209.943594</td>\n",
       "      <td>242.203129</td>\n",
       "      <td>320.958116</td>\n",
       "      <td>448.561462</td>\n",
       "      <td>487.162797</td>\n",
       "    </tr>\n",
       "    <tr>\n",
       "      <th>5</th>\n",
       "      <td>6</td>\n",
       "      <td>218.655893</td>\n",
       "      <td>249.157467</td>\n",
       "      <td>404.327728</td>\n",
       "      <td>415.436187</td>\n",
       "      <td>480.411936</td>\n",
       "    </tr>\n",
       "    <tr>\n",
       "      <th>6</th>\n",
       "      <td>7</td>\n",
       "      <td>203.783364</td>\n",
       "      <td>351.578347</td>\n",
       "      <td>402.042269</td>\n",
       "      <td>424.725253</td>\n",
       "      <td>488.966322</td>\n",
       "    </tr>\n",
       "    <tr>\n",
       "      <th>7</th>\n",
       "      <td>8</td>\n",
       "      <td>212.479434</td>\n",
       "      <td>251.351805</td>\n",
       "      <td>415.692304</td>\n",
       "      <td>406.437390</td>\n",
       "      <td>465.144891</td>\n",
       "    </tr>\n",
       "    <tr>\n",
       "      <th>8</th>\n",
       "      <td>9</td>\n",
       "      <td>220.593588</td>\n",
       "      <td>374.530792</td>\n",
       "      <td>434.734053</td>\n",
       "      <td>419.331240</td>\n",
       "      <td>0.000000</td>\n",
       "    </tr>\n",
       "    <tr>\n",
       "      <th>9</th>\n",
       "      <td>10</td>\n",
       "      <td>213.164266</td>\n",
       "      <td>369.213666</td>\n",
       "      <td>432.248428</td>\n",
       "      <td>435.002169</td>\n",
       "      <td>0.000000</td>\n",
       "    </tr>\n",
       "    <tr>\n",
       "      <th>10</th>\n",
       "      <td>11</td>\n",
       "      <td>231.136537</td>\n",
       "      <td>384.056027</td>\n",
       "      <td>426.579749</td>\n",
       "      <td>460.954736</td>\n",
       "      <td>0.000000</td>\n",
       "    </tr>\n",
       "    <tr>\n",
       "      <th>11</th>\n",
       "      <td>12</td>\n",
       "      <td>295.606381</td>\n",
       "      <td>455.302177</td>\n",
       "      <td>509.614322</td>\n",
       "      <td>554.438600</td>\n",
       "      <td>0.000000</td>\n",
       "    </tr>\n",
       "  </tbody>\n",
       "</table>\n",
       "</div>"
      ],
      "text/plain": [
       "    month       s2013       s2014       s2015       s2016       s2017\n",
       "0       1  186.952405  342.341709  269.666595  434.050268  476.596791\n",
       "1       2  193.581846  241.268892  275.420792  424.695398  465.971468\n",
       "2       3  206.880581  368.661236  282.368624  418.735398  483.400632\n",
       "3       4  205.639071  240.577087  279.743138  485.653294  484.386616\n",
       "4       5  209.943594  242.203129  320.958116  448.561462  487.162797\n",
       "5       6  218.655893  249.157467  404.327728  415.436187  480.411936\n",
       "6       7  203.783364  351.578347  402.042269  424.725253  488.966322\n",
       "7       8  212.479434  251.351805  415.692304  406.437390  465.144891\n",
       "8       9  220.593588  374.530792  434.734053  419.331240    0.000000\n",
       "9      10  213.164266  369.213666  432.248428  435.002169    0.000000\n",
       "10     11  231.136537  384.056027  426.579749  460.954736    0.000000\n",
       "11     12  295.606381  455.302177  509.614322  554.438600    0.000000"
      ]
     },
     "execution_count": 45,
     "metadata": {},
     "output_type": "execute_result"
    }
   ],
   "source": [
    "df_year"
   ]
  },
  {
   "cell_type": "code",
   "execution_count": 46,
   "id": "4f924f63",
   "metadata": {},
   "outputs": [
    {
     "data": {
      "image/png": "[encoded data removed]",
      "text/plain": [
       "<Figure size 640x480 with 1 Axes>"
      ]
     },
     "metadata": {},
     "output_type": "display_data"
    }
   ],
   "source": [
    "_ = df_year.set_index('month').plot.bar()\n",
    "_ = plt.title('Mean Sales by Month in Each Year')\n",
    "_ = plt.legend(loc='center left', bbox_to_anchor=(1.0, 0.5))"
   ]
  },
  {
   "cell_type": "markdown",
   "id": "ad64e39d",
   "metadata": {},
   "source": [
    "## 3.5 Save Data<a id='3.5'></a>"
   ]
  },
  {
   "cell_type": "code",
   "execution_count": 47,
   "id": "e7232d22",
   "metadata": {},
   "outputs": [
    {
     "name": "stdout",
     "output_type": "stream",
     "text": [
      "Writing file.  \"../data/train_all_groups.csv\"\n",
      "Writing file.  \"../data/train_selected_group.csv\"\n"
     ]
    }
   ],
   "source": [
    "datapath = '../data'\n",
    "save_file(df_train, 'train_all_groups.csv', datapath)\n",
    "save_file(grp_sel_filled, 'train_selected_group.csv', datapath)"
   ]
  },
  {
   "cell_type": "markdown",
   "id": "6d9e910b",
   "metadata": {},
   "source": [
    "## 3.6 Summary<a id='3.6'></a>"
   ]
  },
  {
   "cell_type": "markdown",
   "id": "c2a4a44b",
   "metadata": {},
   "source": [
    "Missing values and time gaps in the data were filled.\n",
    "\n",
    "Store sales data were merged with possible exogenous varibles.\n",
    "\n",
    "There were 54x33=1782 time series, and the one with store_nbr = 44 and product_family = \"Grocery I\" was selected for baseline modeling because it had highest mean sales."
   ]
  }
 ],
 "metadata": {
  "kernelspec": {
   "display_name": "Python 3 (ipykernel)",
   "language": "python",
   "name": "python3"
  },
  "language_info": {
   "codemirror_mode": {
    "name": "ipython",
    "version": 3
   },
   "file_extension": ".py",
   "mimetype": "text/x-python",
   "name": "python",
   "nbconvert_exporter": "python",
   "pygments_lexer": "ipython3",
   "version": "3.9.13"
  }
 },
 "nbformat": 4,
 "nbformat_minor": 5
}
