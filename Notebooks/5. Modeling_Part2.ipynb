{
 "cells": [
  {
   "cell_type": "markdown",
   "id": "21d66be9",
   "metadata": {},
   "source": [
    "# Capstone Two - 5 Extended Modeling: PROPHET<a id='5'></a>"
   ]
  },
  {
   "cell_type": "markdown",
   "id": "a3e1ef15",
   "metadata": {},
   "source": [
    "## 5.1 Contents<a id='5.1'></a>\n",
    "* [5 Extended Modeling](#5)\n",
    "  * [5.1 Contents](#5.1)\n",
    "  * [5.2 Imports](#5.2)\n",
    "  * [5.3 Load The Data](#5.3)\n",
    "  * [5.4 Data Processing](#5.4)\n",
    "  * [5.5 Modeling](#5.5)\n",
    "    * [5.5.1 Apply Prophet() for single timeseries](#5.5.1)\n",
    "    * [5.5.2 Apply Prophet() for multiple timeseries](#5.5.2)\n",
    "  * [5.6 Evaluation](#5.6)\n",
    "    * [5.6.1 MAPE](#5.6.1)\n",
    "    * [5.6.2 Scatter plots](#5.6.2)\n",
    "    * [5.6.3 Distribution of residuals](#5.6.3)\n",
    "  * [5.7 Save Data](#5.7) "
   ]
  },
  {
   "cell_type": "markdown",
   "id": "b2f6e178",
   "metadata": {},
   "source": [
    "## 5.2 Imports<a id='5.2'></a>"
   ]
  },
  {
   "cell_type": "code",
   "execution_count": 1,
   "id": "4317111b",
   "metadata": {},
   "outputs": [],
   "source": [
    "import pandas as pd\n",
    "import numpy as np\n",
    "import os\n",
    "import matplotlib.pyplot as plt\n",
    "import seaborn as sns\n",
    "import datetime\n",
    "from library.sb_utils import save_file"
   ]
  },
  {
   "cell_type": "code",
   "execution_count": 2,
   "id": "fcdfe7f3",
   "metadata": {},
   "outputs": [],
   "source": [
    "from prophet import Prophet"
   ]
  },
  {
   "cell_type": "markdown",
   "id": "2d3e4829",
   "metadata": {},
   "source": [
    "## 5.3 Load The Data<a id='5.3'></a>"
   ]
  },
  {
   "cell_type": "code",
   "execution_count": 3,
   "id": "4f76b59c",
   "metadata": {},
   "outputs": [
    {
     "data": {
      "text/html": [
       "<div>\n",
       "<style scoped>\n",
       "    .dataframe tbody tr th:only-of-type {\n",
       "        vertical-align: middle;\n",
       "    }\n",
       "\n",
       "    .dataframe tbody tr th {\n",
       "        vertical-align: top;\n",
       "    }\n",
       "\n",
       "    .dataframe thead th {\n",
       "        text-align: right;\n",
       "    }\n",
       "</style>\n",
       "<table border=\"1\" class=\"dataframe\">\n",
       "  <thead>\n",
       "    <tr style=\"text-align: right;\">\n",
       "      <th></th>\n",
       "      <th>date</th>\n",
       "      <th>store_nbr</th>\n",
       "      <th>family</th>\n",
       "      <th>sales</th>\n",
       "      <th>onpromotion</th>\n",
       "      <th>city</th>\n",
       "      <th>state</th>\n",
       "      <th>store_type</th>\n",
       "      <th>cluster</th>\n",
       "      <th>dcoilwtico</th>\n",
       "      <th>transactions</th>\n",
       "      <th>holiday_type</th>\n",
       "      <th>transferred</th>\n",
       "      <th>year</th>\n",
       "      <th>month</th>\n",
       "    </tr>\n",
       "  </thead>\n",
       "  <tbody>\n",
       "    <tr>\n",
       "      <th>0</th>\n",
       "      <td>2013-01-01</td>\n",
       "      <td>1</td>\n",
       "      <td>AUTOMOTIVE</td>\n",
       "      <td>0.0</td>\n",
       "      <td>0</td>\n",
       "      <td>Quito</td>\n",
       "      <td>Pichincha</td>\n",
       "      <td>D</td>\n",
       "      <td>13</td>\n",
       "      <td>93.14</td>\n",
       "      <td>0.0</td>\n",
       "      <td>Holiday</td>\n",
       "      <td>False</td>\n",
       "      <td>2013</td>\n",
       "      <td>1</td>\n",
       "    </tr>\n",
       "    <tr>\n",
       "      <th>1</th>\n",
       "      <td>2013-01-01</td>\n",
       "      <td>1</td>\n",
       "      <td>BABY CARE</td>\n",
       "      <td>0.0</td>\n",
       "      <td>0</td>\n",
       "      <td>Quito</td>\n",
       "      <td>Pichincha</td>\n",
       "      <td>D</td>\n",
       "      <td>13</td>\n",
       "      <td>93.14</td>\n",
       "      <td>0.0</td>\n",
       "      <td>Holiday</td>\n",
       "      <td>False</td>\n",
       "      <td>2013</td>\n",
       "      <td>1</td>\n",
       "    </tr>\n",
       "    <tr>\n",
       "      <th>2</th>\n",
       "      <td>2013-01-01</td>\n",
       "      <td>1</td>\n",
       "      <td>BEAUTY</td>\n",
       "      <td>0.0</td>\n",
       "      <td>0</td>\n",
       "      <td>Quito</td>\n",
       "      <td>Pichincha</td>\n",
       "      <td>D</td>\n",
       "      <td>13</td>\n",
       "      <td>93.14</td>\n",
       "      <td>0.0</td>\n",
       "      <td>Holiday</td>\n",
       "      <td>False</td>\n",
       "      <td>2013</td>\n",
       "      <td>1</td>\n",
       "    </tr>\n",
       "  </tbody>\n",
       "</table>\n",
       "</div>"
      ],
      "text/plain": [
       "         date  store_nbr      family  sales  onpromotion   city      state  \\\n",
       "0  2013-01-01          1  AUTOMOTIVE    0.0            0  Quito  Pichincha   \n",
       "1  2013-01-01          1   BABY CARE    0.0            0  Quito  Pichincha   \n",
       "2  2013-01-01          1      BEAUTY    0.0            0  Quito  Pichincha   \n",
       "\n",
       "  store_type  cluster  dcoilwtico  transactions holiday_type  transferred  \\\n",
       "0          D       13       93.14           0.0      Holiday        False   \n",
       "1          D       13       93.14           0.0      Holiday        False   \n",
       "2          D       13       93.14           0.0      Holiday        False   \n",
       "\n",
       "   year  month  \n",
       "0  2013      1  \n",
       "1  2013      1  \n",
       "2  2013      1  "
      ]
     },
     "execution_count": 3,
     "metadata": {},
     "output_type": "execute_result"
    }
   ],
   "source": [
    "data_dir = '../data/'\n",
    "\n",
    "data_ori = pd.read_csv(data_dir+'train_all_groups.csv')\n",
    "data_ori.head(3)"
   ]
  },
  {
   "cell_type": "code",
   "execution_count": 4,
   "id": "0e00f764",
   "metadata": {},
   "outputs": [
    {
     "data": {
      "text/html": [
       "<div>\n",
       "<style scoped>\n",
       "    .dataframe tbody tr th:only-of-type {\n",
       "        vertical-align: middle;\n",
       "    }\n",
       "\n",
       "    .dataframe tbody tr th {\n",
       "        vertical-align: top;\n",
       "    }\n",
       "\n",
       "    .dataframe thead th {\n",
       "        text-align: right;\n",
       "    }\n",
       "</style>\n",
       "<table border=\"1\" class=\"dataframe\">\n",
       "  <thead>\n",
       "    <tr style=\"text-align: right;\">\n",
       "      <th></th>\n",
       "      <th>store_nbr</th>\n",
       "      <th>family</th>\n",
       "      <th>sales</th>\n",
       "    </tr>\n",
       "    <tr>\n",
       "      <th>date</th>\n",
       "      <th></th>\n",
       "      <th></th>\n",
       "      <th></th>\n",
       "    </tr>\n",
       "  </thead>\n",
       "  <tbody>\n",
       "    <tr>\n",
       "      <th>2013-01-01</th>\n",
       "      <td>1</td>\n",
       "      <td>AUTOMOTIVE</td>\n",
       "      <td>0.0</td>\n",
       "    </tr>\n",
       "    <tr>\n",
       "      <th>2013-01-01</th>\n",
       "      <td>1</td>\n",
       "      <td>BABY CARE</td>\n",
       "      <td>0.0</td>\n",
       "    </tr>\n",
       "    <tr>\n",
       "      <th>2013-01-01</th>\n",
       "      <td>1</td>\n",
       "      <td>BEAUTY</td>\n",
       "      <td>0.0</td>\n",
       "    </tr>\n",
       "  </tbody>\n",
       "</table>\n",
       "</div>"
      ],
      "text/plain": [
       "            store_nbr      family  sales\n",
       "date                                    \n",
       "2013-01-01          1  AUTOMOTIVE    0.0\n",
       "2013-01-01          1   BABY CARE    0.0\n",
       "2013-01-01          1      BEAUTY    0.0"
      ]
     },
     "execution_count": 4,
     "metadata": {},
     "output_type": "execute_result"
    }
   ],
   "source": [
    "data = data_ori[['date', 'store_nbr', 'family', 'sales']]\n",
    "data.set_index('date', inplace = True)\n",
    "data.head(3)"
   ]
  },
  {
   "cell_type": "markdown",
   "id": "7bf61894",
   "metadata": {},
   "source": [
    "## 5.4 Data Processing<a id='5.4'></a>"
   ]
  },
  {
   "cell_type": "code",
   "execution_count": 5,
   "id": "dddd1007",
   "metadata": {},
   "outputs": [
    {
     "name": "stdout",
     "output_type": "stream",
     "text": [
      "[ 1 10 11 12 13 14 15 16 17 18 19  2 20 21 22 23 24 25 26 27 28 29  3 30\n",
      " 31 32 33 34 35 36 37 38 39  4 40 41 42 43 44 45 46 47 48 49  5 50 51 52\n",
      " 53 54  6  7  8  9]\n",
      "['AUTOMOTIVE' 'BABY CARE' 'BEAUTY' 'BEVERAGES' 'BOOKS' 'BREAD/BAKERY'\n",
      " 'CELEBRATION' 'CLEANING' 'DAIRY' 'DELI' 'EGGS' 'FROZEN FOODS' 'GROCERY I'\n",
      " 'GROCERY II' 'HARDWARE' 'HOME AND KITCHEN I' 'HOME AND KITCHEN II'\n",
      " 'HOME APPLIANCES' 'HOME CARE' 'LADIESWEAR' 'LAWN AND GARDEN' 'LINGERIE'\n",
      " 'LIQUOR,WINE,BEER' 'MAGAZINES' 'MEATS' 'PERSONAL CARE' 'PET SUPPLIES'\n",
      " 'PLAYERS AND ELECTRONICS' 'POULTRY' 'PREPARED FOODS' 'PRODUCE'\n",
      " 'SCHOOL AND OFFICE SUPPLIES' 'SEAFOOD']\n",
      "54 33\n"
     ]
    }
   ],
   "source": [
    "stores = data['store_nbr'].unique()\n",
    "families = data['family'].unique()\n",
    "\n",
    "print(stores)\n",
    "print(families)\n",
    "print(len(stores), len(families))"
   ]
  },
  {
   "cell_type": "code",
   "execution_count": 6,
   "id": "2297ed6c",
   "metadata": {},
   "outputs": [
    {
     "data": {
      "text/html": [
       "<div>\n",
       "<style scoped>\n",
       "    .dataframe tbody tr th:only-of-type {\n",
       "        vertical-align: middle;\n",
       "    }\n",
       "\n",
       "    .dataframe tbody tr th {\n",
       "        vertical-align: top;\n",
       "    }\n",
       "\n",
       "    .dataframe thead th {\n",
       "        text-align: right;\n",
       "    }\n",
       "</style>\n",
       "<table border=\"1\" class=\"dataframe\">\n",
       "  <thead>\n",
       "    <tr style=\"text-align: right;\">\n",
       "      <th></th>\n",
       "      <th>1,AUTOMOTIVE</th>\n",
       "      <th>1,BABY CARE</th>\n",
       "      <th>1,BEAUTY</th>\n",
       "      <th>1,BEVERAGES</th>\n",
       "      <th>1,BOOKS</th>\n",
       "      <th>1,BREAD/BAKERY</th>\n",
       "      <th>1,CELEBRATION</th>\n",
       "      <th>1,CLEANING</th>\n",
       "      <th>1,DAIRY</th>\n",
       "      <th>1,DELI</th>\n",
       "      <th>...</th>\n",
       "      <th>9,MAGAZINES</th>\n",
       "      <th>9,MEATS</th>\n",
       "      <th>9,PERSONAL CARE</th>\n",
       "      <th>9,PET SUPPLIES</th>\n",
       "      <th>9,PLAYERS AND ELECTRONICS</th>\n",
       "      <th>9,POULTRY</th>\n",
       "      <th>9,PREPARED FOODS</th>\n",
       "      <th>9,PRODUCE</th>\n",
       "      <th>9,SCHOOL AND OFFICE SUPPLIES</th>\n",
       "      <th>9,SEAFOOD</th>\n",
       "    </tr>\n",
       "    <tr>\n",
       "      <th>date</th>\n",
       "      <th></th>\n",
       "      <th></th>\n",
       "      <th></th>\n",
       "      <th></th>\n",
       "      <th></th>\n",
       "      <th></th>\n",
       "      <th></th>\n",
       "      <th></th>\n",
       "      <th></th>\n",
       "      <th></th>\n",
       "      <th></th>\n",
       "      <th></th>\n",
       "      <th></th>\n",
       "      <th></th>\n",
       "      <th></th>\n",
       "      <th></th>\n",
       "      <th></th>\n",
       "      <th></th>\n",
       "      <th></th>\n",
       "      <th></th>\n",
       "      <th></th>\n",
       "    </tr>\n",
       "  </thead>\n",
       "  <tbody>\n",
       "    <tr>\n",
       "      <th>2013-01-01</th>\n",
       "      <td>0.0</td>\n",
       "      <td>0.0</td>\n",
       "      <td>0.0</td>\n",
       "      <td>0.0</td>\n",
       "      <td>0.0</td>\n",
       "      <td>0.000</td>\n",
       "      <td>0.0</td>\n",
       "      <td>0.0</td>\n",
       "      <td>0.0</td>\n",
       "      <td>0.000</td>\n",
       "      <td>...</td>\n",
       "      <td>0.0</td>\n",
       "      <td>0.000</td>\n",
       "      <td>0.0</td>\n",
       "      <td>0.0</td>\n",
       "      <td>0.0</td>\n",
       "      <td>0.000</td>\n",
       "      <td>0.0</td>\n",
       "      <td>0.0</td>\n",
       "      <td>0.0</td>\n",
       "      <td>0.000</td>\n",
       "    </tr>\n",
       "    <tr>\n",
       "      <th>2013-01-02</th>\n",
       "      <td>2.0</td>\n",
       "      <td>0.0</td>\n",
       "      <td>2.0</td>\n",
       "      <td>1091.0</td>\n",
       "      <td>0.0</td>\n",
       "      <td>470.652</td>\n",
       "      <td>0.0</td>\n",
       "      <td>1060.0</td>\n",
       "      <td>579.0</td>\n",
       "      <td>164.069</td>\n",
       "      <td>...</td>\n",
       "      <td>0.0</td>\n",
       "      <td>374.531</td>\n",
       "      <td>482.0</td>\n",
       "      <td>0.0</td>\n",
       "      <td>0.0</td>\n",
       "      <td>651.292</td>\n",
       "      <td>83.0</td>\n",
       "      <td>0.0</td>\n",
       "      <td>0.0</td>\n",
       "      <td>29.214</td>\n",
       "    </tr>\n",
       "    <tr>\n",
       "      <th>2013-01-03</th>\n",
       "      <td>3.0</td>\n",
       "      <td>0.0</td>\n",
       "      <td>0.0</td>\n",
       "      <td>919.0</td>\n",
       "      <td>0.0</td>\n",
       "      <td>310.655</td>\n",
       "      <td>0.0</td>\n",
       "      <td>836.0</td>\n",
       "      <td>453.0</td>\n",
       "      <td>151.582</td>\n",
       "      <td>...</td>\n",
       "      <td>0.0</td>\n",
       "      <td>400.863</td>\n",
       "      <td>372.0</td>\n",
       "      <td>0.0</td>\n",
       "      <td>0.0</td>\n",
       "      <td>509.496</td>\n",
       "      <td>66.0</td>\n",
       "      <td>0.0</td>\n",
       "      <td>0.0</td>\n",
       "      <td>25.000</td>\n",
       "    </tr>\n",
       "  </tbody>\n",
       "</table>\n",
       "<p>3 rows × 1782 columns</p>\n",
       "</div>"
      ],
      "text/plain": [
       "            1,AUTOMOTIVE  1,BABY CARE  1,BEAUTY  1,BEVERAGES  1,BOOKS  \\\n",
       "date                                                                    \n",
       "2013-01-01           0.0          0.0       0.0          0.0      0.0   \n",
       "2013-01-02           2.0          0.0       2.0       1091.0      0.0   \n",
       "2013-01-03           3.0          0.0       0.0        919.0      0.0   \n",
       "\n",
       "            1,BREAD/BAKERY  1,CELEBRATION  1,CLEANING  1,DAIRY   1,DELI  ...  \\\n",
       "date                                                                     ...   \n",
       "2013-01-01           0.000            0.0         0.0      0.0    0.000  ...   \n",
       "2013-01-02         470.652            0.0      1060.0    579.0  164.069  ...   \n",
       "2013-01-03         310.655            0.0       836.0    453.0  151.582  ...   \n",
       "\n",
       "            9,MAGAZINES  9,MEATS  9,PERSONAL CARE  9,PET SUPPLIES  \\\n",
       "date                                                                \n",
       "2013-01-01          0.0    0.000              0.0             0.0   \n",
       "2013-01-02          0.0  374.531            482.0             0.0   \n",
       "2013-01-03          0.0  400.863            372.0             0.0   \n",
       "\n",
       "            9,PLAYERS AND ELECTRONICS  9,POULTRY  9,PREPARED FOODS  9,PRODUCE  \\\n",
       "date                                                                            \n",
       "2013-01-01                        0.0      0.000               0.0        0.0   \n",
       "2013-01-02                        0.0    651.292              83.0        0.0   \n",
       "2013-01-03                        0.0    509.496              66.0        0.0   \n",
       "\n",
       "            9,SCHOOL AND OFFICE SUPPLIES  9,SEAFOOD  \n",
       "date                                                 \n",
       "2013-01-01                           0.0      0.000  \n",
       "2013-01-02                           0.0     29.214  \n",
       "2013-01-03                           0.0     25.000  \n",
       "\n",
       "[3 rows x 1782 columns]"
      ]
     },
     "execution_count": 6,
     "metadata": {},
     "output_type": "execute_result"
    }
   ],
   "source": [
    "grp = data.groupby(['store_nbr', 'family'])\n",
    "\n",
    "df = pd.DataFrame()\n",
    "\n",
    "for s in stores:\n",
    "    for f in families:\n",
    "        grp_sel = grp.get_group((s, f))\n",
    "        col_name = str(s)+\",\"+f\n",
    "        df_temp = pd.DataFrame(grp_sel['sales']).rename(columns={'sales': col_name})\n",
    "        df = pd.concat([df, df_temp], axis=1)\n",
    "\n",
    "df.head(3)"
   ]
  },
  {
   "cell_type": "markdown",
   "id": "313885c2",
   "metadata": {},
   "source": [
    "Totally 54*33 = 1782 time series."
   ]
  },
  {
   "cell_type": "code",
   "execution_count": 7,
   "id": "af600f65",
   "metadata": {},
   "outputs": [],
   "source": [
    "# convert datetime index to period\n",
    "df.index = pd.DatetimeIndex(df.index).to_period('D')"
   ]
  },
  {
   "cell_type": "code",
   "execution_count": 8,
   "id": "2b7c716f",
   "metadata": {},
   "outputs": [],
   "source": [
    "# Fill time gaps on Christmas every year\n",
    "df = df.resample('1D').mean().ffill()#interpolate() # forward fill or interpolate didn't affect the mAPE result"
   ]
  },
  {
   "cell_type": "code",
   "execution_count": 9,
   "id": "32df38aa",
   "metadata": {},
   "outputs": [],
   "source": [
    "# Sales are zeros on New Year's Day (Store Closed)\n",
    "df.loc[['2014-01-01']] = df.loc[['2013-12-31']].values\n",
    "df.loc[['2015-01-01']] = df.loc[['2014-12-31']].values\n",
    "df.loc[['2016-01-01']] = df.loc[['2015-12-31']].values\n",
    "df.loc[['2017-01-01']] = df.loc[['2016-12-31']].values"
   ]
  },
  {
   "cell_type": "code",
   "execution_count": 10,
   "id": "dfdb5bdd",
   "metadata": {},
   "outputs": [],
   "source": [
    "df = df.to_timestamp(freq='D') # type from period to datetime"
   ]
  },
  {
   "cell_type": "code",
   "execution_count": 11,
   "id": "6afed8ac",
   "metadata": {},
   "outputs": [],
   "source": [
    "# train-test split: the last 16 days as testing set\n",
    "n_train = len(df)-16\n",
    "df_train = df[7:n_train] #starting from day 8\n",
    "df_test = df[n_train:]"
   ]
  },
  {
   "cell_type": "markdown",
   "id": "afdfbfa3",
   "metadata": {},
   "source": [
    "## 5.5 Modeling<a id='5.5'></a>"
   ]
  },
  {
   "cell_type": "markdown",
   "id": "d466d3bc",
   "metadata": {},
   "source": [
    "### 5.5.1 Apply Prophet() for single timeseries<a id='5.5.1'></a>"
   ]
  },
  {
   "cell_type": "markdown",
   "id": "e836121f",
   "metadata": {},
   "source": [
    "Try Prophet() using the time series in the first column."
   ]
  },
  {
   "cell_type": "code",
   "execution_count": 12,
   "id": "38663b7d",
   "metadata": {},
   "outputs": [],
   "source": [
    "y1_train = df_train[\"1,AUTOMOTIVE\"] # first column\n",
    "y1_test = df_test[\"1,AUTOMOTIVE\"]\n",
    "\n",
    "y1_train = y1_train.reset_index() # Prophet() needs the date as a column\n",
    "y1_test = y1_test.reset_index()\n",
    "\n",
    "y1_train.columns = ['ds','y']\n",
    "y1_test.columns = ['ds','y']"
   ]
  },
  {
   "cell_type": "code",
   "execution_count": 13,
   "id": "0d7babf7",
   "metadata": {},
   "outputs": [
    {
     "name": "stderr",
     "output_type": "stream",
     "text": [
      "10:35:17 - cmdstanpy - INFO - Chain [1] start processing\n",
      "10:35:17 - cmdstanpy - INFO - Chain [1] done processing\n"
     ]
    },
    {
     "data": {
      "text/plain": [
       "<prophet.forecaster.Prophet at 0x16a2fd6a0>"
      ]
     },
     "execution_count": 13,
     "metadata": {},
     "output_type": "execute_result"
    }
   ],
   "source": [
    "model = Prophet()\n",
    "model.fit(y1_train)"
   ]
  },
  {
   "cell_type": "code",
   "execution_count": 14,
   "id": "b6d0a656",
   "metadata": {},
   "outputs": [
    {
     "data": {
      "text/html": [
       "<div>\n",
       "<style scoped>\n",
       "    .dataframe tbody tr th:only-of-type {\n",
       "        vertical-align: middle;\n",
       "    }\n",
       "\n",
       "    .dataframe tbody tr th {\n",
       "        vertical-align: top;\n",
       "    }\n",
       "\n",
       "    .dataframe thead th {\n",
       "        text-align: right;\n",
       "    }\n",
       "</style>\n",
       "<table border=\"1\" class=\"dataframe\">\n",
       "  <thead>\n",
       "    <tr style=\"text-align: right;\">\n",
       "      <th></th>\n",
       "      <th>ds</th>\n",
       "      <th>yhat</th>\n",
       "      <th>yhat_lower</th>\n",
       "      <th>yhat_upper</th>\n",
       "    </tr>\n",
       "  </thead>\n",
       "  <tbody>\n",
       "    <tr>\n",
       "      <th>0</th>\n",
       "      <td>2017-07-31</td>\n",
       "      <td>4.705152</td>\n",
       "      <td>1.204213</td>\n",
       "      <td>7.760568</td>\n",
       "    </tr>\n",
       "    <tr>\n",
       "      <th>1</th>\n",
       "      <td>2017-08-01</td>\n",
       "      <td>5.275146</td>\n",
       "      <td>2.147799</td>\n",
       "      <td>8.607314</td>\n",
       "    </tr>\n",
       "    <tr>\n",
       "      <th>2</th>\n",
       "      <td>2017-08-02</td>\n",
       "      <td>4.893452</td>\n",
       "      <td>1.653164</td>\n",
       "      <td>8.171703</td>\n",
       "    </tr>\n",
       "  </tbody>\n",
       "</table>\n",
       "</div>"
      ],
      "text/plain": [
       "          ds      yhat  yhat_lower  yhat_upper\n",
       "0 2017-07-31  4.705152    1.204213    7.760568\n",
       "1 2017-08-01  5.275146    2.147799    8.607314\n",
       "2 2017-08-02  4.893452    1.653164    8.171703"
      ]
     },
     "execution_count": 14,
     "metadata": {},
     "output_type": "execute_result"
    }
   ],
   "source": [
    "y1_pred = model.predict(y1_test)  # predict N steps into the future\n",
    "y1_pred[['ds', 'yhat', 'yhat_lower', 'yhat_upper']].head(3)"
   ]
  },
  {
   "cell_type": "code",
   "execution_count": 15,
   "id": "8fafd8e7",
   "metadata": {},
   "outputs": [
    {
     "name": "stdout",
     "output_type": "stream",
     "text": [
      "MAPE: 0.75584475388413\n"
     ]
    }
   ],
   "source": [
    "# APE = ABS((actual - predicted) / actual)\n",
    "APE_y1 = abs( (y1_test['y'] - y1_pred['yhat']) / y1_test['y'])\n",
    "\n",
    "# MEAN(APE)\n",
    "mAPE_y1 = np.mean(APE_y1)\n",
    "print('MAPE: '+str(mAPE_y1))"
   ]
  },
  {
   "cell_type": "code",
   "execution_count": 16,
   "id": "4403197e",
   "metadata": {},
   "outputs": [
    {
     "data": {
      "image/png": "[encoded data removed]",
      "text/plain": [
       "<Figure size 640x480 with 1 Axes>"
      ]
     },
     "metadata": {},
     "output_type": "display_data"
    }
   ],
   "source": [
    "# predicted-vs-actual scatterplot\n",
    "fig, ax = plt.subplots()\n",
    "ax.scatter(y1_test['y'], y1_pred['yhat'])\n",
    "plt.xlabel(\"original values\")\n",
    "plt.ylabel(\"predicted values\")\n",
    "ax.axline((3,3), slope=1, color = 'red')\n",
    "plt.show()"
   ]
  },
  {
   "cell_type": "markdown",
   "id": "950aac46",
   "metadata": {},
   "source": [
    "We can see the mean APE is quite large, and the scatter plot also shows poor prediction results. The Prophet model may not be a good model for this specific time series, and we'll try to use Prophet() for some other time series. "
   ]
  },
  {
   "cell_type": "markdown",
   "id": "c1ea23c9",
   "metadata": {},
   "source": [
    "### 5.5.2 Apply Prophet() for multiple timeseries<a id='5.5.2'></a>"
   ]
  },
  {
   "cell_type": "code",
   "execution_count": 17,
   "id": "8eda7fdb",
   "metadata": {},
   "outputs": [
    {
     "data": {
      "text/html": [
       "<div>\n",
       "<style scoped>\n",
       "    .dataframe tbody tr th:only-of-type {\n",
       "        vertical-align: middle;\n",
       "    }\n",
       "\n",
       "    .dataframe tbody tr th {\n",
       "        vertical-align: top;\n",
       "    }\n",
       "\n",
       "    .dataframe thead th {\n",
       "        text-align: right;\n",
       "    }\n",
       "</style>\n",
       "<table border=\"1\" class=\"dataframe\">\n",
       "  <thead>\n",
       "    <tr style=\"text-align: right;\">\n",
       "      <th></th>\n",
       "      <th>1,BREAD/BAKERY</th>\n",
       "      <th>1,DAIRY</th>\n",
       "      <th>1,GROCERY I</th>\n",
       "      <th>2,BREAD/BAKERY</th>\n",
       "      <th>2,DAIRY</th>\n",
       "      <th>2,GROCERY I</th>\n",
       "      <th>3,BREAD/BAKERY</th>\n",
       "      <th>3,DAIRY</th>\n",
       "      <th>3,GROCERY I</th>\n",
       "      <th>4,BREAD/BAKERY</th>\n",
       "      <th>4,DAIRY</th>\n",
       "      <th>4,GROCERY I</th>\n",
       "      <th>5,BREAD/BAKERY</th>\n",
       "      <th>5,DAIRY</th>\n",
       "      <th>5,GROCERY I</th>\n",
       "      <th>6,BREAD/BAKERY</th>\n",
       "      <th>6,DAIRY</th>\n",
       "      <th>6,GROCERY I</th>\n",
       "    </tr>\n",
       "    <tr>\n",
       "      <th>date</th>\n",
       "      <th></th>\n",
       "      <th></th>\n",
       "      <th></th>\n",
       "      <th></th>\n",
       "      <th></th>\n",
       "      <th></th>\n",
       "      <th></th>\n",
       "      <th></th>\n",
       "      <th></th>\n",
       "      <th></th>\n",
       "      <th></th>\n",
       "      <th></th>\n",
       "      <th></th>\n",
       "      <th></th>\n",
       "      <th></th>\n",
       "      <th></th>\n",
       "      <th></th>\n",
       "      <th></th>\n",
       "    </tr>\n",
       "  </thead>\n",
       "  <tbody>\n",
       "    <tr>\n",
       "      <th>2013-01-01</th>\n",
       "      <td>0.000</td>\n",
       "      <td>0.0</td>\n",
       "      <td>0.0</td>\n",
       "      <td>0.000</td>\n",
       "      <td>0.0</td>\n",
       "      <td>0.0</td>\n",
       "      <td>0.000</td>\n",
       "      <td>0.0</td>\n",
       "      <td>0.0</td>\n",
       "      <td>0.000</td>\n",
       "      <td>0.0</td>\n",
       "      <td>0.0</td>\n",
       "      <td>0.000</td>\n",
       "      <td>0.0</td>\n",
       "      <td>0.0</td>\n",
       "      <td>0.000</td>\n",
       "      <td>0.0</td>\n",
       "      <td>0.0</td>\n",
       "    </tr>\n",
       "    <tr>\n",
       "      <th>2013-01-02</th>\n",
       "      <td>470.652</td>\n",
       "      <td>579.0</td>\n",
       "      <td>2652.0</td>\n",
       "      <td>523.882</td>\n",
       "      <td>651.0</td>\n",
       "      <td>3870.0</td>\n",
       "      <td>1361.636</td>\n",
       "      <td>1606.0</td>\n",
       "      <td>8463.0</td>\n",
       "      <td>422.537</td>\n",
       "      <td>589.0</td>\n",
       "      <td>4087.0</td>\n",
       "      <td>566.917</td>\n",
       "      <td>414.0</td>\n",
       "      <td>4558.0</td>\n",
       "      <td>689.217</td>\n",
       "      <td>683.0</td>\n",
       "      <td>5535.0</td>\n",
       "    </tr>\n",
       "    <tr>\n",
       "      <th>2013-01-03</th>\n",
       "      <td>310.655</td>\n",
       "      <td>453.0</td>\n",
       "      <td>2121.0</td>\n",
       "      <td>321.693</td>\n",
       "      <td>461.0</td>\n",
       "      <td>2640.0</td>\n",
       "      <td>886.184</td>\n",
       "      <td>1377.0</td>\n",
       "      <td>6712.0</td>\n",
       "      <td>273.752</td>\n",
       "      <td>431.0</td>\n",
       "      <td>2824.0</td>\n",
       "      <td>377.887</td>\n",
       "      <td>366.0</td>\n",
       "      <td>3260.0</td>\n",
       "      <td>412.324</td>\n",
       "      <td>542.0</td>\n",
       "      <td>4040.0</td>\n",
       "    </tr>\n",
       "  </tbody>\n",
       "</table>\n",
       "</div>"
      ],
      "text/plain": [
       "            1,BREAD/BAKERY  1,DAIRY  1,GROCERY I  2,BREAD/BAKERY  2,DAIRY  \\\n",
       "date                                                                        \n",
       "2013-01-01           0.000      0.0          0.0           0.000      0.0   \n",
       "2013-01-02         470.652    579.0       2652.0         523.882    651.0   \n",
       "2013-01-03         310.655    453.0       2121.0         321.693    461.0   \n",
       "\n",
       "            2,GROCERY I  3,BREAD/BAKERY  3,DAIRY  3,GROCERY I  4,BREAD/BAKERY  \\\n",
       "date                                                                            \n",
       "2013-01-01          0.0           0.000      0.0          0.0           0.000   \n",
       "2013-01-02       3870.0        1361.636   1606.0       8463.0         422.537   \n",
       "2013-01-03       2640.0         886.184   1377.0       6712.0         273.752   \n",
       "\n",
       "            4,DAIRY  4,GROCERY I  5,BREAD/BAKERY  5,DAIRY  5,GROCERY I  \\\n",
       "date                                                                     \n",
       "2013-01-01      0.0          0.0           0.000      0.0          0.0   \n",
       "2013-01-02    589.0       4087.0         566.917    414.0       4558.0   \n",
       "2013-01-03    431.0       2824.0         377.887    366.0       3260.0   \n",
       "\n",
       "            6,BREAD/BAKERY  6,DAIRY  6,GROCERY I  \n",
       "date                                              \n",
       "2013-01-01           0.000      0.0          0.0  \n",
       "2013-01-02         689.217    683.0       5535.0  \n",
       "2013-01-03         412.324    542.0       4040.0  "
      ]
     },
     "execution_count": 17,
     "metadata": {},
     "output_type": "execute_result"
    }
   ],
   "source": [
    "stores1 = [*range(1, 7, 1)] # No.1-6 stores\n",
    "families1 = ['BREAD/BAKERY', 'DAIRY', 'GROCERY I']\n",
    "\n",
    "grp = data.groupby(['store_nbr', 'family'])\n",
    "\n",
    "df0 = pd.DataFrame()\n",
    "\n",
    "for s in stores1:\n",
    "    for f in families1:\n",
    "        grp_sel = grp.get_group((s, f))\n",
    "        col_name = str(s)+\",\"+f\n",
    "        df_temp = pd.DataFrame(grp_sel['sales']).rename(columns={'sales': col_name})\n",
    "        df0 = pd.concat([df0, df_temp], axis=1)\n",
    "\n",
    "df0.head(3)"
   ]
  },
  {
   "cell_type": "code",
   "execution_count": 18,
   "id": "80786420",
   "metadata": {},
   "outputs": [],
   "source": [
    "df0.index = pd.DatetimeIndex(df0.index).to_period('D')\n",
    "df0 = df0.resample('1D').mean().ffill()#interpolate()"
   ]
  },
  {
   "cell_type": "code",
   "execution_count": 19,
   "id": "18b31619",
   "metadata": {},
   "outputs": [],
   "source": [
    "df0.loc[['2014-01-01']] = df0.loc[['2013-12-31']].values\n",
    "df0.loc[['2015-01-01']] = df0.loc[['2014-12-31']].values\n",
    "df0.loc[['2016-01-01']] = df0.loc[['2015-12-31']].values\n",
    "df0.loc[['2017-01-01']] = df0.loc[['2016-12-31']].values"
   ]
  },
  {
   "cell_type": "code",
   "execution_count": 20,
   "id": "57ab1de3",
   "metadata": {},
   "outputs": [],
   "source": [
    "df0 = df0.to_timestamp(freq='D') # type from period to datetime"
   ]
  },
  {
   "cell_type": "code",
   "execution_count": 21,
   "id": "f527c5c3",
   "metadata": {},
   "outputs": [],
   "source": [
    "# Train-Test Split\n",
    "df1_train = df0[7:n_train] #starting from day 8\n",
    "df1_test = df0[n_train:]"
   ]
  },
  {
   "cell_type": "code",
   "execution_count": 22,
   "id": "e9c7841a",
   "metadata": {},
   "outputs": [
    {
     "name": "stderr",
     "output_type": "stream",
     "text": [
      "10:35:18 - cmdstanpy - INFO - Chain [1] start processing\n",
      "10:35:18 - cmdstanpy - INFO - Chain [1] done processing\n",
      "10:35:18 - cmdstanpy - INFO - Chain [1] start processing\n",
      "10:35:18 - cmdstanpy - INFO - Chain [1] done processing\n"
     ]
    },
    {
     "name": "stdout",
     "output_type": "stream",
     "text": [
      "1,BREAD/BAKERY MAPE: 0.21747281803135288\n"
     ]
    },
    {
     "name": "stderr",
     "output_type": "stream",
     "text": [
      "10:35:18 - cmdstanpy - INFO - Chain [1] start processing\n",
      "10:35:18 - cmdstanpy - INFO - Chain [1] done processing\n"
     ]
    },
    {
     "name": "stdout",
     "output_type": "stream",
     "text": [
      "1,DAIRY MAPE: 0.17968026631127557\n"
     ]
    },
    {
     "name": "stderr",
     "output_type": "stream",
     "text": [
      "10:35:18 - cmdstanpy - INFO - Chain [1] start processing\n"
     ]
    },
    {
     "name": "stdout",
     "output_type": "stream",
     "text": [
      "1,GROCERY I MAPE: 0.2182684978824601\n"
     ]
    },
    {
     "name": "stderr",
     "output_type": "stream",
     "text": [
      "10:35:19 - cmdstanpy - INFO - Chain [1] done processing\n",
      "10:35:19 - cmdstanpy - INFO - Chain [1] start processing\n"
     ]
    },
    {
     "name": "stdout",
     "output_type": "stream",
     "text": [
      "2,BREAD/BAKERY MAPE: 0.1109577496634915\n"
     ]
    },
    {
     "name": "stderr",
     "output_type": "stream",
     "text": [
      "10:35:19 - cmdstanpy - INFO - Chain [1] done processing\n",
      "10:35:19 - cmdstanpy - INFO - Chain [1] start processing\n",
      "10:35:19 - cmdstanpy - INFO - Chain [1] done processing\n"
     ]
    },
    {
     "name": "stdout",
     "output_type": "stream",
     "text": [
      "2,DAIRY MAPE: 0.11200764266639877\n",
      "2,GROCERY I MAPE: 0.12214112131314822\n"
     ]
    },
    {
     "name": "stderr",
     "output_type": "stream",
     "text": [
      "10:35:19 - cmdstanpy - INFO - Chain [1] start processing\n",
      "10:35:19 - cmdstanpy - INFO - Chain [1] done processing\n",
      "10:35:19 - cmdstanpy - INFO - Chain [1] start processing\n",
      "10:35:19 - cmdstanpy - INFO - Chain [1] done processing\n"
     ]
    },
    {
     "name": "stdout",
     "output_type": "stream",
     "text": [
      "3,BREAD/BAKERY MAPE: 0.09012809820223644\n",
      "3,DAIRY MAPE: 0.0796038291576715\n"
     ]
    },
    {
     "name": "stderr",
     "output_type": "stream",
     "text": [
      "10:35:20 - cmdstanpy - INFO - Chain [1] start processing\n",
      "10:35:20 - cmdstanpy - INFO - Chain [1] done processing\n",
      "10:35:20 - cmdstanpy - INFO - Chain [1] start processing\n"
     ]
    },
    {
     "name": "stdout",
     "output_type": "stream",
     "text": [
      "3,GROCERY I MAPE: 0.1335519041177018\n"
     ]
    },
    {
     "name": "stderr",
     "output_type": "stream",
     "text": [
      "10:35:20 - cmdstanpy - INFO - Chain [1] done processing\n",
      "10:35:20 - cmdstanpy - INFO - Chain [1] start processing\n"
     ]
    },
    {
     "name": "stdout",
     "output_type": "stream",
     "text": [
      "4,BREAD/BAKERY MAPE: 0.20967049918295066\n"
     ]
    },
    {
     "name": "stderr",
     "output_type": "stream",
     "text": [
      "10:35:20 - cmdstanpy - INFO - Chain [1] done processing\n",
      "10:35:20 - cmdstanpy - INFO - Chain [1] start processing\n",
      "10:35:20 - cmdstanpy - INFO - Chain [1] done processing\n"
     ]
    },
    {
     "name": "stdout",
     "output_type": "stream",
     "text": [
      "4,DAIRY MAPE: 0.1178158110205845\n"
     ]
    },
    {
     "name": "stderr",
     "output_type": "stream",
     "text": [
      "10:35:20 - cmdstanpy - INFO - Chain [1] start processing\n",
      "10:35:21 - cmdstanpy - INFO - Chain [1] done processing\n"
     ]
    },
    {
     "name": "stdout",
     "output_type": "stream",
     "text": [
      "4,GROCERY I MAPE: 0.1871411834210932\n"
     ]
    },
    {
     "name": "stderr",
     "output_type": "stream",
     "text": [
      "10:35:21 - cmdstanpy - INFO - Chain [1] start processing\n"
     ]
    },
    {
     "name": "stdout",
     "output_type": "stream",
     "text": [
      "5,BREAD/BAKERY MAPE: 0.1027212199369201\n"
     ]
    },
    {
     "name": "stderr",
     "output_type": "stream",
     "text": [
      "10:35:21 - cmdstanpy - INFO - Chain [1] done processing\n",
      "10:35:21 - cmdstanpy - INFO - Chain [1] start processing\n",
      "10:35:21 - cmdstanpy - INFO - Chain [1] done processing\n"
     ]
    },
    {
     "name": "stdout",
     "output_type": "stream",
     "text": [
      "5,DAIRY MAPE: 0.07847948012602116\n"
     ]
    },
    {
     "name": "stderr",
     "output_type": "stream",
     "text": [
      "10:35:21 - cmdstanpy - INFO - Chain [1] start processing\n",
      "10:35:21 - cmdstanpy - INFO - Chain [1] done processing\n"
     ]
    },
    {
     "name": "stdout",
     "output_type": "stream",
     "text": [
      "5,GROCERY I MAPE: 0.09944426732804042\n"
     ]
    },
    {
     "name": "stderr",
     "output_type": "stream",
     "text": [
      "10:35:21 - cmdstanpy - INFO - Chain [1] start processing\n"
     ]
    },
    {
     "name": "stdout",
     "output_type": "stream",
     "text": [
      "6,BREAD/BAKERY MAPE: 0.13366613475715258\n"
     ]
    },
    {
     "name": "stderr",
     "output_type": "stream",
     "text": [
      "10:35:22 - cmdstanpy - INFO - Chain [1] done processing\n",
      "10:35:22 - cmdstanpy - INFO - Chain [1] start processing\n",
      "10:35:22 - cmdstanpy - INFO - Chain [1] done processing\n"
     ]
    },
    {
     "name": "stdout",
     "output_type": "stream",
     "text": [
      "6,DAIRY MAPE: 0.106613041500985\n",
      "6,GROCERY I MAPE: 0.11783052621314455\n"
     ]
    }
   ],
   "source": [
    "# N = len(df1.columns)\n",
    "mAPE = []\n",
    "df_pred = pd.DataFrame()\n",
    "df_actual = pd.DataFrame()\n",
    "\n",
    "for group in df0.columns:\n",
    "    y_train = df1_train[group]\n",
    "    y_test = df1_test[group]\n",
    "    \n",
    "    y_train = y_train.reset_index() # Prophet() needs the \"date\" as a column\n",
    "    y_test = y_test.reset_index()\n",
    "    \n",
    "    y_train.columns = ['ds','y']\n",
    "    y_test.columns = ['ds','y']\n",
    "    \n",
    "    model = Prophet().fit(y_train)\n",
    "    \n",
    "    y_pred = model.predict(y_test)\n",
    "    \n",
    "    APE_y = abs( (y_test['y'] - y_pred['yhat']) / y_test['y'])\n",
    "    mAPE_y = np.mean(APE_y)\n",
    "    print(group+' MAPE: '+str(mAPE_y))\n",
    "    \n",
    "    mAPE.append(mAPE_y)\n",
    "    df_pred[group] = y_pred['yhat']\n",
    "    df_actual[group] = y_test['y']\n"
   ]
  },
  {
   "cell_type": "markdown",
   "id": "ce1783dc-640e-4a08-88b2-a1ccae4d7126",
   "metadata": {},
   "source": [
    "## 5.6 Evaluation<a id='5.6'></a>"
   ]
  },
  {
   "cell_type": "markdown",
   "id": "fe3398fd-ad01-45a8-b761-1cc76350bfd6",
   "metadata": {},
   "source": [
    "### 5.6.1 MAPE<a id='5.6.1'></a>"
   ]
  },
  {
   "cell_type": "code",
   "execution_count": 23,
   "id": "55bc9d36",
   "metadata": {},
   "outputs": [
    {
     "name": "stdout",
     "output_type": "stream",
     "text": [
      "\u001b[1mSorted MAPE values:\n"
     ]
    },
    {
     "data": {
      "text/html": [
       "<div>\n",
       "<style scoped>\n",
       "    .dataframe tbody tr th:only-of-type {\n",
       "        vertical-align: middle;\n",
       "    }\n",
       "\n",
       "    .dataframe tbody tr th {\n",
       "        vertical-align: top;\n",
       "    }\n",
       "\n",
       "    .dataframe thead th {\n",
       "        text-align: right;\n",
       "    }\n",
       "</style>\n",
       "<table border=\"1\" class=\"dataframe\">\n",
       "  <thead>\n",
       "    <tr style=\"text-align: right;\">\n",
       "      <th></th>\n",
       "      <th>Group</th>\n",
       "      <th>MAPE</th>\n",
       "    </tr>\n",
       "  </thead>\n",
       "  <tbody>\n",
       "    <tr>\n",
       "      <th>13</th>\n",
       "      <td>5,DAIRY</td>\n",
       "      <td>0.078479</td>\n",
       "    </tr>\n",
       "    <tr>\n",
       "      <th>7</th>\n",
       "      <td>3,DAIRY</td>\n",
       "      <td>0.079604</td>\n",
       "    </tr>\n",
       "    <tr>\n",
       "      <th>6</th>\n",
       "      <td>3,BREAD/BAKERY</td>\n",
       "      <td>0.090128</td>\n",
       "    </tr>\n",
       "    <tr>\n",
       "      <th>14</th>\n",
       "      <td>5,GROCERY I</td>\n",
       "      <td>0.099444</td>\n",
       "    </tr>\n",
       "    <tr>\n",
       "      <th>12</th>\n",
       "      <td>5,BREAD/BAKERY</td>\n",
       "      <td>0.102721</td>\n",
       "    </tr>\n",
       "    <tr>\n",
       "      <th>16</th>\n",
       "      <td>6,DAIRY</td>\n",
       "      <td>0.106613</td>\n",
       "    </tr>\n",
       "    <tr>\n",
       "      <th>3</th>\n",
       "      <td>2,BREAD/BAKERY</td>\n",
       "      <td>0.110958</td>\n",
       "    </tr>\n",
       "    <tr>\n",
       "      <th>4</th>\n",
       "      <td>2,DAIRY</td>\n",
       "      <td>0.112008</td>\n",
       "    </tr>\n",
       "    <tr>\n",
       "      <th>10</th>\n",
       "      <td>4,DAIRY</td>\n",
       "      <td>0.117816</td>\n",
       "    </tr>\n",
       "    <tr>\n",
       "      <th>17</th>\n",
       "      <td>6,GROCERY I</td>\n",
       "      <td>0.117831</td>\n",
       "    </tr>\n",
       "    <tr>\n",
       "      <th>5</th>\n",
       "      <td>2,GROCERY I</td>\n",
       "      <td>0.122141</td>\n",
       "    </tr>\n",
       "    <tr>\n",
       "      <th>8</th>\n",
       "      <td>3,GROCERY I</td>\n",
       "      <td>0.133552</td>\n",
       "    </tr>\n",
       "    <tr>\n",
       "      <th>15</th>\n",
       "      <td>6,BREAD/BAKERY</td>\n",
       "      <td>0.133666</td>\n",
       "    </tr>\n",
       "    <tr>\n",
       "      <th>1</th>\n",
       "      <td>1,DAIRY</td>\n",
       "      <td>0.179680</td>\n",
       "    </tr>\n",
       "    <tr>\n",
       "      <th>11</th>\n",
       "      <td>4,GROCERY I</td>\n",
       "      <td>0.187141</td>\n",
       "    </tr>\n",
       "    <tr>\n",
       "      <th>9</th>\n",
       "      <td>4,BREAD/BAKERY</td>\n",
       "      <td>0.209670</td>\n",
       "    </tr>\n",
       "    <tr>\n",
       "      <th>0</th>\n",
       "      <td>1,BREAD/BAKERY</td>\n",
       "      <td>0.217473</td>\n",
       "    </tr>\n",
       "    <tr>\n",
       "      <th>2</th>\n",
       "      <td>1,GROCERY I</td>\n",
       "      <td>0.218268</td>\n",
       "    </tr>\n",
       "  </tbody>\n",
       "</table>\n",
       "</div>"
      ],
      "text/plain": [
       "             Group      MAPE\n",
       "13         5,DAIRY  0.078479\n",
       "7          3,DAIRY  0.079604\n",
       "6   3,BREAD/BAKERY  0.090128\n",
       "14     5,GROCERY I  0.099444\n",
       "12  5,BREAD/BAKERY  0.102721\n",
       "16         6,DAIRY  0.106613\n",
       "3   2,BREAD/BAKERY  0.110958\n",
       "4          2,DAIRY  0.112008\n",
       "10         4,DAIRY  0.117816\n",
       "17     6,GROCERY I  0.117831\n",
       "5      2,GROCERY I  0.122141\n",
       "8      3,GROCERY I  0.133552\n",
       "15  6,BREAD/BAKERY  0.133666\n",
       "1          1,DAIRY  0.179680\n",
       "11     4,GROCERY I  0.187141\n",
       "9   4,BREAD/BAKERY  0.209670\n",
       "0   1,BREAD/BAKERY  0.217473\n",
       "2      1,GROCERY I  0.218268"
      ]
     },
     "execution_count": 23,
     "metadata": {},
     "output_type": "execute_result"
    }
   ],
   "source": [
    "df_mape = pd.DataFrame()\n",
    "df_mape['Group'] = df0.columns#[0:18]\n",
    "df_mape['MAPE'] = mAPE\n",
    "\n",
    "print(\"\\033[1m\"+\"Sorted MAPE values:\")\n",
    "df_mape.sort_values(by=['MAPE'])"
   ]
  },
  {
   "cell_type": "code",
   "execution_count": 24,
   "id": "490e923e",
   "metadata": {},
   "outputs": [
    {
     "name": "stdout",
     "output_type": "stream",
     "text": [
      "\u001b[1mBest 3 MAPE:\n"
     ]
    },
    {
     "data": {
      "text/html": [
       "<div>\n",
       "<style scoped>\n",
       "    .dataframe tbody tr th:only-of-type {\n",
       "        vertical-align: middle;\n",
       "    }\n",
       "\n",
       "    .dataframe tbody tr th {\n",
       "        vertical-align: top;\n",
       "    }\n",
       "\n",
       "    .dataframe thead th {\n",
       "        text-align: right;\n",
       "    }\n",
       "</style>\n",
       "<table border=\"1\" class=\"dataframe\">\n",
       "  <thead>\n",
       "    <tr style=\"text-align: right;\">\n",
       "      <th></th>\n",
       "      <th>Group</th>\n",
       "      <th>MAPE</th>\n",
       "    </tr>\n",
       "  </thead>\n",
       "  <tbody>\n",
       "    <tr>\n",
       "      <th>13</th>\n",
       "      <td>5,DAIRY</td>\n",
       "      <td>0.078479</td>\n",
       "    </tr>\n",
       "    <tr>\n",
       "      <th>7</th>\n",
       "      <td>3,DAIRY</td>\n",
       "      <td>0.079604</td>\n",
       "    </tr>\n",
       "    <tr>\n",
       "      <th>6</th>\n",
       "      <td>3,BREAD/BAKERY</td>\n",
       "      <td>0.090128</td>\n",
       "    </tr>\n",
       "  </tbody>\n",
       "</table>\n",
       "</div>"
      ],
      "text/plain": [
       "             Group      MAPE\n",
       "13         5,DAIRY  0.078479\n",
       "7          3,DAIRY  0.079604\n",
       "6   3,BREAD/BAKERY  0.090128"
      ]
     },
     "execution_count": 24,
     "metadata": {},
     "output_type": "execute_result"
    }
   ],
   "source": [
    "print(\"\\033[1m\"+\"Best 3 MAPE:\")\n",
    "df_best = df_mape.nsmallest(3, 'MAPE')\n",
    "df_best"
   ]
  },
  {
   "cell_type": "code",
   "execution_count": 25,
   "id": "76cf74de",
   "metadata": {},
   "outputs": [
    {
     "name": "stdout",
     "output_type": "stream",
     "text": [
      "\u001b[1mWorst 3 MAPE:\n"
     ]
    },
    {
     "data": {
      "text/html": [
       "<div>\n",
       "<style scoped>\n",
       "    .dataframe tbody tr th:only-of-type {\n",
       "        vertical-align: middle;\n",
       "    }\n",
       "\n",
       "    .dataframe tbody tr th {\n",
       "        vertical-align: top;\n",
       "    }\n",
       "\n",
       "    .dataframe thead th {\n",
       "        text-align: right;\n",
       "    }\n",
       "</style>\n",
       "<table border=\"1\" class=\"dataframe\">\n",
       "  <thead>\n",
       "    <tr style=\"text-align: right;\">\n",
       "      <th></th>\n",
       "      <th>Group</th>\n",
       "      <th>MAPE</th>\n",
       "    </tr>\n",
       "  </thead>\n",
       "  <tbody>\n",
       "    <tr>\n",
       "      <th>2</th>\n",
       "      <td>1,GROCERY I</td>\n",
       "      <td>0.218268</td>\n",
       "    </tr>\n",
       "    <tr>\n",
       "      <th>0</th>\n",
       "      <td>1,BREAD/BAKERY</td>\n",
       "      <td>0.217473</td>\n",
       "    </tr>\n",
       "    <tr>\n",
       "      <th>9</th>\n",
       "      <td>4,BREAD/BAKERY</td>\n",
       "      <td>0.209670</td>\n",
       "    </tr>\n",
       "  </tbody>\n",
       "</table>\n",
       "</div>"
      ],
      "text/plain": [
       "            Group      MAPE\n",
       "2     1,GROCERY I  0.218268\n",
       "0  1,BREAD/BAKERY  0.217473\n",
       "9  4,BREAD/BAKERY  0.209670"
      ]
     },
     "execution_count": 25,
     "metadata": {},
     "output_type": "execute_result"
    }
   ],
   "source": [
    "print(\"\\033[1m\"+\"Worst 3 MAPE:\")\n",
    "df_worst = df_mape.nlargest(3, 'MAPE')\n",
    "df_worst"
   ]
  },
  {
   "cell_type": "markdown",
   "id": "436dce94-7ca5-4815-9191-7e1b826b6c59",
   "metadata": {},
   "source": [
    "**The Best MAPE is about 8%, and the Worst MAPE is about 22%.**"
   ]
  },
  {
   "cell_type": "markdown",
   "id": "0645e9dc-7f4a-464b-a2b9-6ee8b990ffec",
   "metadata": {},
   "source": [
    "### 5.6.2 Scatter plots<a id='5.6.2'></a>"
   ]
  },
  {
   "cell_type": "code",
   "execution_count": 26,
   "id": "f84999c5-3294-494f-b0c1-a77b0e7f6cce",
   "metadata": {},
   "outputs": [],
   "source": [
    "def scatterplots(columns, ncol=None, figsize=(8, 8)):\n",
    "    if ncol is None:\n",
    "        ncol = len(columns)\n",
    "    nrow = int(np.ceil(len(columns) / ncol))\n",
    "    fig, axes = plt.subplots(nrow, ncol, figsize=figsize, squeeze=False)\n",
    "    fig.subplots_adjust(wspace=0.25, hspace=0.4)\n",
    "    for i, col in enumerate(columns):\n",
    "        ax = axes.flatten()[i]\n",
    "        ax.scatter(x = df_actual[col], y = df_pred[col], alpha=0.8)\n",
    "        ax.set(xlabel=\"Aactual values\", ylabel=\"Predicted values\", title=col)\n",
    "        min_val = min(df_actual[col])\n",
    "        ax.axline((min_val, min_val), slope=1, color = 'red')    \n",
    "    nsubplots = nrow * ncol    \n",
    "    # for empty in range(i+1, nsubplots):\n",
    "    #     axes.flatten()[empty].set_visible(False)"
   ]
  },
  {
   "cell_type": "code",
   "execution_count": 27,
   "id": "f06571f6-5895-42fc-b7be-e55f0ccebe07",
   "metadata": {},
   "outputs": [
    {
     "name": "stdout",
     "output_type": "stream",
     "text": [
      "\u001b[1mUpper: Best 3, Lower: Worst 3\n"
     ]
    },
    {
     "data": {
      "image/png": "[encoded data removed]",
      "text/plain": [
       "<Figure size 1300x800 with 6 Axes>"
      ]
     },
     "metadata": {},
     "output_type": "display_data"
    }
   ],
   "source": [
    "df_comb = pd.concat([df_best, df_worst])\n",
    "features = df_comb.Group\n",
    "print(\"\\033[1m\"+\"Upper: Best 3, Lower: Worst 3\")\n",
    "scatterplots(features, ncol=3, figsize=(13, 8))"
   ]
  },
  {
   "cell_type": "markdown",
   "id": "7c5e912d-115a-496a-a763-7484b73941a0",
   "metadata": {},
   "source": [
    "**The scatter points in the upper Best 3 plots are closer to the y=x line than those in the lower 3 plots.**"
   ]
  },
  {
   "cell_type": "markdown",
   "id": "56241a8e-0720-4b49-b40d-12038fb4fc53",
   "metadata": {},
   "source": [
    "### 5.6.3 Distribution of residuals<a id='5.6.3'></a>"
   ]
  },
  {
   "cell_type": "code",
   "execution_count": 28,
   "id": "c7085458-c25c-4fcb-9c26-f47bc65df937",
   "metadata": {},
   "outputs": [],
   "source": [
    "# Residuals\n",
    "df_resid = df_actual - df_pred\n",
    "# PEs\n",
    "df_pe = (df_actual - df_pred) / df_actual"
   ]
  },
  {
   "cell_type": "code",
   "execution_count": 29,
   "id": "d1363cba-6695-4cd7-b941-9c6d570d974e",
   "metadata": {},
   "outputs": [
    {
     "data": {
      "image/png": "[encoded data removed]",
      "text/plain": [
       "<Figure size 1100x500 with 2 Axes>"
      ]
     },
     "metadata": {},
     "output_type": "display_data"
    }
   ],
   "source": [
    "fig, axes = plt.subplots(1, 2, figsize=(11, 5))\n",
    "sns.kdeplot(ax=axes[0], data=df_resid[df_best.Group])\n",
    "axes[0].set_title(\"Best 3 Residuals\")\n",
    "axes[0].set_xlabel(\"Actual - Predicted\")\n",
    "sns.kdeplot(ax=axes[1], data=df_resid[df_worst.Group])\n",
    "axes[1].set_title(\"Worst 3 Residuals\")\n",
    "axes[1].set_xlabel(\"Actual - Predicted\")\n",
    "axes[1].set_ylabel(\"\")\n",
    "plt.show()"
   ]
  },
  {
   "cell_type": "code",
   "execution_count": 30,
   "id": "1bc12ce8-3ff8-4c86-b594-16339a05687f",
   "metadata": {},
   "outputs": [
    {
     "data": {
      "image/png": "[encoded data removed]",
      "text/plain": [
       "<Figure size 500x500 with 1 Axes>"
      ]
     },
     "metadata": {},
     "output_type": "display_data"
    }
   ],
   "source": [
    "fig, ax = plt.subplots(figsize=(5, 5))\n",
    "sns.kdeplot(data=df_pe[df_comb.Group])\n",
    "plt.title(\"Percentage Error\")\n",
    "plt.xlabel(\"(Actual - Prdicted) / Actual\")\n",
    "plt.show()"
   ]
  },
  {
   "cell_type": "markdown",
   "id": "db2c7d3b-fc55-4ad0-a82d-e76a4ef4d4e7",
   "metadata": {},
   "source": [
    "**From the Distribution of Residuals plots, we cannot figure out how the \"Best 3\" is better than the \"Worst 3\".\\\n",
    "From the Percentage Error plot, we can clear see that the center lines of the \"Best 3\" are closer to zero and their distributions are also more concentrated.**"
   ]
  },
  {
   "cell_type": "markdown",
   "id": "4d7cb694-cc16-45b0-a43b-993cefb04f2e",
   "metadata": {},
   "source": [
    "## 5.7 Save Data<a id='5.7'></a>"
   ]
  },
  {
   "cell_type": "code",
   "execution_count": 31,
   "id": "6a0b2b2b-f688-4eff-bd5b-12807ddc09e7",
   "metadata": {},
   "outputs": [
    {
     "name": "stdout",
     "output_type": "stream",
     "text": [
      "Writing file.  \"../data/df_actual.csv\"\n",
      "Writing file.  \"../data/df_pred_2.csv\"\n",
      "Writing file.  \"../data/df_mape_2.csv\"\n"
     ]
    }
   ],
   "source": [
    "datapath = '../data'\n",
    "save_file(df_actual, 'df_actual.csv', datapath)\n",
    "save_file(df_pred, 'df_pred_2.csv', datapath)\n",
    "save_file(df_mape, 'df_mape_2.csv', datapath)"
   ]
  }
 ],
 "metadata": {
  "kernelspec": {
   "display_name": "Python 3 (ipykernel)",
   "language": "python",
   "name": "python3"
  },
  "language_info": {
   "codemirror_mode": {
    "name": "ipython",
    "version": 3
   },
   "file_extension": ".py",
   "mimetype": "text/x-python",
   "name": "python",
   "nbconvert_exporter": "python",
   "pygments_lexer": "ipython3",
   "version": "3.9.18"
  }
 },
 "nbformat": 4,
 "nbformat_minor": 5
}
