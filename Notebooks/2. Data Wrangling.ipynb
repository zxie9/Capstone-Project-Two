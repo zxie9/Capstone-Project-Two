{
 "cells": [
  {
   "cell_type": "markdown",
   "id": "030698ee",
   "metadata": {},
   "source": [
    "# Capstone Two - 2 Data wrangling<a id='2'></a>"
   ]
  },
  {
   "cell_type": "markdown",
   "id": "ac778a6f",
   "metadata": {},
   "source": [
    "## 2.1 Contents<a id='2.1'></a>\n",
    "* [2 Data wrangling](#2)\n",
    "  * [2.1 Contents](#2.1)\n",
    "  * [2.2 Imports](#2.2)\n",
    "  * [2.3 Load The Store Sales Data](#2.3)\n",
    "  * [2.4 Explore The Data](#2.4)\n",
    "    * [2.4.1 Target](#2.4.1)  \n",
    "    * [2.4.2 Dimensions and Number of Time Series](#2.4.2)\n",
    "    * [2.4.3 Categorical Exogenous Variables](#2.4.3)\n",
    "      * [2.4.3.1 Store Metadata](#2.4.3.1)\n",
    "        * [2.4.3.1.1 Cluster](#2.4.3.1.1)\n",
    "        * [2.4.3.1.2 City and State](#2.4.3.1.2)\n",
    "        * [2.4.3.1.3 Type](#2.4.3.1.3)\n",
    "      * [2.4.3.2 Holidays and Events](#2.4.3.2)\n",
    "        * [2.4.3.2.1 Drop Duplicate Dates](#2.4.3.2.1)\n",
    "        * [2.4.3.2.2 Holiday/Event Types](#2.4.3.2.2)\n",
    "    * [2.4.4 Numeric Exogenous Variables](#2.4.4)\n",
    "      * [2.4.4.1 Daily Oil Price](#2.4.4.1)\n",
    "      * [2.4.4.2 Daily Transactions Per Store](#2.4.4.2)\n",
    "      * [2.4.4.3 Quantity of On-Promotion Product](#2.4.4.3)\n",
    "  * [2.5 Save data](#2.5)\n",
    "  * [2.6 Summary](#2.6)"
   ]
  },
  {
   "cell_type": "markdown",
   "id": "16a1977a",
   "metadata": {},
   "source": [
    "## 2.2 Imports<a id='2.2'></a>"
   ]
  },
  {
   "cell_type": "code",
   "execution_count": 1,
   "id": "b7b3ebcb",
   "metadata": {},
   "outputs": [],
   "source": [
    "import pandas as pd\n",
    "\n",
    "from library.sb_utils import save_file"
   ]
  },
  {
   "cell_type": "markdown",
   "id": "9ff09d90",
   "metadata": {},
   "source": [
    " "
   ]
  },
  {
   "cell_type": "markdown",
   "id": "39d90862",
   "metadata": {},
   "source": [
    "## 2.3 Load The Store Sales Data<a id='2.3'></a>\n",
    "\n",
    "Download the store sales data and other supporting data from this webpage: https://www.kaggle.com/competitions/store-sales-time-series-forecasting/data"
   ]
  },
  {
   "cell_type": "code",
   "execution_count": 2,
   "id": "a166ffb0",
   "metadata": {},
   "outputs": [],
   "source": [
    "# Directory of input data\n",
    "input_dir = '../input_data/store-sales-time-series-forecasting/'"
   ]
  },
  {
   "cell_type": "code",
   "execution_count": 3,
   "id": "74b984de",
   "metadata": {
    "scrolled": false
   },
   "outputs": [],
   "source": [
    "# Store sales (training set)\n",
    "train = pd.read_csv(input_dir+'train.csv')\n",
    "\n",
    "# Store sales (testing set)\n",
    "test = pd.read_csv(input_dir+'test.csv')\n",
    "\n",
    "# Store metadata\n",
    "stores = pd.read_csv(input_dir+'stores.csv')\n",
    "\n",
    "# Daily oil price\n",
    "oil = pd.read_csv(input_dir+'oil.csv')\n",
    "\n",
    "# Number of daily transactions at a store\n",
    "transactions = pd.read_csv(input_dir+'transactions.csv')\n",
    "\n",
    "# Holidays and Events, with metadata\n",
    "holidays_events = pd.read_csv(input_dir+'holidays_events.csv')"
   ]
  },
  {
   "cell_type": "markdown",
   "id": "e5acb1f7",
   "metadata": {},
   "source": [
    "## 2.4 Explore The Data<a id='2.4'></a>"
   ]
  },
  {
   "cell_type": "markdown",
   "id": "8fea17ce",
   "metadata": {},
   "source": [
    "### 2.4.1 Target<a id='2.4.1'></a>"
   ]
  },
  {
   "cell_type": "code",
   "execution_count": 4,
   "id": "28fcaa3f",
   "metadata": {},
   "outputs": [
    {
     "data": {
      "text/html": [
       "<div>\n",
       "<style scoped>\n",
       "    .dataframe tbody tr th:only-of-type {\n",
       "        vertical-align: middle;\n",
       "    }\n",
       "\n",
       "    .dataframe tbody tr th {\n",
       "        vertical-align: top;\n",
       "    }\n",
       "\n",
       "    .dataframe thead th {\n",
       "        text-align: right;\n",
       "    }\n",
       "</style>\n",
       "<table border=\"1\" class=\"dataframe\">\n",
       "  <thead>\n",
       "    <tr style=\"text-align: right;\">\n",
       "      <th></th>\n",
       "      <th>id</th>\n",
       "      <th>date</th>\n",
       "      <th>store_nbr</th>\n",
       "      <th>family</th>\n",
       "      <th>sales</th>\n",
       "      <th>onpromotion</th>\n",
       "    </tr>\n",
       "  </thead>\n",
       "  <tbody>\n",
       "    <tr>\n",
       "      <th>0</th>\n",
       "      <td>0</td>\n",
       "      <td>2013-01-01</td>\n",
       "      <td>1</td>\n",
       "      <td>AUTOMOTIVE</td>\n",
       "      <td>0.0</td>\n",
       "      <td>0</td>\n",
       "    </tr>\n",
       "    <tr>\n",
       "      <th>1</th>\n",
       "      <td>1</td>\n",
       "      <td>2013-01-01</td>\n",
       "      <td>1</td>\n",
       "      <td>BABY CARE</td>\n",
       "      <td>0.0</td>\n",
       "      <td>0</td>\n",
       "    </tr>\n",
       "    <tr>\n",
       "      <th>2</th>\n",
       "      <td>2</td>\n",
       "      <td>2013-01-01</td>\n",
       "      <td>1</td>\n",
       "      <td>BEAUTY</td>\n",
       "      <td>0.0</td>\n",
       "      <td>0</td>\n",
       "    </tr>\n",
       "  </tbody>\n",
       "</table>\n",
       "</div>"
      ],
      "text/plain": [
       "   id        date  store_nbr      family  sales  onpromotion\n",
       "0   0  2013-01-01          1  AUTOMOTIVE    0.0            0\n",
       "1   1  2013-01-01          1   BABY CARE    0.0            0\n",
       "2   2  2013-01-01          1      BEAUTY    0.0            0"
      ]
     },
     "execution_count": 4,
     "metadata": {},
     "output_type": "execute_result"
    }
   ],
   "source": [
    "train.head(3)"
   ]
  },
  {
   "cell_type": "code",
   "execution_count": 5,
   "id": "125a07e8",
   "metadata": {},
   "outputs": [
    {
     "name": "stdout",
     "output_type": "stream",
     "text": [
      "<class 'pandas.core.frame.DataFrame'>\n",
      "RangeIndex: 3000888 entries, 0 to 3000887\n",
      "Data columns (total 6 columns):\n",
      " #   Column       Dtype  \n",
      "---  ------       -----  \n",
      " 0   id           int64  \n",
      " 1   date         object \n",
      " 2   store_nbr    int64  \n",
      " 3   family       object \n",
      " 4   sales        float64\n",
      " 5   onpromotion  int64  \n",
      "dtypes: float64(1), int64(3), object(2)\n",
      "memory usage: 137.4+ MB\n"
     ]
    }
   ],
   "source": [
    "train.info()"
   ]
  },
  {
   "cell_type": "code",
   "execution_count": 6,
   "id": "ee62f87e",
   "metadata": {},
   "outputs": [
    {
     "data": {
      "text/html": [
       "<div>\n",
       "<style scoped>\n",
       "    .dataframe tbody tr th:only-of-type {\n",
       "        vertical-align: middle;\n",
       "    }\n",
       "\n",
       "    .dataframe tbody tr th {\n",
       "        vertical-align: top;\n",
       "    }\n",
       "\n",
       "    .dataframe thead th {\n",
       "        text-align: right;\n",
       "    }\n",
       "</style>\n",
       "<table border=\"1\" class=\"dataframe\">\n",
       "  <thead>\n",
       "    <tr style=\"text-align: right;\">\n",
       "      <th></th>\n",
       "      <th>id</th>\n",
       "      <th>date</th>\n",
       "      <th>store_nbr</th>\n",
       "      <th>family</th>\n",
       "      <th>onpromotion</th>\n",
       "    </tr>\n",
       "  </thead>\n",
       "  <tbody>\n",
       "    <tr>\n",
       "      <th>0</th>\n",
       "      <td>3000888</td>\n",
       "      <td>2017-08-16</td>\n",
       "      <td>1</td>\n",
       "      <td>AUTOMOTIVE</td>\n",
       "      <td>0</td>\n",
       "    </tr>\n",
       "    <tr>\n",
       "      <th>1</th>\n",
       "      <td>3000889</td>\n",
       "      <td>2017-08-16</td>\n",
       "      <td>1</td>\n",
       "      <td>BABY CARE</td>\n",
       "      <td>0</td>\n",
       "    </tr>\n",
       "    <tr>\n",
       "      <th>2</th>\n",
       "      <td>3000890</td>\n",
       "      <td>2017-08-16</td>\n",
       "      <td>1</td>\n",
       "      <td>BEAUTY</td>\n",
       "      <td>2</td>\n",
       "    </tr>\n",
       "  </tbody>\n",
       "</table>\n",
       "</div>"
      ],
      "text/plain": [
       "        id        date  store_nbr      family  onpromotion\n",
       "0  3000888  2017-08-16          1  AUTOMOTIVE            0\n",
       "1  3000889  2017-08-16          1   BABY CARE            0\n",
       "2  3000890  2017-08-16          1      BEAUTY            2"
      ]
     },
     "execution_count": 6,
     "metadata": {},
     "output_type": "execute_result"
    }
   ],
   "source": [
    "test.head(3)"
   ]
  },
  {
   "cell_type": "markdown",
   "id": "3b0a3651",
   "metadata": {},
   "source": [
    "`sales` gives the total units sold for a product family at a particular store at a given date. Its time series is our **target** to be modeled, and it's a **non-categorical** variable.\n",
    "\n",
    "`date` is the time column.\n",
    "\n",
    "`onpromotion` is one of the potential **Exogenous Variables**, giving the total number of items in a product family that were being promoted a store at a given date."
   ]
  },
  {
   "cell_type": "markdown",
   "id": "90010ae2",
   "metadata": {},
   "source": [
    "### 2.4.2 Dimensions and Number of Time Series<a id='2.4.2'></a>"
   ]
  },
  {
   "cell_type": "markdown",
   "id": "6c0b4ba7",
   "metadata": {},
   "source": [
    "The two dimensions with this project are \"store\" and \"product family\":"
   ]
  },
  {
   "cell_type": "code",
   "execution_count": 7,
   "id": "7f861967",
   "metadata": {
    "scrolled": true
   },
   "outputs": [
    {
     "data": {
      "text/plain": [
       "store_nbr    54\n",
       "family       33\n",
       "dtype: int64"
      ]
     },
     "execution_count": 7,
     "metadata": {},
     "output_type": "execute_result"
    }
   ],
   "source": [
    "train[['store_nbr','family']].nunique()"
   ]
  },
  {
   "cell_type": "code",
   "execution_count": 8,
   "id": "0a5bab70",
   "metadata": {},
   "outputs": [
    {
     "data": {
      "text/plain": [
       "store_nbr    54\n",
       "family       33\n",
       "dtype: int64"
      ]
     },
     "execution_count": 8,
     "metadata": {},
     "output_type": "execute_result"
    }
   ],
   "source": [
    "test[['store_nbr','family']].nunique()"
   ]
  },
  {
   "cell_type": "markdown",
   "id": "074cba28",
   "metadata": {},
   "source": [
    "We have 54 stores and 33 product families, thus totally **54*33=1782** time series."
   ]
  },
  {
   "cell_type": "code",
   "execution_count": 9,
   "id": "8afb4e1d",
   "metadata": {},
   "outputs": [
    {
     "data": {
      "text/plain": [
       "store_nbr  family                 \n",
       "1          AUTOMOTIVE                 1684\n",
       "36         PREPARED FOODS             1684\n",
       "37         CLEANING                   1684\n",
       "           CELEBRATION                1684\n",
       "           BREAD/BAKERY               1684\n",
       "                                      ... \n",
       "18         PREPARED FOODS             1684\n",
       "           POULTRY                    1684\n",
       "           PLAYERS AND ELECTRONICS    1684\n",
       "           PET SUPPLIES               1684\n",
       "54         SEAFOOD                    1684\n",
       "Length: 1782, dtype: int64"
      ]
     },
     "execution_count": 9,
     "metadata": {},
     "output_type": "execute_result"
    }
   ],
   "source": [
    "train[['store_nbr','family']].value_counts()"
   ]
  },
  {
   "cell_type": "code",
   "execution_count": 10,
   "id": "54f3eb05",
   "metadata": {},
   "outputs": [
    {
     "data": {
      "text/html": [
       "<div>\n",
       "<style scoped>\n",
       "    .dataframe tbody tr th:only-of-type {\n",
       "        vertical-align: middle;\n",
       "    }\n",
       "\n",
       "    .dataframe tbody tr th {\n",
       "        vertical-align: top;\n",
       "    }\n",
       "\n",
       "    .dataframe thead th {\n",
       "        text-align: right;\n",
       "    }\n",
       "</style>\n",
       "<table border=\"1\" class=\"dataframe\">\n",
       "  <thead>\n",
       "    <tr style=\"text-align: right;\">\n",
       "      <th></th>\n",
       "      <th>id</th>\n",
       "      <th>date</th>\n",
       "      <th>store_nbr</th>\n",
       "      <th>family</th>\n",
       "      <th>sales</th>\n",
       "      <th>onpromotion</th>\n",
       "    </tr>\n",
       "  </thead>\n",
       "  <tbody>\n",
       "    <tr>\n",
       "      <th>3000885</th>\n",
       "      <td>3000885</td>\n",
       "      <td>2017-08-15</td>\n",
       "      <td>9</td>\n",
       "      <td>PRODUCE</td>\n",
       "      <td>2419.729</td>\n",
       "      <td>148</td>\n",
       "    </tr>\n",
       "    <tr>\n",
       "      <th>3000886</th>\n",
       "      <td>3000886</td>\n",
       "      <td>2017-08-15</td>\n",
       "      <td>9</td>\n",
       "      <td>SCHOOL AND OFFICE SUPPLIES</td>\n",
       "      <td>121.000</td>\n",
       "      <td>8</td>\n",
       "    </tr>\n",
       "    <tr>\n",
       "      <th>3000887</th>\n",
       "      <td>3000887</td>\n",
       "      <td>2017-08-15</td>\n",
       "      <td>9</td>\n",
       "      <td>SEAFOOD</td>\n",
       "      <td>16.000</td>\n",
       "      <td>0</td>\n",
       "    </tr>\n",
       "  </tbody>\n",
       "</table>\n",
       "</div>"
      ],
      "text/plain": [
       "              id        date  store_nbr                      family     sales  \\\n",
       "3000885  3000885  2017-08-15          9                     PRODUCE  2419.729   \n",
       "3000886  3000886  2017-08-15          9  SCHOOL AND OFFICE SUPPLIES   121.000   \n",
       "3000887  3000887  2017-08-15          9                     SEAFOOD    16.000   \n",
       "\n",
       "         onpromotion  \n",
       "3000885          148  \n",
       "3000886            8  \n",
       "3000887            0  "
      ]
     },
     "execution_count": 10,
     "metadata": {},
     "output_type": "execute_result"
    }
   ],
   "source": [
    "train.tail(3)"
   ]
  },
  {
   "cell_type": "code",
   "execution_count": 11,
   "id": "7e89a1c4",
   "metadata": {},
   "outputs": [
    {
     "data": {
      "text/plain": [
       "store_nbr  family                 \n",
       "1          AUTOMOTIVE                 16\n",
       "36         PREPARED FOODS             16\n",
       "37         CLEANING                   16\n",
       "           CELEBRATION                16\n",
       "           BREAD/BAKERY               16\n",
       "                                      ..\n",
       "18         PREPARED FOODS             16\n",
       "           POULTRY                    16\n",
       "           PLAYERS AND ELECTRONICS    16\n",
       "           PET SUPPLIES               16\n",
       "54         SEAFOOD                    16\n",
       "Length: 1782, dtype: int64"
      ]
     },
     "execution_count": 11,
     "metadata": {},
     "output_type": "execute_result"
    }
   ],
   "source": [
    "test[['store_nbr','family']].value_counts()"
   ]
  },
  {
   "cell_type": "code",
   "execution_count": 12,
   "id": "0ff2466f",
   "metadata": {},
   "outputs": [
    {
     "data": {
      "text/html": [
       "<div>\n",
       "<style scoped>\n",
       "    .dataframe tbody tr th:only-of-type {\n",
       "        vertical-align: middle;\n",
       "    }\n",
       "\n",
       "    .dataframe tbody tr th {\n",
       "        vertical-align: top;\n",
       "    }\n",
       "\n",
       "    .dataframe thead th {\n",
       "        text-align: right;\n",
       "    }\n",
       "</style>\n",
       "<table border=\"1\" class=\"dataframe\">\n",
       "  <thead>\n",
       "    <tr style=\"text-align: right;\">\n",
       "      <th></th>\n",
       "      <th>id</th>\n",
       "      <th>date</th>\n",
       "      <th>store_nbr</th>\n",
       "      <th>family</th>\n",
       "      <th>onpromotion</th>\n",
       "    </tr>\n",
       "  </thead>\n",
       "  <tbody>\n",
       "    <tr>\n",
       "      <th>28509</th>\n",
       "      <td>3029397</td>\n",
       "      <td>2017-08-31</td>\n",
       "      <td>9</td>\n",
       "      <td>PRODUCE</td>\n",
       "      <td>1</td>\n",
       "    </tr>\n",
       "    <tr>\n",
       "      <th>28510</th>\n",
       "      <td>3029398</td>\n",
       "      <td>2017-08-31</td>\n",
       "      <td>9</td>\n",
       "      <td>SCHOOL AND OFFICE SUPPLIES</td>\n",
       "      <td>9</td>\n",
       "    </tr>\n",
       "    <tr>\n",
       "      <th>28511</th>\n",
       "      <td>3029399</td>\n",
       "      <td>2017-08-31</td>\n",
       "      <td>9</td>\n",
       "      <td>SEAFOOD</td>\n",
       "      <td>0</td>\n",
       "    </tr>\n",
       "  </tbody>\n",
       "</table>\n",
       "</div>"
      ],
      "text/plain": [
       "            id        date  store_nbr                      family  onpromotion\n",
       "28509  3029397  2017-08-31          9                     PRODUCE            1\n",
       "28510  3029398  2017-08-31          9  SCHOOL AND OFFICE SUPPLIES            9\n",
       "28511  3029399  2017-08-31          9                     SEAFOOD            0"
      ]
     },
     "execution_count": 12,
     "metadata": {},
     "output_type": "execute_result"
    }
   ],
   "source": [
    "test.tail(3)"
   ]
  },
  {
   "cell_type": "markdown",
   "id": "6637842f",
   "metadata": {},
   "source": [
    "**Resolution** of Time Series: **Daily**\n",
    "\n",
    "Each time series of the training data has 1684 days (01-01-2013 to 2017-08-15).\n",
    "\n",
    "Each time series of the testing data has 16 days (2017-08-16 to 2017-08-31).\n",
    "\n",
    "**Forecasting horizon: 16 days**"
   ]
  },
  {
   "cell_type": "markdown",
   "id": "8f2cf4a2",
   "metadata": {},
   "source": [
    "### 2.4.3 Categorical Exogenous Variables<a id='2.4.3'></a>"
   ]
  },
  {
   "cell_type": "markdown",
   "id": "ea7e84c8",
   "metadata": {},
   "source": [
    "#### 2.4.3.1 Store Metadata<a id='2.4.3.1'></a>"
   ]
  },
  {
   "cell_type": "code",
   "execution_count": 13,
   "id": "542705ba",
   "metadata": {},
   "outputs": [
    {
     "data": {
      "text/html": [
       "<div>\n",
       "<style scoped>\n",
       "    .dataframe tbody tr th:only-of-type {\n",
       "        vertical-align: middle;\n",
       "    }\n",
       "\n",
       "    .dataframe tbody tr th {\n",
       "        vertical-align: top;\n",
       "    }\n",
       "\n",
       "    .dataframe thead th {\n",
       "        text-align: right;\n",
       "    }\n",
       "</style>\n",
       "<table border=\"1\" class=\"dataframe\">\n",
       "  <thead>\n",
       "    <tr style=\"text-align: right;\">\n",
       "      <th></th>\n",
       "      <th>store_nbr</th>\n",
       "      <th>city</th>\n",
       "      <th>state</th>\n",
       "      <th>type</th>\n",
       "      <th>cluster</th>\n",
       "    </tr>\n",
       "  </thead>\n",
       "  <tbody>\n",
       "    <tr>\n",
       "      <th>0</th>\n",
       "      <td>1</td>\n",
       "      <td>Quito</td>\n",
       "      <td>Pichincha</td>\n",
       "      <td>D</td>\n",
       "      <td>13</td>\n",
       "    </tr>\n",
       "    <tr>\n",
       "      <th>1</th>\n",
       "      <td>2</td>\n",
       "      <td>Quito</td>\n",
       "      <td>Pichincha</td>\n",
       "      <td>D</td>\n",
       "      <td>13</td>\n",
       "    </tr>\n",
       "    <tr>\n",
       "      <th>2</th>\n",
       "      <td>3</td>\n",
       "      <td>Quito</td>\n",
       "      <td>Pichincha</td>\n",
       "      <td>D</td>\n",
       "      <td>8</td>\n",
       "    </tr>\n",
       "    <tr>\n",
       "      <th>3</th>\n",
       "      <td>4</td>\n",
       "      <td>Quito</td>\n",
       "      <td>Pichincha</td>\n",
       "      <td>D</td>\n",
       "      <td>9</td>\n",
       "    </tr>\n",
       "    <tr>\n",
       "      <th>4</th>\n",
       "      <td>5</td>\n",
       "      <td>Santo Domingo</td>\n",
       "      <td>Santo Domingo de los Tsachilas</td>\n",
       "      <td>D</td>\n",
       "      <td>4</td>\n",
       "    </tr>\n",
       "  </tbody>\n",
       "</table>\n",
       "</div>"
      ],
      "text/plain": [
       "   store_nbr           city                           state type  cluster\n",
       "0          1          Quito                       Pichincha    D       13\n",
       "1          2          Quito                       Pichincha    D       13\n",
       "2          3          Quito                       Pichincha    D        8\n",
       "3          4          Quito                       Pichincha    D        9\n",
       "4          5  Santo Domingo  Santo Domingo de los Tsachilas    D        4"
      ]
     },
     "execution_count": 13,
     "metadata": {},
     "output_type": "execute_result"
    }
   ],
   "source": [
    "stores.head()"
   ]
  },
  {
   "cell_type": "code",
   "execution_count": 14,
   "id": "d780984e",
   "metadata": {},
   "outputs": [
    {
     "name": "stdout",
     "output_type": "stream",
     "text": [
      "<class 'pandas.core.frame.DataFrame'>\n",
      "RangeIndex: 54 entries, 0 to 53\n",
      "Data columns (total 5 columns):\n",
      " #   Column     Non-Null Count  Dtype \n",
      "---  ------     --------------  ----- \n",
      " 0   store_nbr  54 non-null     int64 \n",
      " 1   city       54 non-null     object\n",
      " 2   state      54 non-null     object\n",
      " 3   type       54 non-null     object\n",
      " 4   cluster    54 non-null     int64 \n",
      "dtypes: int64(2), object(3)\n",
      "memory usage: 2.2+ KB\n"
     ]
    },
    {
     "data": {
      "text/plain": [
       "store_nbr    54\n",
       "city         22\n",
       "state        16\n",
       "type          5\n",
       "cluster      17\n",
       "dtype: int64"
      ]
     },
     "execution_count": 14,
     "metadata": {},
     "output_type": "execute_result"
    }
   ],
   "source": [
    "stores.info()\n",
    "stores.nunique()"
   ]
  },
  {
   "cell_type": "markdown",
   "id": "cdca4ad7",
   "metadata": {},
   "source": [
    "We can see that `city`, `state`, and `type` of the store are **categorical** features, while the data type of `cluster` is integer."
   ]
  },
  {
   "cell_type": "markdown",
   "id": "ddfa4b43",
   "metadata": {},
   "source": [
    "##### 2.4.3.1.1 Cluster<a id='2.4.3.1.1'></a>"
   ]
  },
  {
   "cell_type": "code",
   "execution_count": 15,
   "id": "d938e34d",
   "metadata": {},
   "outputs": [
    {
     "data": {
      "text/plain": [
       "[1, 2, 3, 4, 5, 6, 7, 8, 9, 10, 11, 12, 13, 14, 15, 16, 17]"
      ]
     },
     "execution_count": 15,
     "metadata": {},
     "output_type": "execute_result"
    }
   ],
   "source": [
    "sorted(stores['cluster'].unique())"
   ]
  },
  {
   "cell_type": "code",
   "execution_count": 16,
   "id": "3c0ab083",
   "metadata": {},
   "outputs": [
    {
     "data": {
      "text/plain": [
       "3     7\n",
       "6     6\n",
       "10    6\n",
       "15    5\n",
       "13    4\n",
       "14    4\n",
       "11    3\n",
       "4     3\n",
       "8     3\n",
       "1     3\n",
       "9     2\n",
       "7     2\n",
       "2     2\n",
       "12    1\n",
       "5     1\n",
       "16    1\n",
       "17    1\n",
       "Name: cluster, dtype: int64"
      ]
     },
     "execution_count": 16,
     "metadata": {},
     "output_type": "execute_result"
    }
   ],
   "source": [
    "stores['cluster'].value_counts()"
   ]
  },
  {
   "cell_type": "markdown",
   "id": "14dc8874",
   "metadata": {},
   "source": [
    "Although `cluster` is a integer column, it's still a **categorical** feature and it has 17 categories (1-17)."
   ]
  },
  {
   "cell_type": "markdown",
   "id": "26c16360",
   "metadata": {},
   "source": [
    "##### 2.4.3.1.2 City and State<a id='2.4.3.1.2'></a>"
   ]
  },
  {
   "cell_type": "code",
   "execution_count": 17,
   "id": "02622340",
   "metadata": {
    "scrolled": false
   },
   "outputs": [
    {
     "data": {
      "text/plain": [
       "Quito            18\n",
       "Guayaquil         8\n",
       "Cuenca            3\n",
       "Santo Domingo     3\n",
       "Manta             2\n",
       "Latacunga         2\n",
       "Machala           2\n",
       "Ambato            2\n",
       "Quevedo           1\n",
       "Esmeraldas        1\n",
       "Loja              1\n",
       "Libertad          1\n",
       "Playas            1\n",
       "Daule             1\n",
       "Babahoyo          1\n",
       "Salinas           1\n",
       "Puyo              1\n",
       "Guaranda          1\n",
       "Ibarra            1\n",
       "Riobamba          1\n",
       "Cayambe           1\n",
       "El Carmen         1\n",
       "Name: city, dtype: int64"
      ]
     },
     "execution_count": 17,
     "metadata": {},
     "output_type": "execute_result"
    }
   ],
   "source": [
    "stores['city'].value_counts()"
   ]
  },
  {
   "cell_type": "code",
   "execution_count": 18,
   "id": "cff2cad8",
   "metadata": {},
   "outputs": [
    {
     "data": {
      "text/plain": [
       "Pichincha                         19\n",
       "Guayas                            11\n",
       "Santo Domingo de los Tsachilas     3\n",
       "Azuay                              3\n",
       "Manabi                             3\n",
       "Cotopaxi                           2\n",
       "Tungurahua                         2\n",
       "Los Rios                           2\n",
       "El Oro                             2\n",
       "Chimborazo                         1\n",
       "Imbabura                           1\n",
       "Bolivar                            1\n",
       "Pastaza                            1\n",
       "Santa Elena                        1\n",
       "Loja                               1\n",
       "Esmeraldas                         1\n",
       "Name: state, dtype: int64"
      ]
     },
     "execution_count": 18,
     "metadata": {},
     "output_type": "execute_result"
    }
   ],
   "source": [
    "stores['state'].value_counts()"
   ]
  },
  {
   "cell_type": "markdown",
   "id": "c40d6486",
   "metadata": {},
   "source": [
    "Most of the stores are located in the cities of \"Quito\" and \"Guayaquil\" and the states of \"Pichincha\" and \"Guayas\"."
   ]
  },
  {
   "cell_type": "code",
   "execution_count": 19,
   "id": "81b55e15",
   "metadata": {},
   "outputs": [
    {
     "data": {
      "text/html": [
       "<div>\n",
       "<style scoped>\n",
       "    .dataframe tbody tr th:only-of-type {\n",
       "        vertical-align: middle;\n",
       "    }\n",
       "\n",
       "    .dataframe tbody tr th {\n",
       "        vertical-align: top;\n",
       "    }\n",
       "\n",
       "    .dataframe thead th {\n",
       "        text-align: right;\n",
       "    }\n",
       "</style>\n",
       "<table border=\"1\" class=\"dataframe\">\n",
       "  <thead>\n",
       "    <tr style=\"text-align: right;\">\n",
       "      <th></th>\n",
       "      <th>store_nbr</th>\n",
       "      <th>city</th>\n",
       "      <th>state</th>\n",
       "      <th>type</th>\n",
       "      <th>cluster</th>\n",
       "    </tr>\n",
       "  </thead>\n",
       "  <tbody>\n",
       "    <tr>\n",
       "      <th>10</th>\n",
       "      <td>11</td>\n",
       "      <td>Cayambe</td>\n",
       "      <td>Pichincha</td>\n",
       "      <td>B</td>\n",
       "      <td>6</td>\n",
       "    </tr>\n",
       "  </tbody>\n",
       "</table>\n",
       "</div>"
      ],
      "text/plain": [
       "    store_nbr     city      state type  cluster\n",
       "10         11  Cayambe  Pichincha    B        6"
      ]
     },
     "execution_count": 19,
     "metadata": {},
     "output_type": "execute_result"
    }
   ],
   "source": [
    "st_pi=stores[stores['state'] == 'Pichincha']\n",
    "st_pi[st_pi['city'] != 'Quito']"
   ]
  },
  {
   "cell_type": "code",
   "execution_count": 20,
   "id": "e726ab01",
   "metadata": {},
   "outputs": [
    {
     "data": {
      "text/html": [
       "<div>\n",
       "<style scoped>\n",
       "    .dataframe tbody tr th:only-of-type {\n",
       "        vertical-align: middle;\n",
       "    }\n",
       "\n",
       "    .dataframe tbody tr th {\n",
       "        vertical-align: top;\n",
       "    }\n",
       "\n",
       "    .dataframe thead th {\n",
       "        text-align: right;\n",
       "    }\n",
       "</style>\n",
       "<table border=\"1\" class=\"dataframe\">\n",
       "  <thead>\n",
       "    <tr style=\"text-align: right;\">\n",
       "      <th></th>\n",
       "      <th>store_nbr</th>\n",
       "      <th>city</th>\n",
       "      <th>state</th>\n",
       "      <th>type</th>\n",
       "      <th>cluster</th>\n",
       "    </tr>\n",
       "  </thead>\n",
       "  <tbody>\n",
       "    <tr>\n",
       "      <th>26</th>\n",
       "      <td>27</td>\n",
       "      <td>Daule</td>\n",
       "      <td>Guayas</td>\n",
       "      <td>D</td>\n",
       "      <td>1</td>\n",
       "    </tr>\n",
       "    <tr>\n",
       "      <th>34</th>\n",
       "      <td>35</td>\n",
       "      <td>Playas</td>\n",
       "      <td>Guayas</td>\n",
       "      <td>C</td>\n",
       "      <td>3</td>\n",
       "    </tr>\n",
       "    <tr>\n",
       "      <th>35</th>\n",
       "      <td>36</td>\n",
       "      <td>Libertad</td>\n",
       "      <td>Guayas</td>\n",
       "      <td>E</td>\n",
       "      <td>10</td>\n",
       "    </tr>\n",
       "  </tbody>\n",
       "</table>\n",
       "</div>"
      ],
      "text/plain": [
       "    store_nbr      city   state type  cluster\n",
       "26         27     Daule  Guayas    D        1\n",
       "34         35    Playas  Guayas    C        3\n",
       "35         36  Libertad  Guayas    E       10"
      ]
     },
     "execution_count": 20,
     "metadata": {},
     "output_type": "execute_result"
    }
   ],
   "source": [
    "st_gu=stores[stores['state'] == 'Guayas']\n",
    "st_gu[st_gu['city'] != 'Guayaquil']"
   ]
  },
  {
   "cell_type": "markdown",
   "id": "46c29ad8",
   "metadata": {},
   "source": [
    "There is one store located in the state of \"Pichincha\" but not in the city of \"Quito\".\\\n",
    "There are three store located in the state of \"Guayas\" but not in the city of \"Guayaquil\"."
   ]
  },
  {
   "cell_type": "code",
   "execution_count": 21,
   "id": "1522ea25",
   "metadata": {
    "scrolled": true
   },
   "outputs": [
    {
     "data": {
      "text/plain": [
       "True     52\n",
       "False     2\n",
       "dtype: int64"
      ]
     },
     "execution_count": 21,
     "metadata": {},
     "output_type": "execute_result"
    }
   ],
   "source": [
    "(stores['city'] != stores['state']).value_counts()"
   ]
  },
  {
   "cell_type": "code",
   "execution_count": 22,
   "id": "6a505379",
   "metadata": {
    "scrolled": false
   },
   "outputs": [
    {
     "data": {
      "text/html": [
       "<div>\n",
       "<style scoped>\n",
       "    .dataframe tbody tr th:only-of-type {\n",
       "        vertical-align: middle;\n",
       "    }\n",
       "\n",
       "    .dataframe tbody tr th {\n",
       "        vertical-align: top;\n",
       "    }\n",
       "\n",
       "    .dataframe thead th {\n",
       "        text-align: right;\n",
       "    }\n",
       "</style>\n",
       "<table border=\"1\" class=\"dataframe\">\n",
       "  <thead>\n",
       "    <tr style=\"text-align: right;\">\n",
       "      <th></th>\n",
       "      <th>store_nbr</th>\n",
       "      <th>city</th>\n",
       "      <th>state</th>\n",
       "      <th>type</th>\n",
       "      <th>cluster</th>\n",
       "    </tr>\n",
       "  </thead>\n",
       "  <tbody>\n",
       "    <tr>\n",
       "      <th>37</th>\n",
       "      <td>38</td>\n",
       "      <td>Loja</td>\n",
       "      <td>Loja</td>\n",
       "      <td>D</td>\n",
       "      <td>4</td>\n",
       "    </tr>\n",
       "    <tr>\n",
       "      <th>42</th>\n",
       "      <td>43</td>\n",
       "      <td>Esmeraldas</td>\n",
       "      <td>Esmeraldas</td>\n",
       "      <td>E</td>\n",
       "      <td>10</td>\n",
       "    </tr>\n",
       "  </tbody>\n",
       "</table>\n",
       "</div>"
      ],
      "text/plain": [
       "    store_nbr        city       state type  cluster\n",
       "37         38        Loja        Loja    D        4\n",
       "42         43  Esmeraldas  Esmeraldas    E       10"
      ]
     },
     "execution_count": 22,
     "metadata": {},
     "output_type": "execute_result"
    }
   ],
   "source": [
    "stores[stores['city'] == stores['state']]"
   ]
  },
  {
   "cell_type": "markdown",
   "id": "9dbcb50c",
   "metadata": {},
   "source": [
    "There are two stores with the same city and state name."
   ]
  },
  {
   "cell_type": "markdown",
   "id": "b48b0ef4",
   "metadata": {},
   "source": [
    "##### 2.4.3.1.3 Type<a id='2.4.3.1.3'></a>"
   ]
  },
  {
   "cell_type": "code",
   "execution_count": 23,
   "id": "59cb7108",
   "metadata": {
    "scrolled": true
   },
   "outputs": [
    {
     "data": {
      "text/plain": [
       "D    18\n",
       "C    15\n",
       "A     9\n",
       "B     8\n",
       "E     4\n",
       "Name: type, dtype: int64"
      ]
     },
     "execution_count": 23,
     "metadata": {},
     "output_type": "execute_result"
    }
   ],
   "source": [
    "stores['type'].value_counts()"
   ]
  },
  {
   "cell_type": "markdown",
   "id": "3891b4d0",
   "metadata": {},
   "source": [
    "There are 5 types of stores and most of the stores are of type \"D\" and \"C\"."
   ]
  },
  {
   "cell_type": "markdown",
   "id": "28a91d54",
   "metadata": {},
   "source": [
    "#### 2.4.3.2 Holidays and Events<a id='2.4.3.2'></a>"
   ]
  },
  {
   "cell_type": "code",
   "execution_count": 24,
   "id": "9de7f615",
   "metadata": {},
   "outputs": [
    {
     "data": {
      "text/html": [
       "<div>\n",
       "<style scoped>\n",
       "    .dataframe tbody tr th:only-of-type {\n",
       "        vertical-align: middle;\n",
       "    }\n",
       "\n",
       "    .dataframe tbody tr th {\n",
       "        vertical-align: top;\n",
       "    }\n",
       "\n",
       "    .dataframe thead th {\n",
       "        text-align: right;\n",
       "    }\n",
       "</style>\n",
       "<table border=\"1\" class=\"dataframe\">\n",
       "  <thead>\n",
       "    <tr style=\"text-align: right;\">\n",
       "      <th></th>\n",
       "      <th>date</th>\n",
       "      <th>type</th>\n",
       "      <th>locale</th>\n",
       "      <th>locale_name</th>\n",
       "      <th>description</th>\n",
       "      <th>transferred</th>\n",
       "    </tr>\n",
       "  </thead>\n",
       "  <tbody>\n",
       "    <tr>\n",
       "      <th>0</th>\n",
       "      <td>2012-03-02</td>\n",
       "      <td>Holiday</td>\n",
       "      <td>Local</td>\n",
       "      <td>Manta</td>\n",
       "      <td>Fundacion de Manta</td>\n",
       "      <td>False</td>\n",
       "    </tr>\n",
       "    <tr>\n",
       "      <th>1</th>\n",
       "      <td>2012-04-01</td>\n",
       "      <td>Holiday</td>\n",
       "      <td>Regional</td>\n",
       "      <td>Cotopaxi</td>\n",
       "      <td>Provincializacion de Cotopaxi</td>\n",
       "      <td>False</td>\n",
       "    </tr>\n",
       "    <tr>\n",
       "      <th>2</th>\n",
       "      <td>2012-04-12</td>\n",
       "      <td>Holiday</td>\n",
       "      <td>Local</td>\n",
       "      <td>Cuenca</td>\n",
       "      <td>Fundacion de Cuenca</td>\n",
       "      <td>False</td>\n",
       "    </tr>\n",
       "    <tr>\n",
       "      <th>3</th>\n",
       "      <td>2012-04-14</td>\n",
       "      <td>Holiday</td>\n",
       "      <td>Local</td>\n",
       "      <td>Libertad</td>\n",
       "      <td>Cantonizacion de Libertad</td>\n",
       "      <td>False</td>\n",
       "    </tr>\n",
       "    <tr>\n",
       "      <th>4</th>\n",
       "      <td>2012-04-21</td>\n",
       "      <td>Holiday</td>\n",
       "      <td>Local</td>\n",
       "      <td>Riobamba</td>\n",
       "      <td>Cantonizacion de Riobamba</td>\n",
       "      <td>False</td>\n",
       "    </tr>\n",
       "  </tbody>\n",
       "</table>\n",
       "</div>"
      ],
      "text/plain": [
       "         date     type    locale locale_name                    description  \\\n",
       "0  2012-03-02  Holiday     Local       Manta             Fundacion de Manta   \n",
       "1  2012-04-01  Holiday  Regional    Cotopaxi  Provincializacion de Cotopaxi   \n",
       "2  2012-04-12  Holiday     Local      Cuenca            Fundacion de Cuenca   \n",
       "3  2012-04-14  Holiday     Local    Libertad      Cantonizacion de Libertad   \n",
       "4  2012-04-21  Holiday     Local    Riobamba      Cantonizacion de Riobamba   \n",
       "\n",
       "   transferred  \n",
       "0        False  \n",
       "1        False  \n",
       "2        False  \n",
       "3        False  \n",
       "4        False  "
      ]
     },
     "execution_count": 24,
     "metadata": {},
     "output_type": "execute_result"
    }
   ],
   "source": [
    "holidays_events.head()"
   ]
  },
  {
   "cell_type": "code",
   "execution_count": 25,
   "id": "b25e69a3",
   "metadata": {
    "scrolled": true
   },
   "outputs": [],
   "source": [
    "# Only select the time period we need\n",
    "holidays_events_tmp = holidays_events.set_index(\"date\").sort_index()\n",
    "holidays_events_sel = holidays_events_tmp.loc['2013-01-01': '2017-08-31'].reset_index()"
   ]
  },
  {
   "cell_type": "code",
   "execution_count": 26,
   "id": "76f64b15",
   "metadata": {},
   "outputs": [],
   "source": [
    "# Only taking \"National\" holiday or events for simplicity\n",
    "holidays_events_sel = holidays_events_sel[holidays_events_sel['locale'] == 'National'] "
   ]
  },
  {
   "cell_type": "code",
   "execution_count": 27,
   "id": "22fad8af",
   "metadata": {},
   "outputs": [],
   "source": [
    "# Drop the \"description\", \"locale\", and \"locale_name\" columns\n",
    "holidays_events_sel.drop(columns=['locale', 'locale_name','description'], inplace=True)"
   ]
  },
  {
   "cell_type": "code",
   "execution_count": 28,
   "id": "074bd11f",
   "metadata": {},
   "outputs": [
    {
     "data": {
      "text/html": [
       "<div>\n",
       "<style scoped>\n",
       "    .dataframe tbody tr th:only-of-type {\n",
       "        vertical-align: middle;\n",
       "    }\n",
       "\n",
       "    .dataframe tbody tr th {\n",
       "        vertical-align: top;\n",
       "    }\n",
       "\n",
       "    .dataframe thead th {\n",
       "        text-align: right;\n",
       "    }\n",
       "</style>\n",
       "<table border=\"1\" class=\"dataframe\">\n",
       "  <thead>\n",
       "    <tr style=\"text-align: right;\">\n",
       "      <th></th>\n",
       "      <th>date</th>\n",
       "      <th>type</th>\n",
       "      <th>transferred</th>\n",
       "    </tr>\n",
       "  </thead>\n",
       "  <tbody>\n",
       "    <tr>\n",
       "      <th>0</th>\n",
       "      <td>2013-01-01</td>\n",
       "      <td>Holiday</td>\n",
       "      <td>False</td>\n",
       "    </tr>\n",
       "    <tr>\n",
       "      <th>1</th>\n",
       "      <td>2013-01-05</td>\n",
       "      <td>Work Day</td>\n",
       "      <td>False</td>\n",
       "    </tr>\n",
       "    <tr>\n",
       "      <th>2</th>\n",
       "      <td>2013-01-12</td>\n",
       "      <td>Work Day</td>\n",
       "      <td>False</td>\n",
       "    </tr>\n",
       "    <tr>\n",
       "      <th>3</th>\n",
       "      <td>2013-02-11</td>\n",
       "      <td>Holiday</td>\n",
       "      <td>False</td>\n",
       "    </tr>\n",
       "    <tr>\n",
       "      <th>4</th>\n",
       "      <td>2013-02-12</td>\n",
       "      <td>Holiday</td>\n",
       "      <td>False</td>\n",
       "    </tr>\n",
       "  </tbody>\n",
       "</table>\n",
       "</div>"
      ],
      "text/plain": [
       "         date      type  transferred\n",
       "0  2013-01-01   Holiday        False\n",
       "1  2013-01-05  Work Day        False\n",
       "2  2013-01-12  Work Day        False\n",
       "3  2013-02-11   Holiday        False\n",
       "4  2013-02-12   Holiday        False"
      ]
     },
     "execution_count": 28,
     "metadata": {},
     "output_type": "execute_result"
    }
   ],
   "source": [
    "holidays_events_sel.head()"
   ]
  },
  {
   "cell_type": "code",
   "execution_count": 29,
   "id": "52d38650",
   "metadata": {
    "scrolled": true
   },
   "outputs": [
    {
     "data": {
      "text/plain": [
       "date           147\n",
       "type             6\n",
       "transferred      2\n",
       "dtype: int64"
      ]
     },
     "execution_count": 29,
     "metadata": {},
     "output_type": "execute_result"
    }
   ],
   "source": [
    "holidays_events_sel.nunique()"
   ]
  },
  {
   "cell_type": "markdown",
   "id": "c1e98d53",
   "metadata": {},
   "source": [
    "##### 2.4.3.2.1 Drop Duplicate Dates<a id='2.4.3.2.1'></a>"
   ]
  },
  {
   "cell_type": "code",
   "execution_count": 30,
   "id": "2517b548",
   "metadata": {
    "scrolled": true
   },
   "outputs": [
    {
     "data": {
      "text/plain": [
       "2016-05-01    2\n",
       "2016-05-08    2\n",
       "2016-05-07    2\n",
       "2014-12-26    2\n",
       "2016-04-29    1\n",
       "Name: date, dtype: int64"
      ]
     },
     "execution_count": 30,
     "metadata": {},
     "output_type": "execute_result"
    }
   ],
   "source": [
    "# Find dates with more than one holidays/events\n",
    "holidays_events_sel['date'].value_counts().head()"
   ]
  },
  {
   "cell_type": "code",
   "execution_count": 31,
   "id": "8c8ccdce",
   "metadata": {
    "scrolled": false
   },
   "outputs": [
    {
     "data": {
      "text/html": [
       "<div>\n",
       "<style scoped>\n",
       "    .dataframe tbody tr th:only-of-type {\n",
       "        vertical-align: middle;\n",
       "    }\n",
       "\n",
       "    .dataframe tbody tr th {\n",
       "        vertical-align: top;\n",
       "    }\n",
       "\n",
       "    .dataframe thead th {\n",
       "        text-align: right;\n",
       "    }\n",
       "</style>\n",
       "<table border=\"1\" class=\"dataframe\">\n",
       "  <thead>\n",
       "    <tr style=\"text-align: right;\">\n",
       "      <th></th>\n",
       "      <th>date</th>\n",
       "      <th>type</th>\n",
       "      <th>transferred</th>\n",
       "    </tr>\n",
       "  </thead>\n",
       "  <tbody>\n",
       "    <tr>\n",
       "      <th>115</th>\n",
       "      <td>2014-12-26</td>\n",
       "      <td>Bridge</td>\n",
       "      <td>False</td>\n",
       "    </tr>\n",
       "    <tr>\n",
       "      <th>116</th>\n",
       "      <td>2014-12-26</td>\n",
       "      <td>Additional</td>\n",
       "      <td>False</td>\n",
       "    </tr>\n",
       "    <tr>\n",
       "      <th>194</th>\n",
       "      <td>2016-05-01</td>\n",
       "      <td>Holiday</td>\n",
       "      <td>False</td>\n",
       "    </tr>\n",
       "    <tr>\n",
       "      <th>195</th>\n",
       "      <td>2016-05-01</td>\n",
       "      <td>Event</td>\n",
       "      <td>False</td>\n",
       "    </tr>\n",
       "    <tr>\n",
       "      <th>201</th>\n",
       "      <td>2016-05-07</td>\n",
       "      <td>Additional</td>\n",
       "      <td>False</td>\n",
       "    </tr>\n",
       "    <tr>\n",
       "      <th>202</th>\n",
       "      <td>2016-05-07</td>\n",
       "      <td>Event</td>\n",
       "      <td>False</td>\n",
       "    </tr>\n",
       "    <tr>\n",
       "      <th>203</th>\n",
       "      <td>2016-05-08</td>\n",
       "      <td>Event</td>\n",
       "      <td>False</td>\n",
       "    </tr>\n",
       "    <tr>\n",
       "      <th>204</th>\n",
       "      <td>2016-05-08</td>\n",
       "      <td>Event</td>\n",
       "      <td>False</td>\n",
       "    </tr>\n",
       "  </tbody>\n",
       "</table>\n",
       "</div>"
      ],
      "text/plain": [
       "           date        type  transferred\n",
       "115  2014-12-26      Bridge        False\n",
       "116  2014-12-26  Additional        False\n",
       "194  2016-05-01     Holiday        False\n",
       "195  2016-05-01       Event        False\n",
       "201  2016-05-07  Additional        False\n",
       "202  2016-05-07       Event        False\n",
       "203  2016-05-08       Event        False\n",
       "204  2016-05-08       Event        False"
      ]
     },
     "execution_count": 31,
     "metadata": {},
     "output_type": "execute_result"
    }
   ],
   "source": [
    "# Check holiday types on duplicate dates\n",
    "holidays_events_sel[holidays_events_sel['date'].isin(['2016-05-01','2016-05-08','2016-05-07','2014-12-26'])]"
   ]
  },
  {
   "cell_type": "markdown",
   "id": "c48be753",
   "metadata": {},
   "source": [
    "We can see there are no transferred holidays on these duplicated dates, so we can apply the `drop_duplicates` method to the 'date' column."
   ]
  },
  {
   "cell_type": "code",
   "execution_count": 32,
   "id": "bf56338f",
   "metadata": {
    "scrolled": true
   },
   "outputs": [],
   "source": [
    "holidays_events_sel.drop_duplicates(subset=['date'], inplace=True)"
   ]
  },
  {
   "cell_type": "code",
   "execution_count": 33,
   "id": "6f4c8852",
   "metadata": {},
   "outputs": [
    {
     "data": {
      "text/plain": [
       "2013-01-01    1\n",
       "2016-05-10    1\n",
       "2016-04-24    1\n",
       "2016-04-25    1\n",
       "2016-04-26    1\n",
       "Name: date, dtype: int64"
      ]
     },
     "execution_count": 33,
     "metadata": {},
     "output_type": "execute_result"
    }
   ],
   "source": [
    "# Check if no duplicate dates now\n",
    "holidays_events_sel['date'].value_counts().head()"
   ]
  },
  {
   "cell_type": "markdown",
   "id": "ab243586",
   "metadata": {},
   "source": [
    "##### 2.4.3.2.2 Holiday/Event Types<a id='2.4.3.2.2'></a>"
   ]
  },
  {
   "cell_type": "code",
   "execution_count": 34,
   "id": "bf44d03d",
   "metadata": {},
   "outputs": [
    {
     "data": {
      "text/plain": [
       "Event         53\n",
       "Holiday       51\n",
       "Additional    28\n",
       "Transfer       7\n",
       "Work Day       5\n",
       "Bridge         3\n",
       "Name: type, dtype: int64"
      ]
     },
     "execution_count": 34,
     "metadata": {},
     "output_type": "execute_result"
    }
   ],
   "source": [
    "holidays_events_sel['type'].value_counts()"
   ]
  },
  {
   "cell_type": "code",
   "execution_count": 35,
   "id": "554d9f14",
   "metadata": {
    "scrolled": true
   },
   "outputs": [
    {
     "data": {
      "text/plain": [
       "False    140\n",
       "True       7\n",
       "Name: transferred, dtype: int64"
      ]
     },
     "execution_count": 35,
     "metadata": {},
     "output_type": "execute_result"
    }
   ],
   "source": [
    "holidays_events_sel['transferred'].value_counts()"
   ]
  },
  {
   "cell_type": "markdown",
   "id": "a23fe415",
   "metadata": {},
   "source": [
    "There are several types of holidays we need to notice:\n",
    "1. Transfer: Linked with the \"transferred\" column. The \"Holiday\"/\"Event\" date with the \"transferred\" column equals \"True\" was more like a normal day, while the date with the type of \"Transfer\" was the day actually celebrated.\n",
    "2. Bridge: Extra days that were added to a holiday.\n",
    "3. Work Day: Days not normally scheduled for work (e.g., Saturday) that were meant to payback the Bridge.\n",
    "4. Additional: Days added a regular calendar holiday, for example, as typically happens around Christmas.\n",
    "\n",
    "**Summary:** \"Holiday\" or \"Event\" with \"transferred\" column = True were not holidays; \"Transfer\", \"Bridge\" and \"Additional\" were holidays; \"Work Day\" were not holidays."
   ]
  },
  {
   "cell_type": "markdown",
   "id": "b8ea935f",
   "metadata": {},
   "source": [
    "### 2.4.4 Numerical Exogenous Variables<a id='2.4.4'></a>"
   ]
  },
  {
   "cell_type": "markdown",
   "id": "06671beb",
   "metadata": {},
   "source": [
    "#### 2.4.4.1 Daily Oil Price<a id='2.4.4.1'></a>"
   ]
  },
  {
   "cell_type": "code",
   "execution_count": 36,
   "id": "531b9500",
   "metadata": {},
   "outputs": [
    {
     "data": {
      "text/html": [
       "<div>\n",
       "<style scoped>\n",
       "    .dataframe tbody tr th:only-of-type {\n",
       "        vertical-align: middle;\n",
       "    }\n",
       "\n",
       "    .dataframe tbody tr th {\n",
       "        vertical-align: top;\n",
       "    }\n",
       "\n",
       "    .dataframe thead th {\n",
       "        text-align: right;\n",
       "    }\n",
       "</style>\n",
       "<table border=\"1\" class=\"dataframe\">\n",
       "  <thead>\n",
       "    <tr style=\"text-align: right;\">\n",
       "      <th></th>\n",
       "      <th>date</th>\n",
       "      <th>dcoilwtico</th>\n",
       "    </tr>\n",
       "  </thead>\n",
       "  <tbody>\n",
       "    <tr>\n",
       "      <th>0</th>\n",
       "      <td>2013-01-01</td>\n",
       "      <td>NaN</td>\n",
       "    </tr>\n",
       "    <tr>\n",
       "      <th>1</th>\n",
       "      <td>2013-01-02</td>\n",
       "      <td>93.14</td>\n",
       "    </tr>\n",
       "    <tr>\n",
       "      <th>2</th>\n",
       "      <td>2013-01-03</td>\n",
       "      <td>92.97</td>\n",
       "    </tr>\n",
       "    <tr>\n",
       "      <th>3</th>\n",
       "      <td>2013-01-04</td>\n",
       "      <td>93.12</td>\n",
       "    </tr>\n",
       "    <tr>\n",
       "      <th>4</th>\n",
       "      <td>2013-01-07</td>\n",
       "      <td>93.20</td>\n",
       "    </tr>\n",
       "  </tbody>\n",
       "</table>\n",
       "</div>"
      ],
      "text/plain": [
       "         date  dcoilwtico\n",
       "0  2013-01-01         NaN\n",
       "1  2013-01-02       93.14\n",
       "2  2013-01-03       92.97\n",
       "3  2013-01-04       93.12\n",
       "4  2013-01-07       93.20"
      ]
     },
     "execution_count": 36,
     "metadata": {},
     "output_type": "execute_result"
    }
   ],
   "source": [
    "oil.head()"
   ]
  },
  {
   "cell_type": "code",
   "execution_count": 37,
   "id": "dc116d94",
   "metadata": {},
   "outputs": [
    {
     "data": {
      "text/html": [
       "<div>\n",
       "<style scoped>\n",
       "    .dataframe tbody tr th:only-of-type {\n",
       "        vertical-align: middle;\n",
       "    }\n",
       "\n",
       "    .dataframe tbody tr th {\n",
       "        vertical-align: top;\n",
       "    }\n",
       "\n",
       "    .dataframe thead th {\n",
       "        text-align: right;\n",
       "    }\n",
       "</style>\n",
       "<table border=\"1\" class=\"dataframe\">\n",
       "  <thead>\n",
       "    <tr style=\"text-align: right;\">\n",
       "      <th></th>\n",
       "      <th>date</th>\n",
       "      <th>dcoilwtico</th>\n",
       "    </tr>\n",
       "  </thead>\n",
       "  <tbody>\n",
       "    <tr>\n",
       "      <th>1213</th>\n",
       "      <td>2017-08-25</td>\n",
       "      <td>47.65</td>\n",
       "    </tr>\n",
       "    <tr>\n",
       "      <th>1214</th>\n",
       "      <td>2017-08-28</td>\n",
       "      <td>46.40</td>\n",
       "    </tr>\n",
       "    <tr>\n",
       "      <th>1215</th>\n",
       "      <td>2017-08-29</td>\n",
       "      <td>46.46</td>\n",
       "    </tr>\n",
       "    <tr>\n",
       "      <th>1216</th>\n",
       "      <td>2017-08-30</td>\n",
       "      <td>45.96</td>\n",
       "    </tr>\n",
       "    <tr>\n",
       "      <th>1217</th>\n",
       "      <td>2017-08-31</td>\n",
       "      <td>47.26</td>\n",
       "    </tr>\n",
       "  </tbody>\n",
       "</table>\n",
       "</div>"
      ],
      "text/plain": [
       "            date  dcoilwtico\n",
       "1213  2017-08-25       47.65\n",
       "1214  2017-08-28       46.40\n",
       "1215  2017-08-29       46.46\n",
       "1216  2017-08-30       45.96\n",
       "1217  2017-08-31       47.26"
      ]
     },
     "execution_count": 37,
     "metadata": {},
     "output_type": "execute_result"
    }
   ],
   "source": [
    "oil.tail()"
   ]
  },
  {
   "cell_type": "markdown",
   "id": "6452545a",
   "metadata": {},
   "source": [
    "We can already see that there are missing value and time gaps in the oil price column."
   ]
  },
  {
   "cell_type": "markdown",
   "id": "b8d5d239",
   "metadata": {},
   "source": [
    "#### 2.4.4.2 Daily Transactions Per Store<a id='2.4.4.2'></a>"
   ]
  },
  {
   "cell_type": "code",
   "execution_count": 38,
   "id": "ad0ac2e6",
   "metadata": {
    "scrolled": true
   },
   "outputs": [
    {
     "data": {
      "text/html": [
       "<div>\n",
       "<style scoped>\n",
       "    .dataframe tbody tr th:only-of-type {\n",
       "        vertical-align: middle;\n",
       "    }\n",
       "\n",
       "    .dataframe tbody tr th {\n",
       "        vertical-align: top;\n",
       "    }\n",
       "\n",
       "    .dataframe thead th {\n",
       "        text-align: right;\n",
       "    }\n",
       "</style>\n",
       "<table border=\"1\" class=\"dataframe\">\n",
       "  <thead>\n",
       "    <tr style=\"text-align: right;\">\n",
       "      <th></th>\n",
       "      <th>date</th>\n",
       "      <th>store_nbr</th>\n",
       "      <th>transactions</th>\n",
       "    </tr>\n",
       "  </thead>\n",
       "  <tbody>\n",
       "    <tr>\n",
       "      <th>0</th>\n",
       "      <td>2013-01-01</td>\n",
       "      <td>25</td>\n",
       "      <td>770</td>\n",
       "    </tr>\n",
       "    <tr>\n",
       "      <th>1</th>\n",
       "      <td>2013-01-02</td>\n",
       "      <td>1</td>\n",
       "      <td>2111</td>\n",
       "    </tr>\n",
       "    <tr>\n",
       "      <th>2</th>\n",
       "      <td>2013-01-02</td>\n",
       "      <td>2</td>\n",
       "      <td>2358</td>\n",
       "    </tr>\n",
       "    <tr>\n",
       "      <th>3</th>\n",
       "      <td>2013-01-02</td>\n",
       "      <td>3</td>\n",
       "      <td>3487</td>\n",
       "    </tr>\n",
       "    <tr>\n",
       "      <th>4</th>\n",
       "      <td>2013-01-02</td>\n",
       "      <td>4</td>\n",
       "      <td>1922</td>\n",
       "    </tr>\n",
       "  </tbody>\n",
       "</table>\n",
       "</div>"
      ],
      "text/plain": [
       "         date  store_nbr  transactions\n",
       "0  2013-01-01         25           770\n",
       "1  2013-01-02          1          2111\n",
       "2  2013-01-02          2          2358\n",
       "3  2013-01-02          3          3487\n",
       "4  2013-01-02          4          1922"
      ]
     },
     "execution_count": 38,
     "metadata": {},
     "output_type": "execute_result"
    }
   ],
   "source": [
    "transactions.head()"
   ]
  },
  {
   "cell_type": "markdown",
   "id": "92189813",
   "metadata": {},
   "source": [
    "On 2013-01-01, only one of the 54 stores had transactions."
   ]
  },
  {
   "cell_type": "code",
   "execution_count": 39,
   "id": "18401ba2",
   "metadata": {
    "scrolled": false
   },
   "outputs": [
    {
     "data": {
      "text/html": [
       "<div>\n",
       "<style scoped>\n",
       "    .dataframe tbody tr th:only-of-type {\n",
       "        vertical-align: middle;\n",
       "    }\n",
       "\n",
       "    .dataframe tbody tr th {\n",
       "        vertical-align: top;\n",
       "    }\n",
       "\n",
       "    .dataframe thead th {\n",
       "        text-align: right;\n",
       "    }\n",
       "</style>\n",
       "<table border=\"1\" class=\"dataframe\">\n",
       "  <thead>\n",
       "    <tr style=\"text-align: right;\">\n",
       "      <th></th>\n",
       "      <th>date</th>\n",
       "      <th>store_nbr</th>\n",
       "      <th>transactions</th>\n",
       "    </tr>\n",
       "  </thead>\n",
       "  <tbody>\n",
       "    <tr>\n",
       "      <th>83483</th>\n",
       "      <td>2017-08-15</td>\n",
       "      <td>50</td>\n",
       "      <td>2804</td>\n",
       "    </tr>\n",
       "    <tr>\n",
       "      <th>83484</th>\n",
       "      <td>2017-08-15</td>\n",
       "      <td>51</td>\n",
       "      <td>1573</td>\n",
       "    </tr>\n",
       "    <tr>\n",
       "      <th>83485</th>\n",
       "      <td>2017-08-15</td>\n",
       "      <td>52</td>\n",
       "      <td>2255</td>\n",
       "    </tr>\n",
       "    <tr>\n",
       "      <th>83486</th>\n",
       "      <td>2017-08-15</td>\n",
       "      <td>53</td>\n",
       "      <td>932</td>\n",
       "    </tr>\n",
       "    <tr>\n",
       "      <th>83487</th>\n",
       "      <td>2017-08-15</td>\n",
       "      <td>54</td>\n",
       "      <td>802</td>\n",
       "    </tr>\n",
       "  </tbody>\n",
       "</table>\n",
       "</div>"
      ],
      "text/plain": [
       "             date  store_nbr  transactions\n",
       "83483  2017-08-15         50          2804\n",
       "83484  2017-08-15         51          1573\n",
       "83485  2017-08-15         52          2255\n",
       "83486  2017-08-15         53           932\n",
       "83487  2017-08-15         54           802"
      ]
     },
     "execution_count": 39,
     "metadata": {},
     "output_type": "execute_result"
    }
   ],
   "source": [
    "transactions.tail()"
   ]
  },
  {
   "cell_type": "markdown",
   "id": "fed6195d",
   "metadata": {},
   "source": [
    "\"transactions\" were directly related to \"sales\", so we didn't have the \"transactions\" data for the forecasting period."
   ]
  },
  {
   "cell_type": "markdown",
   "id": "a12f3d00",
   "metadata": {},
   "source": [
    "#### 2.4.4.3 Quantity of On-Promotion Product<a id='2.4.4.3'></a>"
   ]
  },
  {
   "cell_type": "code",
   "execution_count": 40,
   "id": "851bd670",
   "metadata": {
    "scrolled": true
   },
   "outputs": [
    {
     "data": {
      "text/plain": [
       "0    0\n",
       "1    0\n",
       "2    0\n",
       "3    0\n",
       "4    0\n",
       "Name: onpromotion, dtype: int64"
      ]
     },
     "execution_count": 40,
     "metadata": {},
     "output_type": "execute_result"
    }
   ],
   "source": [
    "train['onpromotion'].head()"
   ]
  },
  {
   "cell_type": "code",
   "execution_count": 41,
   "id": "cbecffff",
   "metadata": {},
   "outputs": [
    {
     "data": {
      "text/plain": [
       "3000883      0\n",
       "3000884      1\n",
       "3000885    148\n",
       "3000886      8\n",
       "3000887      0\n",
       "Name: onpromotion, dtype: int64"
      ]
     },
     "execution_count": 41,
     "metadata": {},
     "output_type": "execute_result"
    }
   ],
   "source": [
    "train['onpromotion'].tail()"
   ]
  },
  {
   "cell_type": "code",
   "execution_count": 42,
   "id": "093e5761",
   "metadata": {
    "scrolled": true
   },
   "outputs": [
    {
     "data": {
      "text/plain": [
       "28507    1\n",
       "28508    0\n",
       "28509    1\n",
       "28510    9\n",
       "28511    0\n",
       "Name: onpromotion, dtype: int64"
      ]
     },
     "execution_count": 42,
     "metadata": {},
     "output_type": "execute_result"
    }
   ],
   "source": [
    "test['onpromotion'].tail()"
   ]
  },
  {
   "cell_type": "markdown",
   "id": "21231fb2",
   "metadata": {},
   "source": [
    "## 2.5 Save Data<a id='2.5'></a>"
   ]
  },
  {
   "cell_type": "code",
   "execution_count": 43,
   "id": "d02c185d",
   "metadata": {},
   "outputs": [
    {
     "name": "stdout",
     "output_type": "stream",
     "text": [
      "Writing file.  \"../data/holidays_events_cleaned.csv\"\n"
     ]
    }
   ],
   "source": [
    "# save the cleaned holidays_events data to a new csv file\n",
    "datapath = '../data'\n",
    "save_file(holidays_events_sel, 'holidays_events_cleaned.csv', datapath)"
   ]
  },
  {
   "cell_type": "markdown",
   "id": "ba63dbd0",
   "metadata": {},
   "source": [
    "## 2.6 Summary<a id='2.6'></a>"
   ]
  },
  {
   "cell_type": "markdown",
   "id": "a4c4d76f",
   "metadata": {},
   "source": [
    "The \"sales\" variables has been identified as the target feature (non-categorical). \n",
    "\n",
    "There are 54 stores and 33 product families, thus totally 1782 time series.\n",
    "\n",
    "The resolution of time series is daily, and the forecasting horizon is 16 days.\n",
    "\n",
    "In addition to time and the target, there are some Exogenous Variables:\n",
    "1. Categorical features: store's city, state, type, and cluster; whether the date is a holiday or not.\n",
    "2. Numerical Features: daily oil price; daily transactions per store; quantity of on-promotion products."
   ]
  }
 ],
 "metadata": {
  "kernelspec": {
   "display_name": "Python 3 (ipykernel)",
   "language": "python",
   "name": "python3"
  },
  "language_info": {
   "codemirror_mode": {
    "name": "ipython",
    "version": 3
   },
   "file_extension": ".py",
   "mimetype": "text/x-python",
   "name": "python",
   "nbconvert_exporter": "python",
   "pygments_lexer": "ipython3",
   "version": "3.9.13"
  }
 },
 "nbformat": 4,
 "nbformat_minor": 5
}
